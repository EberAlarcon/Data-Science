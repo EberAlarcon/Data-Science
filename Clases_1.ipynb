{
  "nbformat": 4,
  "nbformat_minor": 0,
  "metadata": {
    "colab": {
      "provenance": [],
      "collapsed_sections": [],
      "authorship_tag": "ABX9TyN42hjiIfudnSIKCznf0XQp",
      "include_colab_link": true
    },
    "kernelspec": {
      "name": "python3",
      "display_name": "Python 3"
    },
    "language_info": {
      "name": "python"
    }
  },
  "cells": [
    {
      "cell_type": "markdown",
      "metadata": {
        "id": "view-in-github",
        "colab_type": "text"
      },
      "source": [
        "<a href=\"https://colab.research.google.com/github/EberAlarcon/Data-Science/blob/main/Clases_1.ipynb\" target=\"_parent\"><img src=\"https://colab.research.google.com/assets/colab-badge.svg\" alt=\"Open In Colab\"/></a>"
      ]
    },
    {
      "cell_type": "markdown",
      "source": [
        "**CLASE 1**"
      ],
      "metadata": {
        "id": "nQ8yhPGjQvq8"
      }
    },
    {
      "cell_type": "markdown",
      "source": [
        "Definicion: Un porgrama Python es una secuencia de deficiones e instrucciones"
      ],
      "metadata": {
        "id": "zL5LV_ZcQwRj"
      }
    },
    {
      "cell_type": "markdown",
      "source": [
        "Ejemplo:"
      ],
      "metadata": {
        "id": "ok5PLn4lRyET"
      }
    },
    {
      "cell_type": "code",
      "source": [
        "miNota = 6.5\n",
        "print (\"Mi nota en este curso será un\") #Aqui usaré un print de mensaje\n",
        "print(miNota)"
      ],
      "metadata": {
        "id": "PDYvIZIKR2r5"
      },
      "execution_count": null,
      "outputs": []
    },
    {
      "cell_type": "markdown",
      "source": [
        "En este programa hay tres instrucciones hacemos una definicion. En la segunda y tercera un comando o declaracion"
      ],
      "metadata": {
        "id": "-3bRlWC2TOu8"
      }
    },
    {
      "cell_type": "markdown",
      "source": [
        "En este caso 6.5 es lo que se llama un objeto. Hay cinco tipos basicos de objetos en Python. Estos son numeros enteros (`int`), numeros flotantes (`float`), valores logicos(`bool`), cadenas de texto (`string`), y un tipo que representa los no objetos(`NoneType`).\n",
        "Dado un objeto, podemos consultar su tipo utilizando el comando (o funcion) `type`"
      ],
      "metadata": {
        "id": "e5IrqgKsTYDT"
      }
    },
    {
      "cell_type": "markdown",
      "source": [
        "Ejemplo:"
      ],
      "metadata": {
        "id": "UECXyRefUK0j"
      }
    },
    {
      "cell_type": "code",
      "source": [
        "type(5.0)"
      ],
      "metadata": {
        "colab": {
          "base_uri": "https://localhost:8080/"
        },
        "id": "lZ1mA_aOUNCb",
        "outputId": "a7d103be-c617-4095-ef14-0acb9e7eac21"
      },
      "execution_count": null,
      "outputs": [
        {
          "output_type": "execute_result",
          "data": {
            "text/plain": [
              "float"
            ]
          },
          "metadata": {},
          "execution_count": 3
        }
      ]
    },
    {
      "cell_type": "markdown",
      "source": [
        "Los objetos de tipo `string` se definen usando comillas simples para indicar donde empiza y termina el texto."
      ],
      "metadata": {
        "id": "dX8RGviYUXqh"
      }
    },
    {
      "cell_type": "code",
      "source": [
        "type('Hola mundo')"
      ],
      "metadata": {
        "colab": {
          "base_uri": "https://localhost:8080/"
        },
        "id": "TRI1s6dyUhMT",
        "outputId": "5431e5fa-044d-4feb-e5bd-88f75bfc1e3f"
      },
      "execution_count": null,
      "outputs": [
        {
          "output_type": "execute_result",
          "data": {
            "text/plain": [
              "str"
            ]
          },
          "metadata": {},
          "execution_count": 4
        }
      ]
    },
    {
      "cell_type": "code",
      "source": [
        "type(5)"
      ],
      "metadata": {
        "colab": {
          "base_uri": "https://localhost:8080/"
        },
        "id": "u0QjKJrEUnsy",
        "outputId": "50ab2866-4662-48a2-f9b7-d001ebd44026"
      },
      "execution_count": null,
      "outputs": [
        {
          "output_type": "execute_result",
          "data": {
            "text/plain": [
              "int"
            ]
          },
          "metadata": {},
          "execution_count": 5
        }
      ]
    },
    {
      "cell_type": "markdown",
      "source": [
        "Los objetos de tipo `bool` puede tomar valores `True` o `False` y se usan para construir expresiones logicas."
      ],
      "metadata": {
        "id": "DQ0me9UdUwdn"
      }
    },
    {
      "cell_type": "code",
      "source": [
        "type(False)"
      ],
      "metadata": {
        "colab": {
          "base_uri": "https://localhost:8080/"
        },
        "id": "4NAtpNCjU6tC",
        "outputId": "9e48fa42-f1fd-4cc2-d0a6-e4554d4bfdc2"
      },
      "execution_count": null,
      "outputs": [
        {
          "output_type": "execute_result",
          "data": {
            "text/plain": [
              "bool"
            ]
          },
          "metadata": {},
          "execution_count": 7
        }
      ]
    },
    {
      "cell_type": "markdown",
      "source": [
        "Pyhton permite realizar ciertas operaciones basicas utilizando estos tipos de objetos.\n",
        "\n",
        "Algunos de estos operadores son:  +,  -,  *,  /,  %,  //,  **,  ==,  !="
      ],
      "metadata": {
        "id": "TkbFByugVAMi"
      }
    },
    {
      "cell_type": "markdown",
      "source": [
        "Ejemplos:"
      ],
      "metadata": {
        "id": "kB8bPPNlVbVR"
      }
    },
    {
      "cell_type": "code",
      "source": [
        "5.0+7.0"
      ],
      "metadata": {
        "colab": {
          "base_uri": "https://localhost:8080/"
        },
        "id": "oZMzpbNZVdeh",
        "outputId": "64c72a08-0987-46e6-d0a4-44c1d400ee23"
      },
      "execution_count": null,
      "outputs": [
        {
          "output_type": "execute_result",
          "data": {
            "text/plain": [
              "12.0"
            ]
          },
          "metadata": {},
          "execution_count": 8
        }
      ]
    },
    {
      "cell_type": "code",
      "source": [
        "5*7.0"
      ],
      "metadata": {
        "colab": {
          "base_uri": "https://localhost:8080/"
        },
        "id": "sQGL2hsTVr-x",
        "outputId": "3fee8066-d528-4bf9-a687-8c3937e33b1e"
      },
      "execution_count": null,
      "outputs": [
        {
          "output_type": "execute_result",
          "data": {
            "text/plain": [
              "35.0"
            ]
          },
          "metadata": {},
          "execution_count": 9
        }
      ]
    },
    {
      "cell_type": "code",
      "source": [
        "5/5"
      ],
      "metadata": {
        "colab": {
          "base_uri": "https://localhost:8080/"
        },
        "id": "q_yhQ_ARVzox",
        "outputId": "ed839121-f3af-489a-9dee-04321f73305f"
      },
      "execution_count": null,
      "outputs": [
        {
          "output_type": "execute_result",
          "data": {
            "text/plain": [
              "1.0"
            ]
          },
          "metadata": {},
          "execution_count": 10
        }
      ]
    },
    {
      "cell_type": "code",
      "source": [
        "5//5 #diviion entera"
      ],
      "metadata": {
        "colab": {
          "base_uri": "https://localhost:8080/"
        },
        "id": "rhOLJIRqWCBZ",
        "outputId": "564c31d0-07d5-43e0-bc89-a8ce72208a42"
      },
      "execution_count": null,
      "outputs": [
        {
          "output_type": "execute_result",
          "data": {
            "text/plain": [
              "1"
            ]
          },
          "metadata": {},
          "execution_count": 12
        }
      ]
    },
    {
      "cell_type": "code",
      "source": [
        "5 % 2 # residuo"
      ],
      "metadata": {
        "colab": {
          "base_uri": "https://localhost:8080/"
        },
        "id": "xUKYfc1YWLyq",
        "outputId": "fb04fe58-366c-454d-fca2-34a1c7ab22b6"
      },
      "execution_count": null,
      "outputs": [
        {
          "output_type": "execute_result",
          "data": {
            "text/plain": [
              "1"
            ]
          },
          "metadata": {},
          "execution_count": 13
        }
      ]
    },
    {
      "cell_type": "code",
      "source": [
        "2**8 # potencia"
      ],
      "metadata": {
        "colab": {
          "base_uri": "https://localhost:8080/"
        },
        "id": "dLNmr1WXWSHo",
        "outputId": "8a00aa6f-f6d9-4e58-923b-ca2b0425dd9c"
      },
      "execution_count": null,
      "outputs": [
        {
          "output_type": "execute_result",
          "data": {
            "text/plain": [
              "256"
            ]
          },
          "metadata": {},
          "execution_count": 14
        }
      ]
    },
    {
      "cell_type": "code",
      "source": [
        "\"hola\"+\"----\"+\"mundo\" #concatenacion"
      ],
      "metadata": {
        "colab": {
          "base_uri": "https://localhost:8080/",
          "height": 35
        },
        "id": "orj61q8TWWtB",
        "outputId": "ce168db3-d208-4cfe-a65d-63dc7ba2a055"
      },
      "execution_count": null,
      "outputs": [
        {
          "output_type": "execute_result",
          "data": {
            "text/plain": [
              "'hola----mundo'"
            ],
            "application/vnd.google.colaboratory.intrinsic+json": {
              "type": "string"
            }
          },
          "metadata": {},
          "execution_count": 15
        }
      ]
    },
    {
      "cell_type": "code",
      "source": [
        "\"hola \"*3"
      ],
      "metadata": {
        "colab": {
          "base_uri": "https://localhost:8080/",
          "height": 35
        },
        "id": "-FhtOAvIWjXy",
        "outputId": "e8ebae6b-bcd7-4b8f-b120-3e294aa07cd7"
      },
      "execution_count": null,
      "outputs": [
        {
          "output_type": "execute_result",
          "data": {
            "text/plain": [
              "'hola hola hola '"
            ],
            "application/vnd.google.colaboratory.intrinsic+json": {
              "type": "string"
            }
          },
          "metadata": {},
          "execution_count": 17
        }
      ]
    },
    {
      "cell_type": "code",
      "source": [
        "5 == 4 #ver si es verdadero o falso"
      ],
      "metadata": {
        "colab": {
          "base_uri": "https://localhost:8080/"
        },
        "id": "KctiZiBXW3mZ",
        "outputId": "c5d24cc4-a23a-49f0-e2fc-4411f34fd15a"
      },
      "execution_count": null,
      "outputs": [
        {
          "output_type": "execute_result",
          "data": {
            "text/plain": [
              "False"
            ]
          },
          "metadata": {},
          "execution_count": 18
        }
      ]
    },
    {
      "cell_type": "code",
      "source": [
        "'ab' == ('a'+'b')"
      ],
      "metadata": {
        "colab": {
          "base_uri": "https://localhost:8080/"
        },
        "id": "xoIVGnT5W9ix",
        "outputId": "f8e095e5-bd10-46af-a20a-df114f87eb38"
      },
      "execution_count": null,
      "outputs": [
        {
          "output_type": "execute_result",
          "data": {
            "text/plain": [
              "True"
            ]
          },
          "metadata": {},
          "execution_count": 19
        }
      ]
    },
    {
      "cell_type": "code",
      "source": [
        "3.0 != (2.0+2.0) # este operador responde verdaderos si los valores son distintos"
      ],
      "metadata": {
        "colab": {
          "base_uri": "https://localhost:8080/"
        },
        "id": "ONio5r8aXIiZ",
        "outputId": "c195dc73-3342-4549-d588-8329ac4f47cc"
      },
      "execution_count": null,
      "outputs": [
        {
          "output_type": "execute_result",
          "data": {
            "text/plain": [
              "True"
            ]
          },
          "metadata": {},
          "execution_count": 20
        }
      ]
    },
    {
      "cell_type": "code",
      "source": [
        "True and True"
      ],
      "metadata": {
        "colab": {
          "base_uri": "https://localhost:8080/"
        },
        "id": "9TdozJl2XV85",
        "outputId": "23f22b6d-036c-4472-fd12-e481060a99f4"
      },
      "execution_count": null,
      "outputs": [
        {
          "output_type": "execute_result",
          "data": {
            "text/plain": [
              "True"
            ]
          },
          "metadata": {},
          "execution_count": 21
        }
      ]
    },
    {
      "cell_type": "code",
      "source": [
        "True and False"
      ],
      "metadata": {
        "colab": {
          "base_uri": "https://localhost:8080/"
        },
        "id": "4i8MCebLXZ6J",
        "outputId": "9ad63ba3-546d-4567-e603-78b861891268"
      },
      "execution_count": null,
      "outputs": [
        {
          "output_type": "execute_result",
          "data": {
            "text/plain": [
              "False"
            ]
          },
          "metadata": {},
          "execution_count": 22
        }
      ]
    },
    {
      "cell_type": "code",
      "source": [
        "True ^ False # este es el \"or exlusivo\""
      ],
      "metadata": {
        "colab": {
          "base_uri": "https://localhost:8080/"
        },
        "id": "QZnbGVqNXcm5",
        "outputId": "cff4ce08-df70-4cc9-8872-52986c7a925c"
      },
      "execution_count": null,
      "outputs": [
        {
          "output_type": "execute_result",
          "data": {
            "text/plain": [
              "True"
            ]
          },
          "metadata": {},
          "execution_count": 23
        }
      ]
    },
    {
      "cell_type": "code",
      "source": [
        "not True"
      ],
      "metadata": {
        "colab": {
          "base_uri": "https://localhost:8080/"
        },
        "id": "eqOZB9ESYAeo",
        "outputId": "d920cf78-61a9-428c-b858-2ce34643caa6"
      },
      "execution_count": null,
      "outputs": [
        {
          "output_type": "execute_result",
          "data": {
            "text/plain": [
              "False"
            ]
          },
          "metadata": {},
          "execution_count": 24
        }
      ]
    },
    {
      "cell_type": "code",
      "source": [
        "True or False"
      ],
      "metadata": {
        "colab": {
          "base_uri": "https://localhost:8080/"
        },
        "id": "bCCLhYqiYKXI",
        "outputId": "26f82183-006a-4251-e676-0e162b4d7308"
      },
      "execution_count": null,
      "outputs": [
        {
          "output_type": "execute_result",
          "data": {
            "text/plain": [
              "True"
            ]
          },
          "metadata": {},
          "execution_count": 25
        }
      ]
    },
    {
      "cell_type": "code",
      "source": [
        "3.0 + 'Hello' #esto es sumar dos tipos objetos distintos e incompatibles"
      ],
      "metadata": {
        "id": "GDcZ5D-MYR0h"
      },
      "execution_count": null,
      "outputs": []
    },
    {
      "cell_type": "code",
      "source": [
        "3.0 + 5 # pero ojo, aqui tambien estamos sumnado objetos de distinto tipo"
      ],
      "metadata": {
        "colab": {
          "base_uri": "https://localhost:8080/"
        },
        "id": "eFDAHCUoYb-B",
        "outputId": "44757143-6a31-4910-cd87-9091b33097bb"
      },
      "execution_count": null,
      "outputs": [
        {
          "output_type": "execute_result",
          "data": {
            "text/plain": [
              "8.0"
            ]
          },
          "metadata": {},
          "execution_count": 26
        }
      ]
    },
    {
      "cell_type": "code",
      "source": [
        "'hello' * 'world'"
      ],
      "metadata": {
        "id": "uXrq-bqnYwLA"
      },
      "execution_count": null,
      "outputs": []
    },
    {
      "cell_type": "code",
      "source": [
        "'hello world' * True"
      ],
      "metadata": {
        "colab": {
          "base_uri": "https://localhost:8080/",
          "height": 35
        },
        "id": "elXDCPTbZI0x",
        "outputId": "458f9ed7-f6c5-4b9c-cba3-409251816957"
      },
      "execution_count": null,
      "outputs": [
        {
          "output_type": "execute_result",
          "data": {
            "text/plain": [
              "'hello world'"
            ],
            "application/vnd.google.colaboratory.intrinsic+json": {
              "type": "string"
            }
          },
          "metadata": {},
          "execution_count": 31
        }
      ]
    },
    {
      "cell_type": "code",
      "source": [
        "True ==1"
      ],
      "metadata": {
        "colab": {
          "base_uri": "https://localhost:8080/"
        },
        "id": "5MUCLWLzZki4",
        "outputId": "8ac4c187-2a32-42d3-e886-75ab9f0d138f"
      },
      "execution_count": null,
      "outputs": [
        {
          "output_type": "execute_result",
          "data": {
            "text/plain": [
              "True"
            ]
          },
          "metadata": {},
          "execution_count": 32
        }
      ]
    },
    {
      "cell_type": "code",
      "source": [
        "False ==0"
      ],
      "metadata": {
        "colab": {
          "base_uri": "https://localhost:8080/"
        },
        "id": "_aaam16JZtDq",
        "outputId": "a8d5de99-5bc4-4536-abe5-6deaf669e249"
      },
      "execution_count": null,
      "outputs": [
        {
          "output_type": "execute_result",
          "data": {
            "text/plain": [
              "True"
            ]
          },
          "metadata": {},
          "execution_count": 33
        }
      ]
    },
    {
      "cell_type": "code",
      "source": [
        "True * False"
      ],
      "metadata": {
        "colab": {
          "base_uri": "https://localhost:8080/"
        },
        "id": "8ex5NZk_ZyWw",
        "outputId": "aca4e6c4-daa1-488d-83c7-e3811c4becb0"
      },
      "execution_count": null,
      "outputs": [
        {
          "output_type": "execute_result",
          "data": {
            "text/plain": [
              "0"
            ]
          },
          "metadata": {},
          "execution_count": 34
        }
      ]
    },
    {
      "cell_type": "markdown",
      "source": [
        "**Variables**"
      ],
      "metadata": {
        "id": "woaUWzRraB_Q"
      }
    },
    {
      "cell_type": "markdown",
      "source": [
        "Las variables permiten asignar nombres a objetos. En el codigo que escribimos anteriomente usamos la variable miNota.  \n",
        "Se Asignan valores a las variables usando el signo '='\n"
      ],
      "metadata": {
        "id": "DU4BGq5IaGOo"
      }
    },
    {
      "cell_type": "markdown",
      "source": [
        "Ejemplos:"
      ],
      "metadata": {
        "id": "76XDoOExhI90"
      }
    },
    {
      "cell_type": "code",
      "source": [
        "help(\"keywords\")"
      ],
      "metadata": {
        "colab": {
          "base_uri": "https://localhost:8080/"
        },
        "id": "Lr77ZcOXhMij",
        "outputId": "42f78002-69e2-46a8-982b-bf673077e134"
      },
      "execution_count": null,
      "outputs": [
        {
          "output_type": "stream",
          "name": "stdout",
          "text": [
            "\n",
            "Here is a list of the Python keywords.  Enter any keyword to get more help.\n",
            "\n",
            "False               class               from                or\n",
            "None                continue            global              pass\n",
            "True                def                 if                  raise\n",
            "and                 del                 import              return\n",
            "as                  elif                in                  try\n",
            "assert              else                is                  while\n",
            "async               except              lambda              with\n",
            "await               finally             nonlocal            yield\n",
            "break               for                 not                 \n",
            "\n"
          ]
        }
      ]
    },
    {
      "cell_type": "code",
      "source": [
        "miNota=4.5"
      ],
      "metadata": {
        "id": "qdbSdsNbhcxT"
      },
      "execution_count": null,
      "outputs": []
    },
    {
      "cell_type": "code",
      "source": [
        "bonus= 1.0"
      ],
      "metadata": {
        "id": "fTTJleUThhlj"
      },
      "execution_count": null,
      "outputs": []
    },
    {
      "cell_type": "code",
      "source": [
        "miNota + bonus"
      ],
      "metadata": {
        "colab": {
          "base_uri": "https://localhost:8080/"
        },
        "id": "2NddX7rWhmCb",
        "outputId": "eb374fa9-d290-40e7-ff23-7be20d3cb401"
      },
      "execution_count": null,
      "outputs": [
        {
          "output_type": "execute_result",
          "data": {
            "text/plain": [
              "5.5"
            ]
          },
          "metadata": {},
          "execution_count": 38
        }
      ]
    },
    {
      "cell_type": "code",
      "source": [
        "aprobado =(miNota >=4.0)\n",
        "aprobado"
      ],
      "metadata": {
        "colab": {
          "base_uri": "https://localhost:8080/"
        },
        "id": "HqMa8Rd9huAb",
        "outputId": "b1cae22c-d991-49ad-b946-dac548031ff3"
      },
      "execution_count": null,
      "outputs": [
        {
          "output_type": "execute_result",
          "data": {
            "text/plain": [
              "True"
            ]
          },
          "metadata": {},
          "execution_count": 40
        }
      ]
    },
    {
      "cell_type": "code",
      "source": [
        "miNota"
      ],
      "metadata": {
        "colab": {
          "base_uri": "https://localhost:8080/"
        },
        "id": "39Fr0vrSh0ID",
        "outputId": "e1f244a3-8b99-4dcc-f82c-8a46eec6c9bf"
      },
      "execution_count": null,
      "outputs": [
        {
          "output_type": "execute_result",
          "data": {
            "text/plain": [
              "4.5"
            ]
          },
          "metadata": {},
          "execution_count": 41
        }
      ]
    },
    {
      "cell_type": "code",
      "source": [
        "miNota +=1  #aqui ocupe una forma distinta"
      ],
      "metadata": {
        "id": "t9B-i-ijh7g6"
      },
      "execution_count": null,
      "outputs": []
    },
    {
      "cell_type": "code",
      "source": [
        "miNota = miNota + 1 "
      ],
      "metadata": {
        "id": "vlmLhoEZiBSK"
      },
      "execution_count": null,
      "outputs": []
    },
    {
      "cell_type": "code",
      "source": [
        "miNota"
      ],
      "metadata": {
        "colab": {
          "base_uri": "https://localhost:8080/"
        },
        "id": "e7gV0xtdiOor",
        "outputId": "063cf6c5-fdd8-4ccb-f2b3-a8fbca514094"
      },
      "execution_count": null,
      "outputs": [
        {
          "output_type": "execute_result",
          "data": {
            "text/plain": [
              "6.5"
            ]
          },
          "metadata": {},
          "execution_count": 44
        }
      ]
    },
    {
      "cell_type": "code",
      "source": [
        "asistencia =6"
      ],
      "metadata": {
        "id": "ukiun1SriQrT"
      },
      "execution_count": null,
      "outputs": []
    },
    {
      "cell_type": "code",
      "source": [
        "aprobado =(miNota>=4.0) and (asistencia >=8)\n",
        "aprobado"
      ],
      "metadata": {
        "colab": {
          "base_uri": "https://localhost:8080/"
        },
        "id": "xdUAsA6piUTi",
        "outputId": "da269f35-1b5c-43b1-a95e-83fc99b00408"
      },
      "execution_count": null,
      "outputs": [
        {
          "output_type": "execute_result",
          "data": {
            "text/plain": [
              "False"
            ]
          },
          "metadata": {},
          "execution_count": 46
        }
      ]
    },
    {
      "cell_type": "code",
      "source": [
        "Pi = 3.14"
      ],
      "metadata": {
        "id": "dEYR2aXviiJ6"
      },
      "execution_count": null,
      "outputs": []
    },
    {
      "cell_type": "code",
      "source": [
        "Radio = 5.0"
      ],
      "metadata": {
        "id": "l_Rav985injy"
      },
      "execution_count": null,
      "outputs": []
    },
    {
      "cell_type": "code",
      "source": [
        "Area = Pi*(Radio**2)\n",
        "Area"
      ],
      "metadata": {
        "colab": {
          "base_uri": "https://localhost:8080/"
        },
        "id": "f8t6-w4DirLK",
        "outputId": "b121e723-52d1-408f-baf0-76f6efcb3f56"
      },
      "execution_count": null,
      "outputs": [
        {
          "output_type": "execute_result",
          "data": {
            "text/plain": [
              "78.5"
            ]
          },
          "metadata": {},
          "execution_count": 51
        }
      ]
    },
    {
      "cell_type": "code",
      "source": [
        "tuNota =2.5"
      ],
      "metadata": {
        "id": "RLDA2KsZi0xT"
      },
      "execution_count": null,
      "outputs": []
    },
    {
      "cell_type": "code",
      "source": [
        "Promedio = (miNota + tuNota) /2\n",
        "Promedio"
      ],
      "metadata": {
        "colab": {
          "base_uri": "https://localhost:8080/"
        },
        "id": "Iy8xUp6ii4U7",
        "outputId": "e15f6c13-8178-44cc-c72d-c853fd5c63d4"
      },
      "execution_count": null,
      "outputs": [
        {
          "output_type": "execute_result",
          "data": {
            "text/plain": [
              "4.5"
            ]
          },
          "metadata": {},
          "execution_count": 53
        }
      ]
    },
    {
      "cell_type": "markdown",
      "source": [
        "**Casts**"
      ],
      "metadata": {
        "id": "kntTA0G6jCS0"
      }
    },
    {
      "cell_type": "markdown",
      "source": [
        "Muchas veces necesitamos converitir un tipo de datos a otro. Avces nuestro codigo, o codigo de otras personas, funciona solo para un tipo de datos definidos, por lo que tenderemos que aprender estas conversiones, llamadas `casts`"
      ],
      "metadata": {
        "id": "iav69U6BjJeq"
      }
    },
    {
      "cell_type": "code",
      "source": [
        "miNumero=\"2\""
      ],
      "metadata": {
        "id": "YJuO-MVUjbMs"
      },
      "execution_count": null,
      "outputs": []
    },
    {
      "cell_type": "code",
      "source": [
        "int(miNumero)"
      ],
      "metadata": {
        "colab": {
          "base_uri": "https://localhost:8080/"
        },
        "id": "_fgL-yd-jfTU",
        "outputId": "7b0fb507-7109-442c-c126-31990e349aa2"
      },
      "execution_count": null,
      "outputs": [
        {
          "output_type": "execute_result",
          "data": {
            "text/plain": [
              "2"
            ]
          },
          "metadata": {},
          "execution_count": 55
        }
      ]
    },
    {
      "cell_type": "code",
      "source": [
        "int (miNumero)+1"
      ],
      "metadata": {
        "colab": {
          "base_uri": "https://localhost:8080/"
        },
        "id": "JCdBm68Ojqhr",
        "outputId": "71ca0844-2cfd-4feb-91d4-f5a30f863743"
      },
      "execution_count": null,
      "outputs": [
        {
          "output_type": "execute_result",
          "data": {
            "text/plain": [
              "3"
            ]
          },
          "metadata": {},
          "execution_count": 56
        }
      ]
    },
    {
      "cell_type": "code",
      "source": [
        "pi=3.14"
      ],
      "metadata": {
        "id": "v3wg-RMQj0V7"
      },
      "execution_count": null,
      "outputs": []
    },
    {
      "cell_type": "code",
      "source": [
        "print(pi*pi)"
      ],
      "metadata": {
        "colab": {
          "base_uri": "https://localhost:8080/"
        },
        "id": "aSWktZ93j3W7",
        "outputId": "3838f8d9-ea63-4157-f08d-585ba8a48d9a"
      },
      "execution_count": null,
      "outputs": [
        {
          "output_type": "stream",
          "name": "stdout",
          "text": [
            "9.8596\n"
          ]
        }
      ]
    },
    {
      "cell_type": "code",
      "source": [
        "print('hola')"
      ],
      "metadata": {
        "colab": {
          "base_uri": "https://localhost:8080/"
        },
        "id": "YU_PNDxSj-eF",
        "outputId": "3fd1512b-62c6-48c1-8664-5d6dc6499d4a"
      },
      "execution_count": null,
      "outputs": [
        {
          "output_type": "stream",
          "name": "stdout",
          "text": [
            "hola\n"
          ]
        }
      ]
    },
    {
      "cell_type": "code",
      "source": [
        "print('Pi= '+str(pi)) #se usa str para concatenar"
      ],
      "metadata": {
        "colab": {
          "base_uri": "https://localhost:8080/"
        },
        "id": "YpesgAMqkBO7",
        "outputId": "1eb8f02f-ff5a-4455-9d3d-94652f3e4d6f"
      },
      "execution_count": null,
      "outputs": [
        {
          "output_type": "stream",
          "name": "stdout",
          "text": [
            "Pi= 3.14\n"
          ]
        }
      ]
    },
    {
      "cell_type": "code",
      "source": [
        "pregunta = input (\"Como te llamas  \")"
      ],
      "metadata": {
        "id": "GF9PUP4zk7ib"
      },
      "execution_count": null,
      "outputs": []
    },
    {
      "cell_type": "code",
      "source": [
        "print ('Suscribirse a mi \\n canal') # \\n SALTO DE LINEA"
      ],
      "metadata": {
        "colab": {
          "base_uri": "https://localhost:8080/"
        },
        "id": "TaSVXvW5lw6r",
        "outputId": "1e5ebc03-da05-46a7-b7e4-60308a341dc9"
      },
      "execution_count": null,
      "outputs": [
        {
          "output_type": "stream",
          "name": "stdout",
          "text": [
            "Suscribirse a mi \n",
            " canal\n"
          ]
        }
      ]
    },
    {
      "cell_type": "code",
      "source": [
        "print ('Suscribirse \"a mi\" \\n canal')"
      ],
      "metadata": {
        "colab": {
          "base_uri": "https://localhost:8080/"
        },
        "id": "Ng44xFFamJXF",
        "outputId": "1b7d02f9-a1b6-410c-dd90-8958163f3c54"
      },
      "execution_count": null,
      "outputs": [
        {
          "output_type": "stream",
          "name": "stdout",
          "text": [
            "Suscribirse \"a mi\" \n",
            " canal\n"
          ]
        }
      ]
    },
    {
      "cell_type": "code",
      "source": [
        "nombre =\"coke\"\n",
        "edad =20"
      ],
      "metadata": {
        "id": "0inCHbNSmhwp"
      },
      "execution_count": null,
      "outputs": []
    },
    {
      "cell_type": "code",
      "source": [
        "print (f\"Me llamo {nombre} y mi edad es {edad}\")"
      ],
      "metadata": {
        "colab": {
          "base_uri": "https://localhost:8080/"
        },
        "id": "WNF4x2y6mm36",
        "outputId": "10f50414-c6a8-4b04-9ca0-bd05c77b3d2f"
      },
      "execution_count": null,
      "outputs": [
        {
          "output_type": "stream",
          "name": "stdout",
          "text": [
            "Me llamo coke y mi edad es 20\n"
          ]
        }
      ]
    },
    {
      "cell_type": "code",
      "source": [],
      "metadata": {
        "id": "EBv0qr8SnEfi"
      },
      "execution_count": null,
      "outputs": []
    }
  ]
}