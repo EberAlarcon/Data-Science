{
  "nbformat": 4,
  "nbformat_minor": 0,
  "metadata": {
    "colab": {
      "provenance": [],
      "collapsed_sections": [],
      "authorship_tag": "ABX9TyPk/7WEu3NbOJ4KfUtfb/J9",
      "include_colab_link": true
    },
    "kernelspec": {
      "name": "python3",
      "display_name": "Python 3"
    },
    "language_info": {
      "name": "python"
    }
  },
  "cells": [
    {
      "cell_type": "markdown",
      "metadata": {
        "id": "view-in-github",
        "colab_type": "text"
      },
      "source": [
        "<a href=\"https://colab.research.google.com/github/EberAlarcon/Data-Science/blob/main/Clase_3.ipynb\" target=\"_parent\"><img src=\"https://colab.research.google.com/assets/colab-badge.svg\" alt=\"Open In Colab\"/></a>"
      ]
    },
    {
      "cell_type": "markdown",
      "source": [
        "CLASE 3"
      ],
      "metadata": {
        "id": "YEtuzxW8q77e"
      }
    },
    {
      "cell_type": "markdown",
      "source": [
        "## f-string"
      ],
      "metadata": {
        "id": "LdNfsXq5rAhu"
      }
    },
    {
      "cell_type": "markdown",
      "source": [
        "Para facilitar el usar variables cuando queremos construir o mostrar strings, existe en python el concepto de `f-string` (string con formato).\n",
        "Estos se crean con una f antes de las comillas (dobles o simples) y cualquier cosa dentro de (...) es interpretada como codigo python.\n",
        "\n",
        "Por ejemplo, si tenemos la variable:"
      ],
      "metadata": {
        "id": "CPHz9kyPrkZX"
      }
    },
    {
      "cell_type": "code",
      "execution_count": 1,
      "metadata": {
        "id": "pL4CADK0q7aB"
      },
      "outputs": [],
      "source": [
        "año =2022"
      ]
    },
    {
      "cell_type": "markdown",
      "source": [
        "Podemos usarla dentro de `f-string` de la manera siguiente:"
      ],
      "metadata": {
        "id": "zl3Csrbprs3H"
      }
    },
    {
      "cell_type": "code",
      "source": [
        "print (f\"Este año es el: {año} \")\n",
        "print (f\"El proximo año es el {año+1}\")\n"
      ],
      "metadata": {
        "colab": {
          "base_uri": "https://localhost:8080/"
        },
        "id": "ej_NqbTsrxIV",
        "outputId": "a83a4167-2bb3-449b-bee3-ade3e0121b3f"
      },
      "execution_count": 2,
      "outputs": [
        {
          "output_type": "stream",
          "name": "stdout",
          "text": [
            "Este año es el: 2022 \n",
            "El proximo año es el 2023\n"
          ]
        }
      ]
    },
    {
      "cell_type": "markdown",
      "source": [
        "## Loops"
      ],
      "metadata": {
        "id": "CRpruegXsfML"
      }
    },
    {
      "cell_type": "markdown",
      "source": [
        "Un `loop`, o ciclo es un conjunto de instrucciones que se repiten mientras se cumpla (o no) una condicion. Esto nos sirve para no tener que re-escribir un trozo de codigo con distintos valores."
      ],
      "metadata": {
        "id": "YvKpoWZIsjgF"
      }
    },
    {
      "cell_type": "markdown",
      "source": [
        "Un ciclo while se repite mientras se cumpla cierta condicion. La sintaxis es:"
      ],
      "metadata": {
        "id": "fFQnQb7JtEJX"
      }
    },
    {
      "cell_type": "code",
      "source": [
        "while CONDICION:\n",
        "  CODIGO_A_REPETIR"
      ],
      "metadata": {
        "id": "jTxMRe_fsWge"
      },
      "execution_count": null,
      "outputs": []
    },
    {
      "cell_type": "code",
      "source": [
        "perritos=10\n",
        "while (perritos>0):\n",
        "  print(f\"Me quedan {perritos} perritos\")\n",
        "  perritos = perritos-1\n",
        "print (\"No me quedan perritos :c\")"
      ],
      "metadata": {
        "colab": {
          "base_uri": "https://localhost:8080/"
        },
        "id": "ebzcys95tPaI",
        "outputId": "056386c6-d3a4-4e34-b224-39f68fe8b73f"
      },
      "execution_count": 3,
      "outputs": [
        {
          "output_type": "stream",
          "name": "stdout",
          "text": [
            "Me quedan 10 perritos\n",
            "Me quedan 9 perritos\n",
            "Me quedan 8 perritos\n",
            "Me quedan 7 perritos\n",
            "Me quedan 6 perritos\n",
            "Me quedan 5 perritos\n",
            "Me quedan 4 perritos\n",
            "Me quedan 3 perritos\n",
            "Me quedan 2 perritos\n",
            "Me quedan 1 perritos\n",
            "No me quedan perritos :c\n"
          ]
        }
      ]
    },
    {
      "cell_type": "markdown",
      "source": [
        "Otro ejemplo, esperando que alguien ingrese la palabra correcta:"
      ],
      "metadata": {
        "id": "g38o6-xPvGvO"
      }
    },
    {
      "cell_type": "code",
      "source": [
        "\n",
        "nombre = input (\"Ingrese un nombre:\")\n",
        "while (nombre != \"Eber\"):\n",
        "  print (\"Estimado no seas falso\")\n",
        "  nombre = input (\"Ingrese de nuevo el nombre: \")\n",
        "print (f\"{nombre} BIENVENIDO\")"
      ],
      "metadata": {
        "colab": {
          "base_uri": "https://localhost:8080/"
        },
        "id": "BDbki9tBvOAG",
        "outputId": "4d3fbbbe-2905-4788-8e88-f0f2ec0b5161"
      },
      "execution_count": 11,
      "outputs": [
        {
          "output_type": "stream",
          "name": "stdout",
          "text": [
            "Ingrese un nombre:Eber\n",
            "Eber BIENVENIDO\n"
          ]
        }
      ]
    },
    {
      "cell_type": "code",
      "source": [
        "secreto = input (\"Cual es la palabra secreta: \")\n",
        "while(secreto != \"sesamo\"):\n",
        "  print (\"Esa no es la palabra correcta\")\n",
        "  secreto = input(\"Intentalo de nuevo: \")\n",
        "print (\"GANASTES!!\")"
      ],
      "metadata": {
        "colab": {
          "base_uri": "https://localhost:8080/"
        },
        "id": "pOW8jsv8wHrm",
        "outputId": "d7c9fa32-9c1a-44f6-9894-5a388304eaca"
      },
      "execution_count": 12,
      "outputs": [
        {
          "output_type": "stream",
          "name": "stdout",
          "text": [
            "Cual es la palabra secreta: ganar\n",
            "Esa no es la palabra correcta\n",
            "Intentalo de nuevo: nose\n",
            "Esa no es la palabra correcta\n",
            "Intentalo de nuevo: sesamo\n",
            "GANASTES!!\n"
          ]
        }
      ]
    },
    {
      "cell_type": "markdown",
      "source": [
        "### For loops"
      ],
      "metadata": {
        "id": "Di2FMVGTxleH"
      }
    },
    {
      "cell_type": "markdown",
      "source": [
        "Un ciclo `for` es util cuando queremos repetir un trozo de codigo, donde una variable tomará un conjunto de valores posibles. Su estructura es:"
      ],
      "metadata": {
        "id": "UXZGqP9bx9eF"
      }
    },
    {
      "cell_type": "code",
      "source": [
        "for VARIABLE in RANGO_DE_VALORES:\n",
        "  CODIGO_A_REPETIR"
      ],
      "metadata": {
        "id": "It1e4PDDyInN"
      },
      "execution_count": null,
      "outputs": []
    },
    {
      "cell_type": "markdown",
      "source": [
        "En python la funcion `range(n)` nos entrega valores desde `0` hasta `n-1` (es decir, los primeros `n` numeros). Ejemplo:"
      ],
      "metadata": {
        "id": "0KMQ3RcUyRO9"
      }
    },
    {
      "cell_type": "code",
      "source": [
        "for variable in range(10):  # variable es cualquier nombre\n",
        "  print (f\"La palabra variable tiene el valor: {variable}\")"
      ],
      "metadata": {
        "colab": {
          "base_uri": "https://localhost:8080/"
        },
        "id": "B_hePXwEyQIN",
        "outputId": "bcfc5d7a-cc6a-4bcb-d380-687d086a2f17"
      },
      "execution_count": 13,
      "outputs": [
        {
          "output_type": "stream",
          "name": "stdout",
          "text": [
            "La palabra variable tiene el valor: 0\n",
            "La palabra variable tiene el valor: 1\n",
            "La palabra variable tiene el valor: 2\n",
            "La palabra variable tiene el valor: 3\n",
            "La palabra variable tiene el valor: 4\n",
            "La palabra variable tiene el valor: 5\n",
            "La palabra variable tiene el valor: 6\n",
            "La palabra variable tiene el valor: 7\n",
            "La palabra variable tiene el valor: 8\n",
            "La palabra variable tiene el valor: 9\n"
          ]
        }
      ]
    },
    {
      "cell_type": "code",
      "source": [
        "for i in range(10,15): # es el rango \n",
        "  print(i) #imprime los valores de i"
      ],
      "metadata": {
        "colab": {
          "base_uri": "https://localhost:8080/"
        },
        "id": "RTd2xg5XzOCX",
        "outputId": "1105dda3-8c4a-409a-865e-5ed8b8c49f75"
      },
      "execution_count": 14,
      "outputs": [
        {
          "output_type": "stream",
          "name": "stdout",
          "text": [
            "10\n",
            "11\n",
            "12\n",
            "13\n",
            "14\n"
          ]
        }
      ]
    },
    {
      "cell_type": "code",
      "source": [
        "valor = 776\n",
        "tasa_descuento =0.1\n",
        "años= 5\n",
        "\n",
        "for año in range(años):\n",
        "  print (f\"Valor al año {año}: {valor}\")\n",
        "  valor=valor*(1-tasa_descuento)"
      ],
      "metadata": {
        "colab": {
          "base_uri": "https://localhost:8080/"
        },
        "id": "MH2Vy873ziGG",
        "outputId": "43d89c9c-fa9e-4177-9162-1b416aefbacc"
      },
      "execution_count": 16,
      "outputs": [
        {
          "output_type": "stream",
          "name": "stdout",
          "text": [
            "Valor al año 0: 776\n",
            "Valor al año 1: 698.4\n",
            "Valor al año 2: 628.56\n",
            "Valor al año 3: 565.704\n",
            "Valor al año 4: 509.13359999999994\n"
          ]
        }
      ]
    },
    {
      "cell_type": "code",
      "source": [
        "for nombre in (\"Hugo\", \"Paco\", \"Carlos\"):\n",
        "  print(\"Juan tiene un sobrino que se llama \" +nombre)"
      ],
      "metadata": {
        "colab": {
          "base_uri": "https://localhost:8080/"
        },
        "id": "LUg9iHe_0eX3",
        "outputId": "ee7c5166-0058-4d0f-b5f5-d92cd1e9b8d6"
      },
      "execution_count": 18,
      "outputs": [
        {
          "output_type": "stream",
          "name": "stdout",
          "text": [
            "Juan tiene un sobrino que se llama Hugo\n",
            "Juan tiene un sobrino que se llama Paco\n",
            "Juan tiene un sobrino que se llama Carlos\n"
          ]
        }
      ]
    },
    {
      "cell_type": "code",
      "source": [
        "salida = \"Batman!\"\n",
        "\n",
        "for i in range(16):\n",
        "  salida =\"Na \"+salida\n",
        "print (salida)"
      ],
      "metadata": {
        "colab": {
          "base_uri": "https://localhost:8080/"
        },
        "id": "EeveNzPY1Aou",
        "outputId": "781cda8c-dbf4-45fd-9442-f743c89324be"
      },
      "execution_count": 20,
      "outputs": [
        {
          "output_type": "stream",
          "name": "stdout",
          "text": [
            "Na Na Na Na Na Na Na Na Na Na Na Na Na Na Na Na Batman!\n"
          ]
        }
      ]
    },
    {
      "cell_type": "code",
      "source": [
        "for letra in \"Supercomputadoresdelmundomundial\":\n",
        "  print(letra+ \"-\", end=\"\") #separar las palabras\n",
        "print()"
      ],
      "metadata": {
        "colab": {
          "base_uri": "https://localhost:8080/"
        },
        "id": "_HVhzM_B1jwG",
        "outputId": "fc7d770c-fa39-4d9b-8f24-ebd11e0f5ee0"
      },
      "execution_count": 21,
      "outputs": [
        {
          "output_type": "stream",
          "name": "stdout",
          "text": [
            "S-u-p-e-r-c-o-m-p-u-t-a-d-o-r-e-s-d-e-l-m-u-n-d-o-m-u-n-d-i-a-l-\n"
          ]
        }
      ]
    },
    {
      "cell_type": "markdown",
      "source": [
        "Podemos crear programas con varios `for` indentados"
      ],
      "metadata": {
        "id": "WBXg0s5B2Q2z"
      }
    },
    {
      "cell_type": "code",
      "source": [
        "for x in range (5,8):\n",
        "  for y in range (0,4):\n",
        "    print(f\"Intentando coordenadas {x},{y}\")"
      ],
      "metadata": {
        "colab": {
          "base_uri": "https://localhost:8080/"
        },
        "id": "qePm6ILN2QAm",
        "outputId": "6a725b0c-5b80-4919-bf95-7d944cf2b680"
      },
      "execution_count": 23,
      "outputs": [
        {
          "output_type": "stream",
          "name": "stdout",
          "text": [
            "Intentando coordenadas 5,0\n",
            "Intentando coordenadas 5,1\n",
            "Intentando coordenadas 5,2\n",
            "Intentando coordenadas 5,3\n",
            "Intentando coordenadas 6,0\n",
            "Intentando coordenadas 6,1\n",
            "Intentando coordenadas 6,2\n",
            "Intentando coordenadas 6,3\n",
            "Intentando coordenadas 7,0\n",
            "Intentando coordenadas 7,1\n",
            "Intentando coordenadas 7,2\n",
            "Intentando coordenadas 7,3\n"
          ]
        }
      ]
    },
    {
      "cell_type": "markdown",
      "source": [
        "Podemos salir tempranamente de un loop, usando el comando `break`. Por ejemplo:"
      ],
      "metadata": {
        "id": "wm5asj993IX-"
      }
    },
    {
      "cell_type": "code",
      "source": [
        "for numero in range (0,10):\n",
        "  opcion=input(f\"Te gusta el numero {numero}? \")\n",
        "  if opcion.upper() ==\"SI\":\n",
        "    break\n",
        "print(f\"El numero elejido es {numero}\")"
      ],
      "metadata": {
        "colab": {
          "base_uri": "https://localhost:8080/"
        },
        "id": "DmFC7l0k3T7v",
        "outputId": "af132b63-970d-493c-9716-d69025aca77e"
      },
      "execution_count": 24,
      "outputs": [
        {
          "output_type": "stream",
          "name": "stdout",
          "text": [
            "Te gusta el numero 0?no\n",
            "Te gusta el numero 1?bi\n",
            "Te gusta el numero 2?no\n",
            "Te gusta el numero 3?si\n",
            "El numero elejido es 3\n"
          ]
        }
      ]
    },
    {
      "cell_type": "markdown",
      "source": [
        "En el caso de queramos continuar a la siguiente iteracion del loop, podemos usar el comando `continue`."
      ],
      "metadata": {
        "id": "3hJ3cQMo4WaW"
      }
    },
    {
      "cell_type": "markdown",
      "source": [
        "Ejemplo: buscar los numeros del 1 al 100, que no son divisibles ni por 2, ni por 3, ni por 5."
      ],
      "metadata": {
        "id": "1GK4sagS4jem"
      }
    },
    {
      "cell_type": "code",
      "source": [
        "for i in range(101):\n",
        "  if i%2==0 or i%3==0 or i%5==0:\n",
        "    continue\n",
        "  print(i)"
      ],
      "metadata": {
        "colab": {
          "base_uri": "https://localhost:8080/"
        },
        "id": "rLaFfhaj4flN",
        "outputId": "5be60b7d-fac5-4791-82e2-0820ae662cad"
      },
      "execution_count": 25,
      "outputs": [
        {
          "output_type": "stream",
          "name": "stdout",
          "text": [
            "1\n",
            "7\n",
            "11\n",
            "13\n",
            "17\n",
            "19\n",
            "23\n",
            "29\n",
            "31\n",
            "37\n",
            "41\n",
            "43\n",
            "47\n",
            "49\n",
            "53\n",
            "59\n",
            "61\n",
            "67\n",
            "71\n",
            "73\n",
            "77\n",
            "79\n",
            "83\n",
            "89\n",
            "91\n",
            "97\n"
          ]
        }
      ]
    },
    {
      "cell_type": "markdown",
      "source": [
        "`range` puede ademas recibir un incremento, como tercer parametro: `range(inicio, fin, incremento)`."
      ],
      "metadata": {
        "id": "D7nhEePQ5XfO"
      }
    },
    {
      "cell_type": "code",
      "source": [
        "print (\"Los proximos 10 mundiales de futbol ocurriran en los años\")\n",
        "\n",
        "for i in range (2022, 2022+40, 4):\n",
        "    print (i)"
      ],
      "metadata": {
        "colab": {
          "base_uri": "https://localhost:8080/"
        },
        "id": "hre4cpJt5ja1",
        "outputId": "1fdca1eb-f568-4a75-c198-a1ab7c25c99a"
      },
      "execution_count": 29,
      "outputs": [
        {
          "output_type": "stream",
          "name": "stdout",
          "text": [
            "Los proximos 10 mundiales de futbol ocurriran en los años\n",
            "2022\n",
            "2026\n",
            "2030\n",
            "2034\n",
            "2038\n",
            "2042\n",
            "2046\n",
            "2050\n",
            "2054\n",
            "2058\n"
          ]
        }
      ]
    },
    {
      "cell_type": "markdown",
      "source": [
        "Loops (`for` y `while`) pueden incluir una seccion `else`, que se ejecuta cuando la condicion de continuacion ya no se cumple. Ejemplo:"
      ],
      "metadata": {
        "id": "-04Uy8Oi6jIG"
      }
    },
    {
      "cell_type": "code",
      "source": [
        "manzanas =10\n",
        "while (manzanas>0):\n",
        "  manzanas -=1\n",
        "  print (f\"Comiendo manzanas, quedan {manzanas}\")\n",
        "else:\n",
        "  print(\"Se acabaron las manzanas :c\")"
      ],
      "metadata": {
        "colab": {
          "base_uri": "https://localhost:8080/"
        },
        "id": "ojfG_Z1q6xil",
        "outputId": "9aa66a01-c012-4bda-8506-ac8c17b4f628"
      },
      "execution_count": 31,
      "outputs": [
        {
          "output_type": "stream",
          "name": "stdout",
          "text": [
            "Comiendo manzanas, quedan 9\n",
            "Comiendo manzanas, quedan 8\n",
            "Comiendo manzanas, quedan 7\n",
            "Comiendo manzanas, quedan 6\n",
            "Comiendo manzanas, quedan 5\n",
            "Comiendo manzanas, quedan 4\n",
            "Comiendo manzanas, quedan 3\n",
            "Comiendo manzanas, quedan 2\n",
            "Comiendo manzanas, quedan 1\n",
            "Comiendo manzanas, quedan 0\n",
            "Se acabaron las manzanas :c\n"
          ]
        }
      ]
    },
    {
      "cell_type": "markdown",
      "source": [
        "### Loop + Branch"
      ],
      "metadata": {
        "id": "m57xGBGc7hnf"
      }
    },
    {
      "cell_type": "markdown",
      "source": [
        "Con loops y braching, podemos programar soluciones a muchos, muchos problemas."
      ],
      "metadata": {
        "id": "yhlK1bCl7lF-"
      }
    },
    {
      "cell_type": "markdown",
      "source": [
        "Ejemplo: Adivina un numero"
      ],
      "metadata": {
        "id": "trAxGb7Z7vsd"
      }
    },
    {
      "cell_type": "code",
      "source": [
        "secreto =45\n",
        "respuesta=0\n",
        "max_intento=5\n",
        "\n",
        "print (f\"Adivina el numero. Tienes {max_intento} intentos\")\n",
        "\n",
        "for intento in range (max_intento):\n",
        "  ingresado = input(f\"Intento {intento}: \")\n",
        "\n",
        "  if not ingresado.isdigit():\n",
        "    print (ingresado+\" No es numero valido\")\n",
        "    continue\n",
        "\n",
        "  respuesta = int(ingresado)\n",
        "\n",
        "  if respuesta == secreto:\n",
        "    break\n",
        "\n",
        "  elif respuesta > secreto:\n",
        "    print (\"El numero secreto es menor\")\n",
        "  elif respuesta < secreto:\n",
        "    print (\"el numero secreto es mayor\")\n",
        "\n",
        "if respuesta == secreto:\n",
        "  print (\"ADIVINASTES!!\")\n",
        "else: \n",
        "  print (\"¡¡JAJAJAJAJAJ, PERDISTES xD!!\")"
      ],
      "metadata": {
        "colab": {
          "base_uri": "https://localhost:8080/"
        },
        "id": "LsPZfGtb78vV",
        "outputId": "602cb832-0e65-4527-c91c-0a992fe24881"
      },
      "execution_count": 33,
      "outputs": [
        {
          "output_type": "stream",
          "name": "stdout",
          "text": [
            "Adivina el numero. Tienes 5 intentos\n",
            "Intento 0: 36\n",
            "el numero secreto es mayor\n",
            "Intento 1: 50\n",
            "El numero secreto es menor\n",
            "Intento 2: 45\n",
            "ADIVINASTES!!\n"
          ]
        }
      ]
    },
    {
      "cell_type": "markdown",
      "source": [
        "Adelantemos a temas futuros, si queremos jugar con un verdadero nuemro al azar, podemos reemplazar `secreto=45` por lo siguiente:"
      ],
      "metadata": {
        "id": "juo49P7O-fAe"
      }
    },
    {
      "cell_type": "code",
      "source": [
        "import random \n",
        "secreto= random.randint(0,100) # rand int = random integer (desde, hasta)"
      ],
      "metadata": {
        "id": "lBO38Deo-t4-"
      },
      "execution_count": null,
      "outputs": []
    },
    {
      "cell_type": "code",
      "source": [
        "import random \n",
        "\n",
        "secreto= random.randint(0,100)\n",
        "respuesta=0\n",
        "max_intento=5\n",
        "\n",
        "print (f\"Adivina el numero. Tienes {max_intento} intentos\")\n",
        "\n",
        "for intento in range (max_intento):\n",
        "  ingresado = input(f\"Intento {intento}: \")\n",
        "\n",
        "  if not ingresado.isdigit():\n",
        "    print (ingresado+\" No es numero valido\")\n",
        "    continue\n",
        "\n",
        "  respuesta = int(ingresado)\n",
        "\n",
        "  if respuesta == secreto:\n",
        "    break\n",
        "\n",
        "  elif respuesta > secreto:\n",
        "    print (\"El numero secreto es menor\")\n",
        "  elif respuesta < secreto:\n",
        "    print (\"el numero secreto es mayor\")\n",
        "\n",
        "if respuesta == secreto:\n",
        "  print (\"ADIVINASTES!!\")\n",
        "else: \n",
        "  print (\"¡¡JAJAJAJAJAJ, PERDISTES xD!!\")"
      ],
      "metadata": {
        "id": "M3Yces7d_vMm"
      },
      "execution_count": null,
      "outputs": []
    },
    {
      "cell_type": "code",
      "source": [
        "import random \n",
        "\n",
        "for _ in range(10):\n",
        "  x=random.randint(0,100)\n",
        "  y=random.randint(0,100)\n",
        "  print(f\"Bombardeando coordenadas {x},{y}\")"
      ],
      "metadata": {
        "colab": {
          "base_uri": "https://localhost:8080/"
        },
        "id": "iMpUtrgv-2nv",
        "outputId": "588a9335-3f93-4e75-d8f3-ceff01929e92"
      },
      "execution_count": 34,
      "outputs": [
        {
          "output_type": "stream",
          "name": "stdout",
          "text": [
            "Bombardeando coordenadas 28,27\n",
            "Bombardeando coordenadas 36,90\n",
            "Bombardeando coordenadas 14,10\n",
            "Bombardeando coordenadas 19,45\n",
            "Bombardeando coordenadas 10,50\n",
            "Bombardeando coordenadas 78,30\n",
            "Bombardeando coordenadas 4,83\n",
            "Bombardeando coordenadas 49,52\n",
            "Bombardeando coordenadas 82,34\n",
            "Bombardeando coordenadas 100,85\n"
          ]
        }
      ]
    },
    {
      "cell_type": "code",
      "source": [
        "palabra = input (\"Ingrese una palabra: \")\n",
        "\n",
        "while len(palabra)>1:\n",
        "  if palabra[0] == palabra[-1]:\n",
        "    palabra= palabra[1:-1]\n",
        "  \n",
        "  else:\n",
        "    print(\"No es palindrome!\")\n",
        "    break\n",
        "else:\n",
        "  print(\"Tu palabra es palindrome!\")"
      ],
      "metadata": {
        "colab": {
          "base_uri": "https://localhost:8080/"
        },
        "id": "FhmdPh45AKEm",
        "outputId": "7f669736-bd3c-4273-a4fc-c1f9e53def30"
      },
      "execution_count": 37,
      "outputs": [
        {
          "output_type": "stream",
          "name": "stdout",
          "text": [
            "Ingrese una palabra: arenera\n",
            "Tu palabra es palindrome!\n"
          ]
        }
      ]
    },
    {
      "cell_type": "markdown",
      "source": [
        "Ejemplo: Calculador de promedios."
      ],
      "metadata": {
        "id": "7FRgo2cHBqJm"
      }
    },
    {
      "cell_type": "code",
      "source": [
        "print (\"Escriba 'listo' para terminar\")\n",
        "\n",
        "numero_elemento=0\n",
        "suma=0\n",
        "\n",
        "while(True): # Es un ciclo infinito \n",
        "  numero=input(\"Ingrese un numero: \")\n",
        "\n",
        "  if not numero.isdigit():\n",
        "    break  # Termina el ciclo\n",
        "  \n",
        "  numero_elemento +=1\n",
        "  suma += float(numero)\n",
        "\n",
        "if numero_elemento >0:\n",
        "  print (f\"El promedio es: {suma/numero_elemento}\")\n",
        "else:\n",
        "  print (\"Ningun numero ingresado\")"
      ],
      "metadata": {
        "colab": {
          "base_uri": "https://localhost:8080/"
        },
        "id": "1Z5289GdBuDe",
        "outputId": "65f14ef9-e66e-4f93-e2e7-7cd5b716a15d"
      },
      "execution_count": 39,
      "outputs": [
        {
          "output_type": "stream",
          "name": "stdout",
          "text": [
            "Escriba 'listo' para terminar\n",
            "Ingrese un numero: 50\n",
            "Ingrese un numero: 23\n",
            "Ingrese un numero: 15\n",
            "Ingrese un numero: 46\n",
            "Ingrese un numero: listo\n",
            "El promedio es: 33.5\n"
          ]
        }
      ]
    }
  ]
}