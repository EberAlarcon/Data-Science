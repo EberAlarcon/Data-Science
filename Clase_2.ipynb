{
  "nbformat": 4,
  "nbformat_minor": 0,
  "metadata": {
    "colab": {
      "provenance": [],
      "collapsed_sections": [],
      "authorship_tag": "ABX9TyM4aIKwDuCWBbHtdg6zlPA5",
      "include_colab_link": true
    },
    "kernelspec": {
      "name": "python3",
      "display_name": "Python 3"
    },
    "language_info": {
      "name": "python"
    }
  },
  "cells": [
    {
      "cell_type": "markdown",
      "metadata": {
        "id": "view-in-github",
        "colab_type": "text"
      },
      "source": [
        "<a href=\"https://colab.research.google.com/github/EberAlarcon/Data-Science/blob/main/Clase_2.ipynb\" target=\"_parent\"><img src=\"https://colab.research.google.com/assets/colab-badge.svg\" alt=\"Open In Colab\"/></a>"
      ]
    },
    {
      "cell_type": "markdown",
      "source": [
        "CLASE 2"
      ],
      "metadata": {
        "id": "c7QnEMhACvvQ"
      }
    },
    {
      "cell_type": "markdown",
      "source": [
        "Input y Branching"
      ],
      "metadata": {
        "id": "34_bIQwMDoMQ"
      }
    },
    {
      "cell_type": "markdown",
      "source": [
        "Con la funcion `input` podemos solicitar al usuario que introduzca un texto, el cual podemos almacenar en una variable."
      ],
      "metadata": {
        "id": "1zbE4csDDsL4"
      }
    },
    {
      "cell_type": "code",
      "source": [
        "nombre = input()\n",
        "print (\"hola \"+ nombre);"
      ],
      "metadata": {
        "colab": {
          "base_uri": "https://localhost:8080/"
        },
        "id": "yK46mwVAD1d5",
        "outputId": "865844cd-fb9e-40ff-b943-005eb60abebb"
      },
      "execution_count": null,
      "outputs": [
        {
          "output_type": "stream",
          "name": "stdout",
          "text": [
            "Eber\n",
            "hola Eber\n"
          ]
        }
      ]
    },
    {
      "cell_type": "code",
      "source": [
        "edad = input (\"Cual es tu edad \")\n",
        "print (\"Tu edad es \"+ edad)"
      ],
      "metadata": {
        "colab": {
          "base_uri": "https://localhost:8080/"
        },
        "id": "CEzYbrqBEMDN",
        "outputId": "2263be4c-1336-472c-e5a1-4dc45324bc87"
      },
      "execution_count": null,
      "outputs": [
        {
          "output_type": "stream",
          "name": "stdout",
          "text": [
            "Cual es tu edad 20\n",
            "Tu edad es 20\n"
          ]
        }
      ]
    },
    {
      "cell_type": "markdown",
      "source": [
        "`input` va a retornar un `string`, el cual podemos trnasformar a un numero entero usadno la funcion `int`."
      ],
      "metadata": {
        "id": "KeUJgDdAEDHw"
      }
    },
    {
      "cell_type": "code",
      "source": [
        "edad = input (\"Cual es tu edad \")\n",
        "edad_en_int = int (edad) #funcion que convierte lo que esta en parentesis en un entero\n",
        "edad_prox_year = edad_en_int + 1\n",
        "edad_prox_year_string = str (edad_prox_year) #funcion que convierte lo que esta dentro del parentesis en un string\n",
        "print(\"El proximo año tendrá \"+ edad_prox_year_string + \" años\")"
      ],
      "metadata": {
        "colab": {
          "base_uri": "https://localhost:8080/"
        },
        "id": "Jtocl3TEEoUg",
        "outputId": "c236b012-f50c-49f7-9622-f3a34e7d6c44"
      },
      "execution_count": null,
      "outputs": [
        {
          "output_type": "stream",
          "name": "stdout",
          "text": [
            "Cual es tu edad 20\n",
            "El proximo año tendrá 21 años\n"
          ]
        }
      ]
    },
    {
      "cell_type": "code",
      "source": [
        "edad=int(input(\"Cual es tu edad \"))"
      ],
      "metadata": {
        "colab": {
          "base_uri": "https://localhost:8080/"
        },
        "id": "-omWjLZVFnXY",
        "outputId": "1eb47f20-e297-4849-dd60-92c0496fe4ee"
      },
      "execution_count": null,
      "outputs": [
        {
          "name": "stdout",
          "output_type": "stream",
          "text": [
            "Cual es tu edad 20\n"
          ]
        }
      ]
    },
    {
      "cell_type": "code",
      "source": [
        "print(\"El proximo año tendras \" +edad+1 + \"años\")"
      ],
      "metadata": {
        "colab": {
          "base_uri": "https://localhost:8080/",
          "height": 165
        },
        "id": "JBqDEmW7FyTA",
        "outputId": "85dd479f-266c-4f83-bcf4-f4bd41099ab6"
      },
      "execution_count": null,
      "outputs": [
        {
          "output_type": "error",
          "ename": "TypeError",
          "evalue": "ignored",
          "traceback": [
            "\u001b[0;31m---------------------------------------------------------------------------\u001b[0m",
            "\u001b[0;31mTypeError\u001b[0m                                 Traceback (most recent call last)",
            "\u001b[0;32m<ipython-input-18-e89e824e45d2>\u001b[0m in \u001b[0;36m<module>\u001b[0;34m\u001b[0m\n\u001b[0;32m----> 1\u001b[0;31m \u001b[0mprint\u001b[0m\u001b[0;34m(\u001b[0m\u001b[0;34m\"El proximo año tendras \"\u001b[0m \u001b[0;34m+\u001b[0m\u001b[0medad\u001b[0m\u001b[0;34m+\u001b[0m\u001b[0;36m1\u001b[0m \u001b[0;34m+\u001b[0m \u001b[0;34m\"años\"\u001b[0m\u001b[0;34m)\u001b[0m\u001b[0;34m\u001b[0m\u001b[0;34m\u001b[0m\u001b[0m\n\u001b[0m",
            "\u001b[0;31mTypeError\u001b[0m: can only concatenate str (not \"int\") to str"
          ]
        }
      ]
    },
    {
      "cell_type": "markdown",
      "source": [
        "## Branching"
      ],
      "metadata": {
        "id": "dZwr0HO0GbiQ"
      }
    },
    {
      "cell_type": "markdown",
      "source": [
        "La expresion `if` permite ejecutar instrucciones si acaso se cumple o no una condicion. La sintaxis es:"
      ],
      "metadata": {
        "id": "CUnl1FnKGvWw"
      }
    },
    {
      "cell_type": "code",
      "source": [
        "if CONDICION:\n",
        "  # CODIGO EN CASO QUE LA CONDICION SEA CIERTA\n",
        "else:\n",
        "  # CODIGO EN CASO DE QUE LA CONDICION SEA FALSA"
      ],
      "metadata": {
        "id": "sut6Y100Gg4o"
      },
      "execution_count": null,
      "outputs": []
    },
    {
      "cell_type": "markdown",
      "source": [
        "Al usar la expresion `if` es muy importante saber indentar correctamente. Observen el codigo que se ejecuta dentro del `if` y dentro del `else` esta indentado. Esta indentacion se hace con el tabulador (TABs) o con espacios. En este curso indentaremos con TABs. \n",
        "Como ejemplo de branching, podemos tomar una decision en base al numero ingresado por el usuario:"
      ],
      "metadata": {
        "id": "xgEOQko3HQ_g"
      }
    },
    {
      "cell_type": "code",
      "source": [
        "numero = int (input())\n",
        "if numero==0:\n",
        "  print(\"El mumero ingresado es cero\")\n",
        "else:\n",
        "  print(\"El numero ingresado no es cero\")"
      ],
      "metadata": {
        "colab": {
          "base_uri": "https://localhost:8080/"
        },
        "id": "RhmTotbWH4Hf",
        "outputId": "505bd456-8fe6-4a48-d027-beeb362d5e12"
      },
      "execution_count": null,
      "outputs": [
        {
          "output_type": "stream",
          "name": "stdout",
          "text": [
            "20\n",
            "El numero ingresado no es cero\n"
          ]
        }
      ]
    },
    {
      "cell_type": "code",
      "source": [
        "respuesta = input(\"Ingrese un numero entero: \")\n",
        "if((int(respuesta) %2 ) == 1):\n",
        "  print (respuesta + ' es un numero impar!!')\n",
        "else:\n",
        "  print (respuesta + ' es un numero par!!')"
      ],
      "metadata": {
        "colab": {
          "base_uri": "https://localhost:8080/"
        },
        "id": "olq4WhllIVHA",
        "outputId": "ecee9e41-cc84-4482-f4a6-b0264f9390fc"
      },
      "execution_count": null,
      "outputs": [
        {
          "output_type": "stream",
          "name": "stdout",
          "text": [
            "Ingrese un numero entero: 31\n",
            "31 es un numero impar!!\n"
          ]
        }
      ]
    },
    {
      "cell_type": "markdown",
      "source": [
        "Puede existir mas de una condicion dentro de otra, lo que llamamos condiciones `anidadas`"
      ],
      "metadata": {
        "id": "_jUaC69PJBrQ"
      }
    },
    {
      "cell_type": "code",
      "source": [
        "respuesta = input (\"Ingrese un numero entero: \")\n",
        "\n",
        "if respuesta.isdigit(): #.isdigit() funcion que analiza si lo anterior es un numero entero\n",
        " if((int(respuesta) %2 ) == 1):\n",
        "  print (respuesta + ' es un numero impar!!')\n",
        " else:\n",
        "  print (respuesta + ' es un numero par!!') \n",
        "else: \n",
        "  print (respuesta+ ' no es numero valido')\n"
      ],
      "metadata": {
        "colab": {
          "base_uri": "https://localhost:8080/"
        },
        "id": "8IKqfKmiJI7P",
        "outputId": "2b3860a1-0043-4a94-8375-865357923ad7"
      },
      "execution_count": null,
      "outputs": [
        {
          "output_type": "stream",
          "name": "stdout",
          "text": [
            "Ingrese un numero entero: hola\n",
            "hola no es numero valido\n"
          ]
        }
      ]
    },
    {
      "cell_type": "markdown",
      "source": [
        "En el caso que queremos probar por varias condiciones. podemos usar la expresion `elsif` (una combionacion de `else` e `if`)"
      ],
      "metadata": {
        "id": "uY9qqjSsJ-0w"
      }
    },
    {
      "cell_type": "code",
      "source": [
        "nombre = input (\"Por favor ingresa tu nombre: \")\n",
        "\n",
        "if nombre == \"Eber\":\n",
        "  print(\"Adelante Eber\")\n",
        "elif nombre == \"Nicolas\" or nombre == \"Pablo\":\n",
        "  print (\"Estimado \" +nombre+ \" por favor usa tu llave\")\n",
        "elif nombre.startswith(\"Jose\"): #.startswith() prohibido como Jose Manuel\n",
        "  print (\"Esta prohibido tu acceso\")\n",
        "else:\n",
        "  print(\"Estimado \" +nombre+ \" lo atenderemos pronto\")"
      ],
      "metadata": {
        "colab": {
          "base_uri": "https://localhost:8080/"
        },
        "id": "uvjeR44EKJmg",
        "outputId": "eb6289bd-08dd-4127-9d5d-8e2eca3ff5e7"
      },
      "execution_count": null,
      "outputs": [
        {
          "output_type": "stream",
          "name": "stdout",
          "text": [
            "Por favor ingresa tu nombre: Eber\n",
            "Adelante Eber\n"
          ]
        }
      ]
    },
    {
      "cell_type": "markdown",
      "source": [
        "## String"
      ],
      "metadata": {
        "id": "cFnbv5GiLreI"
      }
    },
    {
      "cell_type": "markdown",
      "source": [
        "El largo de un string se puede obtener con la funcion `len`"
      ],
      "metadata": {
        "id": "0W41_uQYLu6_"
      }
    },
    {
      "cell_type": "code",
      "source": [
        "palabra =\"Supercomputadoras\"\n",
        "largo = len(palabra) # len()\n",
        "print (\"La palabra \" +palabra+ \" tiene\" +str(largo)+ \" caracteres\")"
      ],
      "metadata": {
        "colab": {
          "base_uri": "https://localhost:8080/"
        },
        "id": "t4pyjH7XLt7A",
        "outputId": "ad63242f-ace5-4f49-b3bf-013c6e6ebd8a"
      },
      "execution_count": null,
      "outputs": [
        {
          "output_type": "stream",
          "name": "stdout",
          "text": [
            "La palabra Supercomputadoras tiene17 caracteres\n"
          ]
        }
      ]
    },
    {
      "cell_type": "markdown",
      "source": [
        "Pra obetener una letra especifica de una palabra, pdemos usar un \"indice\" sobre el string usando los corchetes cuadrados `[ `y `]`. En python los indices comienzan en `0`."
      ],
      "metadata": {
        "id": "BSy0dqrpMP7A"
      }
    },
    {
      "cell_type": "code",
      "source": [
        "palabra"
      ],
      "metadata": {
        "colab": {
          "base_uri": "https://localhost:8080/",
          "height": 35
        },
        "id": "1mvTs_m2Ml64",
        "outputId": "3afc1902-1fa7-4f80-9907-66a5894224e4"
      },
      "execution_count": null,
      "outputs": [
        {
          "output_type": "execute_result",
          "data": {
            "text/plain": [
              "'Supercomputadoras'"
            ],
            "application/vnd.google.colaboratory.intrinsic+json": {
              "type": "string"
            }
          },
          "metadata": {},
          "execution_count": 41
        }
      ]
    },
    {
      "cell_type": "code",
      "source": [
        "palabra[0]"
      ],
      "metadata": {
        "colab": {
          "base_uri": "https://localhost:8080/",
          "height": 35
        },
        "id": "rdNF8ibGMpav",
        "outputId": "5c0925a4-6523-4638-d060-5eaadad1a99a"
      },
      "execution_count": null,
      "outputs": [
        {
          "output_type": "execute_result",
          "data": {
            "text/plain": [
              "'S'"
            ],
            "application/vnd.google.colaboratory.intrinsic+json": {
              "type": "string"
            }
          },
          "metadata": {},
          "execution_count": 42
        }
      ]
    },
    {
      "cell_type": "code",
      "source": [
        "palabra [10]"
      ],
      "metadata": {
        "colab": {
          "base_uri": "https://localhost:8080/",
          "height": 35
        },
        "id": "vX7p-5C2M23Y",
        "outputId": "a5497928-639a-41cb-e1d4-cb55ba65638a"
      },
      "execution_count": null,
      "outputs": [
        {
          "output_type": "execute_result",
          "data": {
            "text/plain": [
              "'t'"
            ],
            "application/vnd.google.colaboratory.intrinsic+json": {
              "type": "string"
            }
          },
          "metadata": {},
          "execution_count": 43
        }
      ]
    },
    {
      "cell_type": "markdown",
      "source": [
        "Los indices pueden ser negativos, contando desde el final del `string`. Asi `palabra[-1]` es la ultima letra del `string`"
      ],
      "metadata": {
        "id": "gQCwojMUNhhJ"
      }
    },
    {
      "cell_type": "code",
      "source": [
        "palabra[-1]"
      ],
      "metadata": {
        "colab": {
          "base_uri": "https://localhost:8080/",
          "height": 35
        },
        "id": "WYfKhLIjNvdf",
        "outputId": "dc92ceea-0acd-44d5-c00b-483e69505f32"
      },
      "execution_count": null,
      "outputs": [
        {
          "output_type": "execute_result",
          "data": {
            "text/plain": [
              "'s'"
            ],
            "application/vnd.google.colaboratory.intrinsic+json": {
              "type": "string"
            }
          },
          "metadata": {},
          "execution_count": 44
        }
      ]
    },
    {
      "cell_type": "code",
      "source": [
        "nombre = input()\n",
        "print (\"La ultima letra de la palabra \" +nombre+ \" es \" + nombre[-1])"
      ],
      "metadata": {
        "colab": {
          "base_uri": "https://localhost:8080/"
        },
        "id": "4uhD7LttNzmA",
        "outputId": "7b570754-c09d-45d1-95b0-9ddceaaa0de6"
      },
      "execution_count": null,
      "outputs": [
        {
          "output_type": "stream",
          "name": "stdout",
          "text": [
            "Eber\n",
            "La ultima letra de la palabra Eber es r\n"
          ]
        }
      ]
    },
    {
      "cell_type": "markdown",
      "source": [
        "Hay un monton de metdos utiles que existen para manipular string"
      ],
      "metadata": {
        "id": "Wb1FJ-faNydw"
      }
    },
    {
      "cell_type": "code",
      "source": [
        "frase = \"Hola Mundo\"\n"
      ],
      "metadata": {
        "id": "8Z6T0RkXOPUH"
      },
      "execution_count": null,
      "outputs": []
    },
    {
      "cell_type": "code",
      "source": [
        "frase"
      ],
      "metadata": {
        "colab": {
          "base_uri": "https://localhost:8080/",
          "height": 35
        },
        "id": "GdsYDOxvOVM3",
        "outputId": "5d4b918c-dc0f-41f6-f5d6-c49c28c44e4b"
      },
      "execution_count": null,
      "outputs": [
        {
          "output_type": "execute_result",
          "data": {
            "text/plain": [
              "'Hola mundo'"
            ],
            "application/vnd.google.colaboratory.intrinsic+json": {
              "type": "string"
            }
          },
          "metadata": {},
          "execution_count": 49
        }
      ]
    },
    {
      "cell_type": "markdown",
      "source": [
        "Podemos obtener un rango de letras de un string, utilizando lo que en Python llamamos un `slice`. En un `slice` damos el inicio y el fin del rango que nos interesa, tomando en cuenta que las posiciones comienzan de cero. Por ejemplo:"
      ],
      "metadata": {
        "id": "SCIbi6sVOthw"
      }
    },
    {
      "cell_type": "code",
      "source": [
        "frase[1:3]"
      ],
      "metadata": {
        "colab": {
          "base_uri": "https://localhost:8080/",
          "height": 35
        },
        "id": "JVnlA3W9OX7H",
        "outputId": "abefe918-ca2d-46b7-c606-42274b0fe6e5"
      },
      "execution_count": null,
      "outputs": [
        {
          "output_type": "execute_result",
          "data": {
            "text/plain": [
              "'ol'"
            ],
            "application/vnd.google.colaboratory.intrinsic+json": {
              "type": "string"
            }
          },
          "metadata": {},
          "execution_count": 58
        }
      ]
    },
    {
      "cell_type": "code",
      "source": [
        "frase [2:5]"
      ],
      "metadata": {
        "colab": {
          "base_uri": "https://localhost:8080/",
          "height": 35
        },
        "id": "QgFzs2I-PFxK",
        "outputId": "7a4c685f-cc44-4345-b6a7-a8abcbc027c8"
      },
      "execution_count": null,
      "outputs": [
        {
          "output_type": "execute_result",
          "data": {
            "text/plain": [
              "'la '"
            ],
            "application/vnd.google.colaboratory.intrinsic+json": {
              "type": "string"
            }
          },
          "metadata": {},
          "execution_count": 51
        }
      ]
    },
    {
      "cell_type": "code",
      "source": [
        "len(frase)"
      ],
      "metadata": {
        "colab": {
          "base_uri": "https://localhost:8080/"
        },
        "id": "p-vNcbs0POG4",
        "outputId": "4f6b6ee8-6b1e-4408-ed4c-f6a0ec36e79d"
      },
      "execution_count": null,
      "outputs": [
        {
          "output_type": "execute_result",
          "data": {
            "text/plain": [
              "10"
            ]
          },
          "metadata": {},
          "execution_count": 52
        }
      ]
    },
    {
      "cell_type": "markdown",
      "source": [
        "Podemos omitir el principio y/o el final del slice, en cuyo caso se usara el principio y el final del string. Ejemplos:"
      ],
      "metadata": {
        "id": "v6XeaFPSPSug"
      }
    },
    {
      "cell_type": "code",
      "source": [
        "frase[:5]"
      ],
      "metadata": {
        "colab": {
          "base_uri": "https://localhost:8080/",
          "height": 35
        },
        "id": "UxMluVyYPdnw",
        "outputId": "734317f3-c8f8-473b-ae08-1f65b746bcda"
      },
      "execution_count": null,
      "outputs": [
        {
          "output_type": "execute_result",
          "data": {
            "text/plain": [
              "'Hola '"
            ],
            "application/vnd.google.colaboratory.intrinsic+json": {
              "type": "string"
            }
          },
          "metadata": {},
          "execution_count": 53
        }
      ]
    },
    {
      "cell_type": "code",
      "source": [
        "frase[2:]"
      ],
      "metadata": {
        "colab": {
          "base_uri": "https://localhost:8080/",
          "height": 35
        },
        "id": "jDgZ7e55P7yP",
        "outputId": "c28f17ed-ed3c-4ae7-d1fa-3e67cb1f4a85"
      },
      "execution_count": null,
      "outputs": [
        {
          "output_type": "execute_result",
          "data": {
            "text/plain": [
              "'la Mundo'"
            ],
            "application/vnd.google.colaboratory.intrinsic+json": {
              "type": "string"
            }
          },
          "metadata": {},
          "execution_count": 59
        }
      ]
    },
    {
      "cell_type": "markdown",
      "source": [
        "Incluso podemos usar numeros negativos para contar desde el final. Ejemplo:"
      ],
      "metadata": {
        "id": "BHFo_bXCQE9x"
      }
    },
    {
      "cell_type": "code",
      "source": [
        "frase[2:-4]"
      ],
      "metadata": {
        "colab": {
          "base_uri": "https://localhost:8080/",
          "height": 35
        },
        "id": "zaqjLcZhQNYf",
        "outputId": "a60bab32-46ac-4254-916a-79c1ea85fc30"
      },
      "execution_count": null,
      "outputs": [
        {
          "output_type": "execute_result",
          "data": {
            "text/plain": [
              "'la M'"
            ],
            "application/vnd.google.colaboratory.intrinsic+json": {
              "type": "string"
            }
          },
          "metadata": {},
          "execution_count": 60
        }
      ]
    },
    {
      "cell_type": "markdown",
      "source": [
        "Podemos usar `in` para saber si un substring existe dentro de un string, o `count` para contar el numero de veces que un caracter aparece, o `find` para saber en que posicion aparece un substring."
      ],
      "metadata": {
        "id": "I_YeyNGzQWKh"
      }
    },
    {
      "cell_type": "code",
      "source": [
        "'Mun' in frase"
      ],
      "metadata": {
        "colab": {
          "base_uri": "https://localhost:8080/"
        },
        "id": "KMnh6UiZQrT6",
        "outputId": "8ad810fc-c78f-4111-a93b-a05530435a1e"
      },
      "execution_count": null,
      "outputs": [
        {
          "output_type": "execute_result",
          "data": {
            "text/plain": [
              "True"
            ]
          },
          "metadata": {},
          "execution_count": 61
        }
      ]
    },
    {
      "cell_type": "code",
      "source": [
        "frase.count('o') #count() cuenta cierta cantidad \"algo\""
      ],
      "metadata": {
        "colab": {
          "base_uri": "https://localhost:8080/"
        },
        "id": "KbF4d4qoQ8uX",
        "outputId": "9a4b9f5c-9608-4f0b-87f3-c45e38c32973"
      },
      "execution_count": null,
      "outputs": [
        {
          "output_type": "execute_result",
          "data": {
            "text/plain": [
              "2"
            ]
          },
          "metadata": {},
          "execution_count": 62
        }
      ]
    },
    {
      "cell_type": "code",
      "source": [
        "frase.find('o') #¿existe?"
      ],
      "metadata": {
        "colab": {
          "base_uri": "https://localhost:8080/"
        },
        "id": "zidpnVhuRINf",
        "outputId": "361bf988-11fa-459c-f3bc-54f5535e4bf2"
      },
      "execution_count": null,
      "outputs": [
        {
          "output_type": "execute_result",
          "data": {
            "text/plain": [
              "1"
            ]
          },
          "metadata": {},
          "execution_count": 64
        }
      ]
    }
  ]
}