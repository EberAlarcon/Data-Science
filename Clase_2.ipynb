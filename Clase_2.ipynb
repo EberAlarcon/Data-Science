{
  "nbformat": 4,
  "nbformat_minor": 0,
  "metadata": {
    "colab": {
      "provenance": [],
      "collapsed_sections": [],
      "authorship_tag": "ABX9TyPn4iKjOdoq1HbUW3cVj6cj",
      "include_colab_link": true
    },
    "kernelspec": {
      "name": "python3",
      "display_name": "Python 3"
    },
    "language_info": {
      "name": "python"
    }
  },
  "cells": [
    {
      "cell_type": "markdown",
      "metadata": {
        "id": "view-in-github",
        "colab_type": "text"
      },
      "source": [
        "<a href=\"https://colab.research.google.com/github/EberAlarcon/Data-Science/blob/main/Clase_2.ipynb\" target=\"_parent\"><img src=\"https://colab.research.google.com/assets/colab-badge.svg\" alt=\"Open In Colab\"/></a>"
      ]
    },
    {
      "cell_type": "markdown",
      "source": [
        "CLASE 2"
      ],
      "metadata": {
        "id": "c7QnEMhACvvQ"
      }
    },
    {
      "cell_type": "markdown",
      "source": [
        "Input y Branching"
      ],
      "metadata": {
        "id": "34_bIQwMDoMQ"
      }
    },
    {
      "cell_type": "markdown",
      "source": [
        "Con la funcion `input` podemos solicitar al usuario que introduzca un texto, el cual podemos almacenar en una variable."
      ],
      "metadata": {
        "id": "1zbE4csDDsL4"
      }
    },
    {
      "cell_type": "code",
      "source": [
        "nombre = input()\n",
        "print (\"hola \"+ nombre);"
      ],
      "metadata": {
        "colab": {
          "base_uri": "https://localhost:8080/"
        },
        "id": "yK46mwVAD1d5",
        "outputId": "865844cd-fb9e-40ff-b943-005eb60abebb"
      },
      "execution_count": null,
      "outputs": [
        {
          "output_type": "stream",
          "name": "stdout",
          "text": [
            "Eber\n",
            "hola Eber\n"
          ]
        }
      ]
    },
    {
      "cell_type": "code",
      "source": [
        "edad = input (\"Cual es tu edad \")\n",
        "print (\"Tu edad es \"+ edad)"
      ],
      "metadata": {
        "colab": {
          "base_uri": "https://localhost:8080/"
        },
        "id": "CEzYbrqBEMDN",
        "outputId": "2263be4c-1336-472c-e5a1-4dc45324bc87"
      },
      "execution_count": null,
      "outputs": [
        {
          "output_type": "stream",
          "name": "stdout",
          "text": [
            "Cual es tu edad 20\n",
            "Tu edad es 20\n"
          ]
        }
      ]
    },
    {
      "cell_type": "markdown",
      "source": [
        "`input` va a retornar un `string`, el cual podemos trnasformar a un numero entero usadno la funcion `int`."
      ],
      "metadata": {
        "id": "KeUJgDdAEDHw"
      }
    },
    {
      "cell_type": "code",
      "source": [
        "edad = input (\"Cual es tu edad \")\n",
        "edad_en_int = int (edad) #funcion que convierte lo que esta en parentesis en un entero\n",
        "edad_prox_year = edad_en_int + 1\n",
        "edad_prox_year_string = str (edad_prox_year) #funcion que convierte lo que esta dentro del parentesis en un string\n",
        "print(\"El proximo año tendrá \"+ edad_prox_year_string + \" años\")"
      ],
      "metadata": {
        "colab": {
          "base_uri": "https://localhost:8080/"
        },
        "id": "Jtocl3TEEoUg",
        "outputId": "c236b012-f50c-49f7-9622-f3a34e7d6c44"
      },
      "execution_count": null,
      "outputs": [
        {
          "output_type": "stream",
          "name": "stdout",
          "text": [
            "Cual es tu edad 20\n",
            "El proximo año tendrá 21 años\n"
          ]
        }
      ]
    },
    {
      "cell_type": "code",
      "source": [
        "edad=int(input(\"Cual es tu edad \"))"
      ],
      "metadata": {
        "colab": {
          "base_uri": "https://localhost:8080/"
        },
        "id": "-omWjLZVFnXY",
        "outputId": "1eb47f20-e297-4849-dd60-92c0496fe4ee"
      },
      "execution_count": null,
      "outputs": [
        {
          "name": "stdout",
          "output_type": "stream",
          "text": [
            "Cual es tu edad 20\n"
          ]
        }
      ]
    },
    {
      "cell_type": "code",
      "source": [
        "print(\"El proximo año tendras \" +edad+1 + \"años\")"
      ],
      "metadata": {
        "colab": {
          "base_uri": "https://localhost:8080/",
          "height": 165
        },
        "id": "JBqDEmW7FyTA",
        "outputId": "85dd479f-266c-4f83-bcf4-f4bd41099ab6"
      },
      "execution_count": null,
      "outputs": [
        {
          "output_type": "error",
          "ename": "TypeError",
          "evalue": "ignored",
          "traceback": [
            "\u001b[0;31m---------------------------------------------------------------------------\u001b[0m",
            "\u001b[0;31mTypeError\u001b[0m                                 Traceback (most recent call last)",
            "\u001b[0;32m<ipython-input-18-e89e824e45d2>\u001b[0m in \u001b[0;36m<module>\u001b[0;34m\u001b[0m\n\u001b[0;32m----> 1\u001b[0;31m \u001b[0mprint\u001b[0m\u001b[0;34m(\u001b[0m\u001b[0;34m\"El proximo año tendras \"\u001b[0m \u001b[0;34m+\u001b[0m\u001b[0medad\u001b[0m\u001b[0;34m+\u001b[0m\u001b[0;36m1\u001b[0m \u001b[0;34m+\u001b[0m \u001b[0;34m\"años\"\u001b[0m\u001b[0;34m)\u001b[0m\u001b[0;34m\u001b[0m\u001b[0;34m\u001b[0m\u001b[0m\n\u001b[0m",
            "\u001b[0;31mTypeError\u001b[0m: can only concatenate str (not \"int\") to str"
          ]
        }
      ]
    },
    {
      "cell_type": "markdown",
      "source": [
        "## Branching"
      ],
      "metadata": {
        "id": "dZwr0HO0GbiQ"
      }
    },
    {
      "cell_type": "markdown",
      "source": [
        "La expresion `if` permite ejecutar instrucciones si acaso se cumple o no una condicion. La sintaxis es:"
      ],
      "metadata": {
        "id": "CUnl1FnKGvWw"
      }
    },
    {
      "cell_type": "code",
      "source": [
        "if CONDICION:\n",
        "  # CODIGO EN CASO QUE LA CONDICION SEA CIERTA\n",
        "else:\n",
        "  # CODIGO EN CASO DE QUE LA CONDICION SEA FALSA"
      ],
      "metadata": {
        "id": "sut6Y100Gg4o"
      },
      "execution_count": null,
      "outputs": []
    },
    {
      "cell_type": "markdown",
      "source": [
        "Al usar la expresion `if` es muy importante saber indentar correctamente. Observen el codigo que se ejecuta dentro del `if` y dentro del `else` esta indentado. Esta indentacion se hace con el tabulador (TABs) o con espacios. En este curso indentaremos con TABs. \n",
        "Como ejemplo de branching, podemos tomar una decision en base al numero ingresado por el usuario:"
      ],
      "metadata": {
        "id": "xgEOQko3HQ_g"
      }
    },
    {
      "cell_type": "code",
      "source": [
        "numero = int (input())\n",
        "if numero==0:\n",
        "  print(\"El mumero ingresado es cero\")\n",
        "else:\n",
        "  print(\"El numero ingresado no es cero\")"
      ],
      "metadata": {
        "colab": {
          "base_uri": "https://localhost:8080/"
        },
        "id": "RhmTotbWH4Hf",
        "outputId": "505bd456-8fe6-4a48-d027-beeb362d5e12"
      },
      "execution_count": null,
      "outputs": [
        {
          "output_type": "stream",
          "name": "stdout",
          "text": [
            "20\n",
            "El numero ingresado no es cero\n"
          ]
        }
      ]
    },
    {
      "cell_type": "code",
      "source": [
        "respuesta = input(\"Ingrese un numero entero: \")\n",
        "if((int(respuesta) %2 ) == 1):\n",
        "  print (respuesta + ' es un numero impar!!')\n",
        "else:\n",
        "  print (respuesta + ' es un numero par!!')"
      ],
      "metadata": {
        "colab": {
          "base_uri": "https://localhost:8080/"
        },
        "id": "olq4WhllIVHA",
        "outputId": "ecee9e41-cc84-4482-f4a6-b0264f9390fc"
      },
      "execution_count": null,
      "outputs": [
        {
          "output_type": "stream",
          "name": "stdout",
          "text": [
            "Ingrese un numero entero: 31\n",
            "31 es un numero impar!!\n"
          ]
        }
      ]
    },
    {
      "cell_type": "markdown",
      "source": [
        "Puede existir mas de una condicion dentro de otra, lo que llamamos condiciones `anidadas`"
      ],
      "metadata": {
        "id": "_jUaC69PJBrQ"
      }
    },
    {
      "cell_type": "code",
      "source": [
        "respuesta = input (\"Ingrese un numero entero: \")\n",
        "\n",
        "if respuesta.isdigit(): #.isdigit() funcion que analiza si lo anterior es un numero entero\n",
        " if((int(respuesta) %2 ) == 1):\n",
        "  print (respuesta + ' es un numero impar!!')\n",
        " else:\n",
        "  print (respuesta + ' es un numero par!!') \n",
        "else: \n",
        "  print (respuesta+ ' no es numero valido')\n"
      ],
      "metadata": {
        "colab": {
          "base_uri": "https://localhost:8080/"
        },
        "id": "8IKqfKmiJI7P",
        "outputId": "2b3860a1-0043-4a94-8375-865357923ad7"
      },
      "execution_count": null,
      "outputs": [
        {
          "output_type": "stream",
          "name": "stdout",
          "text": [
            "Ingrese un numero entero: hola\n",
            "hola no es numero valido\n"
          ]
        }
      ]
    },
    {
      "cell_type": "markdown",
      "source": [
        "En el caso que queremos probar por varias condiciones. podemos usar la expresion `elsif` (una combionacion de `else` e `if`)"
      ],
      "metadata": {
        "id": "uY9qqjSsJ-0w"
      }
    },
    {
      "cell_type": "code",
      "source": [
        "nombre = input (\"Por favor ingresa tu nombre: \")\n",
        "\n",
        "if nombre == \"Eber\":\n",
        "  print(\"Adelante Eber\")\n",
        "elif nombre == \"Nicolas\" or nombre == \"Pablo\":\n",
        "  print (\"Estimado \" +nombre+ \" por favor usa tu llave\")\n",
        "elif nombre.startswith(\"Jose\"): #.startswith() prohibido como Jose Manuel\n",
        "  print (\"Esta prohibido tu acceso\")\n",
        "else:\n",
        "  print(\"Estimado \" +nombre+ \" lo atenderemos pronto\")"
      ],
      "metadata": {
        "colab": {
          "base_uri": "https://localhost:8080/"
        },
        "id": "uvjeR44EKJmg",
        "outputId": "eb6289bd-08dd-4127-9d5d-8e2eca3ff5e7"
      },
      "execution_count": null,
      "outputs": [
        {
          "output_type": "stream",
          "name": "stdout",
          "text": [
            "Por favor ingresa tu nombre: Eber\n",
            "Adelante Eber\n"
          ]
        }
      ]
    },
    {
      "cell_type": "markdown",
      "source": [
        "## String"
      ],
      "metadata": {
        "id": "cFnbv5GiLreI"
      }
    },
    {
      "cell_type": "markdown",
      "source": [
        "El largo de un string se puede obtener con la funcion `len`"
      ],
      "metadata": {
        "id": "0W41_uQYLu6_"
      }
    },
    {
      "cell_type": "code",
      "source": [
        "palabra =\"Supercomputadoras\"\n",
        "largo = len(palabra) # len()\n",
        "print (\"La palabra \" +palabra+ \" tiene\" +str(largo)+ \" caracteres\")"
      ],
      "metadata": {
        "colab": {
          "base_uri": "https://localhost:8080/"
        },
        "id": "t4pyjH7XLt7A",
        "outputId": "bdb678b6-bb61-4278-ea88-8a73ae8b353e"
      },
      "execution_count": 2,
      "outputs": [
        {
          "output_type": "stream",
          "name": "stdout",
          "text": [
            "La palabra Supercomputadoras tiene17 caracteres\n"
          ]
        }
      ]
    },
    {
      "cell_type": "markdown",
      "source": [
        "Pra obetener una letra especifica de una palabra, pdemos usar un \"indice\" sobre el string usando los corchetes cuadrados `[ `y `]`. En python los indices comienzan en `0`."
      ],
      "metadata": {
        "id": "BSy0dqrpMP7A"
      }
    },
    {
      "cell_type": "code",
      "source": [
        "palabra"
      ],
      "metadata": {
        "colab": {
          "base_uri": "https://localhost:8080/",
          "height": 35
        },
        "id": "1mvTs_m2Ml64",
        "outputId": "16166284-e882-49c1-88fe-05e9f49d9fd3"
      },
      "execution_count": 3,
      "outputs": [
        {
          "output_type": "execute_result",
          "data": {
            "text/plain": [
              "'Supercomputadoras'"
            ],
            "application/vnd.google.colaboratory.intrinsic+json": {
              "type": "string"
            }
          },
          "metadata": {},
          "execution_count": 3
        }
      ]
    },
    {
      "cell_type": "code",
      "source": [
        "palabra[0]"
      ],
      "metadata": {
        "colab": {
          "base_uri": "https://localhost:8080/",
          "height": 35
        },
        "id": "rdNF8ibGMpav",
        "outputId": "cf90eb31-a030-4afe-c7c9-c1317bc198a8"
      },
      "execution_count": 4,
      "outputs": [
        {
          "output_type": "execute_result",
          "data": {
            "text/plain": [
              "'S'"
            ],
            "application/vnd.google.colaboratory.intrinsic+json": {
              "type": "string"
            }
          },
          "metadata": {},
          "execution_count": 4
        }
      ]
    },
    {
      "cell_type": "code",
      "source": [
        "palabra [10]"
      ],
      "metadata": {
        "colab": {
          "base_uri": "https://localhost:8080/",
          "height": 35
        },
        "id": "vX7p-5C2M23Y",
        "outputId": "dcc69103-0532-4fbc-a17c-d4c9fabbb792"
      },
      "execution_count": 5,
      "outputs": [
        {
          "output_type": "execute_result",
          "data": {
            "text/plain": [
              "'t'"
            ],
            "application/vnd.google.colaboratory.intrinsic+json": {
              "type": "string"
            }
          },
          "metadata": {},
          "execution_count": 5
        }
      ]
    },
    {
      "cell_type": "markdown",
      "source": [
        "Los indices pueden ser negativos, contando desde el final del `string`. Asi `palabra[-1]` es la ultima letra del `string`"
      ],
      "metadata": {
        "id": "gQCwojMUNhhJ"
      }
    },
    {
      "cell_type": "code",
      "source": [
        "palabra[-1]"
      ],
      "metadata": {
        "colab": {
          "base_uri": "https://localhost:8080/",
          "height": 35
        },
        "id": "WYfKhLIjNvdf",
        "outputId": "d33093ae-c0c2-441f-90f2-398d795a7852"
      },
      "execution_count": 6,
      "outputs": [
        {
          "output_type": "execute_result",
          "data": {
            "text/plain": [
              "'s'"
            ],
            "application/vnd.google.colaboratory.intrinsic+json": {
              "type": "string"
            }
          },
          "metadata": {},
          "execution_count": 6
        }
      ]
    },
    {
      "cell_type": "code",
      "source": [
        "nombre = input()\n",
        "print (\"La ultima letra de la palabra \" +nombre+ \" es \" + nombre[-1])"
      ],
      "metadata": {
        "colab": {
          "base_uri": "https://localhost:8080/"
        },
        "id": "4uhD7LttNzmA",
        "outputId": "7b570754-c09d-45d1-95b0-9ddceaaa0de6"
      },
      "execution_count": null,
      "outputs": [
        {
          "output_type": "stream",
          "name": "stdout",
          "text": [
            "Eber\n",
            "La ultima letra de la palabra Eber es r\n"
          ]
        }
      ]
    },
    {
      "cell_type": "markdown",
      "source": [
        "Hay un monton de metdos utiles que existen para manipular string"
      ],
      "metadata": {
        "id": "Wb1FJ-faNydw"
      }
    },
    {
      "cell_type": "code",
      "source": [
        "frase = \"Hola Mundo\"\n"
      ],
      "metadata": {
        "id": "8Z6T0RkXOPUH"
      },
      "execution_count": 7,
      "outputs": []
    },
    {
      "cell_type": "code",
      "source": [
        "frase"
      ],
      "metadata": {
        "colab": {
          "base_uri": "https://localhost:8080/",
          "height": 35
        },
        "id": "GdsYDOxvOVM3",
        "outputId": "c774982a-c42c-4359-ce6f-6bd536c5cfc8"
      },
      "execution_count": 8,
      "outputs": [
        {
          "output_type": "execute_result",
          "data": {
            "text/plain": [
              "'Hola Mundo'"
            ],
            "application/vnd.google.colaboratory.intrinsic+json": {
              "type": "string"
            }
          },
          "metadata": {},
          "execution_count": 8
        }
      ]
    },
    {
      "cell_type": "markdown",
      "source": [
        "Podemos obtener un rango de letras de un string, utilizando lo que en Python llamamos un `slice`. En un `slice` damos el inicio y el fin del rango que nos interesa, tomando en cuenta que las posiciones comienzan de cero. Por ejemplo:"
      ],
      "metadata": {
        "id": "SCIbi6sVOthw"
      }
    },
    {
      "cell_type": "code",
      "source": [
        "frase[1:3]"
      ],
      "metadata": {
        "colab": {
          "base_uri": "https://localhost:8080/",
          "height": 35
        },
        "id": "JVnlA3W9OX7H",
        "outputId": "d94f90e6-adfa-44ff-c94b-bf26b7252cc9"
      },
      "execution_count": 9,
      "outputs": [
        {
          "output_type": "execute_result",
          "data": {
            "text/plain": [
              "'ol'"
            ],
            "application/vnd.google.colaboratory.intrinsic+json": {
              "type": "string"
            }
          },
          "metadata": {},
          "execution_count": 9
        }
      ]
    },
    {
      "cell_type": "code",
      "source": [
        "frase [2:5]"
      ],
      "metadata": {
        "colab": {
          "base_uri": "https://localhost:8080/",
          "height": 35
        },
        "id": "QgFzs2I-PFxK",
        "outputId": "9e86095c-60ea-47a8-c3ec-060427440688"
      },
      "execution_count": 10,
      "outputs": [
        {
          "output_type": "execute_result",
          "data": {
            "text/plain": [
              "'la '"
            ],
            "application/vnd.google.colaboratory.intrinsic+json": {
              "type": "string"
            }
          },
          "metadata": {},
          "execution_count": 10
        }
      ]
    },
    {
      "cell_type": "code",
      "source": [
        "len(frase)"
      ],
      "metadata": {
        "colab": {
          "base_uri": "https://localhost:8080/"
        },
        "id": "p-vNcbs0POG4",
        "outputId": "634d942c-7197-4852-b05e-6339ee234fb1"
      },
      "execution_count": 11,
      "outputs": [
        {
          "output_type": "execute_result",
          "data": {
            "text/plain": [
              "10"
            ]
          },
          "metadata": {},
          "execution_count": 11
        }
      ]
    },
    {
      "cell_type": "markdown",
      "source": [
        "Podemos omitir el principio y/o el final del slice, en cuyo caso se usara el principio y el final del string. Ejemplos:"
      ],
      "metadata": {
        "id": "v6XeaFPSPSug"
      }
    },
    {
      "cell_type": "code",
      "source": [
        "frase[:5]"
      ],
      "metadata": {
        "colab": {
          "base_uri": "https://localhost:8080/",
          "height": 35
        },
        "id": "UxMluVyYPdnw",
        "outputId": "a8e28d0e-746a-48c0-f996-17e8ad80c6e1"
      },
      "execution_count": 12,
      "outputs": [
        {
          "output_type": "execute_result",
          "data": {
            "text/plain": [
              "'Hola '"
            ],
            "application/vnd.google.colaboratory.intrinsic+json": {
              "type": "string"
            }
          },
          "metadata": {},
          "execution_count": 12
        }
      ]
    },
    {
      "cell_type": "code",
      "source": [
        "frase[2:]"
      ],
      "metadata": {
        "colab": {
          "base_uri": "https://localhost:8080/",
          "height": 35
        },
        "id": "jDgZ7e55P7yP",
        "outputId": "a2e00a1a-72cc-496e-c486-4fc7b7f3f8d3"
      },
      "execution_count": 13,
      "outputs": [
        {
          "output_type": "execute_result",
          "data": {
            "text/plain": [
              "'la Mundo'"
            ],
            "application/vnd.google.colaboratory.intrinsic+json": {
              "type": "string"
            }
          },
          "metadata": {},
          "execution_count": 13
        }
      ]
    },
    {
      "cell_type": "markdown",
      "source": [
        "Incluso podemos usar numeros negativos para contar desde el final. Ejemplo:"
      ],
      "metadata": {
        "id": "BHFo_bXCQE9x"
      }
    },
    {
      "cell_type": "code",
      "source": [
        "frase[2:-4]"
      ],
      "metadata": {
        "colab": {
          "base_uri": "https://localhost:8080/",
          "height": 35
        },
        "id": "zaqjLcZhQNYf",
        "outputId": "71aabd7b-411e-440d-cba0-5c053d00e208"
      },
      "execution_count": 14,
      "outputs": [
        {
          "output_type": "execute_result",
          "data": {
            "text/plain": [
              "'la M'"
            ],
            "application/vnd.google.colaboratory.intrinsic+json": {
              "type": "string"
            }
          },
          "metadata": {},
          "execution_count": 14
        }
      ]
    },
    {
      "cell_type": "markdown",
      "source": [
        "Podemos usar `in` para saber si un substring existe dentro de un string, o `count` para contar el numero de veces que un caracter aparece, o `find` para saber en que posicion aparece un substring."
      ],
      "metadata": {
        "id": "I_YeyNGzQWKh"
      }
    },
    {
      "cell_type": "code",
      "source": [
        "'Mun' in frase"
      ],
      "metadata": {
        "colab": {
          "base_uri": "https://localhost:8080/"
        },
        "id": "KMnh6UiZQrT6",
        "outputId": "334e4bb5-0f35-4bf6-afb2-f1eb9928b3ae"
      },
      "execution_count": 15,
      "outputs": [
        {
          "output_type": "execute_result",
          "data": {
            "text/plain": [
              "True"
            ]
          },
          "metadata": {},
          "execution_count": 15
        }
      ]
    },
    {
      "cell_type": "code",
      "source": [
        "frase.count('o') #count() cuenta cierta cantidad \"algo\""
      ],
      "metadata": {
        "colab": {
          "base_uri": "https://localhost:8080/"
        },
        "id": "KbF4d4qoQ8uX",
        "outputId": "baa8a73f-df0d-4bec-c2af-97ab3c223759"
      },
      "execution_count": 16,
      "outputs": [
        {
          "output_type": "execute_result",
          "data": {
            "text/plain": [
              "2"
            ]
          },
          "metadata": {},
          "execution_count": 16
        }
      ]
    },
    {
      "cell_type": "code",
      "source": [
        "frase.find('o') #¿existe?"
      ],
      "metadata": {
        "colab": {
          "base_uri": "https://localhost:8080/"
        },
        "id": "zidpnVhuRINf",
        "outputId": "5e1bb435-fdd1-456d-8b4b-4d3b43977fad"
      },
      "execution_count": 17,
      "outputs": [
        {
          "output_type": "execute_result",
          "data": {
            "text/plain": [
              "1"
            ]
          },
          "metadata": {},
          "execution_count": 17
        }
      ]
    },
    {
      "cell_type": "code",
      "source": [
        "frase.capitalize() #La primera letra con mayuscula"
      ],
      "metadata": {
        "colab": {
          "base_uri": "https://localhost:8080/",
          "height": 35
        },
        "id": "35uZueFpnXsG",
        "outputId": "25bf1572-a21c-4fe0-a4d4-e3850235eca9"
      },
      "execution_count": 19,
      "outputs": [
        {
          "output_type": "execute_result",
          "data": {
            "text/plain": [
              "'Hola mundo'"
            ],
            "application/vnd.google.colaboratory.intrinsic+json": {
              "type": "string"
            }
          },
          "metadata": {},
          "execution_count": 19
        }
      ]
    },
    {
      "cell_type": "code",
      "source": [
        "frase.title() #Pone en mayusula las primeras letras despues de un espacio"
      ],
      "metadata": {
        "colab": {
          "base_uri": "https://localhost:8080/",
          "height": 35
        },
        "id": "xmNErrRXny7X",
        "outputId": "1ae1d056-c19f-4a64-a7fd-305592b5affe"
      },
      "execution_count": 20,
      "outputs": [
        {
          "output_type": "execute_result",
          "data": {
            "text/plain": [
              "'Hola Mundo'"
            ],
            "application/vnd.google.colaboratory.intrinsic+json": {
              "type": "string"
            }
          },
          "metadata": {},
          "execution_count": 20
        }
      ]
    },
    {
      "cell_type": "markdown",
      "source": [
        "![WhatsApp Image 2022-09-16 at 13.47.08.jpeg](data:image/jpeg;base64,/9j/4AAQSkZJRgABAQEAYABgAAD/4SOQRXhpZgAATU0AKgAAAAgABgALAAIAAAAmAAAIYgESAAMAAAABAAEAAAExAAIAAAAmAAAIiAEyAAIAAAAUAAAIrodpAAQAAAABAAAIwuocAAcAAAgMAAAAVgAAEUYc6gAAAAgAAAAAAAAAAAAAAAAAAAAAAAAAAAAAAAAAAAAAAAAAAAAAAAAAAAAAAAAAAAAAAAAAAAAAAAAAAAAAAAAAAAAAAAAAAAAAAAAAAAAAAAAAAAAAAAAAAAAAAAAAAAAAAAAAAAAAAAAAAAAAAAAAAAAAAAAAAAAAAAAAAAAAAAAAAAAAAAAAAAAAAAAAAAAAAAAAAAAAAAAAAAAAAAAAAAAAAAAAAAAAAAAAAAAAAAAAAAAAAAAAAAAAAAAAAAAAAAAAAAAAAAAAAAAAAAAAAAAAAAAAAAAAAAAAAAAAAAAAAAAAAAAAAAAAAAAAAAAAAAAAAAAAAAAAAAAAAAAAAAAAAAAAAAAAAAAAAAAAAAAAAAAAAAAAAAAAAAAAAAAAAAAAAAAAAAAAAAAAAAAAAAAAAAAAAAAAAAAAAAAAAAAAAAAAAAAAAAAAAAAAAAAAAAAAAAAAAAAAAAAAAAAAAAAAAAAAAAAAAAAAAAAAAAAAAAAAAAAAAAAAAAAAAAAAAAAAAAAAAAAAAAAAAAAAAAAAAAAAAAAAAAAAAAAAAAAAAAAAAAAAAAAAAAAAAAAAAAAAAAAAAAAAAAAAAAAAAAAAAAAAAAAAAAAAAAAAAAAAAAAAAAAAAAAAAAAAAAAAAAAAAAAAAAAAAAAAAAAAAAAAAAAAAAAAAAAAAAAAAAAAAAAAAAAAAAAAAAAAAAAAAAAAAAAAAAAAAAAAAAAAAAAAAAAAAAAAAAAAAAAAAAAAAAAAAAAAAAAAAAAAAAAAAAAAAAAAAAAAAAAAAAAAAAAAAAAAAAAAAAAAAAAAAAAAAAAAAAAAAAAAAAAAAAAAAAAAAAAAAAAAAAAAAAAAAAAAAAAAAAAAAAAAAAAAAAAAAAAAAAAAAAAAAAAAAAAAAAAAAAAAAAAAAAAAAAAAAAAAAAAAAAAAAAAAAAAAAAAAAAAAAAAAAAAAAAAAAAAAAAAAAAAAAAAAAAAAAAAAAAAAAAAAAAAAAAAAAAAAAAAAAAAAAAAAAAAAAAAAAAAAAAAAAAAAAAAAAAAAAAAAAAAAAAAAAAAAAAAAAAAAAAAAAAAAAAAAAAAAAAAAAAAAAAAAAAAAAAAAAAAAAAAAAAAAAAAAAAAAAAAAAAAAAAAAAAAAAAAAAAAAAAAAAAAAAAAAAAAAAAAAAAAAAAAAAAAAAAAAAAAAAAAAAAAAAAAAAAAAAAAAAAAAAAAAAAAAAAAAAAAAAAAAAAAAAAAAAAAAAAAAAAAAAAAAAAAAAAAAAAAAAAAAAAAAAAAAAAAAAAAAAAAAAAAAAAAAAAAAAAAAAAAAAAAAAAAAAAAAAAAAAAAAAAAAAAAAAAAAAAAAAAAAAAAAAAAAAAAAAAAAAAAAAAAAAAAAAAAAAAAAAAAAAAAAAAAAAAAAAAAAAAAAAAAAAAAAAAAAAAAAAAAAAAAAAAAAAAAAAAAAAAAAAAAAAAAAAAAAAAAAAAAAAAAAAAAAAAAAAAAAAAAAAAAAAAAAAAAAAAAAAAAAAAAAAAAAAAAAAAAAAAAAAAAAAAAAAAAAAAAAAAAAAAAAAAAAAAAAAAAAAAAAAAAAAAAAAAAAAAAAAAAAAAAAAAAAAAAAAAAAAAAAAAAAAAAAAAAAAAAAAAAAAAAAAAAAAAAAAAAAAAAAAAAAAAAAAAAAAAAAAAAAAAAAAAAAAAAAAAAAAAAAAAAAAAAAAAAAAAAAAAAAAAAAAAAAAAAAAAAAAAAAAAAAAAAAAAAAAAAAAAAAAAAAAAAAAAAAAAAAAAAAAAAAAAAAAAAAAAAAAAAAAAAAAAAAAAAAAAAAAAAAAAAAAAAAAAAAAAAAAAAAAAAAAAAAAAAAAAAAAAAAAAAAAAAAAAAAAAAAAAAAAAAAAAAAAAAAAAAAAAAAAAAAAAAAAAAAAAAAAAAAAAAAAAAAAAAAAAAAAAAAAAAAAAAAAAAAAAAAAAAAAAAAAAAAAAAAAAAAAAAAAAAAAAAAAAAAAAAAAAAAAAAAAAAAAAAAAAAAAAAAAAAAAAAAAAAAAAAAAAAAAAAAAAAAAAAAAAAAAAAAAAAAAAAAAAAAAAAAAAAAAAAAAAAAAAAAAAAAAAAAAAAAAAAAAAAAAAAAAAAAAAAAAAAAAAAAAAAAAAAAAAAAAAAAAAAAAAAAAAAAAAAAAAAAAAAAAAAAAAAAAAAAAAAAAAAAAAAAAAAAAAAAAAAAAAAAAAAAAAAAAAAAAAAAAAAAAAAAAAAAAAAAAAAAAAAAAAAAAAAAAAAAAAAAAAAAAAAAAAAAAAAAAAAAAAAAAAAAAAAAAAAAAAAAAAAAAAAAAAAAAAAAAAAAAAAAAAAAAAAAAAAAAAAAAAAAAAAAAAAAAAAAAAAAAAAAAAAAAAAAAAAAAAAAAAAAAAAAAAAAAAAAAAAAAAAAAAAAAAAAAAAAAAAAAAAAAAAAAAAAAAAAAAAAAAAAAAAAAAAAAAAAAAAAAAAAAAAAAAAAAAAAAAAAAAAAAAAAAAAAAAAAAAAAAAAAAAAAAAAAAAAAAAAAAAAAAAAAAAAAAAAAAAAAAAAAAAAAAAAAAAAAAAAAAAAAAAAAAAAAAAAAAAAAAAAAAAAAAAAAAAAAAAAAAAAAAAAAAAAAAAAAAAAAAAAAAAAAAAAAAAAAAAAAAAAAAAAAAAAAAAAAAAAAAAAAAAAAAAAAAAAAAAAAAAAAAAAAAAAAAAAAAAAAAAAAAAAAAAAAAAAAAAAAAAAAAAAAAAAAAAAAAAAAAAAAAFdpbmRvd3MgUGhvdG8gRWRpdG9yIDEwLjAuMTAwMTEuMTYzODQAV2luZG93cyBQaG90byBFZGl0b3IgMTAuMC4xMDAxMS4xNjM4NAAyMDIyOjA5OjE2IDEzOjQ4OjI0AAAGkAMAAgAAABQAABEckAQAAgAAABQAABEwkpEAAgAAAAM2NwAAkpIAAgAAAAM2NwAAoAEAAwAAAAEAAQAA6hwABwAACAwAAAkQAAAAABzqAAAACAAAAAAAAAAAAAAAAAAAAAAAAAAAAAAAAAAAAAAAAAAAAAAAAAAAAAAAAAAAAAAAAAAAAAAAAAAAAAAAAAAAAAAAAAAAAAAAAAAAAAAAAAAAAAAAAAAAAAAAAAAAAAAAAAAAAAAAAAAAAAAAAAAAAAAAAAAAAAAAAAAAAAAAAAAAAAAAAAAAAAAAAAAAAAAAAAAAAAAAAAAAAAAAAAAAAAAAAAAAAAAAAAAAAAAAAAAAAAAAAAAAAAAAAAAAAAAAAAAAAAAAAAAAAAAAAAAAAAAAAAAAAAAAAAAAAAAAAAAAAAAAAAAAAAAAAAAAAAAAAAAAAAAAAAAAAAAAAAAAAAAAAAAAAAAAAAAAAAAAAAAAAAAAAAAAAAAAAAAAAAAAAAAAAAAAAAAAAAAAAAAAAAAAAAAAAAAAAAAAAAAAAAAAAAAAAAAAAAAAAAAAAAAAAAAAAAAAAAAAAAAAAAAAAAAAAAAAAAAAAAAAAAAAAAAAAAAAAAAAAAAAAAAAAAAAAAAAAAAAAAAAAAAAAAAAAAAAAAAAAAAAAAAAAAAAAAAAAAAAAAAAAAAAAAAAAAAAAAAAAAAAAAAAAAAAAAAAAAAAAAAAAAAAAAAAAAAAAAAAAAAAAAAAAAAAAAAAAAAAAAAAAAAAAAAAAAAAAAAAAAAAAAAAAAAAAAAAAAAAAAAAAAAAAAAAAAAAAAAAAAAAAAAAAAAAAAAAAAAAAAAAAAAAAAAAAAAAAAAAAAAAAAAAAAAAAAAAAAAAAAAAAAAAAAAAAAAAAAAAAAAAAAAAAAAAAAAAAAAAAAAAAAAAAAAAAAAAAAAAAAAAAAAAAAAAAAAAAAAAAAAAAAAAAAAAAAAAAAAAAAAAAAAAAAAAAAAAAAAAAAAAAAAAAAAAAAAAAAAAAAAAAAAAAAAAAAAAAAAAAAAAAAAAAAAAAAAAAAAAAAAAAAAAAAAAAAAAAAAAAAAAAAAAAAAAAAAAAAAAAAAAAAAAAAAAAAAAAAAAAAAAAAAAAAAAAAAAAAAAAAAAAAAAAAAAAAAAAAAAAAAAAAAAAAAAAAAAAAAAAAAAAAAAAAAAAAAAAAAAAAAAAAAAAAAAAAAAAAAAAAAAAAAAAAAAAAAAAAAAAAAAAAAAAAAAAAAAAAAAAAAAAAAAAAAAAAAAAAAAAAAAAAAAAAAAAAAAAAAAAAAAAAAAAAAAAAAAAAAAAAAAAAAAAAAAAAAAAAAAAAAAAAAAAAAAAAAAAAAAAAAAAAAAAAAAAAAAAAAAAAAAAAAAAAAAAAAAAAAAAAAAAAAAAAAAAAAAAAAAAAAAAAAAAAAAAAAAAAAAAAAAAAAAAAAAAAAAAAAAAAAAAAAAAAAAAAAAAAAAAAAAAAAAAAAAAAAAAAAAAAAAAAAAAAAAAAAAAAAAAAAAAAAAAAAAAAAAAAAAAAAAAAAAAAAAAAAAAAAAAAAAAAAAAAAAAAAAAAAAAAAAAAAAAAAAAAAAAAAAAAAAAAAAAAAAAAAAAAAAAAAAAAAAAAAAAAAAAAAAAAAAAAAAAAAAAAAAAAAAAAAAAAAAAAAAAAAAAAAAAAAAAAAAAAAAAAAAAAAAAAAAAAAAAAAAAAAAAAAAAAAAAAAAAAAAAAAAAAAAAAAAAAAAAAAAAAAAAAAAAAAAAAAAAAAAAAAAAAAAAAAAAAAAAAAAAAAAAAAAAAAAAAAAAAAAAAAAAAAAAAAAAAAAAAAAAAAAAAAAAAAAAAAAAAAAAAAAAAAAAAAAAAAAAAAAAAAAAAAAAAAAAAAAAAAAAAAAAAAAAAAAAAAAAAAAAAAAAAAAAAAAAAAAAAAAAAAAAAAAAAAAAAAAAAAAAAAAAAAAAAAAAAAAAAAAAAAAAAAAAAAAAAAAAAAAAAAAAAAAAAAAAAAAAAAAAAAAAAAAAAAAAAAAAAAAAAAAAAAAAAAAAAAAAAAAAAAAAAAAAAAAAAAAAAAAAAAAAAAAAAAAAAAAAAAAAAAAAAAAAAAAAAAAAAAAAAAAAAAAAAAAAAAAAAAAAAAAAAAAAAAAAAAAAAAAAAAAAAAAAAAAAAAAAAAAAAAAAAAAAAAAAAAAAAAAAAAAAAAAAAAAAAAAAAAAAAAAAAAAAAAAAAAAAAAAAAAAAAAAAAAAAAAAAAAAAAAAAAAAAAAAAAAAAAAAAAAAAAAAAAAAAAAAAAAAAAAAAAAAAAAAAAAAAAAAAAAAAAAAAAAAAAAAAAAAAAAAAAAAAAAAAAAAAAAAAAAAAAAAAAAAAAAAAAAAAAAAAAAAAAAAAAAAAAAAAAAAAAAAAAAAAAAAAAAAAAAAAAAAAAAAAAAAAAAAAAAAAAAAAAAAAAAAAAAAAAAAAAAAAAAAAAAAAAAAAAAAAAAAAAAAAAAAAAAAAAAAAAAAAAAAAAAAAAAAAAAAAAAAAAAAAAAAAAAAAAAAAAAAAAAAAAAAAAAAAAAAAAAAAAAAAAAAAAAAAAAAAAAAAAAAAAAAAAAAAAAAAAAAAAAAAAAAAAAAAAAAAAAAAAAAAAAAAAAAAAAAAAAAAAAAAAAAAAAAAAAAAAAAAAAAAAAAAAAAAAAAAAAAAAAAAAAAAAAAAAAAAAAAAAAAAAAAAAAAAAAAAAAAAAAAAAAAAAAAAAAAAAAAAAAAAAAAAAAAAAAAAAAAAAAAAAAAAAAAAAAAAAAAAAAAAAAAAAAAAAAAAAAAAAAAAAAAAAAAAAAAAAAAAAAAAAAAAAAAAAAAAAAAAAAAAAAAAAAAAAAAAAAAMjAyMjowOToxNiAxMzo0ODowNAAyMDIyOjA5OjE2IDEzOjQ4OjA0AAAAAAYBAwADAAAAAQAGAAABGgAFAAAAAQAAEZQBGwAFAAAAAQAAEZwBKAADAAAAAQACAAACAQAEAAAAAQAAEaQCAgAEAAAAAQAAEeQAAAAAAAAAYAAAAAEAAABgAAAAAf/Y/9sAQwAIBgYHBgUIBwcHCQkICgwUDQwLCwwZEhMPFB0aHx4dGhwcICQuJyAiLCMcHCg3KSwwMTQ0NB8nOT04MjwuMzQy/9sAQwEJCQkMCwwYDQ0YMiEcITIyMjIyMjIyMjIyMjIyMjIyMjIyMjIyMjIyMjIyMjIyMjIyMjIyMjIyMjIyMjIyMjIy/8AAEQgAZAEAAwEhAAIRAQMRAf/EAB8AAAEFAQEBAQEBAAAAAAAAAAABAgMEBQYHCAkKC//EALUQAAIBAwMCBAMFBQQEAAABfQECAwAEEQUSITFBBhNRYQcicRQygZGhCCNCscEVUtHwJDNicoIJChYXGBkaJSYnKCkqNDU2Nzg5OkNERUZHSElKU1RVVldYWVpjZGVmZ2hpanN0dXZ3eHl6g4SFhoeIiYqSk5SVlpeYmZqio6Slpqeoqaqys7S1tre4ubrCw8TFxsfIycrS09TV1tfY2drh4uPk5ebn6Onq8fLz9PX29/j5+v/EAB8BAAMBAQEBAQEBAQEAAAAAAAABAgMEBQYHCAkKC//EALURAAIBAgQEAwQHBQQEAAECdwABAgMRBAUhMQYSQVEHYXETIjKBCBRCkaGxwQkjM1LwFWJy0QoWJDThJfEXGBkaJicoKSo1Njc4OTpDREVGR0hJSlNUVVZXWFlaY2RlZmdoaWpzdHV2d3h5eoKDhIWGh4iJipKTlJWWl5iZmqKjpKWmp6ipqrKztLW2t7i5usLDxMXGx8jJytLT1NXW19jZ2uLj5OXm5+jp6vLz9PX29/j5+v/aAAwDAQACEQMRAD8A88S3lkj3ou4bwnHXJyR/I1IdPvA6IbaTc+do29cdaAB9Pu4xloHxjOce+P5mnnSdQBYG0lUqCSGGOn1oAZJYXcTqkltIjMcAMuM05dMvmBK2spA6nbQAHTL4Lk2soBGfu0S6ZeQl99u+EBLMBkADrzQAg0y9ZdwtZSuAc7eOacmlXznC2z9M88f570AIdMvlKBrWVd7BVLLjJPTrQumXzbcWsnzYIJGAc9OenODQAh0y+VdxtZQMZyV7c/4H8qP7OuvswuBCzR7dxZRnaODz+BFAAmm3ssYdLaRkIzuxxjrQdNvQpY2su0Aknb6daAGy2F3AAZbeRMnaNy45xmmyWlzF5W63kzM2yMY+8c4wPzoArjzmYAW0wycDK4H61Yt7Wa6EZijJ8xio+o65/MfnQBY/se/3MPs7fL37HnHHryccUxtMvkALW0nIJ6c4GM/zFADBY3TSNGLeQurbWGOQfSnf2be7c/ZpMHHO2gB39k3+cG2kA7tjjt3/ABFB0q+VSzWzgDPXrxjPH4igCN7C7jj8x7aVUwDkrxycD9ae+mXsYQtbyYchRgdz0H1oAguLee2iSSWCRVf7ny/e+lQbpMA/ZpsEZ+574/nQArGVd262mAXOTs4GOvNOoAngu57dWWJlAYgnKBuR9Rx1NSnVL0vGxm5jJKfIuBnjpj0AoAe2s3rRBDICcMC5QFiCc459+aj/ALTvPMaTziHYEEhQM569qB3EOoXTMpMg+Viw+RQMnrxj9KcdUvWTYbhtvpgemP5cUCFfV7+RlZrgkrnHyjv1zxzQ2rXzhg0/DghsIoyD17UAJJql1Ku0uoXAG0IvGBjPTr701NRvIyxWdhuIJ4HOM4/mfzoAG1G7brMeobhQORg54HXgUo1O8X7soH3Rwi/w9O1AAdTvDE8fnDa4wwCKM/pQupXSxJFvVo0x8jIGBxj1+gFADEv7lFAWXGMY+UZGBjj8KkOqXpbd9oIOCOFA69egoASXU7ydw0k24hgw+UYyBgcYxUc19dTvG7zNujk8xCAOG9cYoAT7Zd4x9oYgYPKKf6enH046UsN5PBt8twu1mcfIMZbGTjGOw7dhQBONYvx/y8H/AL5HqD6eoFNGqXoXb55xgjlR0PXtQA1dSu1keQSjc53Mdi9fy/Snf2re4IMwOTk5RTn9KAEbUrxsZnJwMA7RnGQcZx6jP1p39r3x4M+RgjBRcEHGRjHfAoASTVb6WMxvOSpABwoHQ56gevNI+p3jvG7SjdGwdCEUbSPTigCO5vLm7C+dKW2kFflAAwcjjGKgkaSZiZJSxLFjlV5JOeeORntQBOL258m4iaQOk/3wyj9MDioSSzEnGSc8DFAAAWIAGSe1bX9oKY8No8DPgAOwzjp2x7fqaAJE1SCPbt0G2yBjJzyeayrlHmuHkjtvKU9EHQcUAQ/Z5v8Anm1H2eb/AJ5tQAfZ5v8Anm1WLMz2dyJhbhyFYAOuRyCM/hnNAGj/AGjDxjQ7cEDr6n8qcuqQoxZdCtw2CFPpnHtz3/OgBZtWjljYLokEb7CiuvVc+nHuaw/s83/PNqAD7PN/zzaj7PN/zzb8qAD7PN/zzaj7PN/zzagA+zzf882o+zzf882oAPs83/PNqPs83/PNqAD7PN/zzaj7PN/zzagA+zzf882o+zzf882oAPs83/PNqPs83/PNqAGvG6Y3qRnpmm0AFFABRQBJAwWdGY4APJpQmT84ifgjPnupPXnp7/pQA0xfvQ6iMKAQU+0Mc+/3ak2xjI8qMqe32p+Dz32+4/KgBZUjdFESpCQpB/fs+444OSBjBq4LiLH+sFAB9oi/56CpIbu3jlDPtkUZypOM8UAWxqmm7jmxQrnOBKfX6elMj1KxQKDbI2PvZc/N+nFAD21XTmQKLJBgEA+af8KYdTsCiA2qbhtywkIzjGeMd8frQA/+1NMwB9hU/LjPmnk+vSj+1dOKqDYx8DB/eHnj6e1ADU1LTlZy1mjAklQZTwOOP5/nSpqtgikfZIyWY5Jc9Mg4HHHpmgAbU9OP3bOMHt+9OO9K2q6cRgWUYGMf60/59fzoAr3F9Zy7fJiWHGc/OTmoPtEP/PQUAH2iH/noKPtEP/PQUAH2iH/noKPtEP8Az0FAB9oh/wCego+0Q/8APQUAVbyRJNmxgcVVoAKKACigA60qIu0LLbFiFI3LIwJPPP6/pQAjQx+crJDIqBSChkJz15qZFtlJzayMvUK0h65Pf6EflQBHLGhUeTC8fB3ZctkkHGPTBpNjf3T+VAC7G/un8qkg2xzK0sJkQZyvIzxQBeW50/fltMO3OcB29fr0xUST2qqgaxLY+8Sx55P/ANagCVrmwMYX+zSMKQDuPB9etM+0WZjQNp53jZuYMRuxjP54P50AO+0aftA/s052YJ3tyfXrS/arIhQdMXgf3m9vQ+1ADEnsQzl9PLAsSo3ngccfz/OljubNEIOnklmOTuPC5HA/DIoAe95Yn7umAAnn5jnGCPWoJpbR4GSOxKSHo+48fhmgClsb+6fyo2N/dP5UAGxv7p/KjY390/lQAbG/un8qNjf3T+VABsb+6fyo2N/dP5UABBHUYpKACigAooAdGcSLmlXnAk8zgHJSbqecH+VACMo84FXmEeCCrSgknn/61TKlu24F50AQ7T5mct82M8+6/lQBE6kg7GZeDwZM9jjv64qxvX+8PzoAN6/3h+dPilhWVTKN6DOVDYzxQBdF1pW75raTbnPEvv8A4VGlzp4VA0DMf4jv+vT9KAJGutLKAC3cEA8h+9MNzpxRMwMHG3cQ+AcYz+fP50AP+06VgD7PJ93BPmd6Dd6WVUfZWGBziT6UAMS400F90EhBYlR5nQccfzqSC50vaUmhYAtncGyQPSgBj3Omsp227q3HSTjr/hSC503HNu5JHP7zoeen6UAOa601nY/Z2AzwA/tVWeW3aZjANkfZWbJoAi3r/eH50b1/vD86ADev94fnRvX+8PzoAN6/3h+dG9f7w/OgCKcg4wQahoAKKACigAoREKgSR3AYA5KSDk89iPp+VACGJfOBUXHl4OQzDOf84pzJH8+2KbtsJf69f0oASSNcfullHBzvbPOOMe2aXa3ofyoANreh/KpIPLWZTPGzxjOVBwTxx+tAF9X0nec2tzsznG7OOf8AD+dRRvYKqB7aVjj5jn3PT9KAJGk0ooAtpOGCnnd3x3/z/wDXQNpjLAGt51YFBKQeMDG7A9+aAJFl0hcZs5zgc5Pf86jL6XlD9luMBSGG/qeMH+f6UAO8zSdoJtJ8knKhuB6VHO+nGLENtMJPUnjt7n3/ADoAGfTdvy2s27Oclu2R/TP6U8PpRQk2s6vnjDZGPxoATfpe/P2a4xjpnvkf0zSTNppH7mCdcK33j1bA2/rmgB6NpJ2+Zb3AJ6nPA+X/ABpgbTMvm2n5b5cN0GP8aACNtNw5kt58lyUAPReMA/8Aj1DSaZvjK2s20H5wW6jjp+tACrJpmRutZwMjOD19vbt+tLG+lBv3ltcFTgEA847/AI0AyhceUZ2MKssf8IbrUdABRQAUUAOj/wBYv1pygniQT5weUccnnHU/SgAKnzgVNz5eDkFlJJ5x3+lT7Lby8773d83y7l9Rjv6fyoAgcMcmMyqMcb3BP3fbj736VYyMdaADI9akiaLzV87cY+chTz04/WgC6r6Ru+ZboLnsRnr/AIVGj6btQOJif4jx79OfpQA9n0goABc7gp545P500vphjTicP8u7GMdt2OfrQA7dpGB/x9Z28nj7359KDJpOFHl3HA5OR7UANRtL3PvFxjcduCOnHX9aIn0vcPNFxt3clSM4oAeW0jZgfad3rxjr9fShn0jYdoud2Dg8epx39MflQBnZHqKMj1oAMj1oyPWgAyPWjI9aADI9aMj1oAhnP3ahoAKKACigApFSNlHmC4VgpyUZcE89iPpQAhiQSrta4MeDndtznnH9KlWK1P32vBjONu3n0zmgCN0QZEQmxg4MjAnO3296XB9KADHtUkAi85fPDmPnOzr04/XFAF4DR9/IvAue23OM/wCFRx/2cFUOlwx/iII9T0/DFAEjf2SUAVLsMFPORye360w/2aY0+W5V/k34xjtux+tAD/8AiUY6XmdvPK/e/wAKCdIKqPLuwcHOCvXA/wDr0AMQaXufeLsruO3bt6cYz79f0oT+zBnfHdHk4ww6fl1xQA//AIlO1eLvI642+pqOQaZ9nOwXPnBeM42k+9AFHHtRj2oAMe1GPagAx7UY9qADHtRj2oAKKACigAooAdH/AKxfrUi5OA5uFIByUCEE8469ulACMGEy7JJzFg53IoOecf0qURxbcm5uurYAjTP+z+dAETh9g8t5CdpzvC9cdsds1PQAcVJD5PnL5xYR8529enH60AXlTSC+DLcBc9due/8AhzUIWw2Jl5Nxzu4+v/1qAJtuk7lG+fb/ABNj69P0pu3SspiSfGfmyB0x/jQA/wAvSNufPnyR0x3z9KgmXT/IJheUy8YDDj3oAqcUcUAHFHFACcUcUAHFHFABxRxQAcUcUAQz/wANQ0AFFABRQAU1QjAb3uFbHJVVIzz/APWoANkfnAebceXjk+Wuc/nUmy2IGJrsYXJ/dqcnJ46+mOaAGuIthMZuN4HRsYPB/LnH51F83OPN5TOTjhvT3HTn60AS0+ERGUCYssfOSoyenH60AXli0ktg3NwFzwdnPX/Dmo4k07CCWWbn7xVenJ/pigB4TS8nM1x0PVR17U1otNErBbmYx44OzBJ5/wDrfmaADy9N8xv9In2AcfJyTn/Dmo547NUbyZpGYEbQy4z6/wBaAKtFABRQAUUAFFABRQAUUAFFABRQAUUAOj/1i/WpEywG6SRDg5xGCM84/pQAjBhOoWaRosfMfKAOfanOCqjbLIzEHOI8BeeO3PFADyqKyYuJZFP3v3W0j+eah/eC52Fn8nB/ebBnv2/KgB0waMR+TK8zEgODHtA69/y/Op7QIzKLgsEycsF5xzjj8qANBYNKLYNzMF9dnv8AT05pkcenDZ5kkhz97A6df/rGgBzQ6YI8rcyluONn0z2+tIItN2/NNKWyOFHH8qAFMGl7ji5lAHTK9ent9aaItO+fM8pwTtwvXrjt9KAMsbzdyozMkIb5JAmSRkdvpmmz+ZGI/JkeVj9/Me0CgCzgelH4UAH4UfhQAfhR+FAB+FH4UAH4UfhQBBP/AA1DQAUUAFFABRk0AGTRQAUZNABmjJ9aADJoyaADJoyaADNGTQAZNGTQAZNGTQAZNGTQAZNGTQAZNGTQAZNGTQAUUAFFABRQB//Z/+Ex6Gh0dHA6Ly9ucy5hZG9iZS5jb20veGFwLzEuMC8APD94cGFja2V0IGJlZ2luPSfvu78nIGlkPSdXNU0wTXBDZWhpSHpyZVN6TlRjemtjOWQnPz4NCjx4OnhtcG1ldGEgeG1sbnM6eD0iYWRvYmU6bnM6bWV0YS8iPjxyZGY6UkRGIHhtbG5zOnJkZj0iaHR0cDovL3d3dy53My5vcmcvMTk5OS8wMi8yMi1yZGYtc3ludGF4LW5zIyI+PHJkZjpEZXNjcmlwdGlvbiByZGY6YWJvdXQ9InV1aWQ6ZmFmNWJkZDUtYmEzZC0xMWRhLWFkMzEtZDMzZDc1MTgyZjFiIiB4bWxuczp4bXA9Imh0dHA6Ly9ucy5hZG9iZS5jb20veGFwLzEuMC8iPjx4bXA6Q3JlYXRvclRvb2w+V2luZG93cyBQaG90byBFZGl0b3IgMTAuMC4xMDAxMS4xNjM4NDwveG1wOkNyZWF0b3JUb29sPjx4bXA6Q3JlYXRlRGF0ZT4yMDIyLTA5LTE2VDEzOjQ4OjA0LjY3MjwveG1wOkNyZWF0ZURhdGU+PC9yZGY6RGVzY3JpcHRpb24+PC9yZGY6UkRGPjwveDp4bXBtZXRhPg0KICAgICAgICAgICAgICAgICAgICAgICAgICAgICAgICAgICAgICAgICAgICAgICAgICAgICAgICAgICAgICAgICAgICAgICAgICAgICAgICAgICAgICAgICAgICAgICAgICAgIAogICAgICAgICAgICAgICAgICAgICAgICAgICAgICAgICAgICAgICAgICAgICAgICAgICAgICAgICAgICAgICAgICAgICAgICAgICAgICAgICAgICAgICAgICAgICAgICAgICAgCiAgICAgICAgICAgICAgICAgICAgICAgICAgICAgICAgICAgICAgICAgICAgICAgICAgICAgICAgICAgICAgICAgICAgICAgICAgICAgICAgICAgICAgICAgICAgICAgICAgICAKICAgICAgICAgICAgICAgICAgICAgICAgICAgICAgICAgICAgICAgICAgICAgICAgICAgICAgICAgICAgICAgICAgICAgICAgICAgICAgICAgICAgICAgICAgICAgICAgICAgIAogICAgICAgICAgICAgICAgICAgICAgICAgICAgICAgICAgICAgICAgICAgICAgICAgICAgICAgICAgICAgICAgICAgICAgICAgICAgICAgICAgICAgICAgICAgICAgICAgICAgCiAgICAgICAgICAgICAgICAgICAgICAgICAgICAgICAgICAgICAgICAgICAgICAgICAgICAgICAgICAgICAgICAgICAgICAgICAgICAgICAgICAgICAgICAgICAgICAgICAgICAKICAgICAgICAgICAgICAgICAgICAgICAgICAgICAgICAgICAgICAgICAgICAgICAgICAgICAgICAgICAgICAgICAgICAgICAgICAgICAgICAgICAgICAgICAgICAgICAgICAgIAogICAgICAgICAgICAgICAgICAgICAgICAgICAgICAgICAgICAgICAgICAgICAgICAgICAgICAgICAgICAgICAgICAgICAgICAgICAgICAgICAgICAgICAgICAgICAgICAgICAgCiAgICAgICAgICAgICAgICAgICAgICAgICAgICAgICAgICAgICAgICAgICAgICAgICAgICAgICAgICAgICAgICAgICAgICAgICAgICAgICAgICAgICAgICAgICAgICAgICAgICAKICAgICAgICAgICAgICAgICAgICAgICAgICAgICAgICAgICAgICAgICAgICAgICAgICAgICAgICAgICAgICAgICAgICAgICAgICAgICAgICAgICAgICAgICAgICAgICAgICAgIAogICAgICAgICAgICAgICAgICAgICAgICAgICAgICAgICAgICAgICAgICAgICAgICAgICAgICAgICAgICAgICAgICAgICAgICAgICAgICAgICAgICAgICAgICAgICAgICAgICAgCiAgICAgICAgICAgICAgICAgICAgICAgICAgICAgICAgICAgICAgICAgICAgICAgICAgICAgICAgICAgICAgICAgICAgICAgICAgICAgICAgICAgICAgICAgICAgICAgICAgICAKICAgICAgICAgICAgICAgICAgICAgICAgICAgICAgICAgICAgICAgICAgICAgICAgICAgICAgICAgICAgICAgICAgICAgICAgICAgICAgICAgICAgICAgICAgICAgICAgICAgIAogICAgICAgICAgICAgICAgICAgICAgICAgICAgICAgICAgICAgICAgICAgICAgICAgICAgICAgICAgICAgICAgICAgICAgICAgICAgICAgICAgICAgICAgICAgICAgICAgICAgCiAgICAgICAgICAgICAgICAgICAgICAgICAgICAgICAgICAgICAgICAgICAgICAgICAgICAgICAgICAgICAgICAgICAgICAgICAgICAgICAgICAgICAgICAgICAgICAgICAgICAKICAgICAgICAgICAgICAgICAgICAgICAgICAgICAgICAgICAgICAgICAgICAgICAgICAgICAgICAgICAgICAgICAgICAgICAgICAgICAgICAgICAgICAgICAgICAgICAgICAgIAogICAgICAgICAgICAgICAgICAgICAgICAgICAgICAgICAgICAgICAgICAgICAgICAgICAgICAgICAgICAgICAgICAgICAgICAgICAgICAgICAgICAgICAgICAgICAgICAgICAgCiAgICAgICAgICAgICAgICAgICAgICAgICAgICAgICAgICAgICAgICAgICAgICAgICAgICAgICAgICAgICAgICAgICAgICAgICAgICAgICAgICAgICAgICAgICAgICAgICAgICAKICAgICAgICAgICAgICAgICAgICAgICAgICAgICAgICAgICAgICAgICAgICAgICAgICAgICAgICAgICAgICAgICAgICAgICAgICAgICAgICAgICAgICAgICAgICAgICAgICAgIAogICAgICAgICAgICAgICAgICAgICAgICAgICAgICAgICAgICAgICAgICAgICAgICAgICAgICAgICAgICAgICAgICAgICAgICAgICAgICAgICAgICAgICAgICAgICAgICAgICAgCiAgICAgICAgICAgICAgICAgICAgICAgICAgICAgICAgICAgICAgICAgICAgICAgICAgICAgICAgICAgICAgICAgICAgICAgICAgICAgICAgICAgICAgICAgICAgICAgICAgICAKICAgICAgICAgICAgICAgICAgICAgICAgICAgICAgICAgICAgICAgICAgICAgICAgICAgICAgICAgICAgICAgICAgICAgICAgICAgICAgICAgICAgICAgICAgICAgICAgICAgIAogICAgICAgICAgICAgICAgICAgICAgICAgICAgICAgICAgICAgICAgICAgICAgICAgICAgICAgICAgICAgICAgICAgICAgICAgICAgICAgICAgICAgICAgICAgICAgICAgICAgCiAgICAgICAgICAgICAgICAgICAgICAgICAgICAgICAgICAgICAgICAgICAgICAgICAgICAgICAgICAgICAgICAgICAgICAgICAgICAgICAgICAgICAgICAgICAgICAgICAgICAKICAgICAgICAgICAgICAgICAgICAgICAgICAgICAgICAgICAgICAgICAgICAgICAgICAgICAgICAgICAgICAgICAgICAgICAgICAgICAgICAgICAgICAgICAgICAgICAgICAgIAogICAgICAgICAgICAgICAgICAgICAgICAgICAgICAgICAgICAgICAgICAgICAgICAgICAgICAgICAgICAgICAgICAgICAgICAgICAgICAgICAgICAgICAgICAgICAgICAgICAgCiAgICAgICAgICAgICAgICAgICAgICAgICAgICAgICAgICAgICAgICAgICAgICAgICAgICAgICAgICAgICAgICAgICAgICAgICAgICAgICAgICAgICAgICAgICAgICAgICAgICAKICAgICAgICAgICAgICAgICAgICAgICAgICAgICAgICAgICAgICAgICAgICAgICAgICAgICAgICAgICAgICAgICAgICAgICAgICAgICAgICAgICAgICAgICAgICAgICAgICAgIAogICAgICAgICAgICAgICAgICAgICAgICAgICAgICAgICAgICAgICAgICAgICAgICAgICAgICAgICAgICAgICAgICAgICAgICAgICAgICAgICAgICAgICAgICAgICAgICAgICAgCiAgICAgICAgICAgICAgICAgICAgICAgICAgICAgICAgICAgICAgICAgICAgICAgICAgICAgICAgICAgICAgICAgICAgICAgICAgICAgICAgICAgICAgICAgICAgICAgICAgICAKICAgICAgICAgICAgICAgICAgICAgICAgICAgICAgICAgICAgICAgICAgICAgICAgICAgICAgICAgICAgICAgICAgICAgICAgICAgICAgICAgICAgICAgICAgICAgICAgICAgIAogICAgICAgICAgICAgICAgICAgICAgICAgICAgICAgICAgICAgICAgICAgICAgICAgICAgICAgICAgICAgICAgICAgICAgICAgICAgICAgICAgICAgICAgICAgICAgICAgICAgCiAgICAgICAgICAgICAgICAgICAgICAgICAgICAgICAgICAgICAgICAgICAgICAgICAgICAgICAgICAgICAgICAgICAgICAgICAgICAgICAgICAgICAgICAgICAgICAgICAgICAKICAgICAgICAgICAgICAgICAgICAgICAgICAgICAgICAgICAgICAgICAgICAgICAgICAgICAgICAgICAgICAgICAgICAgICAgICAgICAgICAgICAgICAgICAgICAgICAgICAgIAogICAgICAgICAgICAgICAgICAgICAgICAgICAgICAgICAgICAgICAgICAgICAgICAgICAgICAgICAgICAgICAgICAgICAgICAgICAgICAgICAgICAgICAgICAgICAgICAgICAgCiAgICAgICAgICAgICAgICAgICAgICAgICAgICAgICAgICAgICAgICAgICAgICAgICAgICAgICAgICAgICAgICAgICAgICAgICAgICAgICAgICAgICAgICAgICAgICAgICAgICAKICAgICAgICAgICAgICAgICAgICAgICAgICAgICAgICAgICAgICAgICAgICAgICAgICAgICAgICAgICAgICAgICAgICAgICAgICAgICAgICAgICAgICAgICAgICAgICAgICAgIAogICAgICAgICAgICAgICAgICAgICAgICAgICAgICAgICAgICAgICAgICAgICAgICAgICAgICAgICAgICAgICAgICAgICAgICAgICAgICAgICAgICAgICAgICAgICAgICAgICAgCiAgICAgICAgICAgICAgICAgICAgICAgICAgICAgICAgICAgICAgICAgICAgICAgICAgICAgICAgICAgICAgICAgICAgICAgICAgICAgICAgICAgICAgICAgICAgICAgICAgICAKICAgICAgICAgICAgICAgICAgICAgICAgICAgICAgICAgICAgICAgICAgICAgICAgICAgICAgICAgICAgICAgICAgICAgICAgICAgICAgICAgICAgICAgICAgICAgICAgICAgIAogICAgICAgICAgICAgICAgICAgICAgICAgICAgICAgICAgICAgICAgICAgICAgICAgICAgICAgICAgICAgICAgICAgICAgICAgICAgICAgICAgICAgICAgICAgICAgICAgICAgCiAgICAgICAgICAgICAgICAgICAgICAgICAgICAgICAgICAgICAgICAgICAgICAgICAgICAgICAgICAgICAgICAgICAgICAgICAgICAgICAgICAgICAgICAgICAgICAgICAgICAKICAgICAgICAgICAgICAgICAgICAgICAgICAgICAgICAgICAgICAgICAgICAgICAgICAgICAgICAgICAgICAgICAgICAgICAgICAgICAgICAgICAgICAgICAgICAgICAgICAgIAogICAgICAgICAgICAgICAgICAgICAgICAgICAgICAgICAgICAgICAgICAgICAgICAgICAgICAgICAgICAgICAgICAgICAgICAgICAgICAgICAgICAgICAgICAgICAgICAgICAgCiAgICAgICAgICAgICAgICAgICAgICAgICAgICAgICAgICAgICAgICAgICAgICAgICAgICAgICAgICAgICAgICAgICAgICAgICAgICAgICAgICAgICAgICAgICAgICAgICAgICAKICAgICAgICAgICAgICAgICAgICAgICAgICAgICAgICAgICAgICAgICAgICAgICAgICAgICAgICAgICAgICAgICAgICAgICAgICAgICAgICAgICAgICAgICAgICAgICAgICAgIAogICAgICAgICAgICAgICAgICAgICAgICAgICAgICAgICAgICAgICAgICAgICAgICAgICAgICAgICAgICAgICAgICAgICAgICAgICAgICAgICAgICAgICAgICAgICAgICAgICAgCiAgICAgICAgICAgICAgICAgICAgICAgICAgICAgICAgICAgICAgICAgICAgICAgICAgICAgICAgICAgICAgICAgICAgICAgICAgICAgICAgICAgICAgICAgICAgICAgICAgICAKICAgICAgICAgICAgICAgICAgICAgICAgICAgICAgICAgICAgICAgICAgICAgICAgICAgICAgICAgICAgICAgICAgICAgICAgICAgICAgICAgICAgICAgICAgICAgICAgICAgIAogICAgICAgICAgICAgICAgICAgICAgICAgICAgICAgICAgICAgICAgICAgICAgICAgICAgICAgICAgICAgICAgICAgICAgICAgICAgICAgICAgICAgICAgICAgICAgICAgICAgCiAgICAgICAgICAgICAgICAgICAgICAgICAgICAgICAgICAgICAgICAgICAgICAgICAgICAgICAgICAgICAgICAgICAgICAgICAgICAgICAgICAgICAgICAgICAgICAgICAgICAKICAgICAgICAgICAgICAgICAgICAgICAgICAgICAgICAgICAgICAgICAgICAgICAgICAgICAgICAgICAgICAgICAgICAgICAgICAgICAgICAgICAgICAgICAgICAgICAgICAgIAogICAgICAgICAgICAgICAgICAgICAgICAgICAgICAgICAgICAgICAgICAgICAgICAgICAgICAgICAgICAgICAgICAgICAgICAgICAgICAgICAgICAgICAgICAgICAgICAgICAgCiAgICAgICAgICAgICAgICAgICAgICAgICAgICAgICAgICAgICAgICAgICAgICAgICAgICAgICAgICAgICAgICAgICAgICAgICAgICAgICAgICAgICAgICAgICAgICAgICAgICAKICAgICAgICAgICAgICAgICAgICAgICAgICAgICAgICAgICAgICAgICAgICAgICAgICAgICAgICAgICAgICAgICAgICAgICAgICAgICAgICAgICAgICAgICAgICAgICAgICAgIAogICAgICAgICAgICAgICAgICAgICAgICAgICAgICAgICAgICAgICAgICAgICAgICAgICAgICAgICAgICAgICAgICAgICAgICAgICAgICAgICAgICAgICAgICAgICAgICAgICAgCiAgICAgICAgICAgICAgICAgICAgICAgICAgICAgICAgICAgICAgICAgICAgICAgICAgICAgICAgICAgICAgICAgICAgICAgICAgICAgICAgICAgICAgICAgICAgICAgICAgICAKICAgICAgICAgICAgICAgICAgICAgICAgICAgICAgICAgICAgICAgICAgICAgICAgICAgICAgICAgICAgICAgICAgICAgICAgICAgICAgICAgICAgICAgICAgICAgICAgICAgIAogICAgICAgICAgICAgICAgICAgICAgICAgICAgICAgICAgICAgICAgICAgICAgICAgICAgICAgICAgICAgICAgICAgICAgICAgICAgICAgICAgICAgICAgICAgICAgICAgICAgCiAgICAgICAgICAgICAgICAgICAgICAgICAgICAgICAgICAgICAgICAgICAgICAgICAgICAgICAgICAgICAgICAgICAgICAgICAgICAgICAgICAgICAgICAgICAgICAgICAgICAKICAgICAgICAgICAgICAgICAgICAgICAgICAgICAgICAgICAgICAgICAgICAgICAgICAgICAgICAgICAgICAgICAgICAgICAgICAgICAgICAgICAgICAgICAgICAgICAgICAgIAogICAgICAgICAgICAgICAgICAgICAgICAgICAgICAgICAgICAgICAgICAgICAgICAgICAgICAgICAgICAgICAgICAgICAgICAgICAgICAgICAgICAgICAgICAgICAgICAgICAgCiAgICAgICAgICAgICAgICAgICAgICAgICAgICAgICAgICAgICAgICAgICAgICAgICAgICAgICAgICAgICAgICAgICAgICAgICAgICAgICAgICAgICAgICAgICAgICAgICAgICAKICAgICAgICAgICAgICAgICAgICAgICAgICAgICAgICAgICAgICAgICAgICAgICAgICAgICAgICAgICAgICAgICAgICAgICAgICAgICAgICAgICAgICAgICAgICAgICAgICAgIAogICAgICAgICAgICAgICAgICAgICAgICAgICAgICAgICAgICAgICAgICAgICAgICAgICAgICAgICAgICAgICAgICAgICAgICAgICAgICAgICAgICAgICAgICAgICAgICAgICAgCiAgICAgICAgICAgICAgICAgICAgICAgICAgICAgICAgICAgICAgICAgICAgICAgICAgICAgICAgICAgICAgICAgICAgICAgICAgICAgICAgICAgICAgICAgICAgICAgICAgICAKICAgICAgICAgICAgICAgICAgICAgICAgICAgICAgICAgICAgICAgICAgICAgICAgICAgICAgICAgICAgICAgICAgICAgICAgICAgICAgICAgICAgICAgICAgICAgICAgICAgIAogICAgICAgICAgICAgICAgICAgICAgICAgICAgICAgICAgICAgICAgICAgICAgICAgICAgICAgICAgICAgICAgICAgICAgICAgICAgICAgICAgICAgICAgICAgICAgICAgICAgCiAgICAgICAgICAgICAgICAgICAgICAgICAgICAgICAgICAgICAgICAgICAgICAgICAgICAgICAgICAgICAgICAgICAgICAgICAgICAgICAgICAgICAgICAgICAgICAgICAgICAKICAgICAgICAgICAgICAgICAgICAgICAgICAgICAgICAgICAgICAgICAgICAgICAgICAgICAgICAgICAgICAgICAgICAgICAgICAgICAgICAgICAgICAgICAgICAgICAgICAgIAogICAgICAgICAgICAgICAgICAgICAgICAgICAgICAgICAgICAgICAgICAgICAgICAgICAgICAgICAgICAgICAgICAgICAgICAgICAgICAgICAgICAgICAgICAgICAgICAgICAgCiAgICAgICAgICAgICAgICAgICAgICAgICAgICAgICAgICAgICAgICAgICAgICAgICAgICAgICAgICAgICAgICAgICAgICAgICAgICAgICAgICAgICAgICAgICAgICAgICAgICAKICAgICAgICAgICAgICAgICAgICAgICAgICAgICAgICAgICAgICAgICAgICAgICAgICAgICAgICAgICAgICAgICAgICAgICAgICAgICAgICAgICAgICAgICAgICAgICAgICAgIAogICAgICAgICAgICAgICAgICAgICAgICAgICAgICAgICAgICAgICAgICAgICAgICAgICAgICAgICAgICAgICAgICAgICAgICAgICAgICAgICAgICAgICAgICAgICAgICAgICAgCiAgICAgICAgICAgICAgICAgICAgICAgICAgICAgICAgICAgICAgICAgICAgICAgICAgICAgICAgICAgICAgICAgICAgICAgICAgICAgICAgICAgICAgICAgICAgICAgICAgICAKICAgICAgICAgICAgICAgICAgICAgICAgICAgICAgICAgICAgICAgICAgICAgICAgICAgICAgICAgICAgICAgICAgICAgICAgICAgICAgICAgICAgICAgICAgICAgICAgICAgIAogICAgICAgICAgICAgICAgICAgICAgICAgICAgICAgICAgICAgICAgICAgICAgICAgICAgICAgICAgICAgICAgICAgICAgICAgICAgICAgICAgICAgICAgICAgICAgICAgICAgCiAgICAgICAgICAgICAgICAgICAgICAgICAgICAgICAgICAgICAgICAgICAgICAgICAgICAgICAgICAgICAgICAgICAgICAgICAgICAgICAgICAgICAgICAgICAgICAgICAgICAKICAgICAgICAgICAgICAgICAgICAgICAgICAgICAgICAgICAgICAgICAgICAgICAgICAgICAgICAgICAgICAgICAgICAgICAgICAgICAgICAgICAgICAgICAgICAgICAgICAgIAogICAgICAgICAgICAgICAgICAgICAgICAgICAgICAgICAgICAgICAgICAgICAgICAgICAgICAgICAgICAgICAgICAgICAgICAgICAgICAgICAgICAgICAgICAgICAgICAgICAgCiAgICAgICAgICAgICAgICAgICAgICAgICAgICAgICAgICAgICAgICAgICAgICAgICAgICAgICAgICAgICAgICAgICAgICAgICAgICAgICAgICAgICAgICAgICAgICAgICAgICAKICAgICAgICAgICAgICAgICAgICAgICAgICAgICAgICAgICAgICAgICAgICAgICAgICAgICAgICAgICAgICAgICAgICAgICAgICAgICAgICAgICAgICAgICAgICAgICAgICAgIAogICAgICAgICAgICAgICAgICAgICAgICAgICAgICAgICAgICAgICAgICAgICAgICAgICAgICAgICAgICAgICAgICAgICAgICAgICAgICAgICAgICAgICAgICAgICAgICAgICAgCiAgICAgICAgICAgICAgICAgICAgICAgICAgICAgICAgICAgICAgICAgICAgICAgICAgICAgICAgICAgICAgICAgICAgICAgICAgICAgICAgICAgICAgICAgICAgICAgICAgICAKICAgICAgICAgICAgICAgICAgICAgICAgICAgICAgICAgICAgICAgICAgICAgICAgICAgICAgICAgICAgICAgICAgICAgICAgICAgICAgICAgICAgICAgICAgICAgICAgICAgIAogICAgICAgICAgICAgICAgICAgICAgICAgICAgICAgICAgICAgICAgICAgICAgICAgICAgICAgICAgICAgICAgICAgICAgICAgICAgICAgICAgICAgICAgICAgICAgICAgICAgCiAgICAgICAgICAgICAgICAgICAgICAgICAgICAgICAgICAgICAgICAgICAgICAgICAgICAgICAgICAgICAgICAgICAgICAgICAgICAgICAgICAgICAgICAgICAgICAgICAgICAKICAgICAgICAgICAgICAgICAgICAgICAgICAgICAgICAgICAgICAgICAgICAgICAgICAgICAgICAgICAgICAgICAgICAgICAgICAgICAgICAgICAgICAgICAgICAgICAgICAgIAogICAgICAgICAgICAgICAgICAgICAgICAgICAgICAgICAgICAgICAgICAgICAgICAgICAgICAgICAgICAgICAgICAgICAgICAgICAgICAgICAgICAgICAgICAgICAgICAgICAgCiAgICAgICAgICAgICAgICAgICAgICAgICAgICAgICAgICAgICAgICAgICAgICAgICAgICAgICAgICAgICAgICAgICAgICAgICAgICAgICAgICAgICAgICAgICAgICAgICAgICAKICAgICAgICAgICAgICAgICAgICAgICAgICAgICAgICAgICAgICAgICAgICAgICAgICAgICAgICAgICAgICAgICAgICAgICAgICAgICAgICAgICAgICAgICAgICAgICAgICAgIAogICAgICAgICAgICAgICAgICAgICAgICAgICAgICAgICAgICAgICAgICAgICAgICAgICAgICAgICAgICAgICAgICAgICAgICAgICAgICAgICAgICAgICAgICAgICAgICAgICAgCiAgICAgICAgICAgICAgICAgICAgICAgICAgICAgICAgICAgICAgICAgICAgICAgICAgICAgICAgICAgICAgICAgICAgICAgICAgICAgICAgICAgICAgICAgICAgICAgICAgICAKICAgICAgICAgICAgICAgICAgICAgICAgICAgICAgICAgICAgICAgICAgICAgICAgICAgICAgICAgICAgICAgICAgICAgICAgICAgICAgICAgICAgICAgICAgICAgICAgICAgIAogICAgICAgICAgICAgICAgICAgICAgICAgICAgICAgICAgICAgICAgICAgICAgICAgICAgICAgICAgICAgICAgICAgICAgICAgICAgICAgICAgICAgICAgICAgICAgICAgICAgCiAgICAgICAgICAgICAgICAgICAgICAgICAgICAgICAgICAgICAgICAgICAgICAgICAgICAgICAgICAgICAgICAgICAgICAgICAgICAgICAgICAgICAgICAgICAgICAgICAgICAKICAgICAgICAgICAgICAgICAgICAgICAgICAgICAgICAgICAgICAgICAgICAgICAgICAgICAgICAgICAgICAgICAgICAgICAgICAgICAgICAgICAgICAgICAgICAgICAgICAgIAogICAgICAgICAgICAgICAgICAgICAgICAgICAgICAgICAgICAgICAgICAgICAgICAgICAgICAgICAgICAgICAgICAgICAgICAgICAgICAgICAgICAgICAgICAgICAgICAgICAgCiAgICAgICAgICAgICAgICAgICAgICAgICAgICAgICAgICAgICAgICAgICAgICAgICAgICAgICAgICAgICAgICAgICAgICAgICAgICAgICAgICAgICAgICAgICAgICAgICAgICAKICAgICAgICAgICAgICAgICAgICAgICAgICAgICAgICAgICAgICAgICAgICAgICAgICAgICAgICAgICAgICAgICAgICAgICAgICAgICAgICAgICAgICAgICAgICAgICAgICAgIAogICAgICAgICAgICAgICAgICAgICAgICAgICAgICAgICAgICAgICAgICAgICAgICAgICAgICAgICAgICAgICAgICAgICAgICAgICAgICAgICAgICAgICAgICAgICAgICAgICAgCiAgICAgICAgICAgICAgICAgICAgICAgICAgICAgICAgICAgICAgICAgICAgICAgICAgICAgICAgICAgICAgICAgICAgICAgICAgICAgICAgICAgICAgICAgICAgICAgICAgICAKICAgICAgICAgICAgICAgICAgICAgICAgICAgICAgICAgICAgICAgICAgICAgICAgICAgICAgICAgICAgICAgICAgICAgICAgICAgICAgICAgICAgICAgICAgICAgICAgICAgIAogICAgICAgICAgICAgICAgICAgICAgICAgICAgICAgICAgICAgICAgICAgICAgICAgICAgICAgICAgICAgICAgICAgICAgICAgICAgICAgICAgICAgICAgICAgICAgICAgICAgCiAgICAgICAgICAgICAgICAgICAgICAgICAgICAgICAgICAgICAgICAgICAgICAgICAgICAgICAgICAgICAgICAgICAgICAgICAgICAgICAgICAgICAgICAgICAgICAgICAgICAKICAgICAgICAgICAgICAgICAgICAgICAgICAgICAgICAgICAgICAgICAgICAgICAgICAgICAgICAgICAgICAgICAgICAgICAgICAgICAgICAgICAgICAgICAgICAgICAgICAgIAogICAgICAgICAgICAgICAgICAgICAgICAgICAgICAgICAgICAgICAgICAgICAgICAgICAgICAgICAgICAgICAgICAgICAgICAgICAgICAgICAgICAgICAgICAgICAgICAgICAgCiAgICAgICAgICAgICAgICAgICAgICAgICAgICAgICAgICAgICAgICAgICAgICAgICAgICAgICAgICAgICAgICAgICAgICAgICAgICAgICAgICAgICAgICAgICAgICAgICAgICAKICAgICAgICAgICAgICAgICAgICAgICAgICAgICAgICAgICAgICAgICAgICAgICAgICAgICAgICAgICAgICAgICAgICAgICAgICAgICAgICAgICAgICAgICAgICAgICAgICAgIAogICAgICAgICAgICAgICAgICAgICAgICAgICAgICAgICAgICAgICAgICAgICAgICAgICAgICAgICAgICAgICAgICAgICAgICAgICAgICAgICAgICAgICAgICAgICAgICAgICAgCiAgICAgICAgICAgICAgICAgICAgICAgICAgICAgICAgICAgICAgICAgICAgICAgICAgICAgICAgICAgICAgICAgICAgICAgICAgICAgICAgICAgICAgICAgICAgICAgICAgICAKICAgICAgICAgICAgICAgICAgICAgICAgICAgICAgICAgICAgICAgICAgICAgICAgICAgICAgICAgICAgICAgICAgICAgICAgICAgICAgICAgICAgICAgICAgICAgICAgICAgIAogICAgICAgICAgICAgICAgICAgICAgICAgICAgICAgICAgICAgICAgICAgICAgICAgICAgICAgICAgICAgICAgICAgICAgICAgICAgICAgICAgICAgICAgICAgICAgICAgICAgCiAgICAgICAgICAgICAgICAgICAgICAgICAgICAgICAgICAgICAgICAgICAgICAgICAgICAgICAgICAgICAgICAgICAgICAgICAgICAgICAgICAgICAgICAgICAgICAgICAgICAKICAgICAgICAgICAgICAgICAgICAgICAgICAgICAgICAgICAgICAgICAgICAgICAgICAgICAgICAgICAgICAgICAgICAgICAgICAgICAgICAgICAgICAgICAgICAgICAgICAgIAogICAgICAgICAgICAgICAgICAgICAgICAgICAgICAgICAgICAgICAgICAgICAgICAgICAgICAgICAgICAgICAgICAgICAgICAgICAgICAgICAgICAgICAgICAgICAgICAgICAgCiAgICAgICAgICAgICAgICAgICAgICAgICAgICAgICAgICAgICAgICAgICAgICAgICAgICAgICAgICAgICAgICAgICAgICAgICAgICAgICAgICAgICAgICAgICAgICAgICAgICAKICAgICAgICAgICAgICAgICAgICAgICAgICAgICAgICAgICAgICAgICAgICAgICAgICAgICAgICAgICAgICAgICAgICAgICAgICAgICAgICAgICAgICAgICAgICAgICAgICAgIAogICAgICAgICAgICAgICAgICAgICAgICAgICAgICAgICAgICAgICAgICAgICAgICAgICAgICAgICAgICAgICAgICAgICAgICAgICAgICAgICAgICAgICAgICAgICAgICAgICAgCiAgICAgICAgICAgICAgICAgICAgICAgICAgICAgICAgICAgICAgICAgICAgICAgICAgICAgICAgICAgICAgICAgICAgICAgICAgICAgICAgICAgICAgICAgICAgICAgICAgICAKICAgICAgICAgICAgICAgICAgICAgICAgICAgICAgICAgICAgICAgICAgICAgICAgICAgICAgICAgICAgICAgICAgICAgICAgICAgICAgICAgICAgICAgICAgICAgICAgICAgIAogICAgICAgICAgICAgICAgICAgICAgICAgICAgICAgICAgICAgICAgICAgICAgICAgICAgICAgICAgICAgICAgICAgPD94cGFja2V0IGVuZD0ndyc/Pv/bAEMAAwICAwICAwMDAwQDAwQFCAUFBAQFCgcHBggMCgwMCwoLCw0OEhANDhEOCwsQFhARExQVFRUMDxcYFhQYEhQVFP/bAEMBAwQEBQQFCQUFCRQNCw0UFBQUFBQUFBQUFBQUFBQUFBQUFBQUFBQUFBQUFBQUFBQUFBQUFBQUFBQUFBQUFBQUFP/AABEIAQcCnwMBIgACEQEDEQH/xAAfAAABBQEBAQEBAQAAAAAAAAAAAQIDBAUGBwgJCgv/xAC1EAACAQMDAgQDBQUEBAAAAX0BAgMABBEFEiExQQYTUWEHInEUMoGRoQgjQrHBFVLR8CQzYnKCCQoWFxgZGiUmJygpKjQ1Njc4OTpDREVGR0hJSlNUVVZXWFlaY2RlZmdoaWpzdHV2d3h5eoOEhYaHiImKkpOUlZaXmJmaoqOkpaanqKmqsrO0tba3uLm6wsPExcbHyMnK0tPU1dbX2Nna4eLj5OXm5+jp6vHy8/T19vf4+fr/xAAfAQADAQEBAQEBAQEBAAAAAAAAAQIDBAUGBwgJCgv/xAC1EQACAQIEBAMEBwUEBAABAncAAQIDEQQFITEGEkFRB2FxEyIygQgUQpGhscEJIzNS8BVictEKFiQ04SXxFxgZGiYnKCkqNTY3ODk6Q0RFRkdISUpTVFVWV1hZWmNkZWZnaGlqc3R1dnd4eXqCg4SFhoeIiYqSk5SVlpeYmZqio6Slpqeoqaqys7S1tre4ubrCw8TFxsfIycrS09TV1tfY2dri4+Tl5ufo6ery8/T19vf4+fr/2gAMAwEAAhEDEQA/APj+iippLO4itYrl7eVLaVmSOZoyEdhjIBxg43CgCGigAsMgE/hR6e/SgAooHzZwCcegzUq2s0lvJOkMjwRlVkmVSUQsCQCw4BODweaAIqKMHg4ODnnHHFIzBevckD1OPSgBaKVlKtggg5xjHvimswjXc52D/a4oAWigfNyORnBI5FA5zjnHXFABRSZGAcjHr2pcH0x9eKACig8ZzxjqT0H1NH+GaACil2n0PTJ46fWm7gP8e1AC0Vag0u7urO6uoreSS2tdvnyqp2x7iQu49skHFVMjBOenX24z/Kl1sGotFDfKcN8vGfm44xnNHOCcHHrj3xTAKKAC3IBZefmUZHHvS4J6DI9RyPzoASilVS33Ru7fLzT5LeWO3iuGikWCUsscmw7XIALBT3xkZx0oD1I6KRSJF3Kd465Xntn+lKOenPJH0I7UAFFNMiquSwC8/NnjgZPP4U4fMrMPmVeSRzQAUUuMkgFTjrgg98Z+nHWmLIrqGVgQen4AEj68jj3FADqKVlK5yMbfvZ7devp0puc5xzwCce9AxaKtabpd3q90Layt5LmfBOyNcnAGSfoPXpUdzZXNnII7i3mt3K7wssZU7cZDcjoR3oEQ0UY+YDv/AJ6+lGDgHBAPAyOvsKACimu6x5DHB9O5+nrTlw33SG4zwQeKACigctjoc4weKOmAeCeg70AFFBG3OexA/EnAo6cHg4zjv0zQAUUHjuPzpdp6YOeeMc8e1ACUVVvtSt9Px58oj4J5zxgkHPpyO9Vv+EisNpb7QpUZOQCc4GTjjn8KANOis0+IbFc5uFHOOh6+lJ/wkViOs6jjPII4/L2oA06KXSI5deW8NhDJdfY4vOnWNCWSMHBbHXGe4oVS2dvzf7vNHUBKKvDQdSazgul0+6e3nWRopEhZg6oMuRgche/pVLacZAJU8BlGQceh7/hSv2ASipLW2mvUne2ikuUgXfK0KlxGucEsR90ZI6+oqM/LgsdoOcFuBwcdfwp+oBRRxkjIBUZIzyPrSbhzk4wcHPGP85pALRRkZAzyTgUDLdAT9AT3xTAKKPT3GRSqjM20IxPspx1I6/gaAEoo527trYxnoff/AANJvUlgGViuchTnGP8A9RoAWikzj6noO56dPXrV1tHvo9Nj1BrSZbGSUwpcFCEZx1UHv+FAFOimtIq43MFB6EnHtU9xazWrRieGSAyoJIxIhUupzgjPUcdqAIqKDwSD1HUd6VVLHCgtzjgZoASihfmxt+bnHy8nOcY/z6E1ZbTbpNPivmt5BZyytDHNtO1nUAlQe5AI/OjUNCtRS7W6bT+VJ6d88DHPXH+NABRR0OO/pVS81S2sGKzyiNsbtpBzjn/A0AW6KzT4gsVYgzrwcZwcfn+IpP8AhIrHBPnjgZPB46HnjjqKANOis3/hILH/AJ7gdMZB7/hR/wAJBZcfvupwMq3+HvQBpUVmr4gsW/5b9s/db8+lX4ZkuIlkibejdGFAD6KKKAFDFeQQPr+dem+LP+TfvAQBAP8AamqR8tntCMH074rzHG7jpnjNdd4d+LnjLwro66VpOvzWOno7SLCsaSbGb7xG5TnovFAHfeD/AAj4cZvAGjX3hptVfxbC811q0kjK9qWmkjCwhePkCBjuxxWjonw38NyeHBpcGlR6t4geC9mm+3yyWt3P5bkJLaSY8l1CpkruznHevLrP4seMdPsb20tNfu7S3u3klkiiZQNzklivy/JkknC8c1Dp3xM8V6R4ffRLHX7210pgy/ZllBKq33lVypKA8khTzmgDZ+EOlaHfTa3ea/b+YtnZBrWW/hneyhmZ1G64MKl043DOMZIr05fhjZyW/ibRpLWbQLO41vRYUjjv2uIFjmV90kbBuQe2eRwDXhHhnxbrPgy+e70LUZNMmZfLcx8pIvo6HIf157gVavvH2v6tJeHUNWvL2O+uIbq7SWUZmeE5jIbb+7xzgKMCrQHrUfh3wrr19e2sXg+PRE0rxho2i/aVnld7i1muHSQSbiV34TcSP731rn/A/wANdP8AELCyv7aez8/xrb6KJBuVhamG5doxxnkxKMj14qTx98dB4k8JppOny69JO97b3z3mr3kTvbvCG8tYRGgzy5JZjn5R61xmvfFfxh4otreDU/EN5dQ29wt3FHuEeyZFZUlyozuAY8+5puWli00eq2Ph/wCG3iDxZo1jbW1u08d9fQ3em2MF/Ck9rHaTyJukmiQCRXRQcHnccZq78IZtDuvF3w11/TvC1jpv9pz6tY3FozzTpiCOPY65kX5iHxycfMe+K8d1L4qeLtYuLKe81+4nlsw6wswUBN8flucAfNld3J5596ytL8Wazov9kmw1Ge0bSpZLmyZCAYJJFQOffOwcVki7xseyeGfDfge18L6N4h8Uw2UJ1/VLmGWBoL6b7LEkhUJAsKOQ/IbEhHCnGRUek+C/CF14VjstO0qPWNTltby726o9zZXtxGpdoZbZnURkBUbKMQ3AyM4B82074teL9JfUHstfu7UX7tJcrGqEM5HLKCMLz1xUGn/E3xXpWgy6Pa6/ew6dIHBhWQHZv++EYqWUHnIBxzTMvQ1fhnomn3Hhzxd4l1Sx/tl9B0+KaDT53dI5XkIUvLtIO1Q2T7gV1V9o3h7RfDuteMx4LvJZI3soYtF1J5Vt4WlikeSdSp3tG3lKq54zIPTjy/w14q1fwbqAvtD1CbTLoKVMkOPmU4+VlIIYcc5rUsfil4t03W7rWLfXroajdKEuJmIbzVHRSpBUqO3AxQI9i8ReBfCPw/8AD3ijxB/wj8erPbyaZPaafqFxIotBcxu0kbbGywXbxk+lN8ZeA/B7ah468PaZ4a+wy6No8Oq2d99qkabzGeINGQ5ZdmJTjvwOeteI33jXXtTs9Utr3V7q6g1OaO5vFlYO08iAhGYnptDEADjBNOuvHniK6u9Tu5dVne61K1+x3ciYXzIht2rntgov5UAe0eJPhh4ai8J+JrdNOtdN1rw+LCQpayXDzoZWUOszsvkvkNx5bNjimeLvBvhHVdQ8c6Jp2gQ6C3h/V7K0h1GO6lZnjnnWGQyKSV5EmRgcYry/UvjB401fSZNKvPEl1cafKipJHIFO4I2U7ckYHJNY154w1rUG1lptRmY6u6S33RfOZGDpyOmGVfyp6dTOSfQ95ttL0PUNL+IPhSy8NL4etIdb0vSmvhPI0txGbvZvcMME4O4FT0zXP3Xgzw74ptfF9tB4aufDz+GtTtraOW1klee8hM3lPG6sSrSHBYbe2ea861b4teMdc0d9Kv8AxHfXentszC5VSxQ7kJYDOQeQevHvUOtfE3xX4jtba21TX729htXWWFN4T5lOVJZQCWHOG5PJ9ahL320aJu1jvPi94R0C18MNqnhvSLWLTrfVWsRe2U0qugwcR3VvKoYS5BIZQVwDzzWp4X8OeFI9A+FsF74PXWrvxXNJb3t/HPIssebkxhowBtBUEtz2Vq8s8S/EfxP4yt4YNd1u71SKBt0cczKFLc4ZtqjeRn7x56109x8btasvAPhrw5oOo32kf2db3EF3JGyfvvMkJyhxleCfQ81QHaWvgX4e+EdE0CHxHPa3LavBdyzX3k301wmyaWNDCIImj+UIMhiOoNZnhTR/ClxqXw10K98Lx3UuqaLLq+pXxupBLOUhvSIwowFGYEyRXm+j/ErxR4f0WfSNP1q7ttMnLFrZGUj5hhsFh8u7vg9TVC38Uava3unXUOoSR3OnWpsrSRgCYoWEgKg9xiaT86roNaPU9d0WfwTqmmeBL+XwJZpL4i1eXSp4lvpzCkMUkKh1GQRJ+9zn2Ndn4D0e08I614Gtfs8epR/2pr1h5V60jxhYguwqocYbA2k55zXzVb+ItRtYdLigu5YodMne6so8A+RIxQsfxKKfwrSHxE8SreWVyNYnWWyupb23kQANFNIR5jjsd3ofeso3HUtJaHrHh3wx4Ds/B3hrWvFEVnF/wkl5dC4UQ38zWcaSFdlsIVcBxkHEhBIBxmtPw74J8FXM/gLQv7FXUX8R6feyTazPPNFMvlvceWyoD1wgBBwea8e034seL9HW/Wy8QXlsl9I0s6RhNpYjkoCPkzk5x61St/HviG2udJuE1e4MulxPFZs2GMSuWLjpzkua0M47HefAG+j03UPGsT6ZZak0fh+8ZWvBJvBQgBRtfp0J78CtmPwv8PtD8J+Hk1yS3N5rmjyai15HFfz3EMzhjGITHG8ZUNgEM2QDXkPh3xXrHhLVP7T0bUJLC/KuhmjAJ2sCGBBGCDnoa0LP4meKtP0GbR7bXruLTZlZGt8qQFY/MoO3Kqcnhanrco9J1LwfoH/CvbiSy0G0vtU03Sbe+vo7mWeG/imBUyytHIAktuxYAeUSRu4PY9BrWh6B4u+IXi3VtY07TdPtND8Oadcx2e26aG4eS1gAeTyy8jqhdgSq91yOK8VufiZ4qvPDKeH7jXbybR1RYzatICSinIQybd20dhnHNPh+J3iq31LT9Ri124S+063FnbyJgfuFCgI3HzjCj7390VRV9LHpdvoPgq51DWvEWl2FpeaDa6fZvPNex30djbXkrsHjSMRrcS5VcghWXrnpWh448E+Evh3H4/uk8PrrcdjdabHYRT3Uii3+0wSuxHGSAVGA3I715Ta/FrxjZ6xd6nF4ivVv7qMRTzEowdQcqAu3AwfaqWufEHxJ4m+2/wBravPqP2545blpcZkkjVlQnA7BiPxpGbudR4DhXS/hT8Q9agH/ABMo0s7BZUypigml/eBW7AhNufevTdY8C+GrPS73xJrLwzJpug6MscGpi4li3zQZLsIUaQqNm0cYycntXhvg/wAVp4dj1ayvIXvdH1a1Nrd2qthiAQyOp6ZDD+dTWPxR8WaXqkeo2eu3EF8ttHZecApBt4wFjR0IIbAA/HFA0L8SrTw/a+LLw+FXlk0FhG8RmjmiCOyAuoEqK20HGCR0r0/wl4I8J61bfDPRLrRo4bvXrWW/v9XaeTzGEM8vyKq9iEHTmvMNY+I2ra74Xk0i9kFzJcaidTub24y8sjmMIqdcKqjdwB3FY58Sao39lH7fcRPpS7LCSNtrWw3l8qR7sfwzQgd+h798O7vwTH8SPCc2iWGl3N+897b3lrFbX4tVjWBmRgZxHmXIZSASOScdDXNaD4f8Pw6f4Je/8M2+tzeMNQmS5k82b/QUE4jEcShvvANu+Y9FNcBffFjxhqesaZq1z4ivH1LTnL2twu1TA3dlAUBs+/qaZpfxS8YaHHfRWHiC7s0vppLi48kqf3jcl0yv7sk/3fU0ra3LTPWrfwL4R0WLwXok2jRaxc61r1zps2qNdyFxDDcogVAG25IbGc8c0j/D7w540E66R4YWzlsPFv8AYq2tteN/pdu3mt+8Zz8pHldu2a8Wt/GWt2qaSsWp3CjSZmuLENhvIkLBmYHuWYZNPtfHXiGx3/Z9VuIjJfDUnaMhGNwN2JAR0I3t+ZqY3tqJnv2l/C/wX4g1TwbfJY2T2l1rF/pl1Z6YbqO3lSOB5EBMyoxZSi5Zcjk4rzTx9pOhXnw10LxPpejxaJcSandafLFbyvIkixLHskO49cH9TWLe/GnxxqE1pLdeJLq5kspTNb70TCSGMxlhgDGVZh75rmbjxBqV1o8GlSXkjadBM9xDAyj5JHADN/46Kt6iPRdB8D2F54p8AwvYPJZal4Wn1C7bB2NMsd9ubd0HzRRfTIrq9K8E+EdQsPD3h/8A4RyEXer+Dn1eXVmncypcLDI6lR0x8mPxFeV6T8VvF+haKukWHiC7ttNVZIlt12kBH3b1DEZCne3y+9UIPHGv291aXUeqTLc2lmdOgfAPlwFSpX6YY1nPml8JaaMzwNa2+p/GHwTBewx3NrNqduJo50DKwMiE5HQ9e9dXJ8EvDHiy9utV0PVtSh0K0vtVg1BZ4EE221TzWa2CkjB3kAHnC159Jb31vq1hqOnXrWd3ZOJIZ14dXGMMPxArVvvGHjrU9dsdYuPFdy+pWJJt7hcRiMsAHwqrhtwGDuHOatbEvc3pvg7oC+Hz44Op6o/g1dIbVTaCNG1Hd9oMLRjDBMbud2cfL7itPwh4VsvBPxY1LwsTY61ouo+HbnUkfUrKGSUA2M0sfJB2MGUD6muNTxh46TxEdfHiu4OsPEIGuGVdvljH7vytuzZkbtuOuD2qxovjzx/4b1fUdU03xdcQajqRBurp44pnkABXGHjIUEEjavGD1pjViX9ly5aH4xeHoIwTb3tzFZXUX3VlhlYJIpA7YZvyBrrPA3hHSbz4g61aXts2qabotnfXy2MbkNcGBSyJ8vY/L/3zXK/D3xHceDfFt/4pvC2pa7JG7Wsi7Y44rh8jzWAA4AZuAOuKraPrepaDqMOpafqFxaajEdy3ET/MGxhj05DDPB9eaatdCPpXw81l4n8LeBpLfSV8PQNpPiBxZWNzJsRlQsNucHnPIPpXIXfgfwzL8O520zQIdQ1Sw0aHUb1byWW31JG3Bnk2PiOWAAgYjbPzLzkYPnmpfF7xnrF9Dc3fiG6mmijngjdlXCRzA+YoAA4IJH5VUl+Jniq48Nf8I/Jrt4+j+X5P2VpBzHjaEL7d2Mds46VnFctyHc928ZLbeIPEHivzNPt7AweCLCZWs5JUWVma3B3Et8ygMwA/PtWV4y8M+EbGf4h2WmeGbezm8Kw2l5bXTXMrNOzvGGWRdwG0+YTx6CvHrj4k+KJ7EWr65ctEtl/Z4AC7hbgqyx5xyAUU8+lV7zxxr19cazLPqk8r6uixXxyB56KcqDxwBtU/gK0eoRVke5fEWw07Vviz4uvbzQ9HttO0bSLWZXuXuY7RC6xgNIkZaSTJLKAink5OMVQufBfg3QfGWueZZW62kmn6Xdae2oreDToZLlC7o7KPMQsq/LvA615dB8XvGdpqcd/D4huluo7YWYkwh3wjGEcEENjAxn0qO1+K/jG11i51aPxDdnUbiGO2lmkKv5scYxGHQqVbaOmelSrLQo6BvAdrcfH6Dwnc2E2kWM2pxWz2YufPMcTjdtSXOSrDpz3rT8P6RoXxA1TREtfAc+k/8TKaCRFuJUtZoEgeTbK7H5ZFEe4gdRuA54rzC81vUNQ1p9Vn1C5fU5JfNN80h84Pxhw3YrgEYHGK3NQ+K3i/WNQ07UbzxDete2Db7aRSq+SSMM2FGGYqSCWHSmB63pngbwVqmueDtQbTbG80zUrDWpbu0017mC2ma0VTHs85FkB+bnAweai+Hfg3wl40Ph9dS8PaXpUXiee7SGPzrqWcohK5g2IVjAYYJlKg9uteW3nxe8Z6teQXV54hunuIEnjhfan7qOYBZUAAAwQoyKj8N/Fjxh4P0mLTtF1+702xhczR28bKQjHLELlcgbicjODS6gdZoen+HrXw/wCDLO58HXOuz+ItJbUbnUInk+0Ru0kqJHCq4UhFiXcGI+/Xf3mi6T44vvh3Z6vpdnZ6fa+FLjVJPKScPM0TSkRkKWLLwpYKpbivDNL+I/ijQ9Cl0bTtdvLPTZAw+zxOAEDA7ghxlQST0Pc0lt8RPE1lZ6TaW+t3VvbaS26xjiIH2fP3lVsEkEFs567qrZ6C63PULGz+Hl7f3etWmn22rwWvh28v7zTLFb22tPtCXMKxvG80aMRskbcBkZxnnFaFlofhq+0vwRf6np80OkPpWpX/ANkT7RPZwyicJG0ojJfygDyy4IJXnGa8f1r4ieJvEF5Ndajq895cz2jWEjMFCmBirFNoAABYDPrtFJpvxC8S6LJpr2Gs3No2lxyRWRhwBFG53OhB4YE9jx37Ui3tc910nTLPwjN45W38N6UsN34TW9haKeS6il/exAtbtvV0Qk5KuC2VFZ+ueE9Ig8ODxJdWR1xtK8IafcRabLPKYneZ3VnOGLbFGePXbXkP/C0PFn9vSaz/AG7dtqMkH2R5iy4MPGIwuMBe5A7gU20+Jniux1S01KDXbpL21thZRSBVGIVJIRlxtZTknB7gUEnpmmeEfDuzVfEk/hb+x9IjFmiJrbzm3hmlBLLFHApkcuE4Y5AGc+27/wAKv8H+HfGninSpLCO8ddYhsdPXWPtEVo0TRBzFFMgO2Usw2+YRwGrx6z+LPjDTdSvr628R6hHc3wC3Mu9WMgHC/KwKqVz2p0Hxj8b2up3+ox+JLwXt+266lJV/NYAKHwwwGwOoGRQBteCfh9Yax8ZLnw9q1rJbWdm92XsXuA8mIY3cW/mgc5wBnJ616NoOj6D8TvC/gOzn0KPw1pb65q081jBJKY5vLtI5QANpfJ2rkKOxr5+tdc1Gy1qPVYb+4h1OOYXAvEkLSeZnJbcRkk9Dkd+K29Y+Kfi/xBcWM9/4jvpbiymae2kjZUNvIwCsyEAYyAAeOmapSsS48xpfE3/hErjS9G1Dwy1ql7Msy39tp8F5HagKQY2RriJMtgsCFzgjnFdxL8M9CXxjqNsunE2EPgoaqp3Nt+0C2yXyPQ8fiK8m8UeNtd8cXcN1r+oy6nLCGWJZAqqikAEAKAOcDmtOH4ueM7fw+NCj8S339leQ1r5DMrfumBBTO3O0A9M1nylHqvibwP4PkXxR4etPD8Nlcab4Wt9ZTUo7qRpDOYom5UsRt+dug64r5n+w2WueNtGstV1NdI0+5ljSe+dQRbozEsf6fjXZ3HjzxDdXV9cy6rKZ76y+wXD4B3wBQoj/APHV/KuWC3+n67Z6vpN2bK9tDuhlKqxU/MM7SCrcHoeKYHfeFfhh4U0342+GNF1jTdVudA1RWNtIt1bTxXRywDiSJ2XYQOmcg7cjrXG+GfC/gjxJaeLNYF1rVloOgWUFwsOyKW4ld5xCE5bH8QIJ6AU3Vdd8Xa14g07XL7xJPc6tpuw2dxxGLcq24eWqqFUE9Rima1q3irxHJfyanr7XT6hDFb3reQiG4jjcOgIUADDKOR6UwNzwjp3hI3nxH0/SL6XWkTQru506+ubNCqxqiOytG+CsoYYDAdN2OtSeDfhH4a8SeGfD/m6pqEHiLXdP1O9toYYY/ssf2RpjhiX5LCMjAFY3gzxN4x+H9rdW/h7xANLiu9wuFEEcglUqAQSyE4I3DFUra88TW9xaTR69JFLaxTwQPsXMaTlmmUAKOCZG/KgDsNY+Dfhrwr8LD4i1fUr5NUl0i11G2VJIIobiSZkAgVC28lVYnO3HvmuK0CGSLRbYlCEYFd2MBiCR+YzXqet/GafXPA7+HZNDh2NpcOmJ51ykkEJRVAnSMQBg/B/jIwTx0I8+0++vrPwza6C10z6bbytcJBtAAlYYZvXt69zQAyiiigAooooAKQMGwAQT6Z5/Guh8AeDrn4g+NNJ8OWkyW9xqEpjWWTJVAEZ2OARnCqxxXUat8KINWuraDwHri+MWZZvtEEirZSWYixl38xwojIP3yRzgdTigDzeivQ7b9nv4jXkkqQ+FZGaKY27CS+tow0gjEmELSDf8jA5XII+hqpH8EfHNxrkejx6Hu1GS2jvEgF/agPC5IV1cybWyQRgEnPamBw/+OKM56c13M3wN8ew6S+qyeGZxYJG0rn7VA0gRZDEWEQk3nDjH3f6V01/+zb4ms/BunXLafN/wkl1qk9l/Zq3MDrHFHCjb3kVyiYwc7mGO9IDyCitfxR4R1jwXqg0/W7F7C98pZQhkSRXRvuuroSrA4PIJFZFABRRRQAUUUUAFFFFABRRRQAUUUjNtVj2wc0WuAbh3IH14pfT869Y8D/BW08SfDm48XXV/qyJHe3Fm1vpOlC6VRFGr7nYOCq4YZPqQKwofgT47udSnsLfw5JNdQzxwPG15boVaSMyRZzKQMoCeuB0ODxTasJNNXOE/P8qUqVzntwa72P4D/ECW+FoPDjm4MMdxj7dbCHy3fapMpk2ckEbQ272q0/wD8VSWWiNp+l3M95fWj3NxFdtBbLBtm8rHmPIBjcQBnqSMVIzzf9aMH0P5V3Vx8DfHtppdxqFx4amgtbdJ5JfNuYEkCQjMrCMvvYLx0BznjNbvgn9n3X9Y1XT11+zl0nSL+1uJra9t54bje0cDShcI52khRw2KoDyjIxnPGM0eo4yPeva/Dv7M+s6z420TTRFdHQ7pLV7rUZnt4jGZ496qAXy3AHCgnn2Nchd/BXxc267stGn1DSHu0s7a6hngdpC8xjjzGrl1yccsoA6nFT1EndHBng470V6F8QPhPefDvwV4V1HUy0Oq6s90tzZrNFMkJicKvzxsyk8ngHjvXntAwooopgFFFFABRRRQAUUUUDCiiigQUUUUAFFFFABRRRQAUUUUAFFFFABRRRQAUUUUAFFFFABRRRQAUUUUAFFFFABRRRQAUUUUAFFFFABRRRQAUUUUAFFFFABRRRQAUUUUAFFFFABRRRQAUUUUAFFFHXH1oA3PA/iy88CeLdL8QWCxvdWE29UmB2OCCrKcc4Ksw4rvLf452Wn3Elvp/gXRrHQbyzntNS0yNmzeLNtLBpfvAAqMCuLh8KwSRxN50oZx91ecn2FPPhKBetxMPqBQB6PP+1Fqs99pNy+i2Qj0rUPttrbozYSP7KLdYQSegGeT6VnfD/8AaFuvANnpNvHodrenTdMttOin8+SOX9xPLOrbwc7WMuCp/uj0riV8JwNjFxMc+wo/4RGDGfPm6Z+6Kd2K3U9Dvv2ndWuNSuL+HR7OK6bT7qxjbzXbZ5115+/J5PIXg+tW7n9qe5kuA1v4T022iuLm5utQi852F4biLypQ393KgEY6V5j/AMInB/z8TfkKP+ETt8gC5lJPQDFIErDviJ44fx9rVrefYLfTLazsYNNtLSFiwht4gQiZPUjcc1y1dP8A8Inb8/6RMeM4wM0f8Ilb4z505/3QKBnMUV03/CJ2w6z3A7c4o/4RO25xNcn6YoA5miun/wCERt+81wDz1wOlB8JWw4M1x0z2oA5iium/4RO2/wCe9x+lH/CJ23/Pe4/SgDmaK6b/AIRO2/573H6Uf8Inbf8APe4/SgDmaXHPOQO+3rXS/wDCJ23/AD3uP0o/4RO2/wCe9x+lADz8QNRT4fWfhWBntYbe/nvzPBIy+YZIlUq69CMj9K9St/2sLy1RZE8LWCXkjwzXNwk7gzvHA0IJU8A4cnj0ryo+E7Zc5nuBjnnAo/4RO1wCLmXB4BJXB/WgOlju7T9oqX/hHbXQdT8M2Or6Nb2UNs1rLcOvmSQytLHLkc9WIxT4f2ipZNJttF1Pwzp+p6DHCY5LAzyIruLoXEcmeuVYAYz0zXBf8IlBwPPmBbpwOaT/AIRO3wD58x4J4X070Ad5rP7Sus+INa07Vr/TLOS8s7LU7LarsEZbxVBJ9du0Y/Gtq6/awvrizt7ePw9Z26xSyTfu7mTYHe1e1O1CcABW3dP615V/wiVuek8x9+Mf55pP+ETtsZ8+XH4emaAPVNM/asu7eSyF74Ysb+CyezltUaZ18maCIwiXjr8rE4pbT9rTWNP0eG1tNFs7W8V7ctMk8nlt5UwkyVz1I3DIGa8r/wCETt923z5t3cYHFH/CJQbQftE2GG4HAwRjOR60eYjX+JHxQt/HmkaNpll4etfD1hpc11PFDbzPIWa4dXkLFv8AaFcDXTDwpbNyLqVhkjIwRwSP6Gj/AIRS2xn7VJj8KBnM0fiPzrpv+ETtsA/aZSOcYx2pW8J2yjJnlA/CgDmPxH50f5610/8AwiNvuK+dMWH8OBn8qP8AhE7br9pkHT079qAOYorpm8J2643XMqk5wCAKU+EYFJBuJgR1yBxQBzFH4j866ZfCduwyLiVxjPy4PHr9Pel/4RO3/wCe8x9MAc/SgDmPxH50V0//AAiNvjPnTenQUHwlbqxBnmBBwQMZoA5iium/4RO25/fXB79vzobwnbL96a4XtzgUBqczR+I/Oum/4RO24/0iYZGRuIoPhS2XrPMvfkAfjQBzP4j86K6f/hErfbnz5gOvQUv/AAiEHTzbjP8AdCjP5UAcvRXTf8InbdPOuc+nGaB4TtSARPOQTtzkYz9aAOZorpv+ETtuD51x69qP+ETtv+e9x+lAHM0V03/CJ23/AD3uP0o/4RO2/wCe9x+lAHM0V03/AAidt/z3uP0o/wCETtv+e9x+lAHM0V03/CJ23/Pe4/Sj/hE7b/nvcfpQBzNFdN/widt/z3uP0o/4RO2/573H6UAczRXTf8Inbf8APe4/Sj/hE7b/AJ73H6UAczRXTf8ACJ23/Pe4/Sj/AIRO2/573H6UAczRXTf8Inbf897j9KP+ETtv+e9x+lAHM0V03/CJ23/Pe4/Sj/hE7b/nvcfpQBzNFdN/widt/wA97j9KP+ETtv8AnvcfpQBzPPpRzzxXTjwna7hmabHfJFZetaTFpfkiJ3feDncaAMyiiigAooooAKKKKACiiigAooooAKKKKACiiigAo7j60Udx9aAOj8YXlxYeDZ5raRopgsahlJHBdQenPQ1Da+A5dR03wPa6f4qMut+JUmlTM8yQwpEZcgR+QOhibneTxwDnNaWraOuveH2sWm8kSouHA3YIII4/CsWz8Ja5YS6VJbeJHhk0lHjsWW2UmJXLFwOe+9qAKuk+BNc8STX0WkeKo9VSG2NzFNB55jmPltIVyUAQ4Xo2DVi1+GPiq/utJjg1n7T9utnvnuIDM8dvGsQkf5guGIU52qS3PSp/DvhfxD4RsXtNG8UPYW8j+YUjtEzv2lN+c5DbWYcY4JFSR+H/ABHbrZrF4oMSWbM8CRWMSLuZQjFkHyyblHV8nk0AcN4pt/EHhXWbiyfVnuvJEbi6t5SYirgFWbj5eCODgjPNdZ/whd7qN54Zs9N8SSRx6to/9pNcXVy5XcC4IjQLktlTgdTg8Uf8INq8dnqdnHr8UFtqWx7yG206OKKZkOV+UEAdh0rQutB8QXUli8niG3kOnwfZbX/iT2w2RbmbZ05Hzd++KBGNZ+AvFN9o/iTURqN0g0ITzTw3EM0RkSHb5hV3jwrDng8+3Iq7N4Lm1TVvL0/xJNpljHoFtrVzcapO0+3zXVCqmNMn5pE4xWjJY+L2tLy2fxjJNFeGdrgPYRuXM2PNALkkK2EyoIXKDjpUWoaF4j1SN45/FAWNrQWBWDTYY826yB0TI7bkQ/hQMbZ/BnxtdeKotCOrxR3zRzyYe4bYgivfspBIB5LSL+Wa0NQ+EOs+Drhb7xBr/wDaWhw6bcanK1hcSI0ixpE0aAMoIybiIk9gTnocOhm8c28k0kfjidDNK08n+gxlyzSmZgGzkKXxx6gUtiviaO/tpNT8R/21ZQwS2jWd1aDZNbyRrGyNhh/DGh+oFAHAK09/8PJ9atr2+g1LTL2K3vo5Zd0UkcySPCyZ5BURupHuD0xXoWhzPcaPZSSMWkaJdxNYM3geY+EYfDttfx21l9pN5cMIiHnk24QM248IpZQPeulsLMWNnDbht/lqF3fSgCeil2mjaaAEopdpo2mgBKN235sZ2/NjOBxzS7TSbc9RxQB2/gf4c23ivTLSQai9vqF1fSWMEAgXymWKCOV2Z2YY4dgMkc4rZX4R2lxcbrLXRPDEIp7uT5GaC2ZZGZ2McjKSvlgEA87h3xXAafr2paWtsLS8ktRa3DXUJiOGSRlVSR26IBz61bvPGuu3txfTS6jM73lv9knICrviJzswoAxkCgXU663+GNnqTX2NSFvJBb22yGytwxlLWqybmUyc55+5k89MZxQ174Z/2L4L/tlbuSSaPyBPbSLHH8siMy7QHdlAC4IdVzu68Vi2vxA8R6elyINWmjFxGsciqq9Fj8tQpxlflGMjnmmaj478Qatoq6RfatNd6aqqnkSYO4JkJlsAkgHqfWgo7Lw78LLa7XQLmPURdvfSReZCYB5SB1chcq+4EbMfMoBzmqHgnwNYeKvDep5lmg1ldRtLK2YKRABIWU7hu54U1z9v8QvEVta2dqmqzC2tHRoYwqgDbkAkgZJAYj8ao6X4m1XRbe6hsdQmtluinnbMclSCGB7EHJyPT3oEdkvw00iTS31uDXbn/hH7WOTzpGsyLhXSRExHGWO4Eyqc9hnOOa2vFXwn0X/hKDBb3z6ZHfzR2emwW9oJPMkFvEzNIQ3ybi46evsccO3xM8TyalFf/wBtXC3KR+SrbEACEgkbANp9z3KA0i/EzxV5l4/9t3Cy3mDMxYEEhQuRxlTtUfdoA0PFPw9j8P8Ahq21JNSe/mZooptsQ8oFlZsKwYlcbSMMBnOR0ro9T+G+l3D6RcSXMmlw30FlbwLBbGYvcyQhjuGRhevI59sZI8+1LxjreraPb6Xd6nPNYQlWSFsDGBtG7A+Yhc8n+8atWfxE8R6aztaarNEzQrF8uNoVRtUDP3SAMZHrQBta58MV0LwjJqf9pteXsJzNBFEGjGJCp53Fl7dVA9+mWR/DqzW30e2k1aVda1KCG4W2hsi8Qikk2EFgfvYOcsQvHJBxnBuPGuu3GhnR31SeTTScm3kIIfHIDPjceSaktfH3iCy0+3sYNWuobW1dWhSNwCm07lCtjO0H+E8UAdfqnwl03S7KS+udZmisRZG4RRbxSztJ56wBNscxX7zKc5yMdOtPvvgzb2kcVwdXlW1ja4W73xxNMnlRbyyJHKcZwRhsGuQ1r4heItft3t7/AFWW4h8vygqqsYx5gk4wOPnVTnr8tWLn4qeLbxrfzNduD9nk82PhQA+CGJAX5wykj5vWgDotN+Hega1pccOl6vdTahd6tBZ288tn5C7JIXkKyKz8bQudw4JGKm1b4a6RJ9qul1SG2tUt4Ft4bCGKRlld2iAby5mVDuG4kE5B5xXG/wDCwvEjTXMp1e4ElxJHNKysFJZM7CuF+UgccetR6r421zXGuGvtSmnacRiU/KhbYSVxtUYwT16mgDuLv4L2dnqkdrceIEBVpY7lQYTJ5kaqAyBZSqqdx5cqeMY5rnrDwHFceNL3RLjUZIIrUPIZnhRZJMBSqhXIQHnPJAOOtUm+JfieS6tbh9Ymaa3Ro0cxx5CnGQRj5+g5bniqNv4y1yz1ybWYdSmGpzAh7gkEsDgYIIwRwDj2FAHYL8IbVZPIuNWaC6u57i205GtBh/KjDlpvmGzcWxwSOOtVfGXw5svDOm3ktrqkt3eae1qLuB7YJGomjZxsYMSfuEc+vWsRPiL4lij1BU1i4UX0hkuMbSZGIALDI+Q4GOOOaz77xJqepfalu7t547ryjOhAbzPLUrHknHKhmH4mlrcD0fwl8I7Wb+xb+7uHuA1xZm8spkjUGOZyqhQJS644+8gB65qv/wAITompaV4ZitC9o50kaleXMcMaOczyRqN8kiqACo6nt7iuVt/ib4ntdPtrIavM1pbtEUiwp/1bblG7GSB2yeOao6Z4z13R3tpbTVJoJoLX7ErKFI8rcXIKkEEbmY49QDVF3VrHc3HwbtdPup9Ok1x/7V829ito4bYNHL9njWUlzuOMhscVQsfhPA+pyWh1VoYo57eHzlgDEpLaS3JIBYZx5ZX/AIFXN3XjzX9Q1KPULrVJpbtXlYSHGV8xQj/iVHP0FSP8R/E1xZ21tNrE0kNuytGjKvykReWGJAycKzD8aRC3Olk+E+mXlrnSdclubuayi1CGO4svKUwtN5B3OJPvBiTjpgH2rT1r4TaRDDdNNrENvDpdnM9w1nBDJMXjeNQSEnYfMZOrYPHTmvOIvFGqwKEW/kCC2FnhAAfKEnmAZ7fMc5Hp71c1L4geIdWDi81Oa5V4fs7rhF3R7lbbkAZ5ReT6UCOn1z4b6dYrJc3mqfYobiSOGzFlYvIrP9lhl/eYclc+YOn972OGf8Kssprg2g14rf2726XxmtWEMay5wY2J+bHTBHU5zxXN2/xA8RWcdzFFq9wI7hVSUAjBCxrGCuR8p2qvI9KG+IHiOS2soH1m6aO0dXj3EFsrnaScfP1PB9aBjvHXhOLwjq0dtBNNcQSwiZJJolTOSy8bSVYfL1B4zXOVo674k1PxReLdapeSXkqJ5aGQABFBJwoHAHNZ1ABRRRQAUUUUAFFFFABRRRQAUUUUAFFFFABRRRQAUUUUAFFFFABXO+LP+Xb/AIF/OuixXO+LP+Xb/gX86AOeooooAKKKKACiiigAooooAKKKKACiiigAooooAKMA9c/hRRQAst80MZeSZkjX1bFVf+EitlBP23odp+c8H0+tVvEWf7HuOnO0cj1YCu70mXwfrGm/DHw9dpNBpNxFcz6up1BQHkUzFS5VAwJxHj5jxkYz0AOObxHbK2DfgH3kNJ/wklruC/2gu4kADzDnJ6D610Hgbwj4O8a2uoX80VvoViImi+zy6o5lhlWFiJEy4BUugzkN/unqLdj8PfBl4/h37RcxWcF1azCW2mvN01xcJbhsOY5fLVHkHB+XGOQAaAOT/wCEmtvmBvsFcZUs2eeOnWnf8JFB8ub3G7lcsefp61T8XeFbP7fr9xoUq2+l6aIGe1u7pRIGkUbli2Md6hs85J9q7vUPCmkXmpeCI9VgimtptDaOeC11GMLHchpPLLkyA7RmNiAQx7dCKAucf/wkltyPt+SOSA5J+tK3iKBWKteMrAZwzMP6V1Np8MfDTeHfFlzLq+mmS1+3Lp8ltesrpJGyGJNrvyp3ORwx/wBocg7dx4HtPF2uT3ep2Fpq8lp4RtbpYYtRSCP7Us0MbiR0bCgCXuQCSKVxbnnQ8S2rdL8N/uuT6/4H8qX/AISK3wD9u64x8zHOegFd74i8P+AtW0zT9B0+9tSLK0vHtNWkvWVt39poqxMM/MvlSsRn5vl+tPuPA2geEdeSXQpLe71v/hHtTnt7W1lW4X7VG5VGX5jlvJZ3A9V9RigZ5/8A8JDb/wDP7/483+FXFupGUMszEHkYY1nqPtvwTun1JIwLXWI00m4xiSXfHK1yoOMsoYQnPQFiO9SaeB9igYcDYO9MC79pl/56v/30aPtMv/PV/wDvo1FRQBL9pl/56v8A99Gj7TL/AM9X/wC+jUVFAEv2mX/nq/8A30aBcTEgea//AH2aio6c/wB3nPpQBL9om4/eSDPTLEen+IpGuJtoPmSYPTDH0z/WvR/hjD4UlsdGg8QWNlL9s1u6S5uLhtkohS1iMS5zgK0wx+HpXSXFn4D+2apJe+H9P0S50m1j1L7HHfpP9skQSKbcPGzLhmaBuvRT702uXQZ4xcLd2cgjuPPhdgCqyEgsCMgj1BFRG4kXOZWBHUFiDXuejaT4Q1C61cXFvpc6C2ssXU92HW2X7AmQFaRGZfMU/c3EY5HOazPGXh3wlp3wna4tYNJ/taIWbQX9pcJuuQ0beeNm9nUK4XlgM8YzSBnktvHd3kyxQCaaRjgLGSxz+FQ/aJBwZHyOo3HIJ7H0PtXuvhfR/CEWneEL2e102xuBLaCe5S8RpbjMLmUkqxdQrBRhlAPY1h/DC60CXwpr+m60bEWcmsWM08lwU3/ZxK4kZSTuOBt4XJIJwDSYjyZriVVLeY2AMk7zgVYv7e/0u6a2vEntplCsUk3A4KhgR6jBB/GvY18O+HxpMiXGkeF4fGpinez02O/Q2UiLJb7HeTftDmMzHBI5H0ro/FVv4Y1/xrJetb+G7+2+2Rx61cXl4A1nbpbQBGgCuN2CsvCbjlV4wc0wPnLzpTk+Y+B1+Y1Pe297prol0k1uzxrMgkJG5CMhh6g+tek/EjSfC8fw8srrSbSwtLjzIESWOdZp7uMwMZHO2RmQblwQygZ24JrrbqPw94g/sKdoNE1W7hg02DUDqV2E+zWgtxvaLLLyrAjC5Y9getK4HgXnS8nzHwOrbzgfjSC4ckgTHj/ppXr/AIr0fwefhvPdaZbaZDcw7PIvvtPmzXDec24L+88xcJj76BffOATTdF8MX2l+H3MPh5NIms7YXmqX9y32tbvz8yptD7iAg/u7DkfNkYprUDyHz5M481s9Mbzk8gf1pTLMvV5B/wACP+e9e5eNtP8ABvh/Qmv7fRtDi1Q6fg2Ml0J40m+2xJ5uIpiCfJdmxu9eM1e1rwl4HtrKyMGnaCuorNdw20YvIlivcWpNuzKsjeWrSDHzkEHGQKAPnxbtmbaJmZsZwHJP/wCvjpVu+tL/AE2ZYrqO4glZQ4Rt2cEAg/rXten/ANhTWq6Nqdn4dsbOPXNOm1SKzuUZY0a2k37HJy2JNq/KSPmz05ql4mk8JbdXubrw9p9pqXlWcTQ3GoR3mMzMHkRo5GAIjA7/AMRHWgDxf7RJz+9bjr85pfOm5xI/y9fnPH1r6A1LS/Aa+JILS18NaaYC1wtlKdWgxexYTY+wvtViS3yylOAfbPH6VpHhofFrWrJrHTNW0qOKQWlqs8cMPmFUACF3EZIJfIZguAcHpkA8u8+f+/JnsNxyfp60omnP8cn/AH0c17jD4b8DpPeCKLQ7uxjvrtdSuWlSNrSEQqYfs8ZfLZcMDs3YxnpzXN/ESHwium+IINI03SrdtP8A7LNlc27kySrJFK04fnBwwTOPai/QDzizhvtQvIbS2Waa4mdY0jUkkseAKln0/VLXS7bUZoLiGxuSRDNJuUOR1xmvfvA+h+DtJ0vQNSddJjv7e402RNUguY1eUvKRcBow5cBAV+8oB7E4rnNHudG8SQ+Dre/stHvv7O8MZW1ldYXluPtcodPMaVEVtoVsk9ARzmjqWoq1zx11vI7W3uWEwt7hmSGTJ2yFdu4L643Ln60+a31C3sI72WOeO0kdo0mbcFZl6gHvX0Lrml+E0mGnRwaDdeFLHUNTluJpLtGuLOKS3gMZgBfcwMisMKDjGenNV9PvfCGg6l4O/svRrBrXz7ZLfUpr6KUSCS2YSh4N5ZAJMcso5A7Ghaitc+fZmuoFjaQyxrInmIzEgMuSNwPcZBFMa4mXOZWAXqS54r2Wy0fQrjT7XbZ6RqfiOKxsd9pqd4i28Kfabo3JRtwXcAYSACcgnAODgk0bwb/ZhnFjoC6GtgxbUBfH7Z9tM2PLUbg+3acZ27cHrkUEnjQuJTn945AOM7jjrj+lL58n/PR/++jXpXxo03w/Zf2XNotpp+nSTPPvtrO4WZ/LBXYzMjspBy2M4brkCvMaAH/aJe0j/wDfRo+0Tf8APR/++zTKKAH/AGib/no//fZo+0Tf89H/AO+zTKKAH/aJv+ej/wDfZo+0Tf8APR/++zTKKAH/AGib/no//fZo+0Tf89H/AO+zTKKAH/aJv+ej/wDfZo+0Tf8APR/++zTKKAH/AGib/no//fZo+0Tf89H/AO+zTKKAH/aJv+ej/wDfZo+0Tf8APR/++zTKKAH/AGib/no//fZo+0Tf89H/AO+zTKKAH/aJv+ej/wDfZo+0Tf8APR/++zTKKAH/AGib/no//fZo+0Tf89H/AO+zTKKAHi4myP3j47/Oaa0jvt3MzY9STSUUAFFFFABRRRQAUUUUAFFFFABRRRQAUUUUAFFFFABRRSj6ZoAdNp7zw7Xh8yNsErkZODnj8cVU/wCEZt8bfsQCsOWUHPXNb17qEek6b9qkUsI1zgVnzeJpLfR4tXm0949PmcxxyvcxAyMG2/Km7cwz3Ax70AUG8M27ZJsVbPqvrxj8BTm8M2zfesg3PIxgHpjH5UxfiPZttAtZiWOAoYZ/KkHxIsmJAt5M/wDXQemfX0oAk/4RmFsbrJX2nggHP1pf+EbhPWyAJzluT1HX61G3xHs0GTazLwT98A4HXvV7UfFraTFZS3mnzwx3sK3EDNKhDISQDweOQeDgjvQBS/4Re224NguT3VehPBP4irEOjtAtwsMMkS3C+XOkbsomTcpCtjquVU49VFO0/wAYHVvtP2PTbmc21tJeTbWUbIUUM7nJ7AjjrzTdR8aDSXiS7sJ4WlgW4QeajZjYZB4Jxx2PNICE+G4Oc2YHphc9Ohx9akt9DFjcJPawPa3EZJWeBmRxkYJBBGCckfQmlXxkG019RGn3DWazi2LiRSTIQxChQcnhW5AxxV7T9du9S1waPDo14upkkfZpsRMMAkk7sYAAJJPGKYFOXRzcW8VvJFJLDCzmON2YqhYgsygkgZIGfpUq2cqKEWHaq8YpbjxQ1vo9rqjWE32C6keKK4WRWUsmNwODx1HXr2zWxa3AvLWKdchXXIU9aAMf7JN/zzNH2Sb/AJ5mt3P1oz9aAML7JN/zzNH2Sb/nma3c/WjP1oAwvsk3/PM0n2OY/wADDt+lb2frRuAzyehP5DNAGE1rK+S0R56hf1/PAoFnP1ERH8W1O36V09vpd7d25uILS4mgD+UZI4yy7uDtyB1ww/Oi40i/t5BG9ncRzFwiq8bDLHoOnOQDj1xTd+oXOXNpKekbnrg8cckHt3AWgWcy4Kx4OMDd2x+Fdjc+HL+C4nRLaWcwxpLMYUYiJWUMC3HAwwOTVWTTbyK0gupLW4jtZ8eVM8ZCPnphiMc0gOY+xSr84jJIO47hkk+1C2MqsuIsbQFBYDOOf8a7HT/Duo38llttpoYbogRTTRMqPkEjBxz0pbXwzqd5o17qsFq01hZzLBNcRjjc2dvB5OcdqQHG/YZmJ/dn5jgAgYHbJ+uad9jkbB8ojgkZAwAeCP0rqm0PUluha/YLr7UyF1hMLbiBkk4AycYJ/wD1itLxF4H1Xw3rV/prwSXclmiSXD28bER7kDDdxxwfwpgcEtnNniI9Mbjj5QO30pPsUgYEwZwBj5RnHYZrpptPu4LOG7e2mS1nBMM8iERyYGeGxg1r6t4J1TTLmKFIZNQ3WkV4WtYmZY0kUMN3HAwR1pAcH9kl6mNiw6EYGKRrSZhgxbhyeQOSa6c6bdrZJeNa3CWjkKtw8ZWMk5x8xGOcH8qI9NvJbWO6S0uGt5GCJKIjtZicAA455FNAcyLWZcYjK56gY69M/r+lN+xzbdpTI6BiBz7n611zaBqazPCdOvBKieYyGFtwX+9jHSkm0TUreSCKSwuopbgboUkhYGUYBJUY+YYI5FIDlFtJcj917gLjA56Gj7HOF2iNgo49O+euOa7RvCGsx6bJfvp1wIYrlbRy0ZG2RlJVSOvIBPTtT9W8KX+l6hJaKkl4YIUklMMLgRZ7NkcfWmBxH2WVR/qT1zhcd/ek+xy7dhRgnYAjH411h0PUluIIDYXYnnVmij8ptzhRkkDGSBUUOm3dzefZIbaeW6JIEMaFnOBk4A64oA5n7LOP4CcDggDIoWzn3KApAxjr+fbpXUpo+oSR3DpY3TrbnbMViY+WcZIbjggevSku9Gv7S1SaezuIYZSAkkkZCtnGMHHf19j6UuoHLfYpiSfI3kc/KM0rWMv3WiJ7EY46fy5/Su/0DwLq3iLSLzUbaPy7W3ERV5Uby5A7qgwwHJ+bP4VQufDV5DLP5MT3NhHL5I1BY3ELYbbncRxg5HNN2vqBx/2a4Zg7RncvTCgdRj0pPsc2Pljwcbc45x613N74L1uxW2eTT7h1uZpobdo0LeaYzhgoHXBB+uOKoR6PqEjXKpY3TNa4E4WJj5WQCN3HHBHWhaDucp9ilGSsO0Z4VR0Hb+v5077JLkN5WXHsOfeuns9LvdSikltLS4uY4/vvDGWC8A8kDjqKRdNu5NoW2nJZUYDYej42H8cjHqSBQI5n7HKF4jIHZQB+f1NH2Of/AJ5N+VdbdaBqtjbyTz6fd20MYDSSywsqovHJJGB179KtXHhG/ittLdImmub5HlitY4pN6qDxnjBOATxQBxH2OYdY2FH2Sb/nma7BvDOpi4EMdjcXEvlrK4hjZigY4G4Y+X8eneqn9n3f2CO++y3H2KQhUuPLPlsScABsYzkdKAOa+yTf88zR9km/55mulvdPutNlEV3bzW0pG7ZKpVsZI6H6Gq+frQBhfZJv+eZo+yTf88zW7n60Z+tAGF9km/55mj7JN/zzNbufrRn60AYX2Sb/AJ5mj7JN/wA8zW7n60Z+tAGF9km/55mj7JN/zzNbufrRn60AYX2Sb/nmaPsk3/PM1u5+tGfrQBhfZJv+eZo+yTf88zW7n60Z+tAGF9km/wCeZo+yTf8APM1u5+tGfrQBhfZJv+eZo+yTf88zW7n60Z+tAGF9jm/55mmSQvCQHUrnkV0H4ms3WP8AllyTwaAM6iiigAooooAKKKKACiiigAooooAKKKKACiiigApRSUenGaALHieF7jwzMsaNI+EYBBk8Op4/KtfR/i80f/CvItS0u5vLLw9b3CXcAsIiszv52wpnoAXQnPcCqC6oEjAMZIUZPPHHrS/2wVXOxSp6Nu4/zzQBd8CfEnT7O31KfxfpmpatqVzE1sPs1hEsLQ+Q6KGXcvzBmU55Hynjoavaf8TPDUdz4cuL7w7qNzNp1tNbSeTYokSZtxHHIkZlIZg3qVHXjpWL/azd4cfXIpP7Yb/nkPzoA5zxZfWHinVNb1JrG+tLmRYPsUNtZLFBKwULI0wEh2sQONmRk110PjnRLXVfC96tlqd5Jp+jvpl7Lc6NEru+58SxlZ/vbXA3HaeKqf2weB5S56AZo/thv+eQoA2bf4meH9L0fxDa6fpeuWBv7fVrZEjtYm+0faihiklYuGzGFK7eRz97jnZ8C6p4f1jxVNfbLtpbfw1BZL9usoLZ2uo5YRviJm2cruzuIJUNjmuNGsbsfugc9Bnmj+1MgZgOOOOmPrnp+NAEvj3X7ZtP8RaatzcXmt/8JCdTtbjTdORbIRhHUxhzIJFBLg8J1WtO58aRePPiN4nu5JtQibxFpF3YQXF9bLB9jmdE2qHVjuVvKKbmwR5nOBmsf+13x/qTt+9nnHP4e1L/AGsxGPKXHB+96EEfrigDDj8zT/hTf2M+66u9X1WOaG0iUn7MkKTI8pxwocyIoHX90SRyK6LSVddKtA6lWWNVwRjoKgXV9w4jwrdTnOee/FKdXI/5ZAenNAGjRWb/AGwf+edH9sH/AJ50AaVFZv8AbB/550f2wf8AnnQBpUfUZHXFZv8AbB/550v9sN/zzoA9M+HnxFt/BcOlQ3Fvc3kNrqtzfTwqQYplktYoF+QsNxUoWAJA/Suib44W5uL+Vre4uGFpGNOkNpFAYLuNXRJXRZHUjbI/Q5zjivEP7aPPyd8daP7aOM+XTbuB7XpHxc0W1bUftdpq0i3QtsJEUU74rNbff5iyKy5IZs/Nw5+XuIPFXxS0LXPh8/h+0sL+K4c2h3XMcbIDGjKxMnmM78tkZUdPpXjf9sN/zyP17fnS/wBsHugH1OKQ27nt+i/GHRNP0/w5HPa6rPd6WbbzG2RqjLGjqRxLtc5YYYxqQMjPJzgfD/4kWfg+xv7e7try4WfULa+jjh2tG3lszFZFZl/vds8gV5cdYIGTHxjNB1krjKY3crz976ev4UPUR7KvxU0mPw1caObjxNN50c4OrSeSb+IvLE4jj/ebTHiHGCwOH+tauqfG3RtQ8Q2eoKPENvFY3/2yOCLygl5+5ij23A83gfuccbsCRuCcV4KdaKsQU5+tA1ndgBASRkDIyfpQB6v44+I+k+K/CUOnR2+pJqMb248yQKsISOFk2/LKRIQTw5jVtvFa3/C4NImh0dXTW7FtPaykJsFhJnaGEIUcs4xGSSOjHH8JzkeJNrBXrHj8aP7YP/PP9aAPYfE/xS0nxD4LudJ+yXyX7Iot2CpHBD++Lsu5Xy4x0zGD744K6f8AFDRo4NEFwmuxx2dnBaT6bayItpJ5c3mGTmTJY8ZGAD69j47/AGw3eIj60f2wegQHnHBoA9w8WfGrT9V0P7LpkWq2t49n9jkuBHHasV+2RTY3JKxx5aOuevI461d1T43eH76yit4LPVrcLJdYkW3hV4kltzENp8472UnILbe+e1eBf2wf+eePrxR/bJ2b9ny/3s8UAe0aX8XNK0+eyEv9u6jb2uo2d4v28RyGZIoXidZV80DnfuABP3etJrnxni1K0u4bdLxBLFbRR/6LHbHZFO0jJIUlbcCCB+FeMf2yTjCZ/Gj+2unyYz6nFJKwt0e/ah8e9LvtYNytpfQWStOy20Wn26Mm8J8qt52WX5T/ABIehz2PK2PxG0ux+IOsa6ttqA0y8t3hW3KpPMcqv3t8gzyvaQEcfNjIPlZ1hl6x4oXWC2dqbsdcHOKYz3Bvi74fW7EkVrrUMVvdXU8UKlJEu1lhVAtyzSbjtYHABbHrWF40+J8Hi6312Dyr5I746d9lScrstvIikSTaoY7QS4xjnAOa8s/tggZ8vjrS/wBsE4AjyTyMGgD3XRPjVoumxrLMmvSTvb6dC1iBEbSE2zqzGLMoPzBTnK5ya1bLxdpqeBb7W31G6jQ6ctomn/aYWErfbfOwIxIWDbcgllC+/TPzp/bDcYjIPrnFJ/aw3gmGPcRkbjyKmUeYD2hfi1pjpfxzrrC+fJqQSSFYy9vHPIHjaLdJjeNoHOBhjzV63+M2gpJcpPZatJbMsMabFjWSUx24j8yVllQhySem8cHg8EeFDWGH8BPck9SaU6wV6x4/GrA9O8B/EqPwjHo8Eh1H7Pb6uNQuY7Zhtlj8sptYFwHb5u4xgH2rZsfivoNha2Tx2usfb4xo6SBY4VhC2c0bsVPm7izCPBBGOfavF/7YOM7Mj1ByKP7ZP/PP9aRV9LHrEfxYEljFa3curXEP9m6jZSK0ivve5d2jfl/4N4yT/dGK6TXPj9Z6lqf2i2s7q2iIun8qO0hiaKSW3aIFJBIxIDMCcgd8V4H/AGwf+eeOvf0o/tk9dmR6g0EWPYLH4o6ZJpsNld/2xYyRmwP2/ThEZpGhjdZFcs6/ISwOeW46Vab4vaYzfaVXWo7p7CCyNpmE2sRSZHMyEliXwhBUpg7jzXiv9s/KTsBA6kGl/tZucR5xwcfUj+hoKbuelfFLx1pvjm406axhv45LcTiaS8AUSF5CwKoJJAgA7BgOfuiuGrN/tkjqmB6k8Uf2yf8AnnQI0qKzRrW7kICMZ60f2yefk6HHWgDSorN/tk/88+fTvR/bBHWPH1OKANKis3+2j12cUv8AbDAkGPB+tAGjRWb/AGwf+eeeM9aP7ZOQNg5APX1oA0qKzf7YOM+Xx60f21xnYMeuaANKis7+2COqAfVhSf2yeyZ/H3xQBpUVmrrBbGI+vTml/thuvlH1PtQBo0VmjWSSBsAz6nAo/tg/3M8Z60AaVZusdYvxoOrNgZjx3FVrq8+1BPl2letAFeiiigAooooAKKKKACiiigAooooAKKKKACiiigAooooAp6xcPaafLLGQHXaAcdMsF/rW4nw78RT6V4WltdTtrvWPESs9pZQzWxjSNd4y7mcsCRGxxsAG3kg4BxNUtWvLKSFG2u2CrHtgg/0/WptK1zxJot34buLSbTRL4dimi09nQ4CyGTcHGOThz+dABF4J8WyXV3bW8lncy29uLoJb3cUgljKF/lw3XapOOvHTNIfB/i6O+0y0PkJc6hbtdxR+dHlIhGJC7fN8oCsM5xyQOvFT+CvEfiT4f2E1no76esbOziWeMtIpMbIQCCMqQ7fK2R044FXLHx14w0uLTYrK50+1isRKiohmIlWWMRuHy5IG3PyqVHQ4yBQByHiJtd8J6tcadqeyK7hKMy5DBwwDKQQSCCCOQa6eXwL4gmv9EsrC7S8m1HS/7TLHykSKPc+8793IBQjmsm4fVrm31aBotM26mIVkeUzTyQBCMCN5HLgcDI3fhWrJ4l1xpdEkjsdFgOk2ptbZYnuQBHuZwD+9HO5iePXGaAIZvCmuQ+CbjxG+taYIo72Sza289MsUUsSCD82MDgetaVr8O9XvvEEulRazZwsmjf2w090I4o2XymkIBBYEDb168Vl6prGva5bavBqI0u9TUb1r+QyJIhimIZS0XlsmPkJGGLZ3c8irE3iXXZNWstRjs9Ft5bbT20poVM7R3FqyGNkkDOeSjMOO5FAFFdD1C48MjULTUTdaoNZi0YafHbqys8qMyssofLDKEY24wc54rVj+H/iHTdaMGuzf2ZYQ6fcapcXkOyXZDF8rBcEjcXKpjr82ao6XrGs6Ho/9n6Za6Pp4TUI9UhuYTcmWGePIQrmXacKzLhgRyfatLT/E2pTeIrm81aK2lsr+0uLG9tre4nKyJN8xZRI7BSJAjEKAPloA51ori58Ct4gstRaR7S7W0vrKWMK0KurNBIpB5DLHIG75QdqvWsjTWsLsdzMoJqJknt/A7eH7MRxtd3n2y+uXfc8uwMsKfRVkf/voVNbxfZ7eOPcpKqAcUASUUfiPzo/EfnQAUUfiPzo/EfnQAUhGc8KTg43DPY0v4j86VcEgEjB68/jQB2HhD4Z6h420y2ubC9tVubq/l0+0sZVlaeZooVlcqEUjAjYtgnJ6DJ4rZ1D4C6/Y3kca3NrMjPH+8kWSAiFklbzmEqAqoEMg6Zzgdxnk/D/jTVfDMFjHp8scP2S7lvY2dQ53yQpG6kdwVXb1HXrWlJ8UtZWbWpLWPTtNj1ayFjcW1jaiOLy924YUscNyec9z61Ukk9A6ms3wdur6bVWgvbGzg06G2J86aWXzjJbLNu3CMeWu1h8z4XkDOcCs7WPhRq+i+CLbxOZYZLCQxK8UUcy+X5ql48O6BXDBScoTTtJ+MXiDRbi7nthp7TXEUMXmSwfPH5cIgUoQeDsHcH6ejdc+LeueJPDR0LUF0+W1fyFmuUtws8whGI97g84BI4A/SpG/I0tF+Dd7eReGruS7sruLWXi2W6yTRsqyK5QiXyyn8BBAJIJGQKq+E/hivi7wvrF9a6hGmswX9vZWunuxHnmVpAuW2AZ+Q8kjgc1HpXxj8QaTpulWVsunwR2EkcgkS3AklMaFUDvk7gA7gHAPqKyfDfj/AFnwnZ6hb2EkEYvZYrhnZA7RSxncjJnodxYfQmh7aCNlvhLcSW0upWviLSJ/DkMcrT61FLL9nt2QojRsNu8uHljXgY5PpW/4u+Bg0/xPc6fpuq2NrbSSpb6ZHfTyZvpzFEziM7fkGZUGX2jLAZzXOv8AGLXDLsFroyad5ciS6TFYqLK5LkFnkTP3iyRtn1Wp5vjh4juNRmv5IdJlvDIJ7aV7FGNjII1Tdbkt8hIQckcHB7ZABn+KvhnqPg7w/Y6pdXtnILop/o8BkzFvQuuHZdrjA52E7SQDg11Y+A9x4gv7GHQZNrzafZziO4jnlaaaWEMVDIhCDPdiB71xmufETVtd8LwaFOthFaRukjy29sI5Z5EQoryckHhm6YySSR0rb0X47eI9Da3McOlXQt1hEH2u0EhiaJCisvzDnaSOemTQBka98N9Q8OeDLLxDcXtq8F1tKwRCRiAxYKRIV2HlcEBiwOMgVp3Hwd1FdPtHg1TT7u/uLS3v20qN5ROtvNIqLIQVw3zMowpJ56YzWTqHxG1PUfC50B4rCCzZ0Mk1rbLHNKEJIDt0I+Y4wAfWuh1P42362mkQ6JZ2Olvaaba2U121qj3MwibcY2ck5jLBSRxyq88UAP1j4K3nhvRdQutQnW5Z7OKewmgWaFTJ9ugt3V1kVW480jpg8YzWja/AdNP/ALQfX9Wgt7U6TdXltqDx3ECQyRTRo4eNowxCiUdBg5GM1zur/GjX9YhhhMOl2EcY2KLG0CAD7RHPuIJOTviXv61an+O/iC6ukmlsNDlTyZ4JbZrMmOVZnieQuCxyS0SnPHTpzQEnokOk+COpxxjztY09XmvhZW0X7+Vro+RHMrxqqE48uVWx7+oIGdqnwl1ux8baX4ahK6he6pFFPaMqSxiWNycMY3UOB8jcYzx0ob4weI21Gyvd9iJ7O8a8iUWwEQYxJFsxnOzZGBjrkj0qpqfxM1rUvEuma+os7C/0yFIbaOzgCRBFZiAVJbd949SOtAHSf8KA1WzmP2zWNNsbJhb+RdXC3MazvM8iKuwx71O6Mj5gBxn0qvefBG9sXke48Q6KtpALtby+Z5fKt5LfZ5qFTHk4Ei8gEHsTWNffE/Vb66nkFtptpFLNbTtHbWwiXfBJI6EDJ7uSea1PD/xkv9Pj1JNQtLLUI7r7XOIZog8ZmuPLL7weq/u+3tU3Y1qyyvwL1u4vrXTrdILma4uC8d9bySSR/Zvs3n+aI1j3FdmDgc8gYzxTG+CN1b3mq2134h02zk0+z+3uJoblN8BXKvkx/JnIGGweelZzfGbxNJqUN8ZbMNE/mJbrEBEo8nyfKA5+Tb247c1J/wALg1CTT9VsZdE8OTWWpSq80TWJTG1Sq4KvxgEkdeQOO4aB76Fy1+BetXVnolyt7ZrDqc0duDIlxGsDtDJMuWZAHBSNj8hOO9Yd58Or2PxNpGiWN5Y6rLq0Ed1aXNszxwyRuzrkiRVYYMbdQOnuK05vjh4hns7OP7PpKy2rJL50doI5ZHS3eBCzBj0SRx78HtXOL401S11TRNQtZ4re50aFLe0dVBG1HdhkHqDvOR6GmI3YvhnFcXFy8fi/QX0i3Efm6nHNI0aSOzKkbIF8xWLKwGVA4PtVq/8Agnq+j6Xdz3eoafb6jbRXNw+lK0rStHBIY5WDbdnBDd8nHGapx/FzV47qdl0/QhZTIqvpo09Ftd6EsspUclgzEhicjJGOar3nxU8QX1xJcXFxDc3DW13bNI8Y+ZbiVpJOM+pGPbNTdgXvC/wlufFGg6fqY1rS9POoPcpa2l4Zd8n2dN8nKqV4XJ5POMDJqxo/wP1XXtabT7HVLO9H2e3uYLqKC5kS6E4Yx/djJj5XGX2gZ5IyK5vTfHWp6RaaPaweR5Okm6NuWjGf9IRkk7/3TWz4d+M3iHwysKwR6XeRwpaiGO+tfMWJrcMInABHIDt69elNAXLX4H65dSJm+sIo7jyRazs7lJ2dJWKAhSQVEEmfTA9RlNN+Ed14omhnsJLTSbObToL9IppprlwskkkSr8qZHzxN8xG0buSMjMVx8Wryy0/wra6UxC6LPPfMt1GhjkuJpGZ1CjHyYJAGf4/rSW/xq1uz1SO+gsNCiNvaxWcFqlhiGNY3kkRlG7IbMr8nj2ph1K8PwruZP7Lgm1zR7bU9Qmhhg02S5KzMk03lK4ONpOcnZndxnGATU2j/AAtmutLvL28milzY3bWixSsNtxDeW0BL8dD5x49SKqN8XNeaCDzBp1ze27xvHqU1hGbvCSeasYfPC78ds8datX/xp8QXU0UlvFpemCGOSFEsbRVUB5opncgnlmeFOvvQBryfs+a/HqtjA19bG3uIZpjdeTcKV8oqJFEPl+Y5BcfdU8ZI4FcxY/DnUtV1rW9GtLuzudR0vO6NXbM4EqI2w4/hLZIPZTWxffHTX9SurWa4stDkigaZhatYZjYylWctl8kkqpyCMYx0Jqt4b+KV3pnj7UPGt9JJPrjxTGEQBRG0joyKHGQAqhjwB2HNLqAvhf4b/wBueMfEHhw3SXN7ZWxEE8TN5JuftdtDuwBkqBM344q1o/wL17XYvOgmt2tI57u3nnijmnaH7PKsbvsjRmbLOvCgkVx+g+KtS8NaheX1jOsd5dReXJMyBjnz0nLKMjBLxJ+Ga7C5+PPiO4KJ9m0aKzzMJLGKyXyLgSsryGUE5JZ1U8c/LTeysLqTRfAXV47q6s7zVdMsL9GuRDazNKXuvIj8yQoQpC4BHDEHnHWsTxB8MdQ8P6HLfNe2d1LZ+QNQ0+1d/OsjON0Yk3KMhuORnqK6fwv8arbR9J1E6hpcF7q0n2v7LIttF5dt58YQiI8MigD7uTkgHtXI618StY8Q6GulXn2FIn8j7VPb24jmvTEMI0z5y2B0H0PajqUa8fwX1e60vSLy3vNPnfU/L8uHzJAFDBiD5hGxsBTlVJYcZAp9n8G5ry3mvofE+i/2EkSyrqsbzGKXMgjwFCb9wc7eVqpY/GbxJpuj2NhaNYWn2YxkzxWqiSby1IUSHJ3DDMCQATVbVPiprWqadNp4i02y06RERbGzgEUEW2QSZVR3LDkmiWl7CGWPw7u5PFWv6LqGo2OkSaJHLcXt5c72iRY5Y4jjYCxO6Ve3Y1o6j8Fda0vULOzuJraNrue8hh2s+1xbwCcuOOQyYP4468VBofxNmsvE3ibXtQsrTUbzWLSS3MNxGHg3STwSFmXPQCJvzqeH42eIQt6Zo9LuZbqWaZJbi1DNZtLCInEHzfKu0Y/GnLS1ibs07P4B6nf6ydKt9a0+41AQ28zx28NzKYmmUNHEdsZC8EfMSFGeSKwtU+F+paX4MHiOW7tHiYjNrGXJUGRowTJt8vllI27t3fGMmrOlfGrxBpWqXV+ItOupbprWV0ubYOiSQIUieMZGGCkjJyPmPFZ9z8TtZuPDM2hFdPigm3CS6gtVSd0Mhk2Z6Y3H07DmkNGpo3whl1bw9FqreJNIsozYLqkkNx55eG1aRo/NJVDn5lI2jLd8YqS9+Dd9Y3yadd3VhYzK9+82ovPK8KxQRwSBtiqWzsnRumeo6giuZ/4TbUBpb6fi1Fu+ljR2/dgk24mMo5z13Y/M1oa18VNd16Z5LhrQFobiEgQj7k0cSN364gShb2Zokramy3wevbLUIbSeS11I6hdnTbJ4bh4lEpt4riOXlDlTHIPlIHMgzgqRUEPwV1eSw0W5i1HTW/tRVaOPc8YjQxs4ctsCyfKpJCsSvQgGmaZ8bPEGlyvKtvpVy5ljni+12ok+zSJAkAaMZ4JRBzUdl8aPEmm6TY6faNYW8VsyZMVqoacIpQCQknI2Ow4weeaehlcij+F8moKsuma9pWr2Ut7ZWEVxaSufNe4LhWKEBgAUIwRn8K6G3+CM3iCfRrfTbhbe5uLDzrySRJplNwbuaBdojQlQ3lqMtgDPJFYulfGTV9FvZ7i003Qo4XaCVLEaeoghlg3eTIig8ONx+YnueOaXR/jZ4i0QRLEum3MESKi2t1ZrJFlZ3mVx8wIYNIxz6MRSJ1bIte+EOr+GfDN5rN/cWcJt5Cj2n71iMSmI/vCuwHcCNu7d3xjmuJYNx97bk4DLjv8A/WNdnq3xa1rVtH1PTZYtNjTUHY3Nxb2axyuDJ5pUEE/KXwemflFcVkbsgfMwyT1P5/jQWFFFFAwooooAKKKKACiiigAooooAKKKKACiiigAo7jjNFFAGu0FtFbCWbaiAZLOcAVXN5pMbbWngVv7pYZ/Kq3i7P/CKTBSQzBADnH8a1v6Jofg/XLP4ZaN9gksrfVEubnU7lZrfzGKPMRucQB1/1a4G4jnpnFAGV9u0jax+0221eC3mDH50fbtI4H2i3BPQFxn6/T3qz4F8A+GPHkOoX6RXGk6esLRp9uv1MlvcLBIzMFEe3YWjAyxGSRjrVix+FHhm8l8NFry4s7a6tpjOl1ORcXN1HbK4WNVTbsdvuupI6r1NAGd9u0j/AJ+LfONwG8ZI55A79DS/bNJ+bE8DbSQdrZwR1rlvFPg2FLzX7nRI5hpOniF5Yr8GG4jaZQPLEbgO+G3YwuRzxg5rv7r4f6Tfap4IXUtH1CxsrzQS8yW1sEInDOMORGWOQynjJ46cHABkm80lc/6Rbdcf6wdckf0NJ9u0jr9otum7746YzWxpXwW0W/gvGnu/mszqsV0bS9VkjliaI26KxUHLCRiF77T6GtnUvgl4astS8QRx6ZrE1zpaXzLpH2kCeYQ3cEMcxG07VYTSHnGNvOKAOO+3aR83+k23ynBPmDANBvNJzjz7fOcffFbeqfCfwXY26C31LUNSa41B7WK+tFadICLsRCKRljCoDEd24nOcehxR03SfDFv478Sw+HbG6lvNBsdTa1g1CRblbqeKQLFImOuI2d9uOdox0oAox32kOwCXFu5Iz8rg9gf6irq2lsyqyopDDIxXKRwJqnwdvLq8gihmsNWhisLzyxHJOJYpHmjOPvbWSPnoN2OvFdLo3OlWh4z5Y6UAT/Y4P+ea0fY4P+ea1NRQBD9jg/55rR9jg/55rU1FAEP2OD/nmtH2OD/nmtTUh6HHXBx+VAEP2SDAPlrz04o+xwd41r0v4beDtA8TQabHqn2kXd9rFxaedDc8JHFbRSKAhGcsxxx61uf8K68IXLXpSLVtLi06zTUbqHUHaKWWLbJ5iorAHd5gixxyM4ptcugWPGTYwLndEqkckNwaBZ256Ih/GvcLH4d6T4mvtS8+DULi6ihtWtSspESBrBJSshRTghzjc2F565IzleLPhhpWh/DmbWkjvYtVtzZM8zyvJbyiZHc7CVAYgKPuk4zikNx5dDyT7FB8oEakt0xznjP9aaLW227tiEdcZ57duvcV7t4V+G+iw2/hnVEiv7G5mktVuri4kYI3mRSH5CV2MP3fO0kjisL4c+GdG8SeGtcs9RtF+0rqlnCdREmJbeF3dJDkDgcKM9ORQI8n+y23dYxnpk4z9PWnPp8MbMrRKrLwVbgj8K9i/wCFa6Y+g3GoP4d1i21ZIrl18Mtdl7m62SxL5ifLu2gSSnCj5tmRmuo8cfD7Sta8chn0vUryK4vBY3clrdkLpUaW0OHkG3gHdIfmxymOpAIB86fY4M4Maj/9ZH8waGsYYwC0QXIyNwxkHuPavUPHnw+0jQPBMeq6fFexTCS3iluLuRlWUvC7FkGNjg7ScoxI6d66zWPBmmeIH0Gd9LutXkeHTbOaPT7jb9jiMADTPgdNwOSeOmTkjIB4GbKADJjUCj7Hb7gpRFY9Axwema9Z8TfDfQ9H8B3OrWcd8bq0VGe8uZ2WCUGZlVo8LsbgcqG3d8YBNO0/4Z6deWOhJbafeXi31pbzSat9uMdt57zgNCRjBO3spLccDAOBAeSfY7fgbFBJAwevNJ9jgPAjGf7o69u34ivb/FHwz8M+GdDbVV0/VNzWPmLZXdy9uwm+2RwA5K7iuJCeR79qt6t8FdBs7O3kWy1QzrNd2zWvmOftTRW29BEWTc2SpwUBzijzDqeC/YoF6x49m4xT5NNSJtrweWevzDH4/SvbtN8A6De29vp03hy606eTWrFLp5pvNubWKW3kZkZgPlUsApDY5I71D4m8J+HZxe315b66skcFnEsWo7rVomedozJtZQdm1RgEds0tweh4otlAcfu856Zo+yW3ZEPbg9/T6+1e8ah8KfCEOtNZpZ6+6xNOjs0bbbjZtxJEQNzr82MoG6+xrlrHwJpUfxK1nQ72C/extYmeOG1dnkPCYH3d7feOVVS3twaYzzD7JbjJ8teOtKbO3C5Mage4xmvbf+FT6DHdPA9teTg313BNcQXLlNMSOFXTzMLwWz/F9Otc/wCPPBvhzQ9N1z+yY7qO80waewuGuzKtyJopHYhcZBBRenTNK4jzL7DAcYiU56Ui2tsyghFIPQj8q9f1TwX4O0nw/qlzJYX15c2OlWN6fK1Nl85p22uoG3jBIP4VuXPwZ8PQ2OvzXMV+6Wsd9cwXENy7ReVCygK7bdqtgnHOTigDwZbGF9oWIEs20Adc+mKRrGFWKmJVYdVbgjr19DxXuF18MtH0e4v20O6uNU1uGw/tjThZuZWMUtzGsClMcuInYn049Kl8UfCfRNP0/wASTx22pTX9iLudJpZSsAKxoxBcDCvljxIRnHGaYdTwr7HBnHlrnr+pH8xQLGGRNyxZXO3cBxnnj68HivbJvhToralqVhFpmqWzRxXJsLp7gldQkigV42iUjLZxngY5I68Vft/h3aQ+C7DR7u1uA7zwX93bszLceYdLMsiqApYtvyNuKAPBBYQf88qPscH/ADzX8q97b4M+HY9cu7IWerMjQ2stqsvmL5PmW7yMsmFLLyo5YADPJzgHwnd8xXIHzMCu7cRgkdaSdwIvscH/ADzWj7HB/wA81qaimBD9jg/55rR9it/+eY/CpqKAIfsVv/zz/Oj7HB/zzWpqKAIfscH/ADzWj7HB/wA81qaigCH7HB/zzWj7HB/zzWpqKAIfscH/ADzWj7HB/wA81qaigCH7HB/zzWj7HB/zzWpqKAIfscH/ADzWj7HB/wA81qaigCH7HB/zzWj7HB/zzWpqKVhEP2OD/nmtH2OD/nmtTUUxkBsoP+eYH0qjqkKQsmwYzWrWbrH/ACy/4F/OgDOooooAKKKKACiiigAooooAKKKKACiiigAooooAKB1oo/DNAGvNFa6jY/Zrgq0TrhgTisr/AIQ/QpMbrcD1/fN8vQ4X05z+dVr66WytJJ3Usqjp+OBUM95dWvh+31q409otPnkMUUryKDIwJB2rnceQeQMUAX/+EN0LO77LGrdTslYDI+7xnt7+9DeC9AwdtqnQKN0rHgE4GN3pzxjt6Vzq+LrdmAFvk5Cn5hwTjGfTr3po8Z2jYxCDu6YcHP6+4oA6X/hDdBc82q4ByN07k4yDgkkk8gdfwNIngrw+GybVBk5ysrKfzBz1Pr0zXO/8Jfb7Wb7MwVRuPPQVcv8AWH0xbRrmxMYuohNFiRWLISQDgHjoevoaOoGxD4T0O3kilS2CPGBtPnMcYOQDz83Pr69a1PJtpLrWbhpHM+tB47+UzuGnRpBIVODkDcB0P8Ncxb31xeeHrvXIdPMmk2ky2890JV2xyMu5VIznke3Y1m/8Jfb+Zs8kB842lwD1I9fY0AdEvg/w/wDeazVzwSDKwyeDjAOMA5xxn3q7pOkaZoN/b3mnl7S5gJ8uaGdwU6jpnHIZgfrXHf8ACaWq5JhAwMnLgY/z/UetaGh6rP4k1CGx07TnubqbOxNwUYGSxJYgADacknAxR1A6GfS9PutPtrGY7rO2Z3ihEjbFZjl2wT1Jx+VXoZIIYkjTbGijCj2rkptSuLfR7XVJNOYaddSPDDcq6sjOuNw4PB5HXr2q7BILiGOQLtDDIBNAHR/aI/76/nR9oj/vr+dc/tHoKNo9BQB0H2iP++v50faI/wC+v51z+0ego2j0FAHQfaI/76/nSi4i3D519evpzXPbR6Cl2j0FAG/9qXYqmXcqncF3cbgF+b6/Kv5VK1/5ryPJceY7qFdiclwOcH27da56O1kkjaRYmMasFZ9p2qxxgE9jyPzFLJZzxsVaB42DBSrqVIJzgHPfjpT16iZvpfeVv/ft8+3fhzhsAAZGemABSfbv9HihNwxjjGFTduVMYwFBI+X5Rxise50m7tJjFJDuYRpK3lMJFRXAKlipIXIPQ81X8hxGkhjYJJwrYOD06fmPzpD16nQxagYhGEn8tYySiRvgKeTkDHGSelNW6RFZfNOGwG+bhgDkZHrkmsjTtHutWuLWC0h8yS5bbCWYIrnGcBmIH60+HQr+fSbvVEtHfTrR1jmuh/q0ZiQoJ98GkwNc6i3n+d9pLSqMLIz4IwCBjuepzyPpTGvj+8/fuPMGG3SfMQOgI4yOvXPBrEaymjuEgeCRJn5WNkO5xk8gdSOM5HpWj4i8Lah4X1i50y9j3XVukby+SCygOiuuT2O1l/OmBba8V1RGm3RR5WOMtuVByPlz90EY4ApU1FlYn7TJ8y7WYSHLDGAOuMD3rAkt5Et0laMiKTISQg7GOccHoea1Na8LahoVxBDcJ5jTWkN4ixKTtjkXcpOOmRzzQBbW+2xpGLgqkf3I0chFx04yMd+3emi8UQ+QZj5Gc7N+RkZIPPoTnj0rB8ljCJghMJ6SYO09uD0pPLIg88riDds80/c3Zxjd060AdFNqDXe7zrnzQ3ykStuBHHUHPcZpW1JpNu64Zgn3Q0xOMDqD2z6DH1rA+xzCQoYJA4UMVZCCAehPoOKRrSaN4keF0eUZjVlILjjkDuORz70Abn24/MDOPnILsWA3MOQSO+Djqe1K96szu0lz5hJALOQxYd85znGTj0zWW2h6gmmyag1jKtnHN9meZ1ZVWUgkKeM54qXWfD95o981pNsuZooUkl+zkusWVLYJAx0z09KBNmh/aD7on+04khBWNi5Ypnj5D/Bx1Aojvlhl82OXypssd6tzyMHLDDHP171g/YpjLFGIG8yUAou05YHuPWmx20kkgRYmZySNoU5yM5H6UDOg+3YWVPtLbJfvhXYBumS3zfN+OelH2/duJm5bGQW4JGQM/hwMeprnhbuyTuIWZIP9ayqSI8DPzHHH40+WzlhVXkhZUb7rEHaenIPpyOaQG614JAytMWVlVDlyeBnHHfGTT11KRQxF3sLsXdQcqWJOWKsSpyD6VgJp9zJs8u1lYyfcxG3zcZ4454qU6PeC1tLnyN8V1v8AK2MGYlDhgVBypB7ECn0A6HVPEl5rOoG+u74yXkihDKCE2KBhVG0DAA9B3qsmobtwN18rtl1LYznglgD831NZljoc15DeTboYEtVZmWZirOQwUoqjlmGcnA4AJOKqNbT5h3RN++/1XU7+cfLxyPpSA3xqT7onN026PmM+axMfGcDJOOc8jHBo/tFlk3i4Yup37g+CzbQM9+cDGc9M1gfZZ1kWPyHEjN5YjZDuLY6beueRx71b1PQLrSpbeKVBK81nDfKIRnbHIm9MgdCQQcde2M0wNVtTZWlYXchaQbXZZSvmYHfB5/E9ulQ/aI+gdQo4AyAMD0H4msL7OwhEpTERbZ5n8O70z0zzTNo/u4+uaQHQfaI/76/nR9oj/vr+dc/tHoKNo9BTA6D7RH/fX86PtEf99fzrn9o9BRtHoKAOg+0R/wB9fzo+0R/31/Ouf2j0FG0egoA6D7RH/fX86PtEf99fzrn9o9BRtHoKAOg+0R/31/Oj7RH/AH1/Ouf2j0FG0egoA6D7RH/fX86PtEf99fzrn9o9BRtHoKAOg+0R/wB9fzo+0R/31/Ouf2j0FG0egoA6D7RH/fX86PtEf99fzrn9o9BRtHoKAOg+0R/31/Oj7RH/AH1/Ouf2j0FG0egoA6D7RH/fX86PtEf99fzrn9o9BRtHoKAOg+0Rf31/Os/VHWTyyrBgM5waoYA7Cj8MUAFFFFABRRRQAUUUUAFFFFABRRRQAUUUUAFFFFABR1oo57HFAFDXoTPpc0YUvkrlQM5AYGuq0H4rwWtz8OPt+nrJb+H7e5S8WHTLdPMd/NCYYIGONyNgnHHqKorpTNGG34LDgetOOktwGk29tpGOaAL/AIH+JmnC31C88XpfX2qzwm1aO3s41hni8l0XcoIG4MynJyPl6dDVvT/iR4djm8My31ndXM9naS2chgt2igtsweXHKsYk+ZwTk4IU4PGcVi/2Sf8AnoD9KP7JP9/9KAMLxhfaT4n1TXtVZZrbUG+zmxSytCIJ3ChZXl3PlSdoPHrXYN440O31Xwjcx3Fxcvp+kSaZfTXentIxJMmHQ7gQcPgHBxWZ/ZOOsgH1o/sk/wDPQD6igViSHxR4bj0nxjD/AMTHbqmpW91a2txbebmGF3Yo75H3g20emBmuvh+LHgaSe4tta0e/17SpPtEyRvbLG6b5YzFAOekaCUbueSK4z+yT/wA9VP4Uv9kt2cflQB1mu/F/wxfQxx2WkNHbx3YElvcWbMJoluUdJlAcIsgjTb93OC3rg87D8QJPGXjLxOuoyraW2qafqljpl5LEkBtFmYPGjMoGARHsznjzOe9Vf7Jfu4/Kmto5ZSC4weM4BxzQMxYbqKz+E+oafPP9pvdU1eOWKyi6Wqwxyq8pH8O8yxgDriMnHSpNPUrYwbvvBQtax0lm5DLk9cDPP5fzpTpLjHz44oAoUVf/ALJf/npR/ZL/APPSgChRV/8Asl/+elH9kv8A89KAKFIwDKQ27BH8PX/61aH9kv8A89KP7Jf/AJ6UAd58NfiXZeErTRIL5rmS1t9aur+8tULFJY5LSKOPdgqW2SBjt3dVz6V0tx8bNHlvNSmnRL2S3tY5tKnjs3XF8iugaTzJGYgiQsST1QcV5B/ZLjjfTf7LZRgSY+tNu4HsGjfFrw5C2sm6v9St47yG1U+TCd7vHYrA+CDggyBjtcFfmzjIFU/GXxN8Ma58KT4fsZryW7UWRhjuYXzEY43ST5i5RT8/VU554zivLP7LfJHmAkdqT+ynYcSjHqKQ27nsOg/F7w3a6P4St7u7vZZdNNp5tsIH8lQiSK5IZ2UsNy4ZAuQTkVzvwz+JOleFNI1Wz1J7s2s2qWWoLaIm6OVY5HLRlenAZW59K4H+yX6eYD9KP7Jfn9505pCPV4fippEehT6ZJ4l1afV54J0TxQ9lie0V3gYRKoYfKFidc/7VbGrfG3w7qXiaK/i1fVbOzgv/ALRdWqWpf+2IhbQRiOQs3H+rdcN8vzZ7A14h/ZL/APPUYo/sh8j96B9aYHoXxE+IWg+KPAtlptrNdNfwtbBLb7OUhijSExtkFyAw3YBTAOCSOlb1v8X9D8nRUi1XUdFkshYm5eC0D/bUhh2NbsQwJX6/KeDXj39kvk5kGfSg6Ww6ygUAen+LPiZ4e8QfD240iGe8iutqm0sBblIYT5xbLDe0eQD1UbucA9QV0v4leH0sPD8cmrapZ2dlZW1rdaLb2ivG0qT7nuFZmI5HptbHQ9j5f/ZLj/lspNIumMoJ3hfUmhaAey+NPjdpF9pMo0S+vl1drA2j30ccqyMDewyEbpZGY/uY3GMgfNxV/XPjV4TvrW1gt76+S4jluxDeC2leWzjktjHGwLycsrnooHUnPY+Gf2Sy9J1/A5o/sl+nmYOPSgD1vSfi9pNjeWiX+uaprNraaxYX8hntygvkhgeOTcqMOrMrZY7jtPPqzxJ8arG7tdRitZ3aWWCzgWe3t5Y3mRLh5ZUkaSRicgoPQ7RXk/8AZL8fvR07Cj+yW/56igR7pqvx18OXXiCGeGf7PaL9p+zypYT+fbCUINnmNOWA4J+TaAVGBjNcZo3xA0TS/itrOvRXV3Fpl1A8UVzPCXuCxVBuJQqy/dbByTzyetefHSXH/LTn6Uf2TJz+9H5UDPYYvi94ahuJ2hvtWhtI768uJbaRC7atHLCqIJmBGChBxknr1rnviH8U7TxlY69ZR3F29rN/Zh023nVjHbeVDKkwUE8HLrz37ZrgP7Jfj96Pyo/sl/8AnpSsB6drHxs2+GdYsNK1TVLOSTRtNtbIRkhYriI/vivPGVyM/wC1V3xV8b9Lk0rV/wDhH5byw1O4N2IriGEI6iXUIZwFPp5aSA5ryT+yX/56Uf2S/wDz1FMD2S8+Kng3UtYutSae6tTH/avk26WXmCY3dsiAkk4G1wx5HU9O9SyfGLwq66Zm91Lz44JLdZlgciyzaGFJEUvgMGP/ACz2jkn0rxb+yX/56ij+yX/56igD1/Qfif4Wjv8AQ5dX1vUL2XSdSivWu5tPBa9AtxGysFI6EdWyTk81L4F+MXhXRbm3uLu4vrd1i02GZfJlZJYoY2WWPCSDJJbGH3JgZwSFI8aOkv8A89Aad/Zb4/1g/KhaAekeKPiZoOu/DGPRIbu/a8iiihgtPIKRRhZHY7lLsmQHxuXBOOleTH73QenGcda0DpT/APPQUn9kv/z0oAoUVf8A7Jf/AJ6Uf2S//PSgChRV/wDsl/8AnpR/ZL/89KAKFFX/AOyX/wCelH9kv/z0oAoUVf8A7Jf/AJ6Uf2S//PSgChRV/wDsl/8AnpR/ZL/89KAKFFX/AOyX/wCelH9kv/z0oAoUVf8A7Jf/AJ6Uf2S//PSgChRV/wDsl/8AnpR/ZL/89KAKFFX/AOyX/wCelH9kv/z0oAoUVf8A7Jf/AJ6Uf2S//PSgChRWgNKf/npVe6sza4LPuLdBQBXooooAKKKKACiiigAooooAKKKKACiiigAooooAKKKBQBf16+k03w+9xCVEqhVUsOm5gv8AWrv/AAg3i5tA8L3Ftcx3ereIvMa1sY5LdUCKXwd7SdSI2PPAxzjIzU1jT5NW0NraJwkjAFWYZAIIP9Kr6XL4r0e48OzW15ZrJ4fjmjsGkjJ2rKX3A/g5/OgCvb6D48urm6t7eOC5mtYPtEqwXltJ8mwyfKVkO47QTtXJ46ZpT4f8fLf6XZG3QXWpQG5tojcQZaMR+YWb5/kAXB+bHUDrxV7wRfeLPh/p09jo11p6QTMzlri3LOrNG0bYI5wVc8Vf03xV420mLTorO8sreKzSRFQLJhxJEI3VzuyVxnjPpxQBw/iDVvE3hPVpNM1U/Zb2MKxhYq25WAIIIJDDBB4OPeukuvD/AIse50W0012vbq+0sakVZrWNEjBfJ3CQqANp+8QenHNUb7TNc1FNWW4XTZTqaxrK8sbSvGIxhVjd8lR9K131LxK1xos0aaRA+jWrWdn5EckeIyWPJUg556jn8M0AYK2vjVtJudTWJHsLe8NhJMJ4MeeGVSow+WGXUbhkc9av3vhn4gadq0Gm3EFvFdzPNEi/brZl3xFRIhcSbVZS68Eg81rweIPFyz6u01zYNHq9wZ70rAdzqXVmCj7oYhFw2M5xyOa19V8e+Km8UanqWjppen2Vxc3UsNnJAXAE8ySszn/noSiAkcfLQD20OKutH8d2LhLiCOKdrprJLd7iASySrL5TBI9+5wH43KCO+cc1qWfhnxbp+seX4jZtI0+GxuNSmuY/LnJhh+Rgm1iCxdkTHXL1Pq2veL9a1SHU7u60+XVLe6e9tr1oX823kaUSsEO7puA49qsWeta5eeIri811oruxvbO5sL23tpHXzI5vmZ1DHCt5gRxjulD20A5R77UJvA7eILLUPMe0vPsV9ayRqpjDBmhkXB5DBJA3ugrpNOme6sLeaQ5dkBJ+tZDaHcW3gdtBsikMt3drd6hdyMWMwjDpAijHAVZJCfUtWzY2/wBks4YchiqgEigCeiiigAooooAKBnOAcE8UUe2Dg8H6GjTqB0vhn4eat4u0lb3TTZHzLtrGO3mm2SyyqiyOAO+1HDf/AKjWpcfBvxJa3kEUa2t008saJJDOfuMrsHOei7Y35PcD1FZHhnx1qXhT+zXsBCk1leS3ySMpyWlhSJ0OP9hMZ961ZPixqazat9ls7W0t9SslsHgBkkWFFPysm48MAW/76NN2voHURvhTqVwdQe3ltbeCxjt2dry6CGVpLZZhsPupzzx2PPFZ2o/D3V9N8Mw6+xtZrCTy9y20wkeHzAWQMBwQwU8jOO9auj/F3UdImupU06waW4jhjVwsiGHy7dIBjaw3fKmcHj8qbr3xa1PxN4SGhX1labX+zia6i8wSN5S7VIVmZejH0+vqhvyHaT8JdUu10K4le0eLVCphtYbsGVA6OUJU8AHae/HGetZHh3wHqHiaO5kgurGxt4JhbCfULhYFaVslI1JIyxAbHbg1s6X8YNS0nS9IsoNNsY/7PeKQSL5hDtGjKvyFio4dugrG8P8AjVtEs7yzn0ew1e0up1vDDfI2yOdQwVgFYZwGbg8c+1AjSs/hD4hvrW0lT7Gk9wInFlJdAXEcUjhElZeyMxUZ/wBoduast8Hr2Ga7S91nSYYobO6uUmhuGk3tAVDoMA4ILCnab8ZtU05bV4rCwTUIRDDJqCRFZJbeJ1dImUHbtBUc4zwPesa08fXMEccUlhZyQ4vVeKRTsYXZUyA4IORjinFXeozUh+D+v6klzPaQxxwx4wtzNzM/lLI6gjoQrA8+uOtJcfBfxJbyWkUYsLya4kjiMFrdqzwtJG0qBxn+4jNx6VLF8aNWaxuLKeztbm3kdXhVmkQ2z+UkTMpV+cqi5z6VHY/GTW9P1K4v4YbZLiee2nYhW6wwPCAec/Msjc5qZPXQdkZt/wDDXX7PxRYeHxDHdXt+qyWxt3Plzqc/MSRxjB646Vrx/A/xPJMwRtPa28pJFvPtRWKXexVVUnndlW68DBzjjOX/AMLH1C38Y6f4j0+2g027sdogghaR41AzkZZsjhm6eta9j8Zruw1r7fFomnhlRFjVmmPlFWLEhjIWIJJO08dPQUdBGUvwv1ibw7Dq0E1jdRvCtx9lW8Bn8lpTEJNvZd4x69OMc1cuPg3r1rdQRS3WnpayQyXD3rXW2GJEZVcuTzwzqPfPGcVdm+MM1npemJp2nWqaolhHbXeoyRt5rYnaUxKCxXZnbnjP60al8btQ1ZVt59F07+zDHNDPYMJHiuFldHbdluPmjXGB0JoXmIzl+FmovBar9psbdz9pae9kvk+yiOJkDPuB6DzE+u7imv8ACPXobfU5rhtPgisG2M09yAJf3Ql+TnoUIbJ+nWlt/ildRxLaPomkyaWY7iGXTvKYQywzPG7RHBzgNFGfwq1B8Z9Whk1OU2Fi812Akb4lX7OvleVtXD/MoUDhvb0pRv1A4BfmjDD7h6Y5X8DRTVXaByzHGNzfeOO5/wD106qAKKKKACiiigAooooAKKKKACiiigAooooAKKKKACiiigAooooAKKKKACiiigAooooAKKKKACiiigAooooAKzdY/wCWX/Av51pVm6v1j9s0AZ1FFFABRRRQAUUUUAFFFFABRRRQAUUUUAFFFFABRRRQBO2pSwx/61VRRk7uKjbWGViDcRg+7D6VleIs/wBjzgHGSgJ9twzXa6P4G8Ka7Z/DTSInuLOXXEuLrUb428XmBo3mYANv4H7vGCB1BoA55dcLY23MTZxjDg5zj/EUja5tUMbqIAjIy49M/wAq1fBHwr0b4hR3lzpl1qllp/k7bd7wAulwsLuylVVsL8i/McL8wGc8VZ0z4L6PfS+GzDq09tZXltM9zNPG0LtcRW4kaFIvL3MW4wwBX3oAwxrLNnFxHx1+YemaDrDqwU3EYJOB8w61heIvBYh1DV30OabUdD0024mvJoJIDD520KkiyKrfKxPbt6V6Frnwd8I+H7zUY28Q3942mWU9zcRW1rIhn2CLY0byKEYMZG+6SRtoA5oa0SMi5iIzgtvGB9T2o/tlt2PtEYPHVwOtdzB8D9F0OLxRLL9p1nbpuqGzljUNHatEIzEJBn5pT5hxj+6aqwfs52viK+kttC1loI2sReW1zqKtGJNsoSTfEwDqQXQDIGQcjOKAOQ/to5x9piz1A3jJ+nr1pP7aPA+0x5PI+cVr+MPhvp3hPwvqKpa314dN8RW9heXiLgOvkPvMb9kDKBzxW9qHgPwWfFHjOyfTNStdOjFitnLvDPmadF8yInAICsSeaAOL/thwyr56Bm6DIyfoPSl/th+AbhORkcjnr/hUHjXw9beD/B9vawRw3Nzc6xfQXN66ZYrbOERQc/KGWTJx1xx0q74L8H6V8Sb+71E2UukWzXtrZfYNHG77IJFIa6csciJNo3e7igCv/bRxn7THjG4/OOnPP6GnpqksjAJMrE9Npz6/4GuRn1i30eOCzttOsbu90vUZ51v2zJ9sjUqBEyd1zGwGO7iup8a6HaeHfipqNnYL5NuyRXH2bAH2dpY0keLr/CzEUAT/ANoXH9+j+0Lj+/VcDGec0tAE/wDaFx/fpft9x2bNV6C23kdvm4745x+lAFj+0Lg9HGOlIdQuFYKX+Y9u9d/8Nvh1ofjC00ldRvNQtb7UdXuNPWSCSMRJFDbRzZK+UWJYsVGO9b8Pwj8I6k91Jp2r62tjp1vHqN8l9A0LragSGQqkkCPuDLGBxghzjNNrlYjyFdQnkOFkVjnGAfbI/Sg6jOpIMigjrk4r2W2+E+leJL7UFuLnUluI7WzFnFEqRo4OnpMVkfymTcGGPnKg5PPGDkeKvhJpugfDeXXIrrUE1i3Fm1xBLg222dHdShWJFzhRna7AZ5GeiHseYtqM68GQDnA9/p60DULhsYbORngE8Yz/AFr2nwb8KNHmXwpqlre6n9ou5rWO8NyE8lDKkjLsDwjcDheVZsZ59sL4ceBdE8XeF9ahvYbiLU/7XsbWHUVdQYI5HdWJXYeOFGQO4pXA80+33HXeMevag6hcqwG7BPPTNereIvhn4J0PT9XvYb/xHdxabbsWt5Lf7PJ5pukgGGmtl3IQ5b5QegOa0tR+D/gfTdWvNP8AtPiWSS31qy0d5PtVrtYXCbg/EHKrggj3oFzWPF/7Qud23ed393HNJ/aFwGwWweeDweBmva5PhT4ek0HQZ9Vn1RjIbCxUWAtohme4uI2Z/wBzyQIV/Os7VPgjpel+DdevWvNU/tPTYGniTAME8KXfkAtshVdx+bjfnCn5eQaVyl72p5L/AGhcf3v8/wCTR/aFxuC7xuPQetei6H8MtJ1Lw74fupG1ia91a2kuGu7MRfY7IiVUxIu0EHDf3wa3ofg54bkj1eWf/hJbCy01r1HhuXhR7ryYfMWSEmMjYSP9o8j5uxelrgeO/brkjO78O/5Ug1C4bGG3ZGRt565x/I13918NdOb4kaZoNrdXw03UNOOoRMzI06MbJ51jJCYOXjUfjWxpvwf0KO0sW1htciubxtKiENvJFCY5LtZS5YNGchPL6Y7/AJtapNCPKDqFwpwWwfTvQ2oXC8FwDnHX/PrXqt98GdNsPAOpas9zqUeq2kAuxE+HtpImuvJyNsKpllGcb8jHK85rP0f4Y6XqXhe2u5JdWS7uNEl1X7ZGYxp0LK5UQuAo+bAH8R69O4bA86/tC4/vUf2hcf36rrkqp6BgH2jnGQOD7jn86WkBP/aFx/fo/tC4/v1BRQBP/aFx/fo/tC4/v1BRQBP/AGhcf36P7QuP79QUUAT/ANoXH9+j+0Lj+/UFFAE/9oXH9+j+0Lj+/UFFAE/9oXH9+j+0Lj+/UFFAE/8AaFx/fo/tC4/v1BRQBP8A2hcf36P7QuP79QUUAT/2hcf36P7QuP79QUUAT/2hcf36P7QuP79QUUAT/wBoXH9+j+0Lj+/UFFAE/wDaFx/fo/tC4/v1BRQBP/aFx/fo/tC4/v1BRQBP/aFx/fo/tC4/v1BRQBP/AGhcf36P7QuP79QUUAWP7QuOfnqKW4lnx5jZplFABRRRQAUUUUAFFFFABRRRQAUUUUAFFFFABRRRQAUUUq/eFAEV5Zi7tZIJVby5FKnH86o/8IzbGSNk+0KyHKMrk7cnJA9Op/OupvL6LS9N+0yg7FHO1ck1Rk8S7dHTVZNMvk0xpPJW4aNdjPkjA556GgDFh8L20S7USaKP5WKq7AEjA6Zx0GPxoPhe3bYGFwRGAF/eMcdB8vTHAHQ9qtn4g6apINvcA5xjYme3v7il/wCFgaac4t5zjH8Cf4//AKqAKbeGopC/mG5YSYL7pXbf/vgnBxgYHNDeGYZI9shuZF2lQjTuV2n7ynIOAeOB6VcX4gacxAW2uWb+6I0J/LNPtfHNlfMq21ld3LMMqsESuTxnjBOeOaAM8+FreWORH+0bJQxdSxwzNncSB169falfw3DJIzsbrcQRkyEtgnpnHT29quf8LA04dba4HflEH9aWLx7YTlxFZ3UhVGkYJEpIVQSxOD2Cn8qAKcnhuFo3j3XToxJKmRgrZY/eUdTjBpG8Mwt1NySAAN0rkDHTvxVtviFpke4NBOCuc/Inb8f/ANdWdP8AF9vql0tvZ2F3czMGYJHEhJCglj16AA/5IoAgjsXXRZNIZ7iSwef7SYZTvAk2kFgTzn5jVFPC9tHnYs6My7CwJ5HTOM+latt4wt7ya0hh069eW7kEUCeSoMrkgYUZ5OSPpmn6f4qj1S7NraaZfT3Chi0aQruUKMnPPGAD19KAMzT9Ag069trqKKQyW7rJGkmWXIPAP0PPSrT2LTapc6lO0txfXDtJLNJyzuTyfocDHpirsfiFri1trmLRtSmguZXggeK2DiWRcblXB+YjI4HrVfUPGEOk3TWt/peoWN2oBa3urYRSjIyMo2CMj2oAPKfA+Rs9+KPKf+435VD/AMJ9p23d9muNucFtiYHOOTnjmprfxjb3lndXVvp95Nb2sayzyJEpEaswUFueMsQPxHrQAeW/9xvyNHlsvOw8EcY96lm8VRWc1pHdWF1bfaokngaSNVV42+6wIJyP8mtxcn+EEnnpzQBhw3N1brGkc88axyeagUkbXwBuBHQnavPtUs2q6leSTy3F1czzTII5WkkZjImclGJPI9q1GuIo22u8aEYzuIGMgHn06j86QXEUgyro2OTt5PftTd+oFCHWtVtvNMN5cxmZUWXbIwDhVCgMPQKAOKJNY1KSzjs5Ly6ms4iuy3klZovlwB8p+nHpWtqEY024WKWWAuyqwEcqyfeUOBlScHac469aiWVGk2B4y/GFyMnJwMetIZmw6zqscVrANQvDDasDAplYqmOAQO2BUNvdXtrDNFBPcRpMF85VY4cqRtzj0IBrf023OrX0NpbvCZ5CNqs6oOemSSAPxrQ0zw3Pqml6pqUc1rHY6asbzTzSBUy7bUUHPJJz09DQI5e+1bUtTG69vLy43RhCssrMdoO4Lz23BTUf9qag0hke5uJJGkW4ZmduZAPlb6r0/GtNbqFnRVkjZ5PuqDkk4zx68c0q3MLLKyyxMkRIkZWBCY67j2/GkBl/2lqBhjiN3cmNSpVWkbClSWQ/gzE/jUza/qzWj2hvr420jF3iM7FWYvvJx/vE1fWaNohKHjMZ6OCMH6HvSfaItoYOhXO3PbPp/n0NFgMuPUL6GwawS6uI7OQkvBG7BCTk52/WpLjWNTvlU3F9eMVjaIbpWOEYYZR7HAq+11GrFRJGWxngg5HqPX8KsSW4j0+G8ae3MMxZVxKhIKgFty5yuNw6gdaegGF/aF8t3FdCedbmMAJMrkOgAwFB9gMfjUtxrWqXUxlnvbqSVmWRnaRnO5PuEZ6Y/kTV/wC0wqoYyxhWXcGJwMYznP0pFvraRnC3ELNH98BwSvTkjt1H50AUf7Z1M2Rs/tt0LMg5txK+zk7sYPbd834VH/aF8umtpy3NwNPdtzWvmsIjyCflHbPOK1lmRow4ZChAO4dMEZH6U37TFtU70IbgH3wTg+nANF7gYXluxJKkknPTB9/w4FGxjxtOfTFb/nRs20PGT1+UjpnGfpnisxNfW51d9MtLC81C8RXYrbxq3CqWbHPOFBP4UdQKflP/AHG/Kjyn/uN+VTP4lMenDUH0XVE08kD7W1niHJJAG8/Lzg9+1Uf+Fh6Wf+WM3b+FO4yP4qOoFjyn/uN+VHlv/cb8qrn4haaOttcA4zt8tM/lnNaa69H/AG1LpM9ncWd/ExR4p4wpDAZI4Ppz6UAVPLb+635Umxv7rflXRLjb0wfel/AflQBzmxv7rflRsb+635V0f4D8qPwH5UAc5sb+635UbG/ut+VdH+A/Kj8B+VAHObG/ut+VGxv7rflXR/gPyo/AflQBzmxv7rflRsb+635V0f4D8qPwH5UAc5sb+635UbG/ut+VdH+A/Kj8B+VAHObG/ut+VGxv7rflXR/gPyo/AflQBzmxv7rflRsb+635V0f4D8qPwH5UAc5sb+635UbG/ut+VdH+A/Kj8B+VAHObG/ut+VGxv7rflXR/gPyo/AflQBzmxv7rflRsb+635V0f4D8qPwH5UAc5sb+635UbG/ut+VdH+A/Kj8B+VAHObG/ut+VGxv7rflXR/gPyo/AflQBzvlt/db8qQqVxkEZ6cV0R59PyrN1fjyhxjBoAzqKKKACiiigAooooAKKKKACiiigAooooAKKKKACjuKKUYzyM0AS+LIzN4UuIwCwYIGAznG9c/pmtbSviNobv8NbfVdNtGsdFt7gajH/ZqFd7ed5fBU7/AL0Z/wAmqq6oqxhNmVxg8ZpF1GENu8nkjngCgCz4D8XeFLyC/u/F1vDb3k0bW/2PT9NijhkTyXRXIEZIcMUPysp4+92NvT/FHgJpvDk2o2S+ZBaS288FpaRrbxSfZwqTMHhYs+/qD5g5z2FZh1OL/niP0/wo/tKHvD/L/CgDmvF3/CP+INT13Ubdxpsii3Fna2tvvjuW2hZXJKxiP1wEA64Br0DTfiJ4a0Lxd4X1jTytrMtncWeorbWKGCAPAIlZA0YZjn5j16GsT+0YO0P8v8KP7Sh7Qj9P8KALfhfVvAml+FNei1ieTVNWuBdrCq6dGsJfMZgkRRECv3Wzlu/SpdP+LNrD8RNdmghstI0K5i1S1s7m10xAyRzo6xF1xlgCAcY/j9jWeNSi/wCeX5Y/woOpQ/8APE/p/hQBd8I+LPCGk6PZx63FDeXNpqq3JaxsFH2yMzxljKrIAAEVsYYnnGOa1m8RfDGz1XRbXREWw0iGyv49QlutOMkk8rwCCHYcEqPlD5xxkj1rnBqUI/5Y/wAv8KDqUJ/5Y/y/woAt+FfiBZaXofgC0vNTUR+GtcNzPbrYD99CZYGDxkKcACNsq2DUkPiLSPE51JdPWLT9bvvDNxZvKqJaq9x9s83b2GTbqRuz3x61QGpQj/lj/L/ChtShZcGEYPBOBkc8449Kq+lgPN7V5LyO2025umttNWcyhWRmjiZwAz7R/ur930r2jQfGXgWbWLZdZY3Frp50hBdTWHmNdx21tJDMMYyN7GN8Mf4awP7UiY7jCSffH4Dp6Uh1KE/8sf5f4VIrHRaf4s+G+i6XpjLajU7+3JdftelwMse7T5YthXyhkCfym+8Rxn3rzTx54it9Q1iebQ1+x2l9YWaXsUUXkxy3EccbSMUHGBKm7AHO36V1I1KH/nj/AC/woOpQ/wDPJgeoIx6fSgDG8RN5fhLwDpjzC61CAXNywR/MMNvLKphiYjjICucZ4D4ODXUhQw+YblIxjA5yMdx/nFUF1K3VgRAOPYenH9aVtWjLE+W350DPVvhr8RLbwfY6VaXbySWqaxc3d3a7CYnje1ijiJAIJCyBmwGB+X3FdHN8YrKS41CTUZ7XVbm3tEn02a1sXji+2xq6KWSV2OCJCc56qK8F/tZP+ebfiaP7WT/nnTbuB7z4f+KGjWc2rrLfyRW11FarKq2zCWUpYpEfLZWwD5gYkOu05zg4Bql4q8faHqXwvOh215JLOps3toZoG8yFljYTBnyVOWYYCADivFP7WT/nnR/a6f8APOkNu573oPxV0W10bwxbXt2zrp0lr/o8Ns4EapHIsnmAsyucsvI5/WuX+Hvj618M6LrVrPNcQG+1PT7lY4hnMUU5Zw3GPu9hXlf9rJ/zzP4Gj+1k/wCebfnQI+gtP+LmlXMPiF9U1S4mF/c6hutriB5FkhkiK26xqG2KAcfeB5x8vcW2+MmgSXeiXV1cNeXVmZEhP2WQRWqm2EaMV8zcGDf88So5NfOX9rJ/zzb8TR/ayf8APM/gaVgPXT8RLW4+JsWt6hPDcr9ga1N/ZWkkWyUwuizbJHdmZWZT8zHpWxYfEmxgkt1k8UXjXdvc28l1qTWAzqMCKQ0JA5Xn1A+teFf2sn/PNvzo/tZP+ebfnT6WA911D41JHpN/baVe3dkjaMsFpCiY8u5FyHzzkZ2ZGc4+atCL4xaGt1BMJNl35V4v2qe1ZlimlS3KTEIytwY5F+Ug/N6V89f2sn/PNvzo/tZP+ebfiaVtLD6WPfJ/jLbTTRxtfKIpri9e9+x2bRRTq9okcRKs7M3zg9WyPakb4jadbp4bth4quryy021lz9oimMhu5ISPMbBHyKcKqqQffHXwT+1k/wCeWfxpf7WT/nkR+NN6kpWPZtU+IWiXHxfg8RK3m2j2KxS3EULKY7g2vlNKqMSSQ/PzE1dsviVaRpFDJ4qvPtsVxbzXWqtp4/0+JFYNEQOVz8vYD3rwv+1k/wCeZ/A0f2sn/PNvzoWisUe3+IPitpmsaHfacjTpZS6MYYbRosql0bouDg55EZPzZx82K+VtUvL/AEnxJe3FlLNaysGjEkZZSVZSpBI7EGu7/tdFz+7bP1pv9pQ7mPlZLd+M0krCKnw58ReHvCWnIdSL6iLzV7G5uNO+ysVighlZpAxZtrBhjAX1Oa7Hw9rXwx0y80YXd3JPHZWqQ3Jj0xVju911PI+8NGxyI3iUYA+717HmTqUX/PL88f4Un9pRd4f5f4UwDxn4o8Kap4Hl0vStMgtruGy01LSSKxWKQTq032pmdRzlXQeny+1cboN1d6r4yivrx5ri5mdnlnlyWZiGGT+GwfhXZf2jD/zw/kaVdSiU5WLa3Y4AoA0FpaoHVo+B5bZHfPWk/tZP+ebfnQBoUVn/ANrJ/wA82/Oj+1k/55t+dAGhRWf/AGsn/PNvzo/tZP8Anm350AaFFZ/9rJ/zzb86P7WT/nm350AaFFZ/9rJ/zzb86P7WT/nm350AaFFZ/wDayf8APNvzo/tZP+ebfnQBoUVn/wBrJ/zzb86P7WT/AJ5t+dAGhRWf/ayf882/Oj+1k/55t+dAGhRWf/ayf882/Oj+1k/55t+dAGhRWf8A2sn/ADzb86P7WT/nm350AaFFZ/8Aayf882/Oj+1k/wCebfnQBoUVn/2sn/PNvzo/tZP+ebfnQBoUVn/2sn/PNvzo/tZP+ebfnQBoYNZmrMD5X41J/ayf3G/Oql5dLcbNqsMDkk0AVqKKKACiiigAooooAKKKKACiiigAooooAKKKKACiiigAooooAKKKKACiiigAooooAKKKKACiiigAooooAKKKKACiiigAooooAKKKKACiiigAooooAKKKKACiiigAooooAKKKKACiiigAooooAKKKKACiiigAooooAKKKKACiiigAooooAKKKKACiiigAooooAKKKKACiiigAooooAKKKKACiiigAooooAKKKKACiiigAooooAKKKKACiiigAooooAKKKKAP/2Q==)![WhatsApp Image 2022-09-15 at 17.42.26 (1).jpeg](data:image/jpeg;base64,/9j/4AAQSkZJRgABAQEAYABgAAD/4R0CRXhpZgAATU0AKgAAAAgABgALAAIAAAAmAAAIYgESAAMAAAABAAEAAAExAAIAAAAmAAAIiAEyAAIAAAAUAAAIrodpAAQAAAABAAAIwuocAAcAAAgMAAAAVgAAEUYc6gAAAAgAAAAAAAAAAAAAAAAAAAAAAAAAAAAAAAAAAAAAAAAAAAAAAAAAAAAAAAAAAAAAAAAAAAAAAAAAAAAAAAAAAAAAAAAAAAAAAAAAAAAAAAAAAAAAAAAAAAAAAAAAAAAAAAAAAAAAAAAAAAAAAAAAAAAAAAAAAAAAAAAAAAAAAAAAAAAAAAAAAAAAAAAAAAAAAAAAAAAAAAAAAAAAAAAAAAAAAAAAAAAAAAAAAAAAAAAAAAAAAAAAAAAAAAAAAAAAAAAAAAAAAAAAAAAAAAAAAAAAAAAAAAAAAAAAAAAAAAAAAAAAAAAAAAAAAAAAAAAAAAAAAAAAAAAAAAAAAAAAAAAAAAAAAAAAAAAAAAAAAAAAAAAAAAAAAAAAAAAAAAAAAAAAAAAAAAAAAAAAAAAAAAAAAAAAAAAAAAAAAAAAAAAAAAAAAAAAAAAAAAAAAAAAAAAAAAAAAAAAAAAAAAAAAAAAAAAAAAAAAAAAAAAAAAAAAAAAAAAAAAAAAAAAAAAAAAAAAAAAAAAAAAAAAAAAAAAAAAAAAAAAAAAAAAAAAAAAAAAAAAAAAAAAAAAAAAAAAAAAAAAAAAAAAAAAAAAAAAAAAAAAAAAAAAAAAAAAAAAAAAAAAAAAAAAAAAAAAAAAAAAAAAAAAAAAAAAAAAAAAAAAAAAAAAAAAAAAAAAAAAAAAAAAAAAAAAAAAAAAAAAAAAAAAAAAAAAAAAAAAAAAAAAAAAAAAAAAAAAAAAAAAAAAAAAAAAAAAAAAAAAAAAAAAAAAAAAAAAAAAAAAAAAAAAAAAAAAAAAAAAAAAAAAAAAAAAAAAAAAAAAAAAAAAAAAAAAAAAAAAAAAAAAAAAAAAAAAAAAAAAAAAAAAAAAAAAAAAAAAAAAAAAAAAAAAAAAAAAAAAAAAAAAAAAAAAAAAAAAAAAAAAAAAAAAAAAAAAAAAAAAAAAAAAAAAAAAAAAAAAAAAAAAAAAAAAAAAAAAAAAAAAAAAAAAAAAAAAAAAAAAAAAAAAAAAAAAAAAAAAAAAAAAAAAAAAAAAAAAAAAAAAAAAAAAAAAAAAAAAAAAAAAAAAAAAAAAAAAAAAAAAAAAAAAAAAAAAAAAAAAAAAAAAAAAAAAAAAAAAAAAAAAAAAAAAAAAAAAAAAAAAAAAAAAAAAAAAAAAAAAAAAAAAAAAAAAAAAAAAAAAAAAAAAAAAAAAAAAAAAAAAAAAAAAAAAAAAAAAAAAAAAAAAAAAAAAAAAAAAAAAAAAAAAAAAAAAAAAAAAAAAAAAAAAAAAAAAAAAAAAAAAAAAAAAAAAAAAAAAAAAAAAAAAAAAAAAAAAAAAAAAAAAAAAAAAAAAAAAAAAAAAAAAAAAAAAAAAAAAAAAAAAAAAAAAAAAAAAAAAAAAAAAAAAAAAAAAAAAAAAAAAAAAAAAAAAAAAAAAAAAAAAAAAAAAAAAAAAAAAAAAAAAAAAAAAAAAAAAAAAAAAAAAAAAAAAAAAAAAAAAAAAAAAAAAAAAAAAAAAAAAAAAAAAAAAAAAAAAAAAAAAAAAAAAAAAAAAAAAAAAAAAAAAAAAAAAAAAAAAAAAAAAAAAAAAAAAAAAAAAAAAAAAAAAAAAAAAAAAAAAAAAAAAAAAAAAAAAAAAAAAAAAAAAAAAAAAAAAAAAAAAAAAAAAAAAAAAAAAAAAAAAAAAAAAAAAAAAAAAAAAAAAAAAAAAAAAAAAAAAAAAAAAAAAAAAAAAAAAAAAAAAAAAAAAAAAAAAAAAAAAAAAAAAAAAAAAAAAAAAAAAAAAAAAAAAAAAAAAAAAAAAAAAAAAAAAAAAAAAAAAAAAAAAAAAAAAAAAAAAAAAAAAAAAAAAAAAAAAAAAAAAAAAAAAAAAAAAAAAAAAAAAAAAAAAAAAAAAAAAAAAAAAAAAAAAAAAAAAAAAAAAAAAAAAAAAAAAAAAAAAAAAAAAAAAAAAAAAAAAAAAAAAAAAAAAAAAAAAAAAAAAAAAAAAAAAAAAAAAAAAAAAAAAAAAAAAAAAAAAAAAAAAAAAAAAAAAAAAAAAAAAAAAAAAAAAAAAAAAAAAAAAAAAAAAAAAAAAAAAAAAAAAAAAAAAAAAAAAAAAAAAAAAAAAAAAAAAAAAAAAAAAAAAAAAAAAAAAAAAAAAAAAAAAAAAAAAAAAAAAAAAAAAAAAAAAAAAAAAAAAAAAAAAAAAAAAAAAAAAAAAAAAAAAAAAAAAAAAAAAAAAAAAAAAAAAAAAAAAAAAAAAAAAAAAAAAAAAAAAAAAAAAAAAAAAAAAAAAAAAAAAAAAAAAAAAAAAAAAAAAAAAAAAAAAAAAAAAAAAAAAAAAAAAAAAAAAAAAAAAAAAAAAAAAAAAAAAAAAAAAAAAAAAAAAAAAAAAAAAAAAAAAAAAAAAAAAAAAAAAAAAAAAAAAAAAAAAAAAAAAAAAAAAAAAAAAAAAAAAAAAAAAAAAAAAAAAAAAAAAAAAAAAAAAAAAAAAAAAAAAAAAAAAAAAAAAAAAAAAAAAAAAAAAAAAAAAAAAAAAAAAAAAAAAAAAAAAAAAAAAAAAAAAAAAAAAAAAAAAAAAAAAAAAAAAAAAAAAAAAAAAAAAAAAAAAAAAAAAAAAAAAAAAAAAAAAAAAAAAAAAAAAAAAAAAAAAAAAAAAAAAAAAAAAAAAAAAAAAAAAAAAAAAAAAAAAAAAAAAAAAAAAAAAAAAAAAAAAAAAAAAAAAAAAAAAAAAAAAAAAAAAAAAAAAAAAAAAAAAAAAAAAAAAAAAAAAAAAAFdpbmRvd3MgUGhvdG8gRWRpdG9yIDEwLjAuMTAwMTEuMTYzODQAV2luZG93cyBQaG90byBFZGl0b3IgMTAuMC4xMDAxMS4xNjM4NAAyMDIyOjA5OjE2IDEzOjQ3OjU3AAAGkAMAAgAAABQAABEckAQAAgAAABQAABEwkpEAAgAAAAM4MgAAkpIAAgAAAAM4MgAAoAEAAwAAAAEAAQAA6hwABwAACAwAAAkQAAAAABzqAAAACAAAAAAAAAAAAAAAAAAAAAAAAAAAAAAAAAAAAAAAAAAAAAAAAAAAAAAAAAAAAAAAAAAAAAAAAAAAAAAAAAAAAAAAAAAAAAAAAAAAAAAAAAAAAAAAAAAAAAAAAAAAAAAAAAAAAAAAAAAAAAAAAAAAAAAAAAAAAAAAAAAAAAAAAAAAAAAAAAAAAAAAAAAAAAAAAAAAAAAAAAAAAAAAAAAAAAAAAAAAAAAAAAAAAAAAAAAAAAAAAAAAAAAAAAAAAAAAAAAAAAAAAAAAAAAAAAAAAAAAAAAAAAAAAAAAAAAAAAAAAAAAAAAAAAAAAAAAAAAAAAAAAAAAAAAAAAAAAAAAAAAAAAAAAAAAAAAAAAAAAAAAAAAAAAAAAAAAAAAAAAAAAAAAAAAAAAAAAAAAAAAAAAAAAAAAAAAAAAAAAAAAAAAAAAAAAAAAAAAAAAAAAAAAAAAAAAAAAAAAAAAAAAAAAAAAAAAAAAAAAAAAAAAAAAAAAAAAAAAAAAAAAAAAAAAAAAAAAAAAAAAAAAAAAAAAAAAAAAAAAAAAAAAAAAAAAAAAAAAAAAAAAAAAAAAAAAAAAAAAAAAAAAAAAAAAAAAAAAAAAAAAAAAAAAAAAAAAAAAAAAAAAAAAAAAAAAAAAAAAAAAAAAAAAAAAAAAAAAAAAAAAAAAAAAAAAAAAAAAAAAAAAAAAAAAAAAAAAAAAAAAAAAAAAAAAAAAAAAAAAAAAAAAAAAAAAAAAAAAAAAAAAAAAAAAAAAAAAAAAAAAAAAAAAAAAAAAAAAAAAAAAAAAAAAAAAAAAAAAAAAAAAAAAAAAAAAAAAAAAAAAAAAAAAAAAAAAAAAAAAAAAAAAAAAAAAAAAAAAAAAAAAAAAAAAAAAAAAAAAAAAAAAAAAAAAAAAAAAAAAAAAAAAAAAAAAAAAAAAAAAAAAAAAAAAAAAAAAAAAAAAAAAAAAAAAAAAAAAAAAAAAAAAAAAAAAAAAAAAAAAAAAAAAAAAAAAAAAAAAAAAAAAAAAAAAAAAAAAAAAAAAAAAAAAAAAAAAAAAAAAAAAAAAAAAAAAAAAAAAAAAAAAAAAAAAAAAAAAAAAAAAAAAAAAAAAAAAAAAAAAAAAAAAAAAAAAAAAAAAAAAAAAAAAAAAAAAAAAAAAAAAAAAAAAAAAAAAAAAAAAAAAAAAAAAAAAAAAAAAAAAAAAAAAAAAAAAAAAAAAAAAAAAAAAAAAAAAAAAAAAAAAAAAAAAAAAAAAAAAAAAAAAAAAAAAAAAAAAAAAAAAAAAAAAAAAAAAAAAAAAAAAAAAAAAAAAAAAAAAAAAAAAAAAAAAAAAAAAAAAAAAAAAAAAAAAAAAAAAAAAAAAAAAAAAAAAAAAAAAAAAAAAAAAAAAAAAAAAAAAAAAAAAAAAAAAAAAAAAAAAAAAAAAAAAAAAAAAAAAAAAAAAAAAAAAAAAAAAAAAAAAAAAAAAAAAAAAAAAAAAAAAAAAAAAAAAAAAAAAAAAAAAAAAAAAAAAAAAAAAAAAAAAAAAAAAAAAAAAAAAAAAAAAAAAAAAAAAAAAAAAAAAAAAAAAAAAAAAAAAAAAAAAAAAAAAAAAAAAAAAAAAAAAAAAAAAAAAAAAAAAAAAAAAAAAAAAAAAAAAAAAAAAAAAAAAAAAAAAAAAAAAAAAAAAAAAAAAAAAAAAAAAAAAAAAAAAAAAAAAAAAAAAAAAAAAAAAAAAAAAAAAAAAAAAAAAAAAAAAAAAAAAAAAAAAAAAAAAAAAAAAAAAAAAAAAAAAAAAAAAAAAAAAAAAAAAAAAAAAAAAAAAAAAAAAAAAAAAAAAAAAAAAAAAAAAAAAAAAAAAAAAAAAAAAAAAAAAAAAAAAAAAAAAAAAAAAAAAAAAAAAAAAAAAAAAAAAAAAAAAAAAAAAAAAAAAAAAAAAAAAAAAAAAAAAAAAAAAAAAAAAAAAAAAAAAAAAAAAAAAAAAAAAAAAAAAAAAAAAAAAAAAAAAAAAAAAAAAAAAAAAAAAAAAAAAAAAAAAAAAAAAAAAAAAAAAAAAAAAAAAAAAAAAAAAAAAAAAAAAAAAAAAAAAAAAAAAAAAAAAAAAAAAAAAAAAAAAAAAAAAAAAAAAAAAAAAAAAAAAAAAAAAAAAAAAAAAAAAAAAAAAAAAAAAAAAAAAAAAAAAAAAAAAAAAAAAAAAAAAAAAAAAAAAAAAAAAAAAAAAAAAAAAAAAAAAAAAAAAAAAAAAAAAAAAAAAAAAAAAAAAAAAAAAAAAAAAAAAAAAAAAAAAAAAAAAAAAAAAAAAAAAAAAAAAAAAAAAAAAAAAAAAAAAAAAAAAAAAAAAAAAAAAAAAAAAAAAAAAAAAAAAAAAAAAAAAAAAAAAAAAAAAAAAAAAAAAAAAAAAAAAAAAAAAAAAAAAAAAAAAAAAAAAAAAAAAAAAAAAAAAAAAAAAAAAAAAAAAAAAAAAAAAAAAAAAAAAAAAAAAAAAAAAAAAAAAAAAAAAAAAAAAAAAAAAAAAAAAAAAAAAAAAAAAAAAAAAAAAAAAAAAAAAAAAAAAAAAAAAAAAAAAAAAAAAAAAAAAAAAAAAAAAAAAAAAAAAAAAAAAAAAAAAAAAAAAAAAAAAAAAAAAAAAAAAAAAAAAAAAAAAAAAAAAAAAAAAAAAAAAAAAAAAAAAAAAAAAAAAAAAAAAAAAAAAAAAAAAAAAAAAAAAAAAAAAAAAAAAAAAAAAAAAAAAAAAAAAAAAAAAAAAAAAAAAAAAAAAAAAAAAAAAAAAAAAAAAAAAMjAyMjowOToxNiAxMzo0NzozMQAyMDIyOjA5OjE2IDEzOjQ3OjMxAAAAAAYBAwADAAAAAQAGAAABGgAFAAAAAQAAEZQBGwAFAAAAAQAAEZwBKAADAAAAAQACAAACAQAEAAAAAQAAEaQCAgAEAAAAAQAAC1YAAAAAAAAAYAAAAAEAAABgAAAAAf/Y/9sAQwAIBgYHBgUIBwcHCQkICgwUDQwLCwwZEhMPFB0aHx4dGhwcICQuJyAiLCMcHCg3KSwwMTQ0NB8nOT04MjwuMzQy/9sAQwEJCQkMCwwYDQ0YMiEcITIyMjIyMjIyMjIyMjIyMjIyMjIyMjIyMjIyMjIyMjIyMjIyMjIyMjIyMjIyMjIyMjIy/8AAEQgAPQEAAwEhAAIRAQMRAf/EAB8AAAEFAQEBAQEBAAAAAAAAAAABAgMEBQYHCAkKC//EALUQAAIBAwMCBAMFBQQEAAABfQECAwAEEQUSITFBBhNRYQcicRQygZGhCCNCscEVUtHwJDNicoIJChYXGBkaJSYnKCkqNDU2Nzg5OkNERUZHSElKU1RVVldYWVpjZGVmZ2hpanN0dXZ3eHl6g4SFhoeIiYqSk5SVlpeYmZqio6Slpqeoqaqys7S1tre4ubrCw8TFxsfIycrS09TV1tfY2drh4uPk5ebn6Onq8fLz9PX29/j5+v/EAB8BAAMBAQEBAQEBAQEAAAAAAAABAgMEBQYHCAkKC//EALURAAIBAgQEAwQHBQQEAAECdwABAgMRBAUhMQYSQVEHYXETIjKBCBRCkaGxwQkjM1LwFWJy0QoWJDThJfEXGBkaJicoKSo1Njc4OTpDREVGR0hJSlNUVVZXWFlaY2RlZmdoaWpzdHV2d3h5eoKDhIWGh4iJipKTlJWWl5iZmqKjpKWmp6ipqrKztLW2t7i5usLDxMXGx8jJytLT1NXW19jZ2uLj5OXm5+jp6vLz9PX29/j5+v/aAAwDAQACEQMRAD8A83RGkJCqWIBPHoOTS7DjJU49cUAKYnAyUYD6ULDI7BUjZmJwAB1oAGidc7kYY65HSjyn/uN+VACeW3PyNxnPHpTmgkTbujYbhkcdRQA3y2xnacHnpTlt5XYKsTlicAYPWgBDE653Iwx1yOlBicdUb8qAAwuBkxsPwoMLqcFGBwD09Rn+VACCNmOAjHjPA7Uqwu7bVRicE9Ow60APltZoWCyRMrEAgY9elR7Gzjac/SgCN3SJ9j8N6Y5pomjIYgkhRlsA8fWgBUljkOEbJqTAoAMCjAoAMCjAoAMCjAoAMCjAoAMCjAoAktp2t5mdVVsqVKtnBBGD0+tXJNZupbZrc7BGwAwAexz6+woAsN4huZUlEyI7Ptx1AGG3cjvUR169IUBkUKzMAo9SSf50AJPrl5cQtE5TawAOAexz6+wp/wDwkN/liHUFjkkZ9c+vrQAN4hv2iWMmPAAGdvJ4A5/Kl/4SK+DhgY8g56H0x60AMi1y6gt0hhCKqpsJOSTyefbr/jmmprd8nSXOFKjOTjpz9eKAFn129uITE5TyyuCADz/nFPXxDqAlkkLq7Sbs7gTjd1xzTAc3iK8a3ETrGx6FjnldoGDz6DrUMmtXckEsR8sLI2TtGD93bgfhSAausXiujq4VkjEYIHYHNSHXr05zsOQ2eD/F170AO/4SG+yCTGcHPQ/41GdaujfS3hEZlkBHK8LnI4/M0AtCrJe3L3j3YdRM6Iu7HI24wRz1+UUn2y5JkJZDvXbgqTt+bdkc9cjqc0APu7s3hiZokRkVgxXoSTknHaq1ABRQAUUAFFABRQAUUAIOprRs7rTY4VW7snmYEklZNueR/TNAEyXmi7fn0yUsT2nOAMf41U1CezuLnfZ2zW8ZzlC2ec9qAKlGRQAUUASQOkdxG8iCSNWBZM43DPIrRN5o5iA/s2QSbeT5xxuwOg9M5/OgCRL7Q1lDHSpSBk4M/B6Y7dOtLJf6IxymlyKw6fveOpPI78ED8KAMWjNABRQAUUAFFABRQAUUAFFABRQAUUAFFACDqa6G2n037Oi3HmbxnJjYc9MdfxoAf52k+d96fysf3lzn/OKcZtH2gZuMgjkMvI70AL9q0rdtKMY8cMrgMOOc9utRzXOnMg8gFWwAd5yOPx70APNzpL7CyyIQBuCMME9+pp7XGittP79dqgYDL8x7mgCo89q00Zyqpgbwh9+cZ9qsGbSAp2+ezY4DMuBx/jQA2SXSvKby3m3nO0FlwOeP0p7T6OS23zwCePmXgUAME2lZIYzYB4wy5P1p0d1pZiXzYmEgXko4wTk+p9MUAI1xpbTH76xYLcMN2c9PTGKRLjTB5gYSEHG1twyOTnvj09e9AEi3GjBWXExLdCWXjr/9aqtzLZeYBau2wdTIwyefb2xQBB5sf99fzo82P++v50AHmx/31/OjzY/76/nQAebH/fX86PNj/vr+dAB5sf8AfX86PNj/AL6/nQAebH/fX86RpE2N869PWgDKooAKKAEHU1ft3sRAq3FvMzgklkOM9Mf1oAf/AMSsz/6m5WLHTOSTn/CnltKAwkFwWx95z8oOPT60AZ8oBmcxqQhY7RjtTNrf3T+VABtb+6fyo2t/dP5UAPjCiVDIjGPcNwHUjvV5m0sIdlvcFscbzx09vegBsh03yW8uC4MpB25bCg54/SpGfSiW221yATnr0Ge34f0oAjVtN3NuguNueMHmliOmBF82C5LcZ2nA96AFV9LC4a1uSccEPjt3ppbTNzkW1zgr8gL9Dz1457UAIjaeFIa3nJ7Hd2p7HSzjEFyOTk5HTt+lAAzaW23EFwpz8xzxjnt+VMdtP3qUt5yuDkM3U9qAJc6QACILvPOQSPwpEbSg+Wt7kr3GR0x/jQBSuBEZibdJFiwMB+T05/Wotrf3T+VABtb+6fyo2t/dP5UAG1v7p/Kja3ofyoASigAooAQdTWvbz6cIEW4jkLjJLIw56Y/rQA8z6V5jbUm8sgYBYZzn6+lOM+lZ/dxyK2DgyMCAce1AFF5IzIxRgFycAntTd6/3h+dABvX+8Pzo3r/eH50AOjkiEimQ5TI3AHnHerxn0gKdkc5YjjcwwOPr60ANlm0ryW8pZvMIO0lhgHPH6U9rjRyTtimAJz94dPTr/n+YAxZ9K3Hck23PGGGce9LFNpIQeak7NxnawA9+9ACifSdvMUxP++B2ppn0rc2I5iNvy5cdef8A61ABFNpRbEqTAZ4KsKcZ9JI+5ODj+8P8aAGyTaUVYRpMG6KSRjtjPP1pJJtM3r5aS7Q3zZYcrQA5J9Kz88co47MDzj/GnLPo4fLRzle4yOmPr60AynPJbGY/ZyRHgYDkZ6c/rUW9P7w/OgA3r/eH50b0/vD86ADen94fnQXXB+YfnQBUooAKKAEHU1dgnsVgVLi2d3BJLI2M9Mf1oAk+0aas25bSQx8fK7578/pTbiaxe22wQtG+R945OeMnPp1496AKNFABRQA6MoJFMgLICNwBwSO9XjPpYQ7LSUsRxvfgce3vQAjzaZ5Z2W03mHOMvwOeP04pxn0p5N32aZVyxIDexwPzxQA0T6bn5rSXGTjEmO/H6U1pdOIG23lB3AnL547igB4n0sKR9lmyVHO/+L/ClNxpRfP2KYKSSR5vvx+lADPO07yNv2aXzN2d2/tn/CnrPpQXBtJiSOTv+vT9KAFjn0lUUPazucLvO/GeOcfjTZJtMctttpUyQRh/z4oAZJLp3mqY7aXYDyrSdak87SgARbT5xgjeKABZ9KB/49ZiCRxv7d/xqLzrALIFt5CWUBSX6HHNAEnn6XgYtJc4GcyZ5/8A10yOfTwCHtZDweQ/0/rmgCR5tKb7ttOOvO8fhUV1NYSI32e3kjkLZBLZAGT/AEoAp0UAFFADSiseRR5KelAB5KelHkp6UAHkp6UeSnpQAeSnpR5KelAB5KelHkp6UAHkp6UeSnpQAeSnpR5KelAB5KelHkp6UAHkp6UeSnpQAeSnpR5KelAB5KelHkp6UAHkp6UeSnpQAeSnpR5KelAB5KelHkp6UAHkp6UeSnpQAeSnpR5KelAH/9n/4THoaHR0cDovL25zLmFkb2JlLmNvbS94YXAvMS4wLwA8P3hwYWNrZXQgYmVnaW49J++7vycgaWQ9J1c1TTBNcENlaGlIenJlU3pOVGN6a2M5ZCc/Pg0KPHg6eG1wbWV0YSB4bWxuczp4PSJhZG9iZTpuczptZXRhLyI+PHJkZjpSREYgeG1sbnM6cmRmPSJodHRwOi8vd3d3LnczLm9yZy8xOTk5LzAyLzIyLXJkZi1zeW50YXgtbnMjIj48cmRmOkRlc2NyaXB0aW9uIHJkZjphYm91dD0idXVpZDpmYWY1YmRkNS1iYTNkLTExZGEtYWQzMS1kMzNkNzUxODJmMWIiIHhtbG5zOnhtcD0iaHR0cDovL25zLmFkb2JlLmNvbS94YXAvMS4wLyI+PHhtcDpDcmVhdG9yVG9vbD5XaW5kb3dzIFBob3RvIEVkaXRvciAxMC4wLjEwMDExLjE2Mzg0PC94bXA6Q3JlYXRvclRvb2w+PHhtcDpDcmVhdGVEYXRlPjIwMjItMDktMTZUMTM6NDc6MzEuODI0PC94bXA6Q3JlYXRlRGF0ZT48L3JkZjpEZXNjcmlwdGlvbj48L3JkZjpSREY+PC94OnhtcG1ldGE+DQogICAgICAgICAgICAgICAgICAgICAgICAgICAgICAgICAgICAgICAgICAgICAgICAgICAgICAgICAgICAgICAgICAgICAgICAgICAgICAgICAgICAgICAgICAgICAgICAgICAgCiAgICAgICAgICAgICAgICAgICAgICAgICAgICAgICAgICAgICAgICAgICAgICAgICAgICAgICAgICAgICAgICAgICAgICAgICAgICAgICAgICAgICAgICAgICAgICAgICAgICAKICAgICAgICAgICAgICAgICAgICAgICAgICAgICAgICAgICAgICAgICAgICAgICAgICAgICAgICAgICAgICAgICAgICAgICAgICAgICAgICAgICAgICAgICAgICAgICAgICAgIAogICAgICAgICAgICAgICAgICAgICAgICAgICAgICAgICAgICAgICAgICAgICAgICAgICAgICAgICAgICAgICAgICAgICAgICAgICAgICAgICAgICAgICAgICAgICAgICAgICAgCiAgICAgICAgICAgICAgICAgICAgICAgICAgICAgICAgICAgICAgICAgICAgICAgICAgICAgICAgICAgICAgICAgICAgICAgICAgICAgICAgICAgICAgICAgICAgICAgICAgICAKICAgICAgICAgICAgICAgICAgICAgICAgICAgICAgICAgICAgICAgICAgICAgICAgICAgICAgICAgICAgICAgICAgICAgICAgICAgICAgICAgICAgICAgICAgICAgICAgICAgIAogICAgICAgICAgICAgICAgICAgICAgICAgICAgICAgICAgICAgICAgICAgICAgICAgICAgICAgICAgICAgICAgICAgICAgICAgICAgICAgICAgICAgICAgICAgICAgICAgICAgCiAgICAgICAgICAgICAgICAgICAgICAgICAgICAgICAgICAgICAgICAgICAgICAgICAgICAgICAgICAgICAgICAgICAgICAgICAgICAgICAgICAgICAgICAgICAgICAgICAgICAKICAgICAgICAgICAgICAgICAgICAgICAgICAgICAgICAgICAgICAgICAgICAgICAgICAgICAgICAgICAgICAgICAgICAgICAgICAgICAgICAgICAgICAgICAgICAgICAgICAgIAogICAgICAgICAgICAgICAgICAgICAgICAgICAgICAgICAgICAgICAgICAgICAgICAgICAgICAgICAgICAgICAgICAgICAgICAgICAgICAgICAgICAgICAgICAgICAgICAgICAgCiAgICAgICAgICAgICAgICAgICAgICAgICAgICAgICAgICAgICAgICAgICAgICAgICAgICAgICAgICAgICAgICAgICAgICAgICAgICAgICAgICAgICAgICAgICAgICAgICAgICAKICAgICAgICAgICAgICAgICAgICAgICAgICAgICAgICAgICAgICAgICAgICAgICAgICAgICAgICAgICAgICAgICAgICAgICAgICAgICAgICAgICAgICAgICAgICAgICAgICAgIAogICAgICAgICAgICAgICAgICAgICAgICAgICAgICAgICAgICAgICAgICAgICAgICAgICAgICAgICAgICAgICAgICAgICAgICAgICAgICAgICAgICAgICAgICAgICAgICAgICAgCiAgICAgICAgICAgICAgICAgICAgICAgICAgICAgICAgICAgICAgICAgICAgICAgICAgICAgICAgICAgICAgICAgICAgICAgICAgICAgICAgICAgICAgICAgICAgICAgICAgICAKICAgICAgICAgICAgICAgICAgICAgICAgICAgICAgICAgICAgICAgICAgICAgICAgICAgICAgICAgICAgICAgICAgICAgICAgICAgICAgICAgICAgICAgICAgICAgICAgICAgIAogICAgICAgICAgICAgICAgICAgICAgICAgICAgICAgICAgICAgICAgICAgICAgICAgICAgICAgICAgICAgICAgICAgICAgICAgICAgICAgICAgICAgICAgICAgICAgICAgICAgCiAgICAgICAgICAgICAgICAgICAgICAgICAgICAgICAgICAgICAgICAgICAgICAgICAgICAgICAgICAgICAgICAgICAgICAgICAgICAgICAgICAgICAgICAgICAgICAgICAgICAKICAgICAgICAgICAgICAgICAgICAgICAgICAgICAgICAgICAgICAgICAgICAgICAgICAgICAgICAgICAgICAgICAgICAgICAgICAgICAgICAgICAgICAgICAgICAgICAgICAgIAogICAgICAgICAgICAgICAgICAgICAgICAgICAgICAgICAgICAgICAgICAgICAgICAgICAgICAgICAgICAgICAgICAgICAgICAgICAgICAgICAgICAgICAgICAgICAgICAgICAgCiAgICAgICAgICAgICAgICAgICAgICAgICAgICAgICAgICAgICAgICAgICAgICAgICAgICAgICAgICAgICAgICAgICAgICAgICAgICAgICAgICAgICAgICAgICAgICAgICAgICAKICAgICAgICAgICAgICAgICAgICAgICAgICAgICAgICAgICAgICAgICAgICAgICAgICAgICAgICAgICAgICAgICAgICAgICAgICAgICAgICAgICAgICAgICAgICAgICAgICAgIAogICAgICAgICAgICAgICAgICAgICAgICAgICAgICAgICAgICAgICAgICAgICAgICAgICAgICAgICAgICAgICAgICAgICAgICAgICAgICAgICAgICAgICAgICAgICAgICAgICAgCiAgICAgICAgICAgICAgICAgICAgICAgICAgICAgICAgICAgICAgICAgICAgICAgICAgICAgICAgICAgICAgICAgICAgICAgICAgICAgICAgICAgICAgICAgICAgICAgICAgICAKICAgICAgICAgICAgICAgICAgICAgICAgICAgICAgICAgICAgICAgICAgICAgICAgICAgICAgICAgICAgICAgICAgICAgICAgICAgICAgICAgICAgICAgICAgICAgICAgICAgIAogICAgICAgICAgICAgICAgICAgICAgICAgICAgICAgICAgICAgICAgICAgICAgICAgICAgICAgICAgICAgICAgICAgICAgICAgICAgICAgICAgICAgICAgICAgICAgICAgICAgCiAgICAgICAgICAgICAgICAgICAgICAgICAgICAgICAgICAgICAgICAgICAgICAgICAgICAgICAgICAgICAgICAgICAgICAgICAgICAgICAgICAgICAgICAgICAgICAgICAgICAKICAgICAgICAgICAgICAgICAgICAgICAgICAgICAgICAgICAgICAgICAgICAgICAgICAgICAgICAgICAgICAgICAgICAgICAgICAgICAgICAgICAgICAgICAgICAgICAgICAgIAogICAgICAgICAgICAgICAgICAgICAgICAgICAgICAgICAgICAgICAgICAgICAgICAgICAgICAgICAgICAgICAgICAgICAgICAgICAgICAgICAgICAgICAgICAgICAgICAgICAgCiAgICAgICAgICAgICAgICAgICAgICAgICAgICAgICAgICAgICAgICAgICAgICAgICAgICAgICAgICAgICAgICAgICAgICAgICAgICAgICAgICAgICAgICAgICAgICAgICAgICAKICAgICAgICAgICAgICAgICAgICAgICAgICAgICAgICAgICAgICAgICAgICAgICAgICAgICAgICAgICAgICAgICAgICAgICAgICAgICAgICAgICAgICAgICAgICAgICAgICAgIAogICAgICAgICAgICAgICAgICAgICAgICAgICAgICAgICAgICAgICAgICAgICAgICAgICAgICAgICAgICAgICAgICAgICAgICAgICAgICAgICAgICAgICAgICAgICAgICAgICAgCiAgICAgICAgICAgICAgICAgICAgICAgICAgICAgICAgICAgICAgICAgICAgICAgICAgICAgICAgICAgICAgICAgICAgICAgICAgICAgICAgICAgICAgICAgICAgICAgICAgICAKICAgICAgICAgICAgICAgICAgICAgICAgICAgICAgICAgICAgICAgICAgICAgICAgICAgICAgICAgICAgICAgICAgICAgICAgICAgICAgICAgICAgICAgICAgICAgICAgICAgIAogICAgICAgICAgICAgICAgICAgICAgICAgICAgICAgICAgICAgICAgICAgICAgICAgICAgICAgICAgICAgICAgICAgICAgICAgICAgICAgICAgICAgICAgICAgICAgICAgICAgCiAgICAgICAgICAgICAgICAgICAgICAgICAgICAgICAgICAgICAgICAgICAgICAgICAgICAgICAgICAgICAgICAgICAgICAgICAgICAgICAgICAgICAgICAgICAgICAgICAgICAKICAgICAgICAgICAgICAgICAgICAgICAgICAgICAgICAgICAgICAgICAgICAgICAgICAgICAgICAgICAgICAgICAgICAgICAgICAgICAgICAgICAgICAgICAgICAgICAgICAgIAogICAgICAgICAgICAgICAgICAgICAgICAgICAgICAgICAgICAgICAgICAgICAgICAgICAgICAgICAgICAgICAgICAgICAgICAgICAgICAgICAgICAgICAgICAgICAgICAgICAgCiAgICAgICAgICAgICAgICAgICAgICAgICAgICAgICAgICAgICAgICAgICAgICAgICAgICAgICAgICAgICAgICAgICAgICAgICAgICAgICAgICAgICAgICAgICAgICAgICAgICAKICAgICAgICAgICAgICAgICAgICAgICAgICAgICAgICAgICAgICAgICAgICAgICAgICAgICAgICAgICAgICAgICAgICAgICAgICAgICAgICAgICAgICAgICAgICAgICAgICAgIAogICAgICAgICAgICAgICAgICAgICAgICAgICAgICAgICAgICAgICAgICAgICAgICAgICAgICAgICAgICAgICAgICAgICAgICAgICAgICAgICAgICAgICAgICAgICAgICAgICAgCiAgICAgICAgICAgICAgICAgICAgICAgICAgICAgICAgICAgICAgICAgICAgICAgICAgICAgICAgICAgICAgICAgICAgICAgICAgICAgICAgICAgICAgICAgICAgICAgICAgICAKICAgICAgICAgICAgICAgICAgICAgICAgICAgICAgICAgICAgICAgICAgICAgICAgICAgICAgICAgICAgICAgICAgICAgICAgICAgICAgICAgICAgICAgICAgICAgICAgICAgIAogICAgICAgICAgICAgICAgICAgICAgICAgICAgICAgICAgICAgICAgICAgICAgICAgICAgICAgICAgICAgICAgICAgICAgICAgICAgICAgICAgICAgICAgICAgICAgICAgICAgCiAgICAgICAgICAgICAgICAgICAgICAgICAgICAgICAgICAgICAgICAgICAgICAgICAgICAgICAgICAgICAgICAgICAgICAgICAgICAgICAgICAgICAgICAgICAgICAgICAgICAKICAgICAgICAgICAgICAgICAgICAgICAgICAgICAgICAgICAgICAgICAgICAgICAgICAgICAgICAgICAgICAgICAgICAgICAgICAgICAgICAgICAgICAgICAgICAgICAgICAgIAogICAgICAgICAgICAgICAgICAgICAgICAgICAgICAgICAgICAgICAgICAgICAgICAgICAgICAgICAgICAgICAgICAgICAgICAgICAgICAgICAgICAgICAgICAgICAgICAgICAgCiAgICAgICAgICAgICAgICAgICAgICAgICAgICAgICAgICAgICAgICAgICAgICAgICAgICAgICAgICAgICAgICAgICAgICAgICAgICAgICAgICAgICAgICAgICAgICAgICAgICAKICAgICAgICAgICAgICAgICAgICAgICAgICAgICAgICAgICAgICAgICAgICAgICAgICAgICAgICAgICAgICAgICAgICAgICAgICAgICAgICAgICAgICAgICAgICAgICAgICAgIAogICAgICAgICAgICAgICAgICAgICAgICAgICAgICAgICAgICAgICAgICAgICAgICAgICAgICAgICAgICAgICAgICAgICAgICAgICAgICAgICAgICAgICAgICAgICAgICAgICAgCiAgICAgICAgICAgICAgICAgICAgICAgICAgICAgICAgICAgICAgICAgICAgICAgICAgICAgICAgICAgICAgICAgICAgICAgICAgICAgICAgICAgICAgICAgICAgICAgICAgICAKICAgICAgICAgICAgICAgICAgICAgICAgICAgICAgICAgICAgICAgICAgICAgICAgICAgICAgICAgICAgICAgICAgICAgICAgICAgICAgICAgICAgICAgICAgICAgICAgICAgIAogICAgICAgICAgICAgICAgICAgICAgICAgICAgICAgICAgICAgICAgICAgICAgICAgICAgICAgICAgICAgICAgICAgICAgICAgICAgICAgICAgICAgICAgICAgICAgICAgICAgCiAgICAgICAgICAgICAgICAgICAgICAgICAgICAgICAgICAgICAgICAgICAgICAgICAgICAgICAgICAgICAgICAgICAgICAgICAgICAgICAgICAgICAgICAgICAgICAgICAgICAKICAgICAgICAgICAgICAgICAgICAgICAgICAgICAgICAgICAgICAgICAgICAgICAgICAgICAgICAgICAgICAgICAgICAgICAgICAgICAgICAgICAgICAgICAgICAgICAgICAgIAogICAgICAgICAgICAgICAgICAgICAgICAgICAgICAgICAgICAgICAgICAgICAgICAgICAgICAgICAgICAgICAgICAgICAgICAgICAgICAgICAgICAgICAgICAgICAgICAgICAgCiAgICAgICAgICAgICAgICAgICAgICAgICAgICAgICAgICAgICAgICAgICAgICAgICAgICAgICAgICAgICAgICAgICAgICAgICAgICAgICAgICAgICAgICAgICAgICAgICAgICAKICAgICAgICAgICAgICAgICAgICAgICAgICAgICAgICAgICAgICAgICAgICAgICAgICAgICAgICAgICAgICAgICAgICAgICAgICAgICAgICAgICAgICAgICAgICAgICAgICAgIAogICAgICAgICAgICAgICAgICAgICAgICAgICAgICAgICAgICAgICAgICAgICAgICAgICAgICAgICAgICAgICAgICAgICAgICAgICAgICAgICAgICAgICAgICAgICAgICAgICAgCiAgICAgICAgICAgICAgICAgICAgICAgICAgICAgICAgICAgICAgICAgICAgICAgICAgICAgICAgICAgICAgICAgICAgICAgICAgICAgICAgICAgICAgICAgICAgICAgICAgICAKICAgICAgICAgICAgICAgICAgICAgICAgICAgICAgICAgICAgICAgICAgICAgICAgICAgICAgICAgICAgICAgICAgICAgICAgICAgICAgICAgICAgICAgICAgICAgICAgICAgIAogICAgICAgICAgICAgICAgICAgICAgICAgICAgICAgICAgICAgICAgICAgICAgICAgICAgICAgICAgICAgICAgICAgICAgICAgICAgICAgICAgICAgICAgICAgICAgICAgICAgCiAgICAgICAgICAgICAgICAgICAgICAgICAgICAgICAgICAgICAgICAgICAgICAgICAgICAgICAgICAgICAgICAgICAgICAgICAgICAgICAgICAgICAgICAgICAgICAgICAgICAKICAgICAgICAgICAgICAgICAgICAgICAgICAgICAgICAgICAgICAgICAgICAgICAgICAgICAgICAgICAgICAgICAgICAgICAgICAgICAgICAgICAgICAgICAgICAgICAgICAgIAogICAgICAgICAgICAgICAgICAgICAgICAgICAgICAgICAgICAgICAgICAgICAgICAgICAgICAgICAgICAgICAgICAgICAgICAgICAgICAgICAgICAgICAgICAgICAgICAgICAgCiAgICAgICAgICAgICAgICAgICAgICAgICAgICAgICAgICAgICAgICAgICAgICAgICAgICAgICAgICAgICAgICAgICAgICAgICAgICAgICAgICAgICAgICAgICAgICAgICAgICAKICAgICAgICAgICAgICAgICAgICAgICAgICAgICAgICAgICAgICAgICAgICAgICAgICAgICAgICAgICAgICAgICAgICAgICAgICAgICAgICAgICAgICAgICAgICAgICAgICAgIAogICAgICAgICAgICAgICAgICAgICAgICAgICAgICAgICAgICAgICAgICAgICAgICAgICAgICAgICAgICAgICAgICAgICAgICAgICAgICAgICAgICAgICAgICAgICAgICAgICAgCiAgICAgICAgICAgICAgICAgICAgICAgICAgICAgICAgICAgICAgICAgICAgICAgICAgICAgICAgICAgICAgICAgICAgICAgICAgICAgICAgICAgICAgICAgICAgICAgICAgICAKICAgICAgICAgICAgICAgICAgICAgICAgICAgICAgICAgICAgICAgICAgICAgICAgICAgICAgICAgICAgICAgICAgICAgICAgICAgICAgICAgICAgICAgICAgICAgICAgICAgIAogICAgICAgICAgICAgICAgICAgICAgICAgICAgICAgICAgICAgICAgICAgICAgICAgICAgICAgICAgICAgICAgICAgICAgICAgICAgICAgICAgICAgICAgICAgICAgICAgICAgCiAgICAgICAgICAgICAgICAgICAgICAgICAgICAgICAgICAgICAgICAgICAgICAgICAgICAgICAgICAgICAgICAgICAgICAgICAgICAgICAgICAgICAgICAgICAgICAgICAgICAKICAgICAgICAgICAgICAgICAgICAgICAgICAgICAgICAgICAgICAgICAgICAgICAgICAgICAgICAgICAgICAgICAgICAgICAgICAgICAgICAgICAgICAgICAgICAgICAgICAgIAogICAgICAgICAgICAgICAgICAgICAgICAgICAgICAgICAgICAgICAgICAgICAgICAgICAgICAgICAgICAgICAgICAgICAgICAgICAgICAgICAgICAgICAgICAgICAgICAgICAgCiAgICAgICAgICAgICAgICAgICAgICAgICAgICAgICAgICAgICAgICAgICAgICAgICAgICAgICAgICAgICAgICAgICAgICAgICAgICAgICAgICAgICAgICAgICAgICAgICAgICAKICAgICAgICAgICAgICAgICAgICAgICAgICAgICAgICAgICAgICAgICAgICAgICAgICAgICAgICAgICAgICAgICAgICAgICAgICAgICAgICAgICAgICAgICAgICAgICAgICAgIAogICAgICAgICAgICAgICAgICAgICAgICAgICAgICAgICAgICAgICAgICAgICAgICAgICAgICAgICAgICAgICAgICAgICAgICAgICAgICAgICAgICAgICAgICAgICAgICAgICAgCiAgICAgICAgICAgICAgICAgICAgICAgICAgICAgICAgICAgICAgICAgICAgICAgICAgICAgICAgICAgICAgICAgICAgICAgICAgICAgICAgICAgICAgICAgICAgICAgICAgICAKICAgICAgICAgICAgICAgICAgICAgICAgICAgICAgICAgICAgICAgICAgICAgICAgICAgICAgICAgICAgICAgICAgICAgICAgICAgICAgICAgICAgICAgICAgICAgICAgICAgIAogICAgICAgICAgICAgICAgICAgICAgICAgICAgICAgICAgICAgICAgICAgICAgICAgICAgICAgICAgICAgICAgICAgICAgICAgICAgICAgICAgICAgICAgICAgICAgICAgICAgCiAgICAgICAgICAgICAgICAgICAgICAgICAgICAgICAgICAgICAgICAgICAgICAgICAgICAgICAgICAgICAgICAgICAgICAgICAgICAgICAgICAgICAgICAgICAgICAgICAgICAKICAgICAgICAgICAgICAgICAgICAgICAgICAgICAgICAgICAgICAgICAgICAgICAgICAgICAgICAgICAgICAgICAgICAgICAgICAgICAgICAgICAgICAgICAgICAgICAgICAgIAogICAgICAgICAgICAgICAgICAgICAgICAgICAgICAgICAgICAgICAgICAgICAgICAgICAgICAgICAgICAgICAgICAgICAgICAgICAgICAgICAgICAgICAgICAgICAgICAgICAgCiAgICAgICAgICAgICAgICAgICAgICAgICAgICAgICAgICAgICAgICAgICAgICAgICAgICAgICAgICAgICAgICAgICAgICAgICAgICAgICAgICAgICAgICAgICAgICAgICAgICAKICAgICAgICAgICAgICAgICAgICAgICAgICAgICAgICAgICAgICAgICAgICAgICAgICAgICAgICAgICAgICAgICAgICAgICAgICAgICAgICAgICAgICAgICAgICAgICAgICAgIAogICAgICAgICAgICAgICAgICAgICAgICAgICAgICAgICAgICAgICAgICAgICAgICAgICAgICAgICAgICAgICAgICAgICAgICAgICAgICAgICAgICAgICAgICAgICAgICAgICAgCiAgICAgICAgICAgICAgICAgICAgICAgICAgICAgICAgICAgICAgICAgICAgICAgICAgICAgICAgICAgICAgICAgICAgICAgICAgICAgICAgICAgICAgICAgICAgICAgICAgICAKICAgICAgICAgICAgICAgICAgICAgICAgICAgICAgICAgICAgICAgICAgICAgICAgICAgICAgICAgICAgICAgICAgICAgICAgICAgICAgICAgICAgICAgICAgICAgICAgICAgIAogICAgICAgICAgICAgICAgICAgICAgICAgICAgICAgICAgICAgICAgICAgICAgICAgICAgICAgICAgICAgICAgICAgICAgICAgICAgICAgICAgICAgICAgICAgICAgICAgICAgCiAgICAgICAgICAgICAgICAgICAgICAgICAgICAgICAgICAgICAgICAgICAgICAgICAgICAgICAgICAgICAgICAgICAgICAgICAgICAgICAgICAgICAgICAgICAgICAgICAgICAKICAgICAgICAgICAgICAgICAgICAgICAgICAgICAgICAgICAgICAgICAgICAgICAgICAgICAgICAgICAgICAgICAgICAgICAgICAgICAgICAgICAgICAgICAgICAgICAgICAgIAogICAgICAgICAgICAgICAgICAgICAgICAgICAgICAgICAgICAgICAgICAgICAgICAgICAgICAgICAgICAgICAgICAgICAgICAgICAgICAgICAgICAgICAgICAgICAgICAgICAgCiAgICAgICAgICAgICAgICAgICAgICAgICAgICAgICAgICAgICAgICAgICAgICAgICAgICAgICAgICAgICAgICAgICAgICAgICAgICAgICAgICAgICAgICAgICAgICAgICAgICAKICAgICAgICAgICAgICAgICAgICAgICAgICAgICAgICAgICAgICAgICAgICAgICAgICAgICAgICAgICAgICAgICAgICAgICAgICAgICAgICAgICAgICAgICAgICAgICAgICAgIAogICAgICAgICAgICAgICAgICAgICAgICAgICAgICAgICAgICAgICAgICAgICAgICAgICAgICAgICAgICAgICAgICAgICAgICAgICAgICAgICAgICAgICAgICAgICAgICAgICAgCiAgICAgICAgICAgICAgICAgICAgICAgICAgICAgICAgICAgICAgICAgICAgICAgICAgICAgICAgICAgICAgICAgICAgICAgICAgICAgICAgICAgICAgICAgICAgICAgICAgICAKICAgICAgICAgICAgICAgICAgICAgICAgICAgICAgICAgICAgICAgICAgICAgICAgICAgICAgICAgICAgICAgICAgICAgICAgICAgICAgICAgICAgICAgICAgICAgICAgICAgIAogICAgICAgICAgICAgICAgICAgICAgICAgICAgICAgICAgICAgICAgICAgICAgICAgICAgICAgICAgICAgICAgICAgICAgICAgICAgICAgICAgICAgICAgICAgICAgICAgICAgCiAgICAgICAgICAgICAgICAgICAgICAgICAgICAgICAgICAgICAgICAgICAgICAgICAgICAgICAgICAgICAgICAgICAgICAgICAgICAgICAgICAgICAgICAgICAgICAgICAgICAKICAgICAgICAgICAgICAgICAgICAgICAgICAgICAgICAgICAgICAgICAgICAgICAgICAgICAgICAgICAgICAgICAgICAgICAgICAgICAgICAgICAgICAgICAgICAgICAgICAgIAogICAgICAgICAgICAgICAgICAgICAgICAgICAgICAgICAgICAgICAgICAgICAgICAgICAgICAgICAgICAgICAgICAgICAgICAgICAgICAgICAgICAgICAgICAgICAgICAgICAgCiAgICAgICAgICAgICAgICAgICAgICAgICAgICAgICAgICAgICAgICAgICAgICAgICAgICAgICAgICAgICAgICAgICAgICAgICAgICAgICAgICAgICAgICAgICAgICAgICAgICAKICAgICAgICAgICAgICAgICAgICAgICAgICAgICAgICAgICAgICAgICAgICAgICAgICAgICAgICAgICAgICAgICAgICAgICAgICAgICAgICAgICAgICAgICAgICAgICAgICAgIAogICAgICAgICAgICAgICAgICAgICAgICAgICAgICAgICAgICAgICAgICAgICAgICAgICAgICAgICAgICAgICAgICAgICAgICAgICAgICAgICAgICAgICAgICAgICAgICAgICAgCiAgICAgICAgICAgICAgICAgICAgICAgICAgICAgICAgICAgICAgICAgICAgICAgICAgICAgICAgICAgICAgICAgICAgICAgICAgICAgICAgICAgICAgICAgICAgICAgICAgICAKICAgICAgICAgICAgICAgICAgICAgICAgICAgICAgICAgICAgICAgICAgICAgICAgICAgICAgICAgICAgICAgICAgICAgICAgICAgICAgICAgICAgICAgICAgICAgICAgICAgIAogICAgICAgICAgICAgICAgICAgICAgICAgICAgICAgICAgICAgICAgICAgICAgICAgICAgICAgICAgICAgICAgICAgICAgICAgICAgICAgICAgICAgICAgICAgICAgICAgICAgCiAgICAgICAgICAgICAgICAgICAgICAgICAgICAgICAgICAgICAgICAgICAgICAgICAgICAgICAgICAgICAgICAgICAgICAgICAgICAgICAgICAgICAgICAgICAgICAgICAgICAKICAgICAgICAgICAgICAgICAgICAgICAgICAgICAgICAgICAgICAgICAgICAgICAgICAgICAgICAgICAgICAgICAgICAgICAgICAgICAgICAgICAgICAgICAgICAgICAgICAgIAogICAgICAgICAgICAgICAgICAgICAgICAgICAgICAgICAgICAgICAgICAgICAgICAgICAgICAgICAgICAgICAgICAgICAgICAgICAgICAgICAgICAgICAgICAgICAgICAgICAgCiAgICAgICAgICAgICAgICAgICAgICAgICAgICAgICAgICAgICAgICAgICAgICAgICAgICAgICAgICAgICAgICAgICAgICAgICAgICAgICAgICAgICAgICAgICAgICAgICAgICAKICAgICAgICAgICAgICAgICAgICAgICAgICAgICAgICAgICAgICAgICAgICAgICAgICAgICAgICAgICAgICAgICAgICAgICAgICAgICAgICAgICAgICAgICAgICAgICAgICAgIAogICAgICAgICAgICAgICAgICAgICAgICAgICAgICAgICAgICAgICAgICAgICAgICAgICAgICAgICAgICAgICAgICAgICAgICAgICAgICAgICAgICAgICAgICAgICAgICAgICAgCiAgICAgICAgICAgICAgICAgICAgICAgICAgICAgICAgICAgICAgICAgICAgICAgICAgICAgICAgICAgICAgICAgICAgICAgICAgICAgICAgICAgICAgICAgICAgICAgICAgICAKICAgICAgICAgICAgICAgICAgICAgICAgICAgICAgICAgICAgICAgICAgICAgICAgICAgICAgICAgICAgICAgICAgICAgICAgICAgICAgICAgICAgICAgICAgICAgICAgICAgIAogICAgICAgICAgICAgICAgICAgICAgICAgICAgICAgICAgICAgICAgICAgICAgICAgICAgICAgICAgICAgICAgICAgICAgICAgICAgICAgICAgICAgICAgICAgICAgICAgICAgCiAgICAgICAgICAgICAgICAgICAgICAgICAgICAgICAgICAgICAgICAgICAgICAgICAgICAgICAgICAgICAgICAgICAgICAgICAgICAgICAgICAgICAgICAgICAgICAgICAgICAKICAgICAgICAgICAgICAgICAgICAgICAgICAgICAgICAgICAgICAgICAgICAgICAgICAgICAgICAgICAgICAgICAgICAgICAgICAgICAgICAgICAgICAgICAgICAgICAgICAgIAogICAgICAgICAgICAgICAgICAgICAgICAgICAgICAgICAgICAgICAgICAgICAgICAgICAgICAgICAgICAgICAgICAgICAgICAgICAgICAgICAgICAgICAgICAgICAgICAgICAgCiAgICAgICAgICAgICAgICAgICAgICAgICAgICAgICAgICAgICAgICAgICAgICAgICAgICAgICAgICAgICAgICAgICAgICAgICAgICAgICAgICAgICAgICAgICAgICAgICAgICAKICAgICAgICAgICAgICAgICAgICAgICAgICAgICAgICAgICAgICAgICAgICAgICAgICAgICAgICAgICAgICAgICAgICAgICAgICAgICAgICAgICAgICAgICAgICAgICAgICAgIAogICAgICAgICAgICAgICAgICAgICAgICAgICAgICAgICAgICAgICAgICAgICAgICAgICAgICAgICAgICAgICAgICAgICAgICAgICAgICAgICAgICAgICAgICAgICAgICAgICAgCiAgICAgICAgICAgICAgICAgICAgICAgICAgICAgICAgICAgICAgICAgICAgICAgICAgICAgICAgICAgICAgICAgICA8P3hwYWNrZXQgZW5kPSd3Jz8+/9sAQwADAgIDAgIDAwMDBAMDBAUIBQUEBAUKBwcGCAwKDAwLCgsLDQ4SEA0OEQ4LCxAWEBETFBUVFQwPFxgWFBgSFBUU/9sAQwEDBAQFBAUJBQUJFA0LDRQUFBQUFBQUFBQUFBQUFBQUFBQUFBQUFBQUFBQUFBQUFBQUFBQUFBQUFBQUFBQUFBQU/8AAEQgAoQKqAwEiAAIRAQMRAf/EAB8AAAEFAQEBAQEBAAAAAAAAAAABAgMEBQYHCAkKC//EALUQAAIBAwMCBAMFBQQEAAABfQECAwAEEQUSITFBBhNRYQcicRQygZGhCCNCscEVUtHwJDNicoIJChYXGBkaJSYnKCkqNDU2Nzg5OkNERUZHSElKU1RVVldYWVpjZGVmZ2hpanN0dXZ3eHl6g4SFhoeIiYqSk5SVlpeYmZqio6Slpqeoqaqys7S1tre4ubrCw8TFxsfIycrS09TV1tfY2drh4uPk5ebn6Onq8fLz9PX29/j5+v/EAB8BAAMBAQEBAQEBAQEAAAAAAAABAgMEBQYHCAkKC//EALURAAIBAgQEAwQHBQQEAAECdwABAgMRBAUhMQYSQVEHYXETIjKBCBRCkaGxwQkjM1LwFWJy0QoWJDThJfEXGBkaJicoKSo1Njc4OTpDREVGR0hJSlNUVVZXWFlaY2RlZmdoaWpzdHV2d3h5eoKDhIWGh4iJipKTlJWWl5iZmqKjpKWmp6ipqrKztLW2t7i5usLDxMXGx8jJytLT1NXW19jZ2uLj5OXm5+jp6vLz9PX29/j5+v/aAAwDAQACEQMRAD8A+Pmbbz2pv+s5B4pJvuGi3wYRncT1wvUj29+lAC+WfWjyz60/+IjjI4O05wfTr1ooAZ5Z9aPLPrT6T6fU5yRj8KAG+WfWjyz60udrBCcNj+Lj9M8Uv14PQigBvln1o8s+tPooAZ5Z9aPLPrUgXIP/AMVik4+n+etAhnln1o8s+tPooC4zyz60eWfWn0UDGeWfWjyz60+igBnln1o8s+tP25PXH9OM5/T9aOGxwwLHHI+UHGQM+tADPLPrR5Z9acucc8j1FLSAZ5Z9aPLPrT6KYDPLPrR5Z9afRwOufoOv4e9ADPLPrR5Z9aft2thudpw+1hgfr9KQdBn7w4P+NADfLPrR5Z9afRQAzyz60eWfWn0UCuM8s+tHln1p+PlY9Qoyeenv9KONoIO7sSOhPsaBjPLPrR5Z9aeflUnGcenWkxye4Bxn37igY3yz60eWfWn0UCGeWfWjyz60+igBnln1o8s+tPpPu89QASfYAE5/QD8aAG+WfWjyz6077vJOCrYP90nOOueeQenpR2J6DPU9ByB1/HpQA3yz60eWfWpGXaSOeDgnGORSUAM8s+tHln1p9FADPLPrR5Z9af2qNp4lbHmqD3DNigBfLPrR5Z9ab9oi/wCe0f8A32KPtEX/AD2j/wC+xSuA7yz60eWfWk+0Q95U/BxR9oh7Sp+LimAvln1o8s+tN+1Qj/lrH/31mpcHvg/Q0AM8s+tHln1p9FADPLPrR5Z9afRQAzyz60eWfWn0UAM8s+tHln1p9FADPLPrR5Z9afRQAzyz60eWfWn0UAM8s+tHln1p9FADPLPrR5Z9afRQAzyz60eWfWn0UAM8s+tHln1p9FADPLPrR5Z9afRQAzyz60eWfWn0UAM8s+tHln1p9FADPLPrR5Z9afRQAzyz60eWfWn0UARzfcpLf/Uj8aWb7lJbkCNN2cE44oA9I+LOk6dovhv4fXFpZW9o914eFxcvBCFMriaYb2xjLYUDmtmD4P6DcXR8Nprl63jddK/tRoTbKLLmATiEMTu3eWR371hTfFO31TQdH03V/Cek6tJpdn9hgupp7hWSPczfdRwuQzE8jvUi/GzV49NBi03Totc+w/2auveW/wBpFvt2eWBnbkIAu8jdjvQVdWNfXPg1pOl/DmLX7fVdRvpmsYrsX1varNprSsMtbM8e54nXI5YAcfWs34S/DPTfHltq0t9eag09m8aJpWkJHJfPG2c3Gx2G5EwMhQSdw4Hej/wty8Xw7fafZ6Tpmn3t/ZLp11qdrE0UksAx8pjB8vccDLhQx7k1neDvHi+E7ea1l0TTdatHmjuUjvY2Vop0PysjxlWAPGVztO0cUEnoukfBaHXNL0zTrW/iSKTX760mu2sBDKIYIkkZ2DAPu254bgHp1NY8Hwy8KeIrfRbzw/rGsPZ393qVpMNQt40lia2077SGG3ghiV+mRUem/HDWb3xBps2p3NtZIutzapLeLbFwGlRUdWj6FNqhSMd/Wt7xd8TtG8M2fhOLwvHos99peo3mpTR6TazLaFJ4lhKMZWLMTGGByeMjGOK0i11A5P4d/ClPiBb+FJIr54G1ZtUa5SNVcpFaLC+Y8kfMwnxycfLXVat8BdG0e6e51DU9V03Rxot1qckLJby30EkMkK7WEbMuG80Y4z1rl3+NV9DdaA2k6HpGjWmk/bBHY28UjRSx3QAmSQuxzkIMHqM8YwKyJviEsMV5Fpfh/SdDsrvTZdNa1sVk+USSpI7l2JZjmIYyeMms35F3jc9P8GfD/wABW+qajLcnVtS0y+8Iy67YvLHGjwL5siNkHHzjyxt/h5bcDxipoP7NsOqeD9P1CS/voLnUtOfU7S4b7OLKGMBjHHOzOGLttI+QAc8VwugfFrUdButPk+x2d3DaaM+hSW84cpcWzyPIdxBBBzJ2NMk+J0txo9pZajoOl6je2FrJZ6fqF3G7T2sDggRgZ2uFBOC4YjPBqdSXa+h0WvfCHSNJ+G6eILfUtRv7lrJLv7db26S6bvLYa3bYTIjqe7cHI96wvB3gjRLzwnf+KfEmo31ppEN9HpsMOmxpJM8rAncxPAVQOeO4xUUvxTuE8N3mlwaHpNjeX1iun3epWsbRSTQjGAUB2BjtHzqobjk81V8J/EGfw7pt3pd1plnr2jXcsdzJp+oBggmQELIrIQw4J4zg45BpsDpofh34L0uxTUdW8U3t5puoajLYaXNpNqCXSPy98sobpgzRjjrk10B+AmgeG0tYfE+t6kl7c+IJtAj/ALMt0eIOBHskbcchf3gzXG2PxkvVMqanomk6vAL06haxXFu0S2kxAX90IivykBMqcqdgOM1BqPxh13V7fTxqHkXNxaa2+ueeyFDLMzKSjAdF+RenFUI6XXvgzotvp2rnSNc1C6vNB1iDSdRa4sP3cnmuyrJCEJY4Kng9cjHet3UP2b7OGbw3JDdavZWl/rcOi3H9qQRLI3mcieNY2JUEBvlfkcVwVr8Ztdsb7W721jtYrvU9Vt9YeTYWMMsLMyqn+zlzWrN+0BfJ9m+w+HdH03y9Xj1yQ26uGmuVBBdyxOc5HsMe9Ane2hcj+C+g+Jv7KHhnWdTkjm1t9Du5NUt0XayxM5kjCY/hjkPPHArc0vwP4V8XfDjSdL8M6jfC2vPEsiTahq1siyRrHZmV9oTkjbGWHvweDivM9G+J+r+H4Y49PW3jaHWzriSlC+JtrKUweqlZGHOetbU3xvvbaPT49E0HR/DsNnqJ1JVsIHbdK0ZjcNvJyGXIx0wTxUVFeNohG6fvF+x+FXhbxVHo+paF4kurTQ7nVf7KvptZiSOWBipdHjC4DB1xjPTPPasb4s/Duz+H9zZLaNqkZuPM32mr2wV124wySx/u5FYHIxyMc9RTpvjJfKdNi0zRdJ0rSra8e/l0qGBpYLmd1Ks0okLZwOAvRdxwBWP4v8fXPirSdK0eDS7XRtG0zzHtdOtC7KskmN5LOSxB2rxnAxwKoZ3l58G/C8TaXo6a5q0fifUtDXV7dZbWM2hYQNMYiQQ2WWN8HoMH2qbWf2d/7E8B3WqXd1eW+qwaMNZeRhALHBiEotxmTzPM2svsc+1N8bfGixt4dE/4R7TtLudQg8NQaW2tCKQXFvuiKSxqM7c4JG7GeeCK4jVviQ2ueH1s7/QdIu9WXThpg1mWFzP5AXaAV3bSQoxvxu5601a+ozr5/hX4Kt9c1HS5dd1yOTSdB/trUZFtYTsJS1dY4+eT/pBBz7VYt/hH4I1i+0bT9O17XHvvEWmSajpkc1lGkcIVZcLMcnO7ymxjHQ+2OCuviNfXWueIdWaCITa1pa6TNndjylWDDjnk4t1HPp7mnaP8SL/R9a8MakkFu8+gWDadbqQcPGxmOT7/AOkN9KUt3Yv3beZ6n4d8C+FodPE+v2k04fwO+p266dbwwlHWaRDuJALOMLhmJ6nOeKp6b+zSlx4RtL641C8gvrzS21WG4/cfYoUCllikJbe0hAOSoA44ribH4xanb3GnvNYWN5a22jvoMsEgYxXFs7MxLYIIOW4IPaq8/wAUpr7Qba01LQdJ1PULKyewstTvIXee3gIIWPGdrhQSAWBYZPNO+ljBJ3udnq3wR8OW9rfWVrrWpnxFb+Ho/EGyeBFtNpSNmjzjd/FkHPeuQ8E+EfDd94J17xP4l1DUrWz0u8tLYQ6XbpI8pmEp/jPAAjH1yaWT4xas2s3l+1raia60ZNCMe0hBCI0TcOfRBXN2/ia4t/Bmq+HESNrLUrm3uHmkJ3q0KyBcex8xqcbc2pTPQPFnwv8ACWiQ+KrLT/EGqXmtaBpq6w/2i0RLaS3byjtJBJ3gXEeQMdsVe1v4D2mm+BLzW4Z9ZEunraSzTXlrHHDOJZo0YRpu8z5RIuScZyMd64G/+IF7qWqeIb54YUfXNMXSp1UEhIVW3CuOfvD7Mn1x7muk1j45XeuadqqXXhzRUvtUht4r7U/Kc3E/kSI8THnAwUU4GBzTmla6KjZbnSeIvgn4b0nUNettJ1bULrUvDN7aLei/to/IljkdVbyxjnaWGQ2c5FWfE3wf8I6Pdahfa9q+qWSzeI7vRIV0uyh8sFPLCSFQAFGXAIA7Vwdx8YtWm1bxRqDWtqk3iCWCW5XDBQYnVwBz3Iyfwrtr745adeeBYLi70rS9Y1+bxLd6w1rdrIBbl1jKOpVh1KscHIOBxxUrYT12Ob8RfBuHw5JpVvcajJJdXPiO40KbywFCrGY9sigjOSJRn6VtXnw7sryz8LeGhNOkMPiPX7Jru1tfPuJ0he2CnaMZ4yMkgDB9a5/SPjpq1nLLc6jpem+Irj+1n1uGXUEkBhuX27igVgMHC/Kfl+Ucdaq2fxk1ax1a1vxaWUvk3upXRhkhOyX7ds89CM8D5OMdN3GMUSs1oFL3ZXkdzN+zvpVnrmmDUL7WdK0e80m91GRJ0ge8ga3DZUiMshDYBHcc5rznwf4L0/x144u7CwvLm00G3huL2W6mjVp0tolLEhMjLcoB25Oa2ZvjleQ29la6foWkaNZWNle2ENrYpIqLFcriQnJOT15689eBXGeD/FV/4L1631OwMckqq0UkVwpaOeJ49jo49CCRz9eoqR6WN3xl4N0mw8O6Z4l8PXl9c6Nf3EtmYNThSO4t502HDFCVKsHBHfg5rv7P4H+EJp7HTp9f1i31efw+uvSMLeN7eNRGXePgbskIcc+teY+LPHEvibTtM0qHTrLQtD07e9vp2nh9kckmN7kuSWJ2L1JxitUfF7Vm1i21L7Na+bHof/CP7FViBAUdC2c9drH35piOni+Cmh6x/YmraVrWoReFrzTLvU7qW+t1+1wrbMFkVUUbWJZ12+mDnNQaf8IdA8QLaa5p2sajH4SNpe3d2bi1U3sH2Uxh4woO1i3nRY9Pmz2rn9D+MOuaJY+HrKCO0a30mK5tmiljbZcxTkGVZBnocDHfnipo/jJfWt/pwsdH0yx0OztJrIaFHFI1q0UxBmDlmJYsUTknPyjnigDuofCnh3WNF8OLokskumx+GNbu0n1Gyha6yl1KcMCpUMuAAw5461u+JND0bWfA1r4Y0d7rTbO38Grr8sL2tufPmB+XMmzzOW5PzdhXlc3xpvFNqllomlaVZwaVdaPDZ2KOsccVwxaQ/MTk5LH/AIEfbFWD4varDHKBbW+X8PDw82Nw/wBHBPzZBHzcmgUtWrGt4q+GfhTwubvRrnxJdweLbaCKeRZLUGzlkkCsYYsfOXAYHk810urfs52tnottqNvc6tEE1Cxs5zqMMUa3K3Eir5kMakvGF5GJDk5FcXqHxi1LULUmXStLGvGCC2l11rctcSRRY2ZUnarcDLKA3HWtPUv2gL/UYNRCeHtGtLrUL211K9u7eKTzbqeB1ZGbLeqjgYHB45NALe7Oc+IHhPRfDvxAbw7od9qF/bQ3C2M1zeQokgmMpRiFGBxxj6VqQ/DGyn1zxjYi+mVdD1+30mJsLmSOW5miLsOzARrgD1rjvEGvXHiDxRfa7MkaXl3dvefLH8u4vux19T+tdvq3xyvNTjvfJ8O6Pp93fX9tql9dWsUnmXVxFIXBb5sKCWY/KAKDbmiXPiF8KfD3h/QfEt94f1bUr6fw3qqabfLfxoiyb94DR7QDwUOc+1eK+Ffh/qHxL8bXWjadcwwSxwyXDzXG4qscYBYhUVmY8/dUZPNeg6t8SNR1i08U2s8ECw+IL9dQuZFByjozkKvPI+euC0O4l0DxLNqj6LDrCYZ44pLue3ZXPR1eB0dSOeh71MU1uZS12Ol+H/wa0PxJqHjS11PxjptodD0+W4ikEdyqyMoQ+bhodwQbuVYA89+2Z4X+CU3iyxuL+28VeH7bTU1JdJhvLuSWMXU7IGURqUzg54J6Y561oSfE3xLeePNS8TXukWWoDUrL+zbqwkeQRS25UDYz7vMJ+UfNu3e9YGqapf33hm50C30e3sNLm1L+00iikdzGdgTyw0jMxAx3Jq9CbMt2/wAObOH4V+JtZnntLnWdK1GGznt4bqUS2eWkXlfJ2yB9mQVPGD6ipNT+A+sab4TOtDVdJu5lsLLUptMt5ZDcQwXQQROxZAoG6Rc9etP8O+KpPD/gHVvCy+DdPuY9R2C6vXurhZCybvLcKsgUFS5OAMN/FmrWm+OdaSa4tr3TLc2V9p+n6RcJHGGdYLRoSrIpONxEHendBZlPx58D774e+H7nVLzXtKuJ7TUF0y40+28/z4rgrnHMe1l46gmq9vxCnPzBQD9cCvUf2ivGvh34oadLPp8l5f6u9/8AaLUBrqKG0t2X94JEmleMyn5eYlUfL9Med3F5HdWWmRLY29pJa2iW8kkAIacqT875789qkt+RWooooEFFFFABRRRQAUUUUAFFFFABRRRQAUUUUAFFFFABRRRQAUUUUAFFFFABRRRQAUUUUAFFFFABRRRQBHN9yi3/ANSKJvuUW/8AqVoAk/Wjqcnn8aK2/CHg/VPHOsDTNIhjmuvLedjNKsUccajLO7scKo70AYn6fSjtj3zXSa58OPEGg6lBYtaLqk1xai7t30iQXkU0RyA4ZM8ZGD0xx61nQeGdXvIRNbaXfXELswR4rZ2BO9l25AxkbW/755oAzM9xwfUdfzpWYtjcS2Om45q+PDurM14i6bdM1oSs/wC4fMRA3bX44OOaWbw3qtvBDPNp13HBO8aQyNEyrKXwVCHbyTnpQBndyc59j0/KlDFehrrta+Fuv6Hpnh66ltJJZdagkngs4YXa5jVH2nzExnGe49K5KWN4JGikRo5UO11YEFT6EHkGgBvr+VA4BA6E5oooAOgwOBQfmznn6/596KKAD8B+VLnBz3pKKAD/ACKKKKAD09hgUZoooAGAbqM0oJXocHOcikooAPTk4HGM8UUVqeFvDV/4y8RWGiaXHHLqF7J5cMckgjUnBPLHoOKAMscEkcZo9K3dd8F6n4fu2t5JLHU3hIWdtHu1ulictsCPt+6SxGPXB9KqTeGNXt7WS5l0y8htoyfMmeBlRMEqctjpkGgZm/xA4GQMDjtR6VtWPg3Wb+YQrYvbM1rLepJeAxI8Ua7mIYgBvlyePxqsnh3VHW1ZdMvGW5UtBiBiZgAT8uOpwM0BYzhxnHAxjij1961B4X1druW1/su8FxDtaRBbvlFOCCwxxncPyNdDffCPW7Hwhp/iIyWcljd2P9oeX52yWNPOMONpGSd+BgetBJxTfNjPPOf0xR6HuK6/U/hX4h0rw3omry2judVeeOGxjjf7SvlIhZ2UqMLmRcHvg1U8JfD7WfGWtSadZ2zRPF5/nTyxt5URiieQqzY4OEPWna5Vjm+nTjjHH+fegDBJ7+p+mKRXWRQ68BuQPTnj8KWkFg9aMDr14xRRQIVSVxg03aMEdc9aWigBMU7ceeaSigA49B+VHt1Hp2oooAOnTik2jgEZ+vNLRQAfxE9TnOTyaXcd2e9JRQAm0f3R+VO3EDGeKSigA4AwAAPpRxuzgZ9cc0UUAJtHoPy980uBzwOTk8UUUAH8IHYDA/z+NIVVsgqpBOTkdec0tFAA2GwCAQDkDHFHPrRRQAUUUUAFFFFABRRRQAUUUUAFFFFABRRRQAUUUUAFFFFABRRRQAUUUUAFFFFABRRRQAUUUUAFFFFABRRRQBHN9yi3/wBStE33KLf/AFK0ASV2vwn8b2PgXXtTm1K2ubrT9T0q50mdbMr5ypNtyyhiASNg/wAmuLVWkYKigseBngVbPhvWWXmCxZW/vXLD9DHQB7F4P+MHgzwHp13pejW/ijTrOSGzA1SMwrfl4ZS7x+XvCxxuMAhAAdp4rf8AE37V0F9YX1to9nq+hmfS9Xs0it2jSNbi4lJgmwshwVwST23DHU18/f8ACO6zxmGxBwQD9rbPII/55+hNC+HtXXpBYD/t6bn/AMh01oJq+59JeGP2qvDOl6xql/qGk69cXOomHzyyRTCULYJbsSGnVVJkDNnBJz2xUVn+1rpEM+JtN1a9tIF0pre1mMO2A24KzMF8zAZi4Ix6fSvnL/hHdY4xDY8DH/H23v8A9M/el/4R7WtoUxWJUc4+1tj/ANF0Nhu7n0Xc/tPeHp7OCxD+LS/2C4sxrUogGoQu90ZgIh5nKbflPsRXiXxV8YW/j74ha34gtbSWwt7+VZEtpgA6AIq/MBxklSTz3rAPh3WmzmOx5GDm7bkf9+6P+Eb1leBDYAegumH/ALTpDKdFXP8AhHdZ/wCeNj/4Ft/8bo/4R3Wf+eNj/wCBbf8AxugCnRVz/hHdZ/542P8A4Ft/8bo/4R3Wf+eNif8At7b/AON0AU6Kuf8ACO6z/wA8LH/wMP8A8bo/4R3Wf+eNiP8At7b/AON0AU6Kuf8ACO6x/wA8bH/wLb/43R/wj2sf88bH/wAC2/8AjdAFOirn/CO6x/zxsf8AwLb/AON0f8I7rP8Azxsf/Atv/jdAFOirn/CO6z/zxsf/AALb/wCN0f8ACO6z/wA8bH/wLb/43QBTrq/hV4ut/AXxE0HxFdwTXNtptx57xW6gu3ysAOeMc1gf8I7rH/PGx/8AAtv/AI3R/wAI9rH/ADxsf/Atv/jdAHsPg/8AaCsoRr6eLYNRmt769tbq1fR7G1jkjENyZQjqDGpyCRnBPHNddqv7WGk395IkWna4+ny2d9E9lIsXlyyz3CSQkgSkfKFYHPTPHU184/8ACP6wCCILBSOflumH8o6b/wAI3q+APIscD/p7b/43QNHvmq/tLaDeeIp9UVfEd3DNDeRppl2bYWtoZbUQqsIDk7AwOckdR17bVn+1poNjqEt3HYeILlridZo4LgQhNMK2jQbLXEh4LfMc+g644+ax4f1lcbYbFcdNt2w75/550f8ACP6yeTDYk+pu2z+fl0AfQ/gv9qbQND1iz1XUtP8AEF3fQ6XpunzXKiOTznglkaVmBlUHcsiDOCfkPSiH9qLwzDaxwx6PqxeFUKRSR2+MLqQucf67+52r53/4R3Vxj9zY8dP9Lb3/AOmfuad/YOtdPLsiM7ubxjzjH/POgm1j6Pb9qXwutxYyyQ+LtQuLM6hJFd3yw+ZE1xJC6xqBMdyqqMMHpml1D9qjwvdX97Pa2XiLSUNxfz/ZbOG3WO7+0WhhHnjzgRtY5GM/ebp3+bf+Ed1nOfJseuT/AKW3P1/d80Dw7rCqq+TYhV6D7W3/AMbp7F8zKSqURVYYPYDoAPlHc+nrS1c/4R3We0Nhj0+1tj/0XR/wjus94bD8Ltv/AI3UkXuynRVz/hHtY/542P8A4Ft/8bo/4R7WP+eNj/4Ft/8AG6YynRVz/hHdZ7Q2P/gW3/xuj/hHdZ/542I/7e2/+N0AU6Kuf8I7rH/PGx/8C2/+N0f8I9rH/PGx/wDAtv8A43QBToq5/wAI9rH/ADxsf/Atv/jdH/CO6x/zxsf/AALb/wCN0AU6Kuf8I7rH/PGx/wDAtv8A43R/wjusf88bH/wLb/43QBToq5/wjusf88bH/wAC2/8AjdH/AAj2sf8APGx/8C2/+N0AU6Kuf8I9rH/PGx/8C2/+N0f8I9rH/PGx/wDAtv8A43QBToq5/wAI9rH/ADxsf/Atv/jdH/CPax/zxsf/AALb/wCN0AU6Kuf8I9rH/PGx/wDAtv8A43R/wj2sf88bH/wLb/43QBToq5/wj2sf88bH/wAC2/8AjdH/AAj2sf8APGx/8C2/+N0AU6Kuf8I9rH/PGx/8C2/+N0f8I9rH/PGx/wDAtv8A43QBToq5/wAI9rH/ADxsf/Atv/jdH/CPax/zxsf/AALb/wCN0AU6Kuf8I9rH/PGx/wDAtv8A43R/wj2sf88bH/wLb/43QBToq5/wj2sf88bH/wAC2/8AjdH/AAj2sf8APGx/8C2/+N0AU6Kuf8I9rH/PGx/8C2/+N0f8I9rH/PGx/wDAtv8A43QBToq5/wAI9rH/ADxsf/Atv/jdH/CPax/zxsf/AALb/wCN0AU6Kuf8I9rH/PGx/wDAtv8A43R/wj2sf88bH/wLb/43QBToq5/wj2sf88bH/wAC2/8AjdH/AAj2sf8APGx/8C2/+N0AU6Kuf8I9rH/PGx/8C2/+N0f8I9rH/PGx/wDAtv8A43QBToq5/wAI9rH/ADxsf/Atv/jdH/CO6z2hsPxu2/8AjdAFOirE+lahYx+ZdR2qpnGYZmf+aiq/GeOnrQAUUUUAFFFFABRRRQAUUUUAFFFFAEc33KLf/UrRN9yi3/1K0AWLb/j6h/3hXsvw88IL4y8QGxaQwwRWst3K0bIrFY0LEAsQOma8btf+PmL/AHxXq3hXxJN4Yv57qKJZmmtJrUhjjAlQpn8N1AGm3w18RyXESRWKKZ4VuYYX1C2EhibG0n97jJDDjqccZqGT4c+JorN7ptOkEKu8WGmRZS6yCMgJu3Ebu4Uj3ra034tT6bqH2ltOUqLS0tR5M7xMBBgcMhBwcHIzg4qdfjJdxQ36x6bEs91cyThpZnaFS03nZ2E7QcgnIGf0oA5XxF4Q1rwnHC+qWklsk7skUgmSRWZeq5U4B6dcda1B8KfF/wBouYBpe+W3O2RFvISQcbsf6zk4BJHbj1pvjLx+fGCytcW90xYTSJ51/NMqSPg71V3O0AqeBx83TgVqRfF+8hOq/uJkiu7+TUUFnfy2xjkZdhBKMNwIVeDwOfWmgMvSfhzrV1caPLdwNDpt/cWiGeK5imeOO4K7GaNHJH3sckVC3w78RTWYvLWxknsZJVginWeNjl3KIxQNlQTjr6VvSfFG3s2006bY5uYoNKS8uJpmkZzarFlRk4HzAZP+z7nNiz+OF5p+mxW9tpMUNyqW6krOxiHlSbwQmdueeeOcc1TA52P4ZeK7i6FtHpu6V4/NTy7qJlK7to+bzOuSvarcfg+x0WKxPia6utLnu55l8tBuESxyBMEjO7dhvTGPym0v4mx6CtxbaXpX9m6dcRhZorO9mjkLCYSBg4fd2A6/xVQ8XeK4vFmh6c88rrqdjNNF5czNIZIpHaRTuJJJVmYEkntUAb6/BXU5Lm3eI3z6TLpB1Uag1uwX/Us+w+nT2rJ0f4W63cXFtJqVrNZ6bcRSutwskcjKwgeZAyqxK5CH7wGfzqNfiZdx6xb3620Y8nS/7MESudm0xeXu+vI/KtC6+Ml7eTRXMsEz3PlmOXzb2Z42/wBHaDKoX2rwSeAOlAFXVvhVq63yx6VC11atFA3nTTxRku8KSFVVnUsRu6KD1+lc/wCJrfSbO+iXRtQuL21MYaWSWFoyj7iGQA9cAdRmuoPxYN1JYy3ei293cadIs9k3mOoilWBI84Bwc+Wjc56Vx81xYz6VO8okfVJLrf5yn5RGVJYfixH020Eq+h11v4J0K+tZ9Si167OkQ+TAZIbRppmuJN52hARlQEOT2yKzZ/hvrVxe3sWlJ/aNpDMYYrppkhMuFVvlR2DFhuGQqnGRnqKq+GfF50fTb3Tp7X7dYXMkd15ccrRSRyIMB0cEY+8wIzzkeldBefGGTVtU/tDUNHt7m5tbpryykZ3xbMURPmGfnOETrkcUFGHD8OvE08MU0emyMkjR4jE0ZkAkYBN0Ycso+ZeWA6d+a6I/CG/TwvDeGRf7WktXuRaG7hEfy3EUWPMDkdJG468VDY/Fy5sb1NUg0i3XW5I7e3ur/eT5kUTKQFUnC5Cp0A+77nMcnxK0+bRV0RfDdumjtbywC1+1SAHfOspbdu3ZBTOc55oGtzEuvh74ms5mik02bzFE2FE0Z3eXtDH73/TRPrmrr+BLjw7MG8WfadIsp4ZPs08JSUyTKwwhCs2OD3xW5d/Ga7utE1nypAmo39/DPFAsW0W0MYAZRIeSHCx5wf8Aln71z3jfx5ceM5BIyzwYmedvMvJZULvtBKq7EL0J+UDpQDsZ/izRYtEvLRrS5kuLG9tku7eR+G2MSMEfVTWfpOm3mualb2FjFJc3lw+yOJD1PXk9hx1NafjLVrXUbnTbayZpbXTLGOwSZh/rNpZi35uaz9B1T+xdYs78RCdraQSCPeULcEYDAgjr1B7UCNW5+H/iOzYGXT2KmeK3LQ3MTxq8pKou9XKnlT0ORjmpV+GfiZYY5Z7Nba3km+z+fJeRAK2/y+hYZAbHSujf4yG7uk+2aHFdwo1rJH5kzGXfbuzo5cnLY3MMMTVC8+LFxeabdw/2dH511Or7/OdkUi484BVYnb97nGM4FIBs3wn1Vbi+tlljEtmL8yStcRiJ/swGQh3nJ+bnPtWRB8O/Es091EmnyM9rs81ftEYPzoZFA+bugY/8BrWvPiclxeSudKi+zTf2iHi81hu+1hQ5z1GCn/j1aen/ABUt5NQtvtNoumO13Z3NzeqzTNJ9niKIoXO0BlYg8dvrS1A5uz+GfirUIVkg0qRk8tJSz3MSnay714L8naQcD1qDRfBGq+IdFu7+xCyeVdQ2iQGdPNZ5PMxxu4A8pufeumm+Md1JcauFguFtLy/N5biC7mtmiGwRgEI4yNqLhTx7cmuf8JePrjwg13JHbC5uJZ4LsPI5yGjMgxnPORM3X0qwAfDnxMJzGbFf9U05dbyPywgIU/PuxkEjirut/C/WrXWtStNPhe7t7S4e281riJXdlUM+xS+XwCPug9eeoqf/AIWbGulzaMujW66DLHJFJZiV8hmlEhcNndwQO/erE3xeknvnvZtLiae3u5ruxZpWxbmSMKwZej/cX72etSvMDmNT8Ha3ounW+oX1m1vaTrHJGftCMxDLuGVDZUkA9ce1a178M9Yl1Iw6XDJeQrHanzJZo4d0ktukhRVd1L/eJ+XkZ6cioPEHxCk17wnb6Q9kiqhhkMkkrShSqFPkDE7QQ3IHHyitW2+LEsdxbvcaXHNJZ3ENxZfOw8qWOBIdxAPzA+UDg5Hy9OaY9LHNXvg3XNN0WLVbqzaKzlQOjeehc7s7QU3Bl6Hqo6cE810Ol/D+08TaLdz6Df3eo6lY2K3NxZLbMP3hkVdgYkDuaqan8SLjV/Co0d7NDuK5kaVnjDKW+aNWJCZ3YIUAcCsbQ/E0uh6VrljBGP8AiZW4tmm3EFMOGyCPcD8qBHTal8GfEkNxY2tlZXF1dz2EN3NFNtiMLSFhtyW+b7vb0pk3wzuY7VEiNw2qNZW9wbPjiSS6lhMefQCLr/tVPZfGO9h0+GxntZfs0dtBG32a7khkZ4GkKuXVgSCJG4JxUFp8WtQsr2G7itYzNHBDb5aRmyEmkl6sSSf33OfSgDLm8JrodndnxDcyadeGMGyjhdZ1nYbhJ8yEgbTs4OOv1qtb+B9futDTV4bJpLB4XnDC4j3lEYqzBC4Jwyn6Zp3iTxRFrFpYWdrp6abp1m8siQpKzndI+5zliTztHet3TPiTB4f8O6LFp9oza5aWVzaNeO5HlCS4djhc7TkHHI7ijqBlt8NPE8d/b2jadumuZHhiRbyI5dE81gxDkJ8gP3vw6Uzw14VgvotTudV1CaztNOkigl+xw/aZXlk3BFVVbkZR8ntgVr33xYlkkupbfSord7iW4ub1fMZvOmkt3hDck4x5hPGB81c/4d8Trodrf2M9oL6yuyjSKsjRyI8bNsdGUgjBZu/8VAF9/hzrF9fXcekKdStIZRCly0qQbmaMOF2yMCWAIyB049arL8PfEr2UF0mnt5E/lhCJkaT9622MtGHJXJYDJwOK6CT4wT3WqG8udLinlhvUvLP962YJVjWMbiD83CJ1z933OYv+Fu3nnRamNOhOtFbaKa+3kiZIJVdAFJwOUXoP4fc5AL9n8G7yXRTLcym31Q211MLU3MJQGKSFRlw5Az53Q/3a5e6+HXiWxYi402SLaJCzefGy/Iqs2CG9HTr13Vtj4pWkdpLp8fh23TTriG6iktxcyAuZ5UdyDuyMGMdCOtWL74p+b4b1iCBRDf6jc2+yDy2xaW8aKnDk/wAQjjBPU7OaAOS1/wAGa34Wghl1WzktI5mKxt5yPyADyFY4696xNzcHc3PoTius8dfEK58cOss8dxHcNO88iyXkk0fmNjO1GJCDjOAAOfauS6cYwBwKAF3N/eb8zRub+835mkooAXc395vzNG5v7zfmaSigBdzf3m/M0bm/vN+ZpKKAF3N/eb8zRub+835mkooAXc395vzNG5v7zfmaSigBdzf3m/M0bm/vN+ZpKKAF3N/eb8zRub+835mkooAXc395vzNG5v7zfmaSigBdzf3m/M0bm/vN+ZpKKAF3N/eb8zRub+835mkooAXc395vzNG5v7zfmaSigBdzf3m/M0bm/vN+ZpKKAF3N/eb8zRvb+8350lFAGP4qYtp8eTn94OvNcp3J9ea6rxR/x4x/9dBXKDoKAFooooAKKKKACiiigAooooAKKKKAI5vuUW/+pWib7lFv/qVoAlVijBlOCDkVf/t/UGYKLjlvlG2NSfwGKz69E+BMNk3ja7nvoGnS10i+uYgpUYlSFmQ/MrDqO9PcDjP+Eg1FcBpsEDvGvuPT60g8QX4x+/8A/HF9MeleuWPwf8NaprUME1x4hZXsrG7uriKaGUia6C4VUjtmO0EsTxxgciiH4FaPdaffKl9qi6nb3U0L+YqxwJEl2Id43xgOcEE/vARkfKc0lqriueSf8JFqG7d54J9fLX/Ck/4SC/2kfaDggj7q9/wruPid8PvDvhG4gg0W/wBWvJEu5ra8N7ayoiqjovmRObeNWX585G4DjnmujT4E6ZDqmsJdPrjWtnd6jHAlsIxLcQ29skyMpaMglixB4x0oGeSt4g1Bs5uDz/sqO+fT3oOv37c+cM5xgRqOox6V67a/BPw+8drO6+I5Fu76wtFghkhMlqLi385jN+5OQmMcAdTk9KswfAnwmsmh2Uuvaxc6jfG3cy2dqxtGV59hUSCBkVwv/TQ9ei91qB4u3iS8XAa5UdsKqAnA5GT7fyp//CQ6jgf6QQMAD92voD179e1eu6LDp/hmHwhBoaXctnrWv3FneQ3zRtM0aMkQjbYqgY3yNnAPzdeleQeIbCPS9e1K0hbfDb3EkSv67WI/limAv/CQ6hz+/HP/AEzX/Ck/4SC/wR5/H+4v+FZ9FAGj/wAJDqGc/aOf9xf8KP8AhIdQxjz+PTYv+FZ1FAGgdevmGDPkZzgopH8qX/hINQ/5+P8Axxf8KzqKAND+3r//AJ7/APji/wCFKfEF+3BnyPTYvpj0rOooA0P+Eg1DGPtBx0xtXH8qX/hINQH/AC3/APHF/wAKzqKANH/hIL/gefwOMbF/wpDr9+wIM/8A44v+FZ9bfgjRLfxJ4u0rS7t547a6nVJWtU3yhP4iqgEnj0B60AVG8QX7ZBnyD1+Rf8KcfEWoNkm4GepOxf8ACvWdT+BGmJDbS6dcatPDPd6dFHvaOR/s9xJKjyuFiUqy7FOGVQvfdnhmofCHw5oNhNeyS6zdyWN6qzwTssCGE3xt1IzDhiVBbKORjsvcGeUf8JFqHOJ8HGcKFII9elH/AAkGoYx9ozkddi/4V7DqPgfw5Z6pqED6Nqj28S+I/smnrPGjxG28ry2DiLdICCCAxP61QsfghpLS3K3l3q1ta/bNNsrS6YxIrtdWpkyxZMELJtQ7em4+1IR5b/wkF/z+/wCT1Oxc/wAqP+Eiv/um5Uem5F/wr1u1+C/hK2t78atrWtR3VjeLplxHp9uZ/KuBbLK5ZUgc7AzbQSV+6evOOe+F/gzQ/G2i6nY3cVzDeDVtOtxqKy4SOCU3G7CNHlWPlD73qMYqkrgcG3iC/wCczhTjn5F/wp7eINSViTOVPf5FB+h4+lenr8H9E/sSXWT/AMJAqw2bzHRWaE6k7JcJGJFHlbfLIbPTOBWx4i+Eujav4s1SaZtTiF5ql5axvZFBb2CwwxspnLR8hiccFe/XslqB4ufEOos2PtP3vlyyrxkgZ6e9A8Rai2G88qSM/Mi7hnnrjuCD+Ndz40+GeleHfBNrrNjcahc3INql2twVWNXkjLEKpiU7Djgh3zk524GequvhbpHiTXoJ7ttRIuptP08LpPlqtqf7Nt3aWcMjfIW3dCvRvwB20ueOf8JBf/8APcf9+1/wpP7fv+nn8f7i/wCFd54j+F+maP8AD3+27W6v7nUYUh+0eaFS3zI7oGjUopZPlzlXfoc7eM2dN+FOmanHoMMFvrk97qFvYXDXSPEtj/pDgNEpKbg6jPdicdKBHnR8QX7dZ88Y+4v+FL/wkOobs/aMnpkov+Fer+IPgz4Z0XRb3VFuvEE8EWnR3UNuzxwzGY3TwFH8y3U7flzkIODwT2uat8BdB02Bp1vNaY24vhc2J2+dNLBFG6x27GEKQfNHJ3Z2/mCueN/29f8A/Pf/AMcX6elK3iDUGyTcZycn5F/wr1/R/hH4Z1rS9NtvK1fSLi616K1lvtSkVpIIHtBL5TKke3JfIztzx36VWu/hL4MTSnu7fUvEKq13Z2KfbYhbeTNNJKpLmWCMug8rgKinnq3YGeU/8JBf5B8/kf7C/wCFH/CQX/Tz+P8AcX/CvYr34L+CbbWLqzGr+I3jtDPFcN9ikjzIhjCGN3tR8jF2/gYcfeHfndE+FWj3PjrxfpOrahfWmnaDE822zUTXM2HRQqFI5FYgOCQFzx2oEef/APCQX/afb/uoo/pR/wAJBf8AH7/2+4v+FeuSfBnwnJ5EVrqOvSyXg1BrWeREhRBbwiRfMjkhD5JOOAK5f4ceBfDvifSLO61mfVopr3U57FP7PlijjiWO1im3fvImJyXI9qlSu7D6XOL/AOEg1DjFx7bdqjP6UHxDqDKU+0ZP3QoiXdn06V6to3wu0HVtP0SS2udUg0vXHsJHju3gM8Ikup4mG8RYXAQEY6557VT/AOFd2Nl4duPE3ht9Yl1G0tftVpZXnkTu7i7ktmLKIxuG0Bhgd+e1WlcDzU+IdQ3N/pGecZ2L/hQviC/Gf3+e/wBxf8K9i1r4EaLAmuLBd62+p2lzdBQ6RRweWlwse8lo1VvvFiBIpA24DZ4yNS+Emji38RLZQ+IobnTor4232vynS/eHZtMAEakqcn17cmh6Owm7anmZ8QagM5uOc7fljXGfTOKc3iC//wCe+OxGxf8ACva5PhLYR6CmhSC+a3s76ae5uI1RbkL/AGfbXLKMRvnDuVHynoarXnwH8P297qtrFe63czRxrcWKhdglQ2gmIkY25GQSBgiP2z2QLU8c/wCEgv8A/n4/8cX/AAo/4SC//wCfj/xxf8K7z4efDPSvFXh7Tr6+j1ya6vNcXSQNLaIRQIY1fzpQ8ZbYuTkgjpxXQaT8DdEvtUs9NlutWZntbW6k1aExiwkMs6RmGMmPcHwzdSfu0DPI/wDhIL//AJ+P/HF/wo/4SC//AOfj/wAcX/Cur0fwd4e1Lxd4otXfW49G0fT7u7QCaEXcrQMq4J8rYA3zHp3FdU/wf8NahqcVnpM+tPIJNLMgurmDDR3URkfaViGGXbwMHOenFHS4HlX/AAkF/g/6R7Z2Lx79P85oXXtQb5vtGEPGVRcA9h064r2OT4C+G5rq2FrrGqQodPTWZLfUNsUn2JZJI5yN8MZ3hhFgbQCHPWq1n8Kbe8tUs459UbQDbaXqolWCJ3Mt00ayruVPm2r0APB3cHsAeS/8JBf8fv8AqM52L/hSr4g1DP8Ar8+uUX6enuK9S1b4M6Hpqy3MKeJL/TvItZLeK3eI3c3mzyRl/mgTAXy9xUxjAYcntW/4VHZWrwahaS6pJbx6fJqO6ZEZFmj1BIFhcbf7vJwfSgT0PNf+Egv+B5/zd/3a8ckY6e1H/CQX/wDz8f8Aji/4V7l4u+C+k6pdeLtT83ULO/DX19aQQLvtmSKby8MBD8rHnC7wTtHXmuB+LHw60nwTb6dc6PPqU1vdT3ELNqWFbdGUyAhhjZceZjkHt8x5oBaq5xf/AAkF/wD8/H/ji/4Uf8JBf/8APx/44v8AhWd/jRQM0f8AhIL/AP5+P/HF/wAKP+Egv/8An4/8cX/Cs6igDR/4SC//AOfj/wAcX/Cj/hIL/wD5+P8Axxf8KzqKANH/AISC/wD+fj/xxf8ACj/hIL//AJ+P/HF/wrOooA0f+Egv/wDn4/8AHF/wo/4SC/8A+fj/AMcX/Cs6igDR/wCEgv8A/n4/8cX/AAo/4SC//wCfj/xxf8KzqKANH/hIL/8A5+P/ABxf8KP+Egv/APn4/wDHF/wrOooAt3WqXV7GEml3qDkDaBz+AqpRRQAUUUUAFFFFABRRRQAUUUUAFFFFAEc33KLf/UrRN9yi3/1K0ASH6En2qxbvd2rloDNEWUqShK5Uggg47EE1DH/rF+tdp4d8P3XijVItOszGsxieYtM4VFRF3MxPsBQJnNW2q6tZ3Hn29zdwT+UIfMjlZW2AABcg9AAKa+papJaS2rT3TW0zmSSEudjsW3EsO5zzzWjNLBG8qpcRzJG2PNRxsORkdM9egpBNG3yiQb8Z6+uB09icdafQS3KN3qurX6lbm6vLgGIwESys2Yz1Xk9Pb2Faml+OfFGk3RuLfULxpfIktwZGMm1HUK4XJ+UkADI54qEzKVkYFcJ97k/Lg4OaveItNk8Ma1eaZfMiXVnK0LjdgMyj5gPzB60uly7FaHxt4ltdIutPivrhILq4W6ml3MJHkVdikvnccLxjOKy4dS1S1tIbSK5uhbQsrxxK7BFYHIIHTORWhLIsatl1BAPcgZGc5464Vj1pJLiPLnzQQvBwSdvXHA57frQIs+GvG+reF7TyLa2ScRzm6tvOQt9mmK7WkQDjJGM54OAetc2befgskjnuzKRk9+p56139n4J1G80U6lDJb4e2lu4rPzg1xLFG21mAHbIcjI/hrn2xnjkdAfXBxmgDn/Il/wCeTUeRL/zyat+igDA8iX/nk1HkS/8APJq36KAMDyJf+eTUeRL/AM8mrfooAwPIl/55NR5Ev/PJq36KAMDyJf8Ank1HkS/88mrfooAwPIl/55NT4luIJEkjSRJI2Doy8FWByGB7EetblBwuCxIGcdcDPpmgTKkfiHXobx7tNR1Bbt12NcC4fzCo6AtnPH171BJqeqyWj2rXN59mZzI0IlYIWJ3FsZ6k8/Wr/nRbVJfj/ZcKTz2z6njkD2p8X+kTRwRlXnkIVI0YZLFtoUE8HkgUFLYoSazrE10ty93ePOu8iRpWJG4Ybv37+uBVzTfFWvafcWkqzz3YtGV4YLwmaJGH3W2MSuR2yPT0rTbQb7MiLb75ohMZoUcNLD5OPMLqD8uAe/XJ9KzfOjdflK78ZAJ9QGA9jgj2pE9StJr2tvd3tz9tvFnvHaS4eN2QSMxYnoeeWb6ZwOKp21xf2cciW8lxAkm0usblQxU5UnHUg9/c+prUa4h8xcTJtYkINw57gYzz6ZGBxViO1mks7i7WIm0tzGstxn5I2ckIrNjGTtbAGehqtb6DMv8AtrWfty3gvL0Xax+Us4mYOE/uhs5A9qQaxrC/bMXd6Pth3XOJm/fH/b5+b8au+dHgtv8AlHoc5BYKDjGcZPXFXda02Xw/rFzpl48a3Vu+xgjhgTtDcHPPB56YpegX1MC4vtSurKGzmmupbSHHlQPISiYAA2r0HAHSpYdX1i284xXd7EZlVZSkzAuFUKobnkAADn+tXkkjdmCuG2EBj1HJyOmccZ7npVzWtPfw9qAs710Sfy4pdqtklZIkkGPwde9AzAa91FtOi09prk2EX+rtTIfKT2C9APanf2lqn2WC28+6NtBIJYoTISkbA5BUdAQemOlaMckcknlh1Yjj5HVue3zZ24/GgTRswAdd3Qru4zzgZ9ePU0CKF7qurakrC7ubu6DIIyJpWfKg5AOT0B5qSTXtcmmtpZL6+eW2O6F2mYmMkYODnjI/kPQVZW4hwpMygNk/M+OB15IHQ8dKFuIsNmRNy8EeYOvp69Mnj0oEUG1HVHaVmuLtmllWZ2MrEtIowrE55IHQ9s0XupanqW43U1zc7tu7zXLZxyOtbIs5v7LGpBC1h5/2Q3RO2LziMhMnnOOelVftEflqwdQp53SHaCAcHGT096TGVv7e1zz4Zvt+oedChjjk+0PuRT1VTngewqCC+1K11D7fDNcxX25nN0rkSknrl+pz9ew9BWh9pg2u3noQpwcMDj3wOSPccU5pERd5dQmeSWAX6Z5P6U+oGc2oam0nmme6MuXPmeYd2XGG568gc+tRQzXtvGEiaaNAxcBGI5ICk8eoAH4Vq+fBuVTMqk8AlsnoeSOP8ihriKEjzZFQ5x87bRnGepP0PGetLQDOh1DUrdYVjmuY1hIMYVyAmGLDHpySfxp1nqWq6fIJLW5vLeQIYw8UrK20tuIyDnBPNXvPj8tWD7iw4UZGSTjA7/ieOaUzR7uGDdcKrfMeeuO/cZHHFMGUW1TVpLa4t2urxre4YvNE0rFJGPVmGcE+/WpDrmttdw3Rvb5rmFSkUzTMXRT1AOeAa1dUtE0iRUe7t7lvLSXdBL5iYdQwGVGSfmUcd85qq80Mcm1pVUjrubj09PXjrTApDWtZFyLkXt8LgEsJhMwfJUKTnOeQAD64FLJretT/AGnffXrm6x52+ZiJcDaN3POAcDPqa2dM02XVEvmhMf8AoMDXM4Z8YRcA89M5I4qgLiLax81SF4OT83TPI69KQWsFr4r13TvDp0G1uLm00xp2uHht22b3ZNhJI5xt425x7VSXUtWit4rdbi6FtEweOHediMCGBC9Bgjj0rQ8xFXIkBXO0sTwOhPuMA+lNNxEVBMyAE8NvHXOAO3PQ8gdaVwMeNrqEylPOXzVKyYY/OCACD65wKnW/1NJA6z3SOPLwyysCNgwnOew6VofaI2LKroWXrhwAOce47cc88+lIbqHdt81dwbZtBwc4JOc9PXn0ougHR+LNdSz1G3aWS4S+hFvNJOpkkEec7VY8qCQM49Kp/wBraulrBaC7vPssDK8UO9gkbBtwKrnAIPTFaV7GtjciGWeHJ8vmGVZPvoHXkNxwQcn1qWOzVtNW9+02+HmEKwrKplJIUhtoPK/Ooz78d6qzQGT/AG5rX2troXt8Lpo/JM4mYPsxjbuznFMXVtXSxkskurxLORmdrdZWEZJOSdoOMk8/XnrV37VCsYlMkfl8HBYjPTIBx9cHH8NS28f2maKFJFLSFVDMwUckLkkn1PXpzSQO3UoNrWstaz2zXl6bacuZYfObY+7lsjODk81DqF9qWqmI3s1zdGIbU86QttGSeM/X+XpW/remy6FrF5pty0aXdrK8Tqrhl3LwecgdffvVKKaObJQhh1GGzj6/iDQC20MPyZf+eTflSeRL/wA8mroDSUAYHkS/88mo8iX/AJ5NW/RQBgeRL/zyajyJf+eTVv0UAYHkS/8APJqPIl/55NW/RQBgeRL/AM8mo8iX/nk1b9FAGB5Ev/PJqPIl/wCeTVv0UAYHkS/88mo8iX/nk1b9FAHPtE6rlkKj3pp61q6txbA+9ZVABRRRQAUUUUAFFFFABRRRQAUUUUARzfcot/8AUrRN9yi3/wBStAE0f+sX616j8MPFsfg3Xrq9luJrZZdMu7YNCxGXeB1XP/AsV5arbWBxnFaH9sHaAY80CZ9A6R8Y7Ea1bT3GrXUMVppdjbwmaKSaFGURmfKRspJJXrnHXNO/4Wp4cXS9TtJmkls/ts8sFhDalJXBuw67iT5bKU9twx15r57OrbufJz/k/wCNL/bB/wCeXfPX2xQJbnrfxh8bW3j638qC+sZI42uZrVLWxljPz7QsTO0r7jgHoFA2988dTq3xY0K5urm7tNQuLS2Emoedp62/GomYMsLuw5wpx1PHbqc/PQ1Yq27yfm9e9H9rEDAhwMYx2IxjH6UdC7n0BdfFzw9J4dubeOwkTVXsEuFJhVQuoyKIJwMcbCrbh2B6Vf1D446Y159ptLpLa1jgma1hjspxdWzvatGoeR3ZfvMvAH8IJ7V84f2sNu0wjb6dumP60q6v83EeD1HNAj26wu2vdQ8PeKLiaN7Cz8P3MN5ctLuZZvLnjMfPJJeVOOnzH0ryFFKqAeG7rjkeoPvnP5VQ/thljMflnYSCy7jhiOhPr+NJ/bDHrGT35JNAGlRWb/bB/wCeVH9sH/nlQBpUVm/2wf8AnlR/bB/55UAaVFZv9sH/AJ5Uf2wf+eVAGlRWb/bB/wCeVH9sH/nlQBpUVm/2wf8AnlR/bB/55UAaVbPgzVo9C8W6TqEzeXHbT+Yz+X5m0YIzt7jJHTn0rlP7YP8Azyo/tg/88uOv/wBegTPoi8+JvhfVbiNbnU5Lcx3On3st0bd2hkaCWRpIlyS4Vg643E9D6VV1L4saa2g3KW99dI63azWkNvE8cuBfeYQx3bGGw8YAI555FeArrDK24RYb1zTf7UG3H2dcfSgpbHvl/wDFO0k1a8aDXLxje/20Gu9jj/j5WPyAecnHlsPx96v6H460W71QDT7/AO13Gq32nedatEYljgjtWiuQWY4yQWI9x7Cvnb+2D1MWf8j/AApH1YyKQ0W4HnBJPfP4c1PKhH0TF8XNM0ltasLG4sraKG9EVtNeWEkouLSOFYkQeXKgDZRmywbPmdsc8f8ADH4hWvhu3v4tTurj7K2pWd+ligbYyxmfzMDPDDzEYDP8JryZdW28LDt4A+XjpS/2wf8Anjx1x2z6/X3q72uB76fifpi2U1odckl1Z7aSJfEbW5+QtcLKse3PI8sEZ7E1LJ8VdGbUNRuFv7oQvqN1cXNs1uWOqxyQoke454KkHr03cdTn58/tc9fJ7Y/DOaP7W+YnyBknJ9OualCtqew+NvHmmeJPAOn6bHdM97CbcRQLEyCJVhbeG3EqOWX7gGcfNnAxs6L8UtGs7oSrez6XHHcWdzdIsRb7fCllDCYmI4AUq2P98+leC/2t8pXyflPGO3+eKX+2DwfKwfY0y+Z7HsfiTx5puufDOLRUlkjusQpBapCyGIbm3hySUYfODlQD1yTxixYfELSW0/Q0uNWvotPihs7efSoLMAxtGw8yUOc4ywz8uCRnkYFeJ/2uQMeTx/P6+tC6sVGBDxjH0oJPoLxV8XrCbQ9RisdSnk1i506O1e5tYJIyxW7dsZkYkny2xuJ6mtDVvjBoFwsccepSCXF9Fa3q20vmWSywIkbMXY7pAUfOOPu182nViy7TDlem09Pyo/tY85hz/n/61ArHv+l/FzS7BbJL7ULrWksdagu38+AqLhBaiLzNoI5V8N6mk1P40QjT5R9qhvLj7TZl5NPs3t1nto3lMkbNJI7E/MMjjrx7eBf2wc58nn/9f+NB1hmOWjLHrliSemKT1GfRt18a7G611rpdR09bNhL9mf8Asu4HkK7Rfunk+0Fs7UONgUZ65yK5jw/8QtI0X4ieKtTiLBNSikjsb++hZ2gYsnzMqMjAEKRwc4HNeMtrDNJvMXz4wWzyeMUi6ttIIgAI9v5+tFkB9ByfGqxm8iGe8zbyDUft0VnbNFDK0sASEhXZmI3KTknjt1Ncv8OPiYvgvQ7S0jvri0kXUri6uBEOHja0iRM+uHBPtk15L/a5wB5XTpyaQauQQREePc+uaSjZjWh7/wCE/ixpcbaPe6jfuuqw2MEN3c3FvJKkuy6ldwwjZWZvL2BcnHXNa0nxG0rw7a6LqZUGafWHV2YKz/2akjSoSoOUJaVcjqRHjpkH5r/thuP3ROPc/wCe9NXVFThbdVH+yMVQNn0B4c+IHh/wpbaDp9pq/m/YrGSCe6ks5BvLXfncMjAhtowOxxg8AVE3xQ0iH7O1rql5Z2lvNP5mkmzD/bt120iyMfujKEDHX5PUnPg39sHj9106e30pP7W+UL5I2jnHagm57t4i8c+G/wDhHNS0+wv57ya7k1G4Ux2xjKCbyDGiknqPKb2/Oty++L2hfatOa11IPJbPd+TLcWUz+TA8MYRJMvuLBo2yUK4+X1r5tOrbl2mAFfQjij+1ieDDuHoxyPyoKbuj2zTPE2mXvxV8Q6pY6tNp1vJpN2sV/Ofmjk+zhQVHUYbkA5PrmtiP4saM2qQypq11aSW8lk97fx25d9VWKIpIrDtksPY8+lfPh1hj1jJPPOTk5znJ79aDrBY5MWT659ST/WpsI9I8U+OotZuvCywO6adpSK7WrDCRN9okdgoPX5CvPf8ACu8t/jdA2qW0d1qd1JZjWb9p0YZDWskQjiT6Ak+9fPf9sHoYs9hk9BjGPp7Uf2w3P7rryeffNFgPbtD+Kmn6VrXnRXc8NlNe6c90sceBJDHZRwSKcdi+4/jU2k/EDQIIbTUZtQl/tL7BpVo9t9gMixyW0ieY7DPI4zj0Jx0rwttYLDBiyOe/rnP86P7YJzmLdk5+bnnnn68mtXJsbblqfQWpfFTSLq7me31240rUXtYFOpQ27NHGUmd3jjViXCuGThifukdKzLrx34fv9MknlvpBqC6fcWX2Z7QBnZr7zhLkcY8sN054FeIf2wRjEWPoaT+18LjyRj07fX61BLV1Y+j774seGZ9L8Sot1K6akl4wt7u1kkczvMHhZctsVdq55Gea4z4ueNrDxda6X9nu2u7qCW4MhWCSGNUbywgCuzENhDuxheFwBk15H/a5/wCeWe3JJ7Yo/tbp+4A4A49qOo1orGnRWb/bB/55Uf2wf+eVAGlRWb/bB/55Uf2wf+eVAGlRWb/bB/55Uf2wf+eVAGlRWb/bB/55Uf2wf+eVAGlRWb/bB/55Uf2wf+eVAGlRWb/bB/55Uf2wf+eVAGlRWb/bB/55Uf2wf+eVAEmrf8eo/wB4Vlev1q3dX32qPaU2gc/WqYoAWiiigAooooAKKKKACiiigAooooAjm+5Rb/6laJvuUW/+pWgCSuz+EvhfT/FviyW11SWOOxtdPu7+QSSMgfyYWcLlQTyQOnpXGVqeHfEl54XvJ7myZFkmtZ7R94zmOWNkf9GI/HimB2dt8D9b1TWIbK11HRFubm1jv0t1muXEUMu3ywxEHBO4Y+hqE/BHxJ/ZEmoCXTdqXMlosAmkaR5I5fJb+DaBv9WU+gPOKVn8WNatrx53trHUA1ta25t7qAOhFuF8punVSOPXv3qSL4va/bx6j9nFnBdXs0jyXkdoBNh5vOKnjkeYWIz0yQMDipWwhPHfwe8QfDn7H/bMlqiXkz26yxGR1hddu4ONgPG4Yxkda6GX4JWqeJZ9G/4SO0W3ivbm2/tU+bh/LtTOF2GEYPHrXDa94rbxJJcSzaNpNvc3CyedJb2QRnlcqWlZhg7vl/DJxjNa83xc1qXWIdU8mzSZJ2um224AkkeA27sw6cxkjHTv15plLzN+1+BOreK2tZtBFrHZfYbKWa4vJZAjTTK7bVKow6RscEr2xnsln8NNP8vT/D1zbEeJr7RJ9XS781wsTLvdIgnAwUhfkg9a5qH4mamls1nc2Om3+nbLdFs7q23xo0OfLdM/xBTj375rUsPiNDDpNrM8U/8AwkNnpU2jW7RwgQmKTcBJxgKVR3XHv60dAe554GLDceM9vTgHH60Zo79c5APPX0/pRQIM0ZoooAM0ZoooAM0ZoooAM0ZoooAM0ZoooAM1peG9BuvFOv6fo9k0S3d9MsMZmfYoJIyScemff2NZtXNI1KfR9Str+3SN5bdxIoljEiZ91PBpgdhqvwY1/R2Ect1psrm6tLHMUk3+suGdY2CvGhIzE2eg6YzU9x8Eda0+yivr/UNNs7Jrv7LK6tPM0f8ApJgLDbERjOOMnFJD8btct5Ih9j02azg8g29i1sDDC8LM0ci55DBnJrOvvijrN9pl/atb6ejXkiyz3EVqFkmInM4VgOv7wls9ecdOKleY0bl58ILa1vdQt5fEFnbwWP8AbDLeM0jC5NmY/k2mJdmPM98/hWXZ/B7Xr64vbZLnS1ntXtosPcP++aa3M8ezEZ5Ko4574qO7+Kmq3mpfantrPY5vhJCkGEc3iqLgkdOdo+meMVpab8aL9brT0vbSH7NBd2l7M2nQrHPPJapshBJGMBcD375yaCepNo/7PPi7WrSS4hfTkEQTzI3mk3K7IJfKJWNgHVGXIbb94Y74o+Fvh1/wlHgPUr2Mpbana6j5MlxdO0cEEK28kkjOcHgbAc4zVK++KF9qV3rE15p+n3sWoX76mkN7biYwTMuwMpxw2wKD2O1eOKpeGPiBq3g/TWsdPaJbeWY3DobcFJGMbxMmD/CUdlI6d+vNLUZ0Gk/AvX9bjWey1LRLuxaGK4ivobmVobhHdgPLIiJJ+Rs5x2rE8MfDu+8UWd9dx6lpdha2VzDaySX80qhpZSyoiFImzyjfeC9uvbSs/jFrNjqEFzHZ6ZGtqkaWkMdoALXYXKiM9ersSD14znAqHwz8Sm8NaDrtpNpVtqd1qV7b3yy3UYMUTxmQ52+uXBH0pgWJPhHqejq/9o3OmSXDWd9OllHdyrKv2dpEaQnyCMbozj15q3/woXWVvHsj4h8PPeR3i2LwpcXG8TFN3l48jlsfhXP3nxI1jUL1Lm5kt7idbW5sWYRhdy3EkkkwxjoTNJj03cYwMTr8U9d/tyTVTJG12+prrDHyg2bhUKK23p0J4xj2pgbul/s8+L9U0vSNQ/4l9tFqf2cxRXEkyyKs0gVGOImUrn+6ScHnHFZQ+EGsyWqyw6lpFy7wzzW8EM8pkvFhz5rQholUgEMBuYdDwe1ay+Jmpae2kXAstNl1HShDFb6lLaK9yqRNujj3HJIU45PJ75ptj8TNZ03RDYRra5RJ4YLt4P31tHNnzI0PXDbj9M8YoATxp8NdW8B2FndalcWMi3eFjjt5JCwJUMM741BODjC7sc+1XX+EWqR6xHpY1XRZNQMvkzWyXMrSWrhPMPmJ5Wdu0dV3e+OM5niPx7qHibRIdJlt7S2s0czslpbiMSS7Am4gYx8o6DA6nrzWm3xe1z7at0ttpqyybmu2WzXN3uj8tvM4/uEgY9SevNAizqnwO1/RQVv9S0e3Y3UFjHmabdNLLEroY18nlcMOo/Or3iv4K6lpUizSS6TommR2UNxJqF1eSmDLOYhktGrZZ1PG0AY4z2x774wa9eXlhMiWVoLG8gvoIbe1UIjQxiJBt6EBFUEHg4ycnmny/F7VpAts2n6V/Zgtvsx0xbX9w6iYzqWHdhIxbPX5iOnFAtTWt/gHquq2ejHStTsb69vIr64uY1MnlW0VvIF3ZCEkHd+lRyfs9+KYdQt7E3Gkte3N4bK3tRcSmSdxGsjMmIuVCup5wee/bGj+LWui3jhljsbq3X7UskEtqNksdwQZomHTaSOPTtiqsXxK1e1bTTp8drp8OnXbXltDZ2ypEjsixlSvRhtQDnNBR1H/AAzn4qjuHhe80cBIopRI082HDuwAA8rdu+RxyqjpjPOOY8IfD+58RmS6mv7DTdNtb23tLi4vpXCM8jlQiFUySdjdQO1WNI+KF7oOoC40/RtGsvLKvFDb2SqIZFLEOrDnq7EjoeMiqXh34han4da+KwWmoQXlwl3Lb3sAeMzoxZZFHYqWPtzQB1niP4C6/a2uua1ZR28WiWs100EM0kn2hoI53jDAFMHJAAyQSM9a5Kz8CXd54btNZGpaVBFeQST21pNcP9pmRXMZZVVCMbwRjdn5ehqTWfiFfeIbJ4NQstPv5PNmMN5PaKZoFlk8x1jJ6AuSfboMCm6d8QtU0rQYNNt4LQ/Y1dLa6ktQ8sKPL5jKpPYtkmgDor/4B+JNLtlu7q60uCx8qeZ72aaZIYViK7lk3RK2794vQY+tat/8A9Q1nXpLXw3cWUltb2drJI0skzCaR7ZZmKFYiMH5iMkf4Yd18atcuPNj+xaUlrObj7RBHaAJcmbZ5hkHqSi/TnGMmpF+O3iKO8+1m00yV4nSW3VrIMLdlhEGU7AeWAMHj5QcZ5oFbUxPBvw51DxrF5lvf6bYYv4dOVL6d1aaZ1LBUCRvyQrfe2/4dD4b+Ceq3Eel6rqL2n9kSX1ta3VussguF8y4ER/5Z7CMns5P04rF8I/Eibwbo91BbadbXN02pxajBdXUYkW2ZEdQyL2Ybxj6VPD8Y9ej0+K1ZbN7mNbcNffZ8zv5M/nRZPqHyeOeMHI4poUrtWRu6X8C9S1C9bUke2fw/FeBJYPMlF0IPtCwl8eXgjJ7E9e3FUNS+C9/HcahdWutaG+j2z3e69a5l8mIQModH/d7vM+dcAZ71Da/G7xDb2xRYdPMrRmL7TJaAybPP88IT/v4Oep6dOKo6x8VdY1exu7IQWdjZXaTie3s7by1Z5mRpZDjuSi8jpjjFT1KW1mL4k+E+teFfCkPiS8msp9KkliiBtnk3guCy5EkadQD0DfhxmzpvwU8Rava2b2dzpd5cz29pcmygnk8+OO4xsdgYwMc9s1S8Q/FDV/E2gy6VdQWSRTPby3FxDAI5ZmiRoo2Y46ASH/Jq/J8Y9UtdP0qDRoINGns7OwtJbqNMzXDWqqFy3ddy5x0PfNMCv8A8Kk1Py3uBrOiTadHaXF42oQzyGArDLHFIgOz74aVB+NVvBvwy1LxtYLdWupaPYK95JYxx6hcyq8kkcKSvt2xEY2uDzj2pNW+JWralDcW4hs7KymtJLP7Fbw7IgJZUlkbH95niQk9ePTis/RfGWoaDa20Fq0f2e3upr9PNXc2+SJYTnP+ygAoGvM6fSvgZ4g1y+t7bT9Q0i7W4to7qC6jkn8iRXleIKGERw29CMNjPboai0n4J+ItWktzFPpot5yqpPJPIqGQzPCYR+7zvzHIf+A1U0L4s61oNjY2aQafc29lFFHEl1BvWJo5ZJUYfR5WPOc5Gegq63xevrfQdCtdOjkgudP1eXXZHmVHQ3LnJCJjhASxwcj5+nFAaD9M+Eup+NLXSr/R0sdMs77Tvtsa3d1LI5EcghkZtsR+8+WAA4z9Kpr8ItYItkk1PRba7uvM+zWlxdSLLOqStFvQCMjYWU4JOeDkCpF+L+pI2nImlaSlrp8Pk2tmlphI/wB4JQwPUMHAOc55IPHFV5vizr11GXnSyuL4SySR3klorTR+ZKZnVcjgF2J9ugwOKBFu3+GFxp2j+JNR1RoWt7BL+3hMErM32i2MW/K7ASP3y4wD3q5J+z34rjuLGD7Tpebxbho5WkmVU8pAzK4Mec4dOFz3rP1n4wa5rdjNam20+0jmFw032e3C+a05TzXf1J8tfp2xS6h8YNW1KZTNY6S8fnzXEimyGJ5JUVXc9wSFGNuNvOMZNA5aqyKmm/CvXNY8cXXhWxa1n1K2jeWV1aYwhVUMx/1W8YDDjYa0PGXw1fwL4T36jsbWotU+yPJDMxgeIwRSKRuRWzlznKisi5+I+rXniy6164WC6nuovs1xayW2YJYimwxlT1+UAbjz71Q1Txbc6lpf9mC3tLPTRdi6W3tIhGiMI1jwMf7KKOPTPWgnU7TT/wBnXxTq19fW1pf6PcvYvFDcvHPNsSVwWEe7yT82AexHPaobf4F6zHcaCdV1LTdMtdVu7e2DCSWRozI4UjiIqefQ5GR0rCX4k6nM2rteWljqdvqdwl1La3sCunnqCFlUY4OD24PGakt/idqlnptpZW0GnWkdvc21yXhtBGZWgcvErKMDAYntzk5zQUixL8JdR+zzzWup6bdBY7q4t7cvKtzcQQOyvIqGML/AxGWHTvTPDPwp1PxVpenX9vq+iWceoPci2hvrmVJXMEfmS8LGwAC4PJzyfSib4qazNYz2yW9jbs8VxbxzxQYmgimZmlRG7ZLN7jOBgVl6f471XS7PSbWNozFpZujB5keW/wBIjMUpOc5ypx7Z4pMXU6HSfg/qOq3U2m293plxeSNZSW98LuRLby547hhx5RZv+PdumMY96lsvhHfWFvZatcy6ZrmkXTW8UTWN5LHHK9wZI4cM0WQA8Zz9B71kaL8Vdf0G6tprSSFZYEt4kyoOFgjmRAMj0uJKk8P/ABa1rQNLstOigsb6ysoYUgt7qEOqtFK0sbgnnKs7H375qpWtoEtXoaN78CfEtnp8t2bjTJFjuntDFFNIWLrL5RA3IF2hiOSQT2Dc4zdS+FOrafY6pdR6pol9HpcTy3YtbuRjFtljiZWDRIyndIv8ODzgnBqwPjL4gh+2NA1pb3lyx8zUIbYJMVMxmKHHUeYSc/h04pi/FrVFvJ5E03S1tLmN0urNLNRFOzyJI7tjqS8at+HpmlG/UT20Oi1D4F3sNjpGnQzWia/JdXiXM8skptikSwFR8kbMv+uxnbjnkisSb4I+I4bXXbh59Pjj0aeW1uVaSUsXjiEpIKxsoGGGN+3OOOhouvjVr2pXkst9BYXscwuFmt5LUeXIJmiZx7cwx9OmOOpzB/wt7W/tGpXX2bTvtl80hNwtoN8fmRiOQL7FAox0GOMEmkvMFscO2Gweob5h6YJ4xye1FCrsQDB/4EMGimMKKKKACiiigAooooAKKKKACiiigBkq7lqo14bcBfKZ/wDdPSr1NaNWOSoJoAotqrf8+7j60n9rN/zwer3kr2XFHkj0oAof2q3/ADwej+1G/wCfds9M96v+SPSjyR6UAUP7UY8fZ3oOqsxybZjznpV/yR6UeSPSgCj/AGs2MfZ2x0xj3zSf2oef9GPJz92r/kj0o8kelAFH+1mwB9nbFH9rN/zwar3kj0o8kelAFH+1m/54NR/azf8APBqveSPSjyR6UAUf7Wb/AJ4NR/azf88Gq95I9KPJHpQBR/tZv+eDUf2s3/PBqveSPSjyR6UAUf7Wb/ng1H9rN/zwar3kj0o8kelAFH+1m/54NR/azf8APBqveSPSjyR6UAUf7Wb/AJ4NSf2ox/5d2z645q/5I9KPJHpQBQ/tQ8/6M35Uf2owORbsD61f8kelHkj0oAof2q3T7O35Uf2oxGPs74q/5I9KPJHpQBR/tZv+fdvypP7Ubn/R25q/5I9KPJHpQBQ/tVv+fdvyo/tQhsi2YH6Vf8kelHkj0oAo/wBrMc/uHyep70n9qsetux5zV/yR6UeSPSgCj/azDpbEcY+7R/a77ifs7E+4zV7yR6UeSPSgDP8A7TP/AD7N+VL/AGq3/Pu35Vf8kelHkj0oAof2oef9Gbn2pf7Wbn/R25OelXvJHpR5I9KAKJ1Zj1t2/Kj+1m/59j+VXvJHpR5I9KAKC6qy9LZvyo/tQg5+zH8qv+SPSjyR6UAUf7WY8G3YjpyM0DVmXpbsPoKveSPSjyR6UAUP7UI6WzD8KP7Ub/n3brnpV/yR6UeSPSgCh/ah7WzDnPApV1Zlxi3YY6cVe8kelHkj0oAo/wBrN/z7t+VH9rMetu35Ve8kelHkj0oAof2q3/Pu59c85pf7Wb/n3b0HHSr3kj0o8kelAFH+1m/54OKT+1n7wSH65q/5I9KPJHpQBR/td/8Ang1IdUZsk27Env3/ADq/5I9KPJHpQBROrMcg27YznpSf2o2c/Z2z696v+SPSjyR6UAUP7VP/AD7H/vmj+1G/5929vb6elX/JHpR5I9KAKP8Aaz4x5D0n9qHOfs7flV/yR6UeSPSgCj/azHrbsfwo/tZuv2ds/Sr3kj0o8kelAFD+1Cetsx78ilGrMBgW7Aewq95I9KPJHpQBR/tZ9oHkPgf/AK6P7Wbj/R2/Kr3kj0o8kelAFH+1m6/Z2z9KT+1G/wCfdhznpV/yR6UeSPSgCh/arYx9nbH0pf7Wbr9nb8qveSPSjyR6UAUf7Wb/AJ92/Kj+1m/54NV7yR6UeSPSgCj/AGs3/PBqP7Wb/ng1XvJHpR5I9KAKP9rN/wA8Go/tZv8Ang1XvJHpR5I9KAKP9rN/zwaj+1m/54NV7yR6UeSPSgCj/azf88Go/tZv+eDVe8kelHkj0oAo/wBrN/zwaj+1m/54NV7yR6UeSPSgB9FFFACrTqKKACiiigAooooAKKKKACiiigAooooAKKKKACiiigAooooAKKKKACiiigAooooAKKKKACiiigAooooAKKKKACiiigAooooAKKKKACiiigAooooAKKKKACiiigAooooAKKKKACiiigAooooAKKKKACiiigAooooAKKKKACiiigAooooAKKKKACiiigAooooAKKKKACiiigAooooAKKKKACiiigAooooA/9k=)"
      ],
      "metadata": {
        "id": "oACBu6qwobB-"
      }
    },
    {
      "cell_type": "markdown",
      "source": [
        "Por ejemplo, podemos utilizar `upper` para permitir a unos de nuestros ejemplos, que el nombre verificado no cambie al utilizar mayusculas o minusculas"
      ],
      "metadata": {
        "id": "7Fm2rqD8owKY"
      }
    },
    {
      "cell_type": "code",
      "source": [
        "nombre = input(\"Por favor ingresa tu nombre: \")\n",
        "nombre_mayusculas = nombre.upper()\n",
        "\n",
        "if nombre_mayusculas == \"EBER\":\n",
        "  print (\"Adelante de nuevo!!\")\n",
        "elif nombre_mayusculas == \"NICOLAS\" or nombre_mayusculas == \"PABLO\":\n",
        "  print (\"Estimado \" +nombre+ \" por favor usa tu contraseña\")\n",
        "elif nombre_mayusculas.startswith(\"JOSE\"):\n",
        "  print (\"Lo siento \" +nombre+ \"no puedes ingresar\")\n",
        "else:\n",
        "  print (\"Gracias por venir\" +nombre+ \"vuelva pronto\")"
      ],
      "metadata": {
        "colab": {
          "base_uri": "https://localhost:8080/"
        },
        "id": "s4Tg9krsofYu",
        "outputId": "664e86eb-6297-45a3-9c6f-92a65ad1dfaf"
      },
      "execution_count": 21,
      "outputs": [
        {
          "output_type": "stream",
          "name": "stdout",
          "text": [
            "Por favor ingresa tu nombre: eber\n",
            "Adelante de nuevo!!\n"
          ]
        }
      ]
    }
  ]
}